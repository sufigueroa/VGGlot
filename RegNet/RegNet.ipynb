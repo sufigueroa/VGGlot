{
  "nbformat": 4,
  "nbformat_minor": 0,
  "metadata": {
    "colab": {
      "provenance": [],
      "machine_shape": "hm",
      "gpuType": "T4"
    },
    "kernelspec": {
      "name": "python3",
      "display_name": "Python 3"
    },
    "language_info": {
      "name": "python"
    },
    "accelerator": "GPU"
  },
  "cells": [
    {
      "cell_type": "markdown",
      "source": [
        "## Librerías"
      ],
      "metadata": {
        "id": "nJRpJLm-6OxT"
      }
    },
    {
      "cell_type": "code",
      "execution_count": null,
      "metadata": {
        "id": "j6RaYAlH49o7"
      },
      "outputs": [],
      "source": [
        "import os\n",
        "import shutil\n",
        "import subprocess\n",
        "import numpy as np\n",
        "import pandas as pd\n",
        "import scipy.io\n",
        "import random\n",
        "from PIL import Image\n",
        "from copy import copy, deepcopy\n",
        "from IPython.display import display\n",
        "\n",
        "import matplotlib.pyplot as plt\n",
        "\n",
        "from os import listdir\n",
        "from os.path import join\n",
        "from tqdm.notebook import tqdm\n",
        "from tqdm import tqdm\n",
        "\n",
        "import torch\n",
        "import torch.nn as nn\n",
        "import torch.optim as optim\n",
        "from torch.utils.data import random_split\n",
        "\n",
        "import torchvision.models as models\n",
        "import torchvision.transforms as transforms\n",
        "\n",
        "from torchsummary import summary\n",
        "from torch.utils.data import DataLoader\n",
        "from torchvision.datasets import ImageFolder\n",
        "from torchvision.transforms import Compose, ToTensor, Normalize, Resize\n",
        "from torchvision.models import RegNet_Y_128GF_Weights"
      ]
    },
    {
      "cell_type": "code",
      "source": [
        "device = torch.device(\"cuda:0\") if torch.cuda.is_available() else torch.device(\"cpu\")\n",
        "print(\"Device:\", device)"
      ],
      "metadata": {
        "colab": {
          "base_uri": "https://localhost:8080/"
        },
        "id": "9jaUw4MU6Tnj",
        "outputId": "e6ddd09b-b69c-48d5-ed66-217eb28b4580"
      },
      "execution_count": null,
      "outputs": [
        {
          "output_type": "stream",
          "name": "stdout",
          "text": [
            "Device: cuda:0\n"
          ]
        }
      ]
    },
    {
      "cell_type": "markdown",
      "source": [
        "## Load Dataset"
      ],
      "metadata": {
        "id": "K5CiZOpD7Mhi"
      }
    },
    {
      "cell_type": "code",
      "source": [
        "repo_url = 'https://github.com/brendenlake/omniglot.git'\n",
        "subprocess.call(['git', 'clone', repo_url])"
      ],
      "metadata": {
        "colab": {
          "base_uri": "https://localhost:8080/"
        },
        "id": "vkLlB9uc673h",
        "outputId": "cd2fa88f-5205-43f7-ff30-d8c7854a284f"
      },
      "execution_count": null,
      "outputs": [
        {
          "output_type": "execute_result",
          "data": {
            "text/plain": [
              "0"
            ]
          },
          "metadata": {},
          "execution_count": 3
        }
      ]
    },
    {
      "cell_type": "code",
      "source": [
        "!unzip -qq './omniglot/python/images_background.zip'\n",
        "!unzip -qq './omniglot/python/strokes_background.zip'"
      ],
      "metadata": {
        "id": "pWL6GcIE7Qpl"
      },
      "execution_count": null,
      "outputs": []
    },
    {
      "cell_type": "markdown",
      "source": [
        "## Orden de las imágenes"
      ],
      "metadata": {
        "id": "a_MT-bf69Bh9"
      }
    },
    {
      "cell_type": "markdown",
      "source": [
        "En la carpeta images_background, hay 30 alfabetos diferentes. Cada alfabeto contiene una cantidad variada de caracteres, entre 20-50 aprox. Cada uno de los caracteres cuenta es de la forma XXXX_YY.png, donde XXXX corresponde al identificador del caracter, el cual es único entre todos los caracteres de todos los alfabetos. YY corresponde al número de muestra de un caracter en específico, el cual va siempre desde 01 hasta 20 (20 muestras por caracter)."
      ],
      "metadata": {
        "id": "QxmwZVpv-VH_"
      }
    },
    {
      "cell_type": "markdown",
      "source": [
        "Ahora bien, el problema está en que los XXXX no vienen ordenados secuencialmente en cada uno de los alfabetos. Por lo tanto, para hacer el preprocesamiento, hará un diccionario que mapeará cada uno de los id a un valor ordenado, para que la posterior clasificación sea más rápida."
      ],
      "metadata": {
        "id": "PEwVNtlt_xs-"
      }
    },
    {
      "cell_type": "code",
      "source": [
        "img_dir = 'images_background'\n",
        "# stroke_dir = 'strokes_background'\n",
        "nreps = 20 # number of renditions for each character\n",
        "# nalpha = 5 # number of alphabets to show\n",
        "\n",
        "alphabet_names = sorted([a for a in os.listdir(img_dir) if a[0] != '.']) # get folder names\n",
        "length_alphabet_names = len(alphabet_names)\n",
        "character_lengths = [len(os.listdir(os.path.join(img_dir, alph_name))) for alph_name in alphabet_names]\n",
        "\n",
        "# alphabet_names = random.sample(alphabet_names,nalpha) # choose random alphabets\n",
        "# print(len(alphabet_names))\n",
        "\n",
        "N = sum([len(os.listdir(os.path.join(img_dir, alph_name, char)))\n",
        "            for alph_name in alphabet_names\n",
        "            for char in os.listdir(os.path.join(img_dir, alph_name))\n",
        "      ])\n",
        "\n",
        "\n",
        "y = np.zeros((N), 'int') # ground truth\n",
        "current_character_folder = 0 # carpeta de un caracter visitado\n",
        "\n",
        "df_alphabet_names = []\n",
        "df_character_names = []\n",
        "df_character_idx = []\n",
        "df_paths = []\n",
        "df_y = []\n",
        "\n",
        "for i in range(len(alphabet_names)):\n",
        "  alphabet_name = alphabet_names[i]\n",
        "  character_length = character_lengths[i]\n",
        "  character_folders = sorted(os.listdir(os.path.join(img_dir, alphabet_name)))\n",
        "\n",
        "  for j in range(character_length):\n",
        "    character_folder = character_folders[j]\n",
        "    characters = sorted(os.listdir(os.path.join(img_dir, alphabet_name, character_folder)))\n",
        "    # print(character_folder)\n",
        "\n",
        "    for k in range(nreps):\n",
        "      y[(current_character_folder * nreps) + k] = current_character_folder\n",
        "\n",
        "      # Se añade al Df\n",
        "      df_alphabet_names.extend([alphabet_name])\n",
        "      df_character_names.extend([character_folder])\n",
        "      df_character_idx.extend([k])\n",
        "      df_paths.extend([os.path.join(img_dir, alphabet_name, character_folder, characters[k])])\n",
        "      df_y.extend([current_character_folder])\n",
        "\n",
        "    current_character_folder += 1\n",
        "\n",
        "\n",
        "df = pd.DataFrame({\n",
        "    'Alphabet': df_alphabet_names,\n",
        "    'Character': df_character_names,\n",
        "    'Sample': df_character_idx,\n",
        "    'Path': df_paths,\n",
        "    'y': df_y\n",
        "})"
      ],
      "metadata": {
        "id": "F5WwCV9K7T2U"
      },
      "execution_count": null,
      "outputs": []
    },
    {
      "cell_type": "markdown",
      "source": [
        "Al observar las muestras que tenemos, se obtiene lo siguiente"
      ],
      "metadata": {
        "id": "FkpwjLruG6Kb"
      }
    },
    {
      "cell_type": "code",
      "source": [
        "df"
      ],
      "metadata": {
        "colab": {
          "base_uri": "https://localhost:8080/",
          "height": 423
        },
        "id": "3nE6_A7cGxpJ",
        "outputId": "1dc72db7-daeb-43ff-f565-313ec8ec4702"
      },
      "execution_count": null,
      "outputs": [
        {
          "output_type": "execute_result",
          "data": {
            "text/plain": [
              "                   Alphabet    Character  Sample  \\\n",
              "0      Alphabet_of_the_Magi  character01       0   \n",
              "1      Alphabet_of_the_Magi  character01       1   \n",
              "2      Alphabet_of_the_Magi  character01       2   \n",
              "3      Alphabet_of_the_Magi  character01       3   \n",
              "4      Alphabet_of_the_Magi  character01       4   \n",
              "...                     ...          ...     ...   \n",
              "19275              Tifinagh  character55      15   \n",
              "19276              Tifinagh  character55      16   \n",
              "19277              Tifinagh  character55      17   \n",
              "19278              Tifinagh  character55      18   \n",
              "19279              Tifinagh  character55      19   \n",
              "\n",
              "                                                    Path    y  \n",
              "0      images_background/Alphabet_of_the_Magi/charact...    0  \n",
              "1      images_background/Alphabet_of_the_Magi/charact...    0  \n",
              "2      images_background/Alphabet_of_the_Magi/charact...    0  \n",
              "3      images_background/Alphabet_of_the_Magi/charact...    0  \n",
              "4      images_background/Alphabet_of_the_Magi/charact...    0  \n",
              "...                                                  ...  ...  \n",
              "19275  images_background/Tifinagh/character55/0964_16...  963  \n",
              "19276  images_background/Tifinagh/character55/0964_17...  963  \n",
              "19277  images_background/Tifinagh/character55/0964_18...  963  \n",
              "19278  images_background/Tifinagh/character55/0964_19...  963  \n",
              "19279  images_background/Tifinagh/character55/0964_20...  963  \n",
              "\n",
              "[19280 rows x 5 columns]"
            ],
            "text/html": [
              "\n",
              "  <div id=\"df-40e5eb40-2b1f-4477-809a-90a4acc21562\">\n",
              "    <div class=\"colab-df-container\">\n",
              "      <div>\n",
              "<style scoped>\n",
              "    .dataframe tbody tr th:only-of-type {\n",
              "        vertical-align: middle;\n",
              "    }\n",
              "\n",
              "    .dataframe tbody tr th {\n",
              "        vertical-align: top;\n",
              "    }\n",
              "\n",
              "    .dataframe thead th {\n",
              "        text-align: right;\n",
              "    }\n",
              "</style>\n",
              "<table border=\"1\" class=\"dataframe\">\n",
              "  <thead>\n",
              "    <tr style=\"text-align: right;\">\n",
              "      <th></th>\n",
              "      <th>Alphabet</th>\n",
              "      <th>Character</th>\n",
              "      <th>Sample</th>\n",
              "      <th>Path</th>\n",
              "      <th>y</th>\n",
              "    </tr>\n",
              "  </thead>\n",
              "  <tbody>\n",
              "    <tr>\n",
              "      <th>0</th>\n",
              "      <td>Alphabet_of_the_Magi</td>\n",
              "      <td>character01</td>\n",
              "      <td>0</td>\n",
              "      <td>images_background/Alphabet_of_the_Magi/charact...</td>\n",
              "      <td>0</td>\n",
              "    </tr>\n",
              "    <tr>\n",
              "      <th>1</th>\n",
              "      <td>Alphabet_of_the_Magi</td>\n",
              "      <td>character01</td>\n",
              "      <td>1</td>\n",
              "      <td>images_background/Alphabet_of_the_Magi/charact...</td>\n",
              "      <td>0</td>\n",
              "    </tr>\n",
              "    <tr>\n",
              "      <th>2</th>\n",
              "      <td>Alphabet_of_the_Magi</td>\n",
              "      <td>character01</td>\n",
              "      <td>2</td>\n",
              "      <td>images_background/Alphabet_of_the_Magi/charact...</td>\n",
              "      <td>0</td>\n",
              "    </tr>\n",
              "    <tr>\n",
              "      <th>3</th>\n",
              "      <td>Alphabet_of_the_Magi</td>\n",
              "      <td>character01</td>\n",
              "      <td>3</td>\n",
              "      <td>images_background/Alphabet_of_the_Magi/charact...</td>\n",
              "      <td>0</td>\n",
              "    </tr>\n",
              "    <tr>\n",
              "      <th>4</th>\n",
              "      <td>Alphabet_of_the_Magi</td>\n",
              "      <td>character01</td>\n",
              "      <td>4</td>\n",
              "      <td>images_background/Alphabet_of_the_Magi/charact...</td>\n",
              "      <td>0</td>\n",
              "    </tr>\n",
              "    <tr>\n",
              "      <th>...</th>\n",
              "      <td>...</td>\n",
              "      <td>...</td>\n",
              "      <td>...</td>\n",
              "      <td>...</td>\n",
              "      <td>...</td>\n",
              "    </tr>\n",
              "    <tr>\n",
              "      <th>19275</th>\n",
              "      <td>Tifinagh</td>\n",
              "      <td>character55</td>\n",
              "      <td>15</td>\n",
              "      <td>images_background/Tifinagh/character55/0964_16...</td>\n",
              "      <td>963</td>\n",
              "    </tr>\n",
              "    <tr>\n",
              "      <th>19276</th>\n",
              "      <td>Tifinagh</td>\n",
              "      <td>character55</td>\n",
              "      <td>16</td>\n",
              "      <td>images_background/Tifinagh/character55/0964_17...</td>\n",
              "      <td>963</td>\n",
              "    </tr>\n",
              "    <tr>\n",
              "      <th>19277</th>\n",
              "      <td>Tifinagh</td>\n",
              "      <td>character55</td>\n",
              "      <td>17</td>\n",
              "      <td>images_background/Tifinagh/character55/0964_18...</td>\n",
              "      <td>963</td>\n",
              "    </tr>\n",
              "    <tr>\n",
              "      <th>19278</th>\n",
              "      <td>Tifinagh</td>\n",
              "      <td>character55</td>\n",
              "      <td>18</td>\n",
              "      <td>images_background/Tifinagh/character55/0964_19...</td>\n",
              "      <td>963</td>\n",
              "    </tr>\n",
              "    <tr>\n",
              "      <th>19279</th>\n",
              "      <td>Tifinagh</td>\n",
              "      <td>character55</td>\n",
              "      <td>19</td>\n",
              "      <td>images_background/Tifinagh/character55/0964_20...</td>\n",
              "      <td>963</td>\n",
              "    </tr>\n",
              "  </tbody>\n",
              "</table>\n",
              "<p>19280 rows × 5 columns</p>\n",
              "</div>\n",
              "      <button class=\"colab-df-convert\" onclick=\"convertToInteractive('df-40e5eb40-2b1f-4477-809a-90a4acc21562')\"\n",
              "              title=\"Convert this dataframe to an interactive table.\"\n",
              "              style=\"display:none;\">\n",
              "        \n",
              "  <svg xmlns=\"http://www.w3.org/2000/svg\" height=\"24px\"viewBox=\"0 0 24 24\"\n",
              "       width=\"24px\">\n",
              "    <path d=\"M0 0h24v24H0V0z\" fill=\"none\"/>\n",
              "    <path d=\"M18.56 5.44l.94 2.06.94-2.06 2.06-.94-2.06-.94-.94-2.06-.94 2.06-2.06.94zm-11 1L8.5 8.5l.94-2.06 2.06-.94-2.06-.94L8.5 2.5l-.94 2.06-2.06.94zm10 10l.94 2.06.94-2.06 2.06-.94-2.06-.94-.94-2.06-.94 2.06-2.06.94z\"/><path d=\"M17.41 7.96l-1.37-1.37c-.4-.4-.92-.59-1.43-.59-.52 0-1.04.2-1.43.59L10.3 9.45l-7.72 7.72c-.78.78-.78 2.05 0 2.83L4 21.41c.39.39.9.59 1.41.59.51 0 1.02-.2 1.41-.59l7.78-7.78 2.81-2.81c.8-.78.8-2.07 0-2.86zM5.41 20L4 18.59l7.72-7.72 1.47 1.35L5.41 20z\"/>\n",
              "  </svg>\n",
              "      </button>\n",
              "      \n",
              "  <style>\n",
              "    .colab-df-container {\n",
              "      display:flex;\n",
              "      flex-wrap:wrap;\n",
              "      gap: 12px;\n",
              "    }\n",
              "\n",
              "    .colab-df-convert {\n",
              "      background-color: #E8F0FE;\n",
              "      border: none;\n",
              "      border-radius: 50%;\n",
              "      cursor: pointer;\n",
              "      display: none;\n",
              "      fill: #1967D2;\n",
              "      height: 32px;\n",
              "      padding: 0 0 0 0;\n",
              "      width: 32px;\n",
              "    }\n",
              "\n",
              "    .colab-df-convert:hover {\n",
              "      background-color: #E2EBFA;\n",
              "      box-shadow: 0px 1px 2px rgba(60, 64, 67, 0.3), 0px 1px 3px 1px rgba(60, 64, 67, 0.15);\n",
              "      fill: #174EA6;\n",
              "    }\n",
              "\n",
              "    [theme=dark] .colab-df-convert {\n",
              "      background-color: #3B4455;\n",
              "      fill: #D2E3FC;\n",
              "    }\n",
              "\n",
              "    [theme=dark] .colab-df-convert:hover {\n",
              "      background-color: #434B5C;\n",
              "      box-shadow: 0px 1px 3px 1px rgba(0, 0, 0, 0.15);\n",
              "      filter: drop-shadow(0px 1px 2px rgba(0, 0, 0, 0.3));\n",
              "      fill: #FFFFFF;\n",
              "    }\n",
              "  </style>\n",
              "\n",
              "      <script>\n",
              "        const buttonEl =\n",
              "          document.querySelector('#df-40e5eb40-2b1f-4477-809a-90a4acc21562 button.colab-df-convert');\n",
              "        buttonEl.style.display =\n",
              "          google.colab.kernel.accessAllowed ? 'block' : 'none';\n",
              "\n",
              "        async function convertToInteractive(key) {\n",
              "          const element = document.querySelector('#df-40e5eb40-2b1f-4477-809a-90a4acc21562');\n",
              "          const dataTable =\n",
              "            await google.colab.kernel.invokeFunction('convertToInteractive',\n",
              "                                                     [key], {});\n",
              "          if (!dataTable) return;\n",
              "\n",
              "          const docLinkHtml = 'Like what you see? Visit the ' +\n",
              "            '<a target=\"_blank\" href=https://colab.research.google.com/notebooks/data_table.ipynb>data table notebook</a>'\n",
              "            + ' to learn more about interactive tables.';\n",
              "          element.innerHTML = '';\n",
              "          dataTable['output_type'] = 'display_data';\n",
              "          await google.colab.output.renderOutput(dataTable, element);\n",
              "          const docLink = document.createElement('div');\n",
              "          docLink.innerHTML = docLinkHtml;\n",
              "          element.appendChild(docLink);\n",
              "        }\n",
              "      </script>\n",
              "    </div>\n",
              "  </div>\n",
              "  "
            ]
          },
          "metadata": {},
          "execution_count": 6
        }
      ]
    },
    {
      "cell_type": "markdown",
      "source": [
        "## Ejemplo de una imagen"
      ],
      "metadata": {
        "id": "5EVtbenEOMcj"
      }
    },
    {
      "cell_type": "code",
      "source": [
        "path = df.iloc[0]['Path']\n",
        "img = Image.open(path)\n",
        "# print('Shape:', img.shape)\n",
        "plt.imshow(img, cmap='gray')\n",
        "plt.show()"
      ],
      "metadata": {
        "colab": {
          "base_uri": "https://localhost:8080/",
          "height": 434
        },
        "id": "EHSDlVH9OOBw",
        "outputId": "63681290-05fa-4bc5-f568-7685cdb6b6b4"
      },
      "execution_count": null,
      "outputs": [
        {
          "output_type": "display_data",
          "data": {
            "text/plain": [
              "<Figure size 640x480 with 1 Axes>"
            ],
            "image/png": "[encoded data removed]"
          },
          "metadata": {}
        }
      ]
    },
    {
      "cell_type": "code",
      "source": [
        "print(img)"
      ],
      "metadata": {
        "colab": {
          "base_uri": "https://localhost:8080/"
        },
        "id": "JyTyPtfIBV9J",
        "outputId": "b2761cd4-c7bb-495c-a01f-b3253de4d83c"
      },
      "execution_count": null,
      "outputs": [
        {
          "output_type": "stream",
          "name": "stdout",
          "text": [
            "<PIL.PngImagePlugin.PngImageFile image mode=1 size=105x105 at 0x7F9025B172E0>\n"
          ]
        }
      ]
    },
    {
      "cell_type": "markdown",
      "source": [
        "## Separación Train - Val - Test:\n",
        "\n",
        "El objetivo de la ResNet es justamente clasificar cada uno de los caracteres. En total, tenemos 964 caracteres distintos (labels enumerados del 0 al 963), provenientes de 30 alfabetos, y cada caracter posee 20 muestras. Por ende, tenemos 19280 imagenes distintas.\n",
        "\n",
        "Dado que cada caracter posee 20 muestras, se utilizará una proporción 70% train, 20% validation y 10% test. Vale decir: 14 imágenes de train, 4 de validation, y 2 de test por cada caracter.\n",
        "\n",
        "En total debería dar:\n",
        "* 13.496 imágenes de Train\n",
        "* 3.856 imágenes de Validation\n",
        "* 1.928 imágenes de Test"
      ],
      "metadata": {
        "id": "E-yYhKZmD9PF"
      }
    },
    {
      "cell_type": "code",
      "source": [
        "# Separacion de df basados en el numero de fila\n",
        "df_train = df.groupby('y').head(14)\n",
        "df_val = df.groupby('y').apply(lambda x: x.iloc[14:18])\n",
        "df_test = df.groupby('y').apply(lambda x: x.iloc[18:20])\n",
        "\n",
        "# Reseteamos los indices de los df\n",
        "df_train.reset_index(drop=True, inplace=True)\n",
        "df_val.reset_index(drop=True, inplace=True)\n",
        "df_test.reset_index(drop=True, inplace=True)\n"
      ],
      "metadata": {
        "id": "HIL7mN16PIVb"
      },
      "execution_count": null,
      "outputs": []
    },
    {
      "cell_type": "code",
      "source": [
        "print('Length df_train:', len(df_train))\n",
        "print('Length df_val:', len(df_val))\n",
        "print('Length df_test:', len(df_test))"
      ],
      "metadata": {
        "colab": {
          "base_uri": "https://localhost:8080/"
        },
        "id": "scalaQkmQuY_",
        "outputId": "3437883f-d783-4607-d4f7-397c8d7866d7"
      },
      "execution_count": null,
      "outputs": [
        {
          "output_type": "stream",
          "name": "stdout",
          "text": [
            "Length df_train: 13496\n",
            "Length df_val: 3856\n",
            "Length df_test: 1928\n"
          ]
        }
      ]
    },
    {
      "cell_type": "markdown",
      "source": [
        "Por ejemplo, si vemos como quedó el df_train:"
      ],
      "metadata": {
        "id": "OCVt-njlQ23W"
      }
    },
    {
      "cell_type": "code",
      "source": [
        "df_train[0:20]"
      ],
      "metadata": {
        "colab": {
          "base_uri": "https://localhost:8080/",
          "height": 676
        },
        "id": "dwzHy4OLRCmM",
        "outputId": "589314af-bba9-4bbd-8838-eb4c4ad4a147"
      },
      "execution_count": null,
      "outputs": [
        {
          "output_type": "execute_result",
          "data": {
            "text/plain": [
              "                Alphabet    Character  Sample  \\\n",
              "0   Alphabet_of_the_Magi  character01       0   \n",
              "1   Alphabet_of_the_Magi  character01       1   \n",
              "2   Alphabet_of_the_Magi  character01       2   \n",
              "3   Alphabet_of_the_Magi  character01       3   \n",
              "4   Alphabet_of_the_Magi  character01       4   \n",
              "5   Alphabet_of_the_Magi  character01       5   \n",
              "6   Alphabet_of_the_Magi  character01       6   \n",
              "7   Alphabet_of_the_Magi  character01       7   \n",
              "8   Alphabet_of_the_Magi  character01       8   \n",
              "9   Alphabet_of_the_Magi  character01       9   \n",
              "10  Alphabet_of_the_Magi  character01      10   \n",
              "11  Alphabet_of_the_Magi  character01      11   \n",
              "12  Alphabet_of_the_Magi  character01      12   \n",
              "13  Alphabet_of_the_Magi  character01      13   \n",
              "14  Alphabet_of_the_Magi  character02       0   \n",
              "15  Alphabet_of_the_Magi  character02       1   \n",
              "16  Alphabet_of_the_Magi  character02       2   \n",
              "17  Alphabet_of_the_Magi  character02       3   \n",
              "18  Alphabet_of_the_Magi  character02       4   \n",
              "19  Alphabet_of_the_Magi  character02       5   \n",
              "\n",
              "                                                 Path  y  \n",
              "0   images_background/Alphabet_of_the_Magi/charact...  0  \n",
              "1   images_background/Alphabet_of_the_Magi/charact...  0  \n",
              "2   images_background/Alphabet_of_the_Magi/charact...  0  \n",
              "3   images_background/Alphabet_of_the_Magi/charact...  0  \n",
              "4   images_background/Alphabet_of_the_Magi/charact...  0  \n",
              "5   images_background/Alphabet_of_the_Magi/charact...  0  \n",
              "6   images_background/Alphabet_of_the_Magi/charact...  0  \n",
              "7   images_background/Alphabet_of_the_Magi/charact...  0  \n",
              "8   images_background/Alphabet_of_the_Magi/charact...  0  \n",
              "9   images_background/Alphabet_of_the_Magi/charact...  0  \n",
              "10  images_background/Alphabet_of_the_Magi/charact...  0  \n",
              "11  images_background/Alphabet_of_the_Magi/charact...  0  \n",
              "12  images_background/Alphabet_of_the_Magi/charact...  0  \n",
              "13  images_background/Alphabet_of_the_Magi/charact...  0  \n",
              "14  images_background/Alphabet_of_the_Magi/charact...  1  \n",
              "15  images_background/Alphabet_of_the_Magi/charact...  1  \n",
              "16  images_background/Alphabet_of_the_Magi/charact...  1  \n",
              "17  images_background/Alphabet_of_the_Magi/charact...  1  \n",
              "18  images_background/Alphabet_of_the_Magi/charact...  1  \n",
              "19  images_background/Alphabet_of_the_Magi/charact...  1  "
            ],
            "text/html": [
              "\n",
              "  <div id=\"df-06b8e27e-a2fc-4497-96f6-5dd3f0386bca\">\n",
              "    <div class=\"colab-df-container\">\n",
              "      <div>\n",
              "<style scoped>\n",
              "    .dataframe tbody tr th:only-of-type {\n",
              "        vertical-align: middle;\n",
              "    }\n",
              "\n",
              "    .dataframe tbody tr th {\n",
              "        vertical-align: top;\n",
              "    }\n",
              "\n",
              "    .dataframe thead th {\n",
              "        text-align: right;\n",
              "    }\n",
              "</style>\n",
              "<table border=\"1\" class=\"dataframe\">\n",
              "  <thead>\n",
              "    <tr style=\"text-align: right;\">\n",
              "      <th></th>\n",
              "      <th>Alphabet</th>\n",
              "      <th>Character</th>\n",
              "      <th>Sample</th>\n",
              "      <th>Path</th>\n",
              "      <th>y</th>\n",
              "    </tr>\n",
              "  </thead>\n",
              "  <tbody>\n",
              "    <tr>\n",
              "      <th>0</th>\n",
              "      <td>Alphabet_of_the_Magi</td>\n",
              "      <td>character01</td>\n",
              "      <td>0</td>\n",
              "      <td>images_background/Alphabet_of_the_Magi/charact...</td>\n",
              "      <td>0</td>\n",
              "    </tr>\n",
              "    <tr>\n",
              "      <th>1</th>\n",
              "      <td>Alphabet_of_the_Magi</td>\n",
              "      <td>character01</td>\n",
              "      <td>1</td>\n",
              "      <td>images_background/Alphabet_of_the_Magi/charact...</td>\n",
              "      <td>0</td>\n",
              "    </tr>\n",
              "    <tr>\n",
              "      <th>2</th>\n",
              "      <td>Alphabet_of_the_Magi</td>\n",
              "      <td>character01</td>\n",
              "      <td>2</td>\n",
              "      <td>images_background/Alphabet_of_the_Magi/charact...</td>\n",
              "      <td>0</td>\n",
              "    </tr>\n",
              "    <tr>\n",
              "      <th>3</th>\n",
              "      <td>Alphabet_of_the_Magi</td>\n",
              "      <td>character01</td>\n",
              "      <td>3</td>\n",
              "      <td>images_background/Alphabet_of_the_Magi/charact...</td>\n",
              "      <td>0</td>\n",
              "    </tr>\n",
              "    <tr>\n",
              "      <th>4</th>\n",
              "      <td>Alphabet_of_the_Magi</td>\n",
              "      <td>character01</td>\n",
              "      <td>4</td>\n",
              "      <td>images_background/Alphabet_of_the_Magi/charact...</td>\n",
              "      <td>0</td>\n",
              "    </tr>\n",
              "    <tr>\n",
              "      <th>5</th>\n",
              "      <td>Alphabet_of_the_Magi</td>\n",
              "      <td>character01</td>\n",
              "      <td>5</td>\n",
              "      <td>images_background/Alphabet_of_the_Magi/charact...</td>\n",
              "      <td>0</td>\n",
              "    </tr>\n",
              "    <tr>\n",
              "      <th>6</th>\n",
              "      <td>Alphabet_of_the_Magi</td>\n",
              "      <td>character01</td>\n",
              "      <td>6</td>\n",
              "      <td>images_background/Alphabet_of_the_Magi/charact...</td>\n",
              "      <td>0</td>\n",
              "    </tr>\n",
              "    <tr>\n",
              "      <th>7</th>\n",
              "      <td>Alphabet_of_the_Magi</td>\n",
              "      <td>character01</td>\n",
              "      <td>7</td>\n",
              "      <td>images_background/Alphabet_of_the_Magi/charact...</td>\n",
              "      <td>0</td>\n",
              "    </tr>\n",
              "    <tr>\n",
              "      <th>8</th>\n",
              "      <td>Alphabet_of_the_Magi</td>\n",
              "      <td>character01</td>\n",
              "      <td>8</td>\n",
              "      <td>images_background/Alphabet_of_the_Magi/charact...</td>\n",
              "      <td>0</td>\n",
              "    </tr>\n",
              "    <tr>\n",
              "      <th>9</th>\n",
              "      <td>Alphabet_of_the_Magi</td>\n",
              "      <td>character01</td>\n",
              "      <td>9</td>\n",
              "      <td>images_background/Alphabet_of_the_Magi/charact...</td>\n",
              "      <td>0</td>\n",
              "    </tr>\n",
              "    <tr>\n",
              "      <th>10</th>\n",
              "      <td>Alphabet_of_the_Magi</td>\n",
              "      <td>character01</td>\n",
              "      <td>10</td>\n",
              "      <td>images_background/Alphabet_of_the_Magi/charact...</td>\n",
              "      <td>0</td>\n",
              "    </tr>\n",
              "    <tr>\n",
              "      <th>11</th>\n",
              "      <td>Alphabet_of_the_Magi</td>\n",
              "      <td>character01</td>\n",
              "      <td>11</td>\n",
              "      <td>images_background/Alphabet_of_the_Magi/charact...</td>\n",
              "      <td>0</td>\n",
              "    </tr>\n",
              "    <tr>\n",
              "      <th>12</th>\n",
              "      <td>Alphabet_of_the_Magi</td>\n",
              "      <td>character01</td>\n",
              "      <td>12</td>\n",
              "      <td>images_background/Alphabet_of_the_Magi/charact...</td>\n",
              "      <td>0</td>\n",
              "    </tr>\n",
              "    <tr>\n",
              "      <th>13</th>\n",
              "      <td>Alphabet_of_the_Magi</td>\n",
              "      <td>character01</td>\n",
              "      <td>13</td>\n",
              "      <td>images_background/Alphabet_of_the_Magi/charact...</td>\n",
              "      <td>0</td>\n",
              "    </tr>\n",
              "    <tr>\n",
              "      <th>14</th>\n",
              "      <td>Alphabet_of_the_Magi</td>\n",
              "      <td>character02</td>\n",
              "      <td>0</td>\n",
              "      <td>images_background/Alphabet_of_the_Magi/charact...</td>\n",
              "      <td>1</td>\n",
              "    </tr>\n",
              "    <tr>\n",
              "      <th>15</th>\n",
              "      <td>Alphabet_of_the_Magi</td>\n",
              "      <td>character02</td>\n",
              "      <td>1</td>\n",
              "      <td>images_background/Alphabet_of_the_Magi/charact...</td>\n",
              "      <td>1</td>\n",
              "    </tr>\n",
              "    <tr>\n",
              "      <th>16</th>\n",
              "      <td>Alphabet_of_the_Magi</td>\n",
              "      <td>character02</td>\n",
              "      <td>2</td>\n",
              "      <td>images_background/Alphabet_of_the_Magi/charact...</td>\n",
              "      <td>1</td>\n",
              "    </tr>\n",
              "    <tr>\n",
              "      <th>17</th>\n",
              "      <td>Alphabet_of_the_Magi</td>\n",
              "      <td>character02</td>\n",
              "      <td>3</td>\n",
              "      <td>images_background/Alphabet_of_the_Magi/charact...</td>\n",
              "      <td>1</td>\n",
              "    </tr>\n",
              "    <tr>\n",
              "      <th>18</th>\n",
              "      <td>Alphabet_of_the_Magi</td>\n",
              "      <td>character02</td>\n",
              "      <td>4</td>\n",
              "      <td>images_background/Alphabet_of_the_Magi/charact...</td>\n",
              "      <td>1</td>\n",
              "    </tr>\n",
              "    <tr>\n",
              "      <th>19</th>\n",
              "      <td>Alphabet_of_the_Magi</td>\n",
              "      <td>character02</td>\n",
              "      <td>5</td>\n",
              "      <td>images_background/Alphabet_of_the_Magi/charact...</td>\n",
              "      <td>1</td>\n",
              "    </tr>\n",
              "  </tbody>\n",
              "</table>\n",
              "</div>\n",
              "      <button class=\"colab-df-convert\" onclick=\"convertToInteractive('df-06b8e27e-a2fc-4497-96f6-5dd3f0386bca')\"\n",
              "              title=\"Convert this dataframe to an interactive table.\"\n",
              "              style=\"display:none;\">\n",
              "        \n",
              "  <svg xmlns=\"http://www.w3.org/2000/svg\" height=\"24px\"viewBox=\"0 0 24 24\"\n",
              "       width=\"24px\">\n",
              "    <path d=\"M0 0h24v24H0V0z\" fill=\"none\"/>\n",
              "    <path d=\"M18.56 5.44l.94 2.06.94-2.06 2.06-.94-2.06-.94-.94-2.06-.94 2.06-2.06.94zm-11 1L8.5 8.5l.94-2.06 2.06-.94-2.06-.94L8.5 2.5l-.94 2.06-2.06.94zm10 10l.94 2.06.94-2.06 2.06-.94-2.06-.94-.94-2.06-.94 2.06-2.06.94z\"/><path d=\"M17.41 7.96l-1.37-1.37c-.4-.4-.92-.59-1.43-.59-.52 0-1.04.2-1.43.59L10.3 9.45l-7.72 7.72c-.78.78-.78 2.05 0 2.83L4 21.41c.39.39.9.59 1.41.59.51 0 1.02-.2 1.41-.59l7.78-7.78 2.81-2.81c.8-.78.8-2.07 0-2.86zM5.41 20L4 18.59l7.72-7.72 1.47 1.35L5.41 20z\"/>\n",
              "  </svg>\n",
              "      </button>\n",
              "      \n",
              "  <style>\n",
              "    .colab-df-container {\n",
              "      display:flex;\n",
              "      flex-wrap:wrap;\n",
              "      gap: 12px;\n",
              "    }\n",
              "\n",
              "    .colab-df-convert {\n",
              "      background-color: #E8F0FE;\n",
              "      border: none;\n",
              "      border-radius: 50%;\n",
              "      cursor: pointer;\n",
              "      display: none;\n",
              "      fill: #1967D2;\n",
              "      height: 32px;\n",
              "      padding: 0 0 0 0;\n",
              "      width: 32px;\n",
              "    }\n",
              "\n",
              "    .colab-df-convert:hover {\n",
              "      background-color: #E2EBFA;\n",
              "      box-shadow: 0px 1px 2px rgba(60, 64, 67, 0.3), 0px 1px 3px 1px rgba(60, 64, 67, 0.15);\n",
              "      fill: #174EA6;\n",
              "    }\n",
              "\n",
              "    [theme=dark] .colab-df-convert {\n",
              "      background-color: #3B4455;\n",
              "      fill: #D2E3FC;\n",
              "    }\n",
              "\n",
              "    [theme=dark] .colab-df-convert:hover {\n",
              "      background-color: #434B5C;\n",
              "      box-shadow: 0px 1px 3px 1px rgba(0, 0, 0, 0.15);\n",
              "      filter: drop-shadow(0px 1px 2px rgba(0, 0, 0, 0.3));\n",
              "      fill: #FFFFFF;\n",
              "    }\n",
              "  </style>\n",
              "\n",
              "      <script>\n",
              "        const buttonEl =\n",
              "          document.querySelector('#df-06b8e27e-a2fc-4497-96f6-5dd3f0386bca button.colab-df-convert');\n",
              "        buttonEl.style.display =\n",
              "          google.colab.kernel.accessAllowed ? 'block' : 'none';\n",
              "\n",
              "        async function convertToInteractive(key) {\n",
              "          const element = document.querySelector('#df-06b8e27e-a2fc-4497-96f6-5dd3f0386bca');\n",
              "          const dataTable =\n",
              "            await google.colab.kernel.invokeFunction('convertToInteractive',\n",
              "                                                     [key], {});\n",
              "          if (!dataTable) return;\n",
              "\n",
              "          const docLinkHtml = 'Like what you see? Visit the ' +\n",
              "            '<a target=\"_blank\" href=https://colab.research.google.com/notebooks/data_table.ipynb>data table notebook</a>'\n",
              "            + ' to learn more about interactive tables.';\n",
              "          element.innerHTML = '';\n",
              "          dataTable['output_type'] = 'display_data';\n",
              "          await google.colab.output.renderOutput(dataTable, element);\n",
              "          const docLink = document.createElement('div');\n",
              "          docLink.innerHTML = docLinkHtml;\n",
              "          element.appendChild(docLink);\n",
              "        }\n",
              "      </script>\n",
              "    </div>\n",
              "  </div>\n",
              "  "
            ]
          },
          "metadata": {},
          "execution_count": 11
        }
      ]
    },
    {
      "cell_type": "markdown",
      "source": [
        "## Modelo ResNeXt"
      ],
      "metadata": {
        "id": "SzIGGLV0Juuk"
      }
    },
    {
      "cell_type": "code",
      "source": [
        "num_classes = 964 # Cantidad de clases que hay"
      ],
      "metadata": {
        "id": "9EjltURwMuNS"
      },
      "execution_count": null,
      "outputs": []
    },
    {
      "cell_type": "markdown",
      "source": [
        "## Train"
      ],
      "metadata": {
        "id": "fnBVH6wfNSjW"
      }
    },
    {
      "cell_type": "code",
      "source": [
        "class Character(torch.utils.data.Dataset):\n",
        "    def __init__(self, images, labels, transform=None):\n",
        "        self.transform = transform\n",
        "        self.images = images     # Vincula el indice con un nombre de archivo\n",
        "        self.labels = labels     # Vincula el indice con una clase\n",
        "\n",
        "    def get_image(self, path):\n",
        "        # img = plt.imread(path)\n",
        "        img = Image.open(path)\n",
        "        return img\n",
        "\n",
        "    def __getitem__(self, idx):\n",
        "        path_name = self.images[idx]\n",
        "        label = self.labels[idx]\n",
        "        img = self.get_image(path_name)\n",
        "\n",
        "        if self.transform is not None:\n",
        "            img = self.transform(img)\n",
        "        return img, label\n",
        "\n",
        "    def __len__(self):\n",
        "        return len(self.images)"
      ],
      "metadata": {
        "id": "_u5gUIleQqAb"
      },
      "execution_count": null,
      "outputs": []
    },
    {
      "cell_type": "code",
      "source": [
        "# Set up data transformations\n",
        "transform = Compose([\n",
        "    lambda x: x.convert('RGB'),\n",
        "    ToTensor(),\n",
        "    Normalize((0.5, 0.5, 0.5), (0.5, 0.5, 0.5))\n",
        "])\n",
        "\n",
        "\n",
        "train_dataset = Character(images=df_train['Path'], labels=df_train['y'], transform=transform)\n",
        "val_dataset = Character(images=df_val['Path'], labels=df_val['y'], transform=transform)\n",
        "test_dataset = Character(images=df_test['Path'], labels=df_test['y'], transform=transform)"
      ],
      "metadata": {
        "id": "RLglVdEkRAhU"
      },
      "execution_count": null,
      "outputs": []
    },
    {
      "cell_type": "code",
      "source": [
        "print('Train Dataset Length:', len(train_dataset))\n",
        "print('Val Dataset Length:', len(val_dataset))\n",
        "print('Test Dataset Length:', len(test_dataset))"
      ],
      "metadata": {
        "colab": {
          "base_uri": "https://localhost:8080/"
        },
        "id": "9yRb4EGGS4rc",
        "outputId": "168cc6a6-9b2a-4294-c6a7-085961f7f957"
      },
      "execution_count": null,
      "outputs": [
        {
          "output_type": "stream",
          "name": "stdout",
          "text": [
            "Train Dataset Length: 13496\n",
            "Val Dataset Length: 3856\n",
            "Test Dataset Length: 1928\n"
          ]
        }
      ]
    },
    {
      "cell_type": "code",
      "source": [
        "# Set up the train loader\n",
        "batch_size = 64\n",
        "shuffle = True\n",
        "train_loader = DataLoader(train_dataset, batch_size=batch_size, shuffle=shuffle)\n",
        "val_loader = DataLoader(val_dataset, batch_size=batch_size, shuffle=shuffle)\n",
        "test_loader = DataLoader(test_dataset, batch_size=batch_size, shuffle=shuffle)"
      ],
      "metadata": {
        "id": "8bpcoym0QH7v"
      },
      "execution_count": null,
      "outputs": []
    },
    {
      "cell_type": "code",
      "source": [
        "trainiter = iter(train_loader)\n",
        "features, labels = next(trainiter)\n",
        "print(features.shape, labels.shape)"
      ],
      "metadata": {
        "colab": {
          "base_uri": "https://localhost:8080/"
        },
        "id": "Z_O7F4P4F_iH",
        "outputId": "a49b400f-7431-4de2-a89b-c495466f9eaf"
      },
      "execution_count": null,
      "outputs": [
        {
          "output_type": "stream",
          "name": "stdout",
          "text": [
            "torch.Size([64, 3, 105, 105]) torch.Size([64])\n"
          ]
        }
      ]
    },
    {
      "cell_type": "code",
      "source": [
        "len(train_loader)"
      ],
      "metadata": {
        "colab": {
          "base_uri": "https://localhost:8080/"
        },
        "id": "3uvzXDbJTP6c",
        "outputId": "bac21364-3b25-47b5-b7a6-adb91312b933"
      },
      "execution_count": null,
      "outputs": [
        {
          "output_type": "execute_result",
          "data": {
            "text/plain": [
              "211"
            ]
          },
          "metadata": {},
          "execution_count": 18
        }
      ]
    },
    {
      "cell_type": "code",
      "source": [
        "os.makedirs('models', exist_ok=True)\n",
        "model_path = 'models/RegNet'\n"
      ],
      "metadata": {
        "id": "fONePAmkJny0"
      },
      "execution_count": null,
      "outputs": []
    },
    {
      "cell_type": "markdown",
      "source": [
        "## Test"
      ],
      "metadata": {
        "id": "-ocu1pr5Ln7G"
      }
    },
    {
      "cell_type": "code",
      "source": [
        "# Función para correr inferencia usando un modelo y un\n",
        "# DataLoader con nuestros datos del set de test.\n",
        "def test_model(model, test_dl):\n",
        "    total_correctas = 0.0\n",
        "    total_muestras = 0.0\n",
        "\n",
        "    for x, target in test_dl:          # Iteramos sobre nuestros datos\n",
        "        # Inicio de la iteración\n",
        "        model.eval()                        # Dejamos el modelo en modo evaluación\n",
        "        with torch.no_grad():               # No se calculará información de gradientes\n",
        "                                            # en el código de más abajo.\n",
        "            x = x.cuda()\n",
        "            target = target.cuda()          # Enviamos nuestros datos a GPU\n",
        "            output = model(x)               # Hacemos el forward de nuestros datos\n",
        "\n",
        "            preds = output.argmax(dim=1)             # El máximo valor es nuestra predicción\n",
        "            correctas = (preds == target).sum()      # Acumulamos las correctas durante la época\n",
        "            total_correctas += correctas\n",
        "            total_muestras += target.shape[0]        # Sumamos el tamaño del batch\n",
        "\n",
        "            accuracy = total_correctas/total_muestras # Acc = correctas/total\n",
        "\n",
        "    return accuracy"
      ],
      "metadata": {
        "id": "sfZ9jg9ALnqq"
      },
      "execution_count": null,
      "outputs": []
    },
    {
      "cell_type": "code",
      "source": [
        "model = models.regnet_y_128gf(weights=RegNet_Y_128GF_Weights.IMAGENET1K_SWAG_LINEAR_V1)\n",
        "model.fc = nn.Linear(7392, num_classes, bias=True)\n",
        "model.aux_logits=False\n",
        "model.to(device)\n",
        "\n",
        "for param in model.parameters(): param.requires_grad = False\n",
        "\n",
        "# Descongelamos la última capa\n",
        "for param in model.fc.parameters(): param.requires_grad = True\n",
        "\n",
        "summary(model, input_size=(3, 105, 105))\n",
        "\n",
        "criterion = nn.CrossEntropyLoss()\n",
        "learning_rate = \"1e-2\"\n",
        "l_r = 1e-2\n",
        "opti = \"SGD\"\n",
        "optimizer = optim.SGD(model.parameters(), lr=l_r, momentum=0.9)\n",
        "# optimizer = optim.Adam(model.parameters(), lr=l_r)\n",
        "# optimizer = optim.Adagrad(model.parameters(), lr=0.009, lr_decay=0.0001)\n",
        "# optimizer = optim.ASGD(model.parameters(), lr=0.01)"
      ],
      "metadata": {
        "colab": {
          "base_uri": "https://localhost:8080/"
        },
        "id": "cSeU4C4zj0zd",
        "outputId": "f3f6541a-bb76-45b9-f00c-378fbe50282d"
      },
      "execution_count": null,
      "outputs": [
        {
          "output_type": "stream",
          "name": "stdout",
          "text": [
            "----------------------------------------------------------------\n",
            "        Layer (type)               Output Shape         Param #\n",
            "================================================================\n",
            "            Conv2d-1           [-1, 32, 53, 53]             864\n",
            "       BatchNorm2d-2           [-1, 32, 53, 53]              64\n",
            "              ReLU-3           [-1, 32, 53, 53]               0\n",
            "            Conv2d-4          [-1, 528, 27, 27]          16,896\n",
            "       BatchNorm2d-5          [-1, 528, 27, 27]           1,056\n",
            "            Conv2d-6          [-1, 528, 53, 53]          16,896\n",
            "       BatchNorm2d-7          [-1, 528, 53, 53]           1,056\n",
            "              ReLU-8          [-1, 528, 53, 53]               0\n",
            "            Conv2d-9          [-1, 528, 27, 27]       1,254,528\n",
            "      BatchNorm2d-10          [-1, 528, 27, 27]           1,056\n",
            "             ReLU-11          [-1, 528, 27, 27]               0\n",
            "AdaptiveAvgPool2d-12            [-1, 528, 1, 1]               0\n",
            "           Conv2d-13              [-1, 8, 1, 1]           4,232\n",
            "             ReLU-14              [-1, 8, 1, 1]               0\n",
            "           Conv2d-15            [-1, 528, 1, 1]           4,752\n",
            "          Sigmoid-16            [-1, 528, 1, 1]               0\n",
            "SqueezeExcitation-17          [-1, 528, 27, 27]               0\n",
            "           Conv2d-18          [-1, 528, 27, 27]         278,784\n",
            "      BatchNorm2d-19          [-1, 528, 27, 27]           1,056\n",
            "             ReLU-20          [-1, 528, 27, 27]               0\n",
            "ResBottleneckBlock-21          [-1, 528, 27, 27]               0\n",
            "           Conv2d-22          [-1, 528, 27, 27]         278,784\n",
            "      BatchNorm2d-23          [-1, 528, 27, 27]           1,056\n",
            "             ReLU-24          [-1, 528, 27, 27]               0\n",
            "           Conv2d-25          [-1, 528, 27, 27]       1,254,528\n",
            "      BatchNorm2d-26          [-1, 528, 27, 27]           1,056\n",
            "             ReLU-27          [-1, 528, 27, 27]               0\n",
            "AdaptiveAvgPool2d-28            [-1, 528, 1, 1]               0\n",
            "           Conv2d-29            [-1, 132, 1, 1]          69,828\n",
            "             ReLU-30            [-1, 132, 1, 1]               0\n",
            "           Conv2d-31            [-1, 528, 1, 1]          70,224\n",
            "          Sigmoid-32            [-1, 528, 1, 1]               0\n",
            "SqueezeExcitation-33          [-1, 528, 27, 27]               0\n",
            "           Conv2d-34          [-1, 528, 27, 27]         278,784\n",
            "      BatchNorm2d-35          [-1, 528, 27, 27]           1,056\n",
            "             ReLU-36          [-1, 528, 27, 27]               0\n",
            "ResBottleneckBlock-37          [-1, 528, 27, 27]               0\n",
            "           Conv2d-38         [-1, 1056, 14, 14]         557,568\n",
            "      BatchNorm2d-39         [-1, 1056, 14, 14]           2,112\n",
            "           Conv2d-40         [-1, 1056, 27, 27]         557,568\n",
            "      BatchNorm2d-41         [-1, 1056, 27, 27]           2,112\n",
            "             ReLU-42         [-1, 1056, 27, 27]               0\n",
            "           Conv2d-43         [-1, 1056, 14, 14]       2,509,056\n",
            "      BatchNorm2d-44         [-1, 1056, 14, 14]           2,112\n",
            "             ReLU-45         [-1, 1056, 14, 14]               0\n",
            "AdaptiveAvgPool2d-46           [-1, 1056, 1, 1]               0\n",
            "           Conv2d-47            [-1, 132, 1, 1]         139,524\n",
            "             ReLU-48            [-1, 132, 1, 1]               0\n",
            "           Conv2d-49           [-1, 1056, 1, 1]         140,448\n",
            "          Sigmoid-50           [-1, 1056, 1, 1]               0\n",
            "SqueezeExcitation-51         [-1, 1056, 14, 14]               0\n",
            "           Conv2d-52         [-1, 1056, 14, 14]       1,115,136\n",
            "      BatchNorm2d-53         [-1, 1056, 14, 14]           2,112\n",
            "             ReLU-54         [-1, 1056, 14, 14]               0\n",
            "ResBottleneckBlock-55         [-1, 1056, 14, 14]               0\n",
            "           Conv2d-56         [-1, 1056, 14, 14]       1,115,136\n",
            "      BatchNorm2d-57         [-1, 1056, 14, 14]           2,112\n",
            "             ReLU-58         [-1, 1056, 14, 14]               0\n",
            "           Conv2d-59         [-1, 1056, 14, 14]       2,509,056\n",
            "      BatchNorm2d-60         [-1, 1056, 14, 14]           2,112\n",
            "             ReLU-61         [-1, 1056, 14, 14]               0\n",
            "AdaptiveAvgPool2d-62           [-1, 1056, 1, 1]               0\n",
            "           Conv2d-63            [-1, 264, 1, 1]         279,048\n",
            "             ReLU-64            [-1, 264, 1, 1]               0\n",
            "           Conv2d-65           [-1, 1056, 1, 1]         279,840\n",
            "          Sigmoid-66           [-1, 1056, 1, 1]               0\n",
            "SqueezeExcitation-67         [-1, 1056, 14, 14]               0\n",
            "           Conv2d-68         [-1, 1056, 14, 14]       1,115,136\n",
            "      BatchNorm2d-69         [-1, 1056, 14, 14]           2,112\n",
            "             ReLU-70         [-1, 1056, 14, 14]               0\n",
            "ResBottleneckBlock-71         [-1, 1056, 14, 14]               0\n",
            "           Conv2d-72         [-1, 1056, 14, 14]       1,115,136\n",
            "      BatchNorm2d-73         [-1, 1056, 14, 14]           2,112\n",
            "             ReLU-74         [-1, 1056, 14, 14]               0\n",
            "           Conv2d-75         [-1, 1056, 14, 14]       2,509,056\n",
            "      BatchNorm2d-76         [-1, 1056, 14, 14]           2,112\n",
            "             ReLU-77         [-1, 1056, 14, 14]               0\n",
            "AdaptiveAvgPool2d-78           [-1, 1056, 1, 1]               0\n",
            "           Conv2d-79            [-1, 264, 1, 1]         279,048\n",
            "             ReLU-80            [-1, 264, 1, 1]               0\n",
            "           Conv2d-81           [-1, 1056, 1, 1]         279,840\n",
            "          Sigmoid-82           [-1, 1056, 1, 1]               0\n",
            "SqueezeExcitation-83         [-1, 1056, 14, 14]               0\n",
            "           Conv2d-84         [-1, 1056, 14, 14]       1,115,136\n",
            "      BatchNorm2d-85         [-1, 1056, 14, 14]           2,112\n",
            "             ReLU-86         [-1, 1056, 14, 14]               0\n",
            "ResBottleneckBlock-87         [-1, 1056, 14, 14]               0\n",
            "           Conv2d-88         [-1, 1056, 14, 14]       1,115,136\n",
            "      BatchNorm2d-89         [-1, 1056, 14, 14]           2,112\n",
            "             ReLU-90         [-1, 1056, 14, 14]               0\n",
            "           Conv2d-91         [-1, 1056, 14, 14]       2,509,056\n",
            "      BatchNorm2d-92         [-1, 1056, 14, 14]           2,112\n",
            "             ReLU-93         [-1, 1056, 14, 14]               0\n",
            "AdaptiveAvgPool2d-94           [-1, 1056, 1, 1]               0\n",
            "           Conv2d-95            [-1, 264, 1, 1]         279,048\n",
            "             ReLU-96            [-1, 264, 1, 1]               0\n",
            "           Conv2d-97           [-1, 1056, 1, 1]         279,840\n",
            "          Sigmoid-98           [-1, 1056, 1, 1]               0\n",
            "SqueezeExcitation-99         [-1, 1056, 14, 14]               0\n",
            "          Conv2d-100         [-1, 1056, 14, 14]       1,115,136\n",
            "     BatchNorm2d-101         [-1, 1056, 14, 14]           2,112\n",
            "            ReLU-102         [-1, 1056, 14, 14]               0\n",
            "ResBottleneckBlock-103         [-1, 1056, 14, 14]               0\n",
            "          Conv2d-104         [-1, 1056, 14, 14]       1,115,136\n",
            "     BatchNorm2d-105         [-1, 1056, 14, 14]           2,112\n",
            "            ReLU-106         [-1, 1056, 14, 14]               0\n",
            "          Conv2d-107         [-1, 1056, 14, 14]       2,509,056\n",
            "     BatchNorm2d-108         [-1, 1056, 14, 14]           2,112\n",
            "            ReLU-109         [-1, 1056, 14, 14]               0\n",
            "AdaptiveAvgPool2d-110           [-1, 1056, 1, 1]               0\n",
            "          Conv2d-111            [-1, 264, 1, 1]         279,048\n",
            "            ReLU-112            [-1, 264, 1, 1]               0\n",
            "          Conv2d-113           [-1, 1056, 1, 1]         279,840\n",
            "         Sigmoid-114           [-1, 1056, 1, 1]               0\n",
            "SqueezeExcitation-115         [-1, 1056, 14, 14]               0\n",
            "          Conv2d-116         [-1, 1056, 14, 14]       1,115,136\n",
            "     BatchNorm2d-117         [-1, 1056, 14, 14]           2,112\n",
            "            ReLU-118         [-1, 1056, 14, 14]               0\n",
            "ResBottleneckBlock-119         [-1, 1056, 14, 14]               0\n",
            "          Conv2d-120         [-1, 1056, 14, 14]       1,115,136\n",
            "     BatchNorm2d-121         [-1, 1056, 14, 14]           2,112\n",
            "            ReLU-122         [-1, 1056, 14, 14]               0\n",
            "          Conv2d-123         [-1, 1056, 14, 14]       2,509,056\n",
            "     BatchNorm2d-124         [-1, 1056, 14, 14]           2,112\n",
            "            ReLU-125         [-1, 1056, 14, 14]               0\n",
            "AdaptiveAvgPool2d-126           [-1, 1056, 1, 1]               0\n",
            "          Conv2d-127            [-1, 264, 1, 1]         279,048\n",
            "            ReLU-128            [-1, 264, 1, 1]               0\n",
            "          Conv2d-129           [-1, 1056, 1, 1]         279,840\n",
            "         Sigmoid-130           [-1, 1056, 1, 1]               0\n",
            "SqueezeExcitation-131         [-1, 1056, 14, 14]               0\n",
            "          Conv2d-132         [-1, 1056, 14, 14]       1,115,136\n",
            "     BatchNorm2d-133         [-1, 1056, 14, 14]           2,112\n",
            "            ReLU-134         [-1, 1056, 14, 14]               0\n",
            "ResBottleneckBlock-135         [-1, 1056, 14, 14]               0\n",
            "          Conv2d-136         [-1, 1056, 14, 14]       1,115,136\n",
            "     BatchNorm2d-137         [-1, 1056, 14, 14]           2,112\n",
            "            ReLU-138         [-1, 1056, 14, 14]               0\n",
            "          Conv2d-139         [-1, 1056, 14, 14]       2,509,056\n",
            "     BatchNorm2d-140         [-1, 1056, 14, 14]           2,112\n",
            "            ReLU-141         [-1, 1056, 14, 14]               0\n",
            "AdaptiveAvgPool2d-142           [-1, 1056, 1, 1]               0\n",
            "          Conv2d-143            [-1, 264, 1, 1]         279,048\n",
            "            ReLU-144            [-1, 264, 1, 1]               0\n",
            "          Conv2d-145           [-1, 1056, 1, 1]         279,840\n",
            "         Sigmoid-146           [-1, 1056, 1, 1]               0\n",
            "SqueezeExcitation-147         [-1, 1056, 14, 14]               0\n",
            "          Conv2d-148         [-1, 1056, 14, 14]       1,115,136\n",
            "     BatchNorm2d-149         [-1, 1056, 14, 14]           2,112\n",
            "            ReLU-150         [-1, 1056, 14, 14]               0\n",
            "ResBottleneckBlock-151         [-1, 1056, 14, 14]               0\n",
            "          Conv2d-152           [-1, 2904, 7, 7]       3,066,624\n",
            "     BatchNorm2d-153           [-1, 2904, 7, 7]           5,808\n",
            "          Conv2d-154         [-1, 2904, 14, 14]       3,066,624\n",
            "     BatchNorm2d-155         [-1, 2904, 14, 14]           5,808\n",
            "            ReLU-156         [-1, 2904, 14, 14]               0\n",
            "          Conv2d-157           [-1, 2904, 7, 7]       6,899,904\n",
            "     BatchNorm2d-158           [-1, 2904, 7, 7]           5,808\n",
            "            ReLU-159           [-1, 2904, 7, 7]               0\n",
            "AdaptiveAvgPool2d-160           [-1, 2904, 1, 1]               0\n",
            "          Conv2d-161            [-1, 264, 1, 1]         766,920\n",
            "            ReLU-162            [-1, 264, 1, 1]               0\n",
            "          Conv2d-163           [-1, 2904, 1, 1]         769,560\n",
            "         Sigmoid-164           [-1, 2904, 1, 1]               0\n",
            "SqueezeExcitation-165           [-1, 2904, 7, 7]               0\n",
            "          Conv2d-166           [-1, 2904, 7, 7]       8,433,216\n",
            "     BatchNorm2d-167           [-1, 2904, 7, 7]           5,808\n",
            "            ReLU-168           [-1, 2904, 7, 7]               0\n",
            "ResBottleneckBlock-169           [-1, 2904, 7, 7]               0\n",
            "          Conv2d-170           [-1, 2904, 7, 7]       8,433,216\n",
            "     BatchNorm2d-171           [-1, 2904, 7, 7]           5,808\n",
            "            ReLU-172           [-1, 2904, 7, 7]               0\n",
            "          Conv2d-173           [-1, 2904, 7, 7]       6,899,904\n",
            "     BatchNorm2d-174           [-1, 2904, 7, 7]           5,808\n",
            "            ReLU-175           [-1, 2904, 7, 7]               0\n",
            "AdaptiveAvgPool2d-176           [-1, 2904, 1, 1]               0\n",
            "          Conv2d-177            [-1, 726, 1, 1]       2,109,030\n",
            "            ReLU-178            [-1, 726, 1, 1]               0\n",
            "          Conv2d-179           [-1, 2904, 1, 1]       2,111,208\n",
            "         Sigmoid-180           [-1, 2904, 1, 1]               0\n",
            "SqueezeExcitation-181           [-1, 2904, 7, 7]               0\n",
            "          Conv2d-182           [-1, 2904, 7, 7]       8,433,216\n",
            "     BatchNorm2d-183           [-1, 2904, 7, 7]           5,808\n",
            "            ReLU-184           [-1, 2904, 7, 7]               0\n",
            "ResBottleneckBlock-185           [-1, 2904, 7, 7]               0\n",
            "          Conv2d-186           [-1, 2904, 7, 7]       8,433,216\n",
            "     BatchNorm2d-187           [-1, 2904, 7, 7]           5,808\n",
            "            ReLU-188           [-1, 2904, 7, 7]               0\n",
            "          Conv2d-189           [-1, 2904, 7, 7]       6,899,904\n",
            "     BatchNorm2d-190           [-1, 2904, 7, 7]           5,808\n",
            "            ReLU-191           [-1, 2904, 7, 7]               0\n",
            "AdaptiveAvgPool2d-192           [-1, 2904, 1, 1]               0\n",
            "          Conv2d-193            [-1, 726, 1, 1]       2,109,030\n",
            "            ReLU-194            [-1, 726, 1, 1]               0\n",
            "          Conv2d-195           [-1, 2904, 1, 1]       2,111,208\n",
            "         Sigmoid-196           [-1, 2904, 1, 1]               0\n",
            "SqueezeExcitation-197           [-1, 2904, 7, 7]               0\n",
            "          Conv2d-198           [-1, 2904, 7, 7]       8,433,216\n",
            "     BatchNorm2d-199           [-1, 2904, 7, 7]           5,808\n",
            "            ReLU-200           [-1, 2904, 7, 7]               0\n",
            "ResBottleneckBlock-201           [-1, 2904, 7, 7]               0\n",
            "          Conv2d-202           [-1, 2904, 7, 7]       8,433,216\n",
            "     BatchNorm2d-203           [-1, 2904, 7, 7]           5,808\n",
            "            ReLU-204           [-1, 2904, 7, 7]               0\n",
            "          Conv2d-205           [-1, 2904, 7, 7]       6,899,904\n",
            "     BatchNorm2d-206           [-1, 2904, 7, 7]           5,808\n",
            "            ReLU-207           [-1, 2904, 7, 7]               0\n",
            "AdaptiveAvgPool2d-208           [-1, 2904, 1, 1]               0\n",
            "          Conv2d-209            [-1, 726, 1, 1]       2,109,030\n",
            "            ReLU-210            [-1, 726, 1, 1]               0\n",
            "          Conv2d-211           [-1, 2904, 1, 1]       2,111,208\n",
            "         Sigmoid-212           [-1, 2904, 1, 1]               0\n",
            "SqueezeExcitation-213           [-1, 2904, 7, 7]               0\n",
            "          Conv2d-214           [-1, 2904, 7, 7]       8,433,216\n",
            "     BatchNorm2d-215           [-1, 2904, 7, 7]           5,808\n",
            "            ReLU-216           [-1, 2904, 7, 7]               0\n",
            "ResBottleneckBlock-217           [-1, 2904, 7, 7]               0\n",
            "          Conv2d-218           [-1, 2904, 7, 7]       8,433,216\n",
            "     BatchNorm2d-219           [-1, 2904, 7, 7]           5,808\n",
            "            ReLU-220           [-1, 2904, 7, 7]               0\n",
            "          Conv2d-221           [-1, 2904, 7, 7]       6,899,904\n",
            "     BatchNorm2d-222           [-1, 2904, 7, 7]           5,808\n",
            "            ReLU-223           [-1, 2904, 7, 7]               0\n",
            "AdaptiveAvgPool2d-224           [-1, 2904, 1, 1]               0\n",
            "          Conv2d-225            [-1, 726, 1, 1]       2,109,030\n",
            "            ReLU-226            [-1, 726, 1, 1]               0\n",
            "          Conv2d-227           [-1, 2904, 1, 1]       2,111,208\n",
            "         Sigmoid-228           [-1, 2904, 1, 1]               0\n",
            "SqueezeExcitation-229           [-1, 2904, 7, 7]               0\n",
            "          Conv2d-230           [-1, 2904, 7, 7]       8,433,216\n",
            "     BatchNorm2d-231           [-1, 2904, 7, 7]           5,808\n",
            "            ReLU-232           [-1, 2904, 7, 7]               0\n",
            "ResBottleneckBlock-233           [-1, 2904, 7, 7]               0\n",
            "          Conv2d-234           [-1, 2904, 7, 7]       8,433,216\n",
            "     BatchNorm2d-235           [-1, 2904, 7, 7]           5,808\n",
            "            ReLU-236           [-1, 2904, 7, 7]               0\n",
            "          Conv2d-237           [-1, 2904, 7, 7]       6,899,904\n",
            "     BatchNorm2d-238           [-1, 2904, 7, 7]           5,808\n",
            "            ReLU-239           [-1, 2904, 7, 7]               0\n",
            "AdaptiveAvgPool2d-240           [-1, 2904, 1, 1]               0\n",
            "          Conv2d-241            [-1, 726, 1, 1]       2,109,030\n",
            "            ReLU-242            [-1, 726, 1, 1]               0\n",
            "          Conv2d-243           [-1, 2904, 1, 1]       2,111,208\n",
            "         Sigmoid-244           [-1, 2904, 1, 1]               0\n",
            "SqueezeExcitation-245           [-1, 2904, 7, 7]               0\n",
            "          Conv2d-246           [-1, 2904, 7, 7]       8,433,216\n",
            "     BatchNorm2d-247           [-1, 2904, 7, 7]           5,808\n",
            "            ReLU-248           [-1, 2904, 7, 7]               0\n",
            "ResBottleneckBlock-249           [-1, 2904, 7, 7]               0\n",
            "          Conv2d-250           [-1, 2904, 7, 7]       8,433,216\n",
            "     BatchNorm2d-251           [-1, 2904, 7, 7]           5,808\n",
            "            ReLU-252           [-1, 2904, 7, 7]               0\n",
            "          Conv2d-253           [-1, 2904, 7, 7]       6,899,904\n",
            "     BatchNorm2d-254           [-1, 2904, 7, 7]           5,808\n",
            "            ReLU-255           [-1, 2904, 7, 7]               0\n",
            "AdaptiveAvgPool2d-256           [-1, 2904, 1, 1]               0\n",
            "          Conv2d-257            [-1, 726, 1, 1]       2,109,030\n",
            "            ReLU-258            [-1, 726, 1, 1]               0\n",
            "          Conv2d-259           [-1, 2904, 1, 1]       2,111,208\n",
            "         Sigmoid-260           [-1, 2904, 1, 1]               0\n",
            "SqueezeExcitation-261           [-1, 2904, 7, 7]               0\n",
            "          Conv2d-262           [-1, 2904, 7, 7]       8,433,216\n",
            "     BatchNorm2d-263           [-1, 2904, 7, 7]           5,808\n",
            "            ReLU-264           [-1, 2904, 7, 7]               0\n",
            "ResBottleneckBlock-265           [-1, 2904, 7, 7]               0\n",
            "          Conv2d-266           [-1, 2904, 7, 7]       8,433,216\n",
            "     BatchNorm2d-267           [-1, 2904, 7, 7]           5,808\n",
            "            ReLU-268           [-1, 2904, 7, 7]               0\n",
            "          Conv2d-269           [-1, 2904, 7, 7]       6,899,904\n",
            "     BatchNorm2d-270           [-1, 2904, 7, 7]           5,808\n",
            "            ReLU-271           [-1, 2904, 7, 7]               0\n",
            "AdaptiveAvgPool2d-272           [-1, 2904, 1, 1]               0\n",
            "          Conv2d-273            [-1, 726, 1, 1]       2,109,030\n",
            "            ReLU-274            [-1, 726, 1, 1]               0\n",
            "          Conv2d-275           [-1, 2904, 1, 1]       2,111,208\n",
            "         Sigmoid-276           [-1, 2904, 1, 1]               0\n",
            "SqueezeExcitation-277           [-1, 2904, 7, 7]               0\n",
            "          Conv2d-278           [-1, 2904, 7, 7]       8,433,216\n",
            "     BatchNorm2d-279           [-1, 2904, 7, 7]           5,808\n",
            "            ReLU-280           [-1, 2904, 7, 7]               0\n",
            "ResBottleneckBlock-281           [-1, 2904, 7, 7]               0\n",
            "          Conv2d-282           [-1, 2904, 7, 7]       8,433,216\n",
            "     BatchNorm2d-283           [-1, 2904, 7, 7]           5,808\n",
            "            ReLU-284           [-1, 2904, 7, 7]               0\n",
            "          Conv2d-285           [-1, 2904, 7, 7]       6,899,904\n",
            "     BatchNorm2d-286           [-1, 2904, 7, 7]           5,808\n",
            "            ReLU-287           [-1, 2904, 7, 7]               0\n",
            "AdaptiveAvgPool2d-288           [-1, 2904, 1, 1]               0\n",
            "          Conv2d-289            [-1, 726, 1, 1]       2,109,030\n",
            "            ReLU-290            [-1, 726, 1, 1]               0\n",
            "          Conv2d-291           [-1, 2904, 1, 1]       2,111,208\n",
            "         Sigmoid-292           [-1, 2904, 1, 1]               0\n",
            "SqueezeExcitation-293           [-1, 2904, 7, 7]               0\n",
            "          Conv2d-294           [-1, 2904, 7, 7]       8,433,216\n",
            "     BatchNorm2d-295           [-1, 2904, 7, 7]           5,808\n",
            "            ReLU-296           [-1, 2904, 7, 7]               0\n",
            "ResBottleneckBlock-297           [-1, 2904, 7, 7]               0\n",
            "          Conv2d-298           [-1, 2904, 7, 7]       8,433,216\n",
            "     BatchNorm2d-299           [-1, 2904, 7, 7]           5,808\n",
            "            ReLU-300           [-1, 2904, 7, 7]               0\n",
            "          Conv2d-301           [-1, 2904, 7, 7]       6,899,904\n",
            "     BatchNorm2d-302           [-1, 2904, 7, 7]           5,808\n",
            "            ReLU-303           [-1, 2904, 7, 7]               0\n",
            "AdaptiveAvgPool2d-304           [-1, 2904, 1, 1]               0\n",
            "          Conv2d-305            [-1, 726, 1, 1]       2,109,030\n",
            "            ReLU-306            [-1, 726, 1, 1]               0\n",
            "          Conv2d-307           [-1, 2904, 1, 1]       2,111,208\n",
            "         Sigmoid-308           [-1, 2904, 1, 1]               0\n",
            "SqueezeExcitation-309           [-1, 2904, 7, 7]               0\n",
            "          Conv2d-310           [-1, 2904, 7, 7]       8,433,216\n",
            "     BatchNorm2d-311           [-1, 2904, 7, 7]           5,808\n",
            "            ReLU-312           [-1, 2904, 7, 7]               0\n",
            "ResBottleneckBlock-313           [-1, 2904, 7, 7]               0\n",
            "          Conv2d-314           [-1, 2904, 7, 7]       8,433,216\n",
            "     BatchNorm2d-315           [-1, 2904, 7, 7]           5,808\n",
            "            ReLU-316           [-1, 2904, 7, 7]               0\n",
            "          Conv2d-317           [-1, 2904, 7, 7]       6,899,904\n",
            "     BatchNorm2d-318           [-1, 2904, 7, 7]           5,808\n",
            "            ReLU-319           [-1, 2904, 7, 7]               0\n",
            "AdaptiveAvgPool2d-320           [-1, 2904, 1, 1]               0\n",
            "          Conv2d-321            [-1, 726, 1, 1]       2,109,030\n",
            "            ReLU-322            [-1, 726, 1, 1]               0\n",
            "          Conv2d-323           [-1, 2904, 1, 1]       2,111,208\n",
            "         Sigmoid-324           [-1, 2904, 1, 1]               0\n",
            "SqueezeExcitation-325           [-1, 2904, 7, 7]               0\n",
            "          Conv2d-326           [-1, 2904, 7, 7]       8,433,216\n",
            "     BatchNorm2d-327           [-1, 2904, 7, 7]           5,808\n",
            "            ReLU-328           [-1, 2904, 7, 7]               0\n",
            "ResBottleneckBlock-329           [-1, 2904, 7, 7]               0\n",
            "          Conv2d-330           [-1, 2904, 7, 7]       8,433,216\n",
            "     BatchNorm2d-331           [-1, 2904, 7, 7]           5,808\n",
            "            ReLU-332           [-1, 2904, 7, 7]               0\n",
            "          Conv2d-333           [-1, 2904, 7, 7]       6,899,904\n",
            "     BatchNorm2d-334           [-1, 2904, 7, 7]           5,808\n",
            "            ReLU-335           [-1, 2904, 7, 7]               0\n",
            "AdaptiveAvgPool2d-336           [-1, 2904, 1, 1]               0\n",
            "          Conv2d-337            [-1, 726, 1, 1]       2,109,030\n",
            "            ReLU-338            [-1, 726, 1, 1]               0\n",
            "          Conv2d-339           [-1, 2904, 1, 1]       2,111,208\n",
            "         Sigmoid-340           [-1, 2904, 1, 1]               0\n",
            "SqueezeExcitation-341           [-1, 2904, 7, 7]               0\n",
            "          Conv2d-342           [-1, 2904, 7, 7]       8,433,216\n",
            "     BatchNorm2d-343           [-1, 2904, 7, 7]           5,808\n",
            "            ReLU-344           [-1, 2904, 7, 7]               0\n",
            "ResBottleneckBlock-345           [-1, 2904, 7, 7]               0\n",
            "          Conv2d-346           [-1, 2904, 7, 7]       8,433,216\n",
            "     BatchNorm2d-347           [-1, 2904, 7, 7]           5,808\n",
            "            ReLU-348           [-1, 2904, 7, 7]               0\n",
            "          Conv2d-349           [-1, 2904, 7, 7]       6,899,904\n",
            "     BatchNorm2d-350           [-1, 2904, 7, 7]           5,808\n",
            "            ReLU-351           [-1, 2904, 7, 7]               0\n",
            "AdaptiveAvgPool2d-352           [-1, 2904, 1, 1]               0\n",
            "          Conv2d-353            [-1, 726, 1, 1]       2,109,030\n",
            "            ReLU-354            [-1, 726, 1, 1]               0\n",
            "          Conv2d-355           [-1, 2904, 1, 1]       2,111,208\n",
            "         Sigmoid-356           [-1, 2904, 1, 1]               0\n",
            "SqueezeExcitation-357           [-1, 2904, 7, 7]               0\n",
            "          Conv2d-358           [-1, 2904, 7, 7]       8,433,216\n",
            "     BatchNorm2d-359           [-1, 2904, 7, 7]           5,808\n",
            "            ReLU-360           [-1, 2904, 7, 7]               0\n",
            "ResBottleneckBlock-361           [-1, 2904, 7, 7]               0\n",
            "          Conv2d-362           [-1, 2904, 7, 7]       8,433,216\n",
            "     BatchNorm2d-363           [-1, 2904, 7, 7]           5,808\n",
            "            ReLU-364           [-1, 2904, 7, 7]               0\n",
            "          Conv2d-365           [-1, 2904, 7, 7]       6,899,904\n",
            "     BatchNorm2d-366           [-1, 2904, 7, 7]           5,808\n",
            "            ReLU-367           [-1, 2904, 7, 7]               0\n",
            "AdaptiveAvgPool2d-368           [-1, 2904, 1, 1]               0\n",
            "          Conv2d-369            [-1, 726, 1, 1]       2,109,030\n",
            "            ReLU-370            [-1, 726, 1, 1]               0\n",
            "          Conv2d-371           [-1, 2904, 1, 1]       2,111,208\n",
            "         Sigmoid-372           [-1, 2904, 1, 1]               0\n",
            "SqueezeExcitation-373           [-1, 2904, 7, 7]               0\n",
            "          Conv2d-374           [-1, 2904, 7, 7]       8,433,216\n",
            "     BatchNorm2d-375           [-1, 2904, 7, 7]           5,808\n",
            "            ReLU-376           [-1, 2904, 7, 7]               0\n",
            "ResBottleneckBlock-377           [-1, 2904, 7, 7]               0\n",
            "          Conv2d-378           [-1, 2904, 7, 7]       8,433,216\n",
            "     BatchNorm2d-379           [-1, 2904, 7, 7]           5,808\n",
            "            ReLU-380           [-1, 2904, 7, 7]               0\n",
            "          Conv2d-381           [-1, 2904, 7, 7]       6,899,904\n",
            "     BatchNorm2d-382           [-1, 2904, 7, 7]           5,808\n",
            "            ReLU-383           [-1, 2904, 7, 7]               0\n",
            "AdaptiveAvgPool2d-384           [-1, 2904, 1, 1]               0\n",
            "          Conv2d-385            [-1, 726, 1, 1]       2,109,030\n",
            "            ReLU-386            [-1, 726, 1, 1]               0\n",
            "          Conv2d-387           [-1, 2904, 1, 1]       2,111,208\n",
            "         Sigmoid-388           [-1, 2904, 1, 1]               0\n",
            "SqueezeExcitation-389           [-1, 2904, 7, 7]               0\n",
            "          Conv2d-390           [-1, 2904, 7, 7]       8,433,216\n",
            "     BatchNorm2d-391           [-1, 2904, 7, 7]           5,808\n",
            "            ReLU-392           [-1, 2904, 7, 7]               0\n",
            "ResBottleneckBlock-393           [-1, 2904, 7, 7]               0\n",
            "          Conv2d-394           [-1, 2904, 7, 7]       8,433,216\n",
            "     BatchNorm2d-395           [-1, 2904, 7, 7]           5,808\n",
            "            ReLU-396           [-1, 2904, 7, 7]               0\n",
            "          Conv2d-397           [-1, 2904, 7, 7]       6,899,904\n",
            "     BatchNorm2d-398           [-1, 2904, 7, 7]           5,808\n",
            "            ReLU-399           [-1, 2904, 7, 7]               0\n",
            "AdaptiveAvgPool2d-400           [-1, 2904, 1, 1]               0\n",
            "          Conv2d-401            [-1, 726, 1, 1]       2,109,030\n",
            "            ReLU-402            [-1, 726, 1, 1]               0\n",
            "          Conv2d-403           [-1, 2904, 1, 1]       2,111,208\n",
            "         Sigmoid-404           [-1, 2904, 1, 1]               0\n",
            "SqueezeExcitation-405           [-1, 2904, 7, 7]               0\n",
            "          Conv2d-406           [-1, 2904, 7, 7]       8,433,216\n",
            "     BatchNorm2d-407           [-1, 2904, 7, 7]           5,808\n",
            "            ReLU-408           [-1, 2904, 7, 7]               0\n",
            "ResBottleneckBlock-409           [-1, 2904, 7, 7]               0\n",
            "          Conv2d-410           [-1, 2904, 7, 7]       8,433,216\n",
            "     BatchNorm2d-411           [-1, 2904, 7, 7]           5,808\n",
            "            ReLU-412           [-1, 2904, 7, 7]               0\n",
            "          Conv2d-413           [-1, 2904, 7, 7]       6,899,904\n",
            "     BatchNorm2d-414           [-1, 2904, 7, 7]           5,808\n",
            "            ReLU-415           [-1, 2904, 7, 7]               0\n",
            "AdaptiveAvgPool2d-416           [-1, 2904, 1, 1]               0\n",
            "          Conv2d-417            [-1, 726, 1, 1]       2,109,030\n",
            "            ReLU-418            [-1, 726, 1, 1]               0\n",
            "          Conv2d-419           [-1, 2904, 1, 1]       2,111,208\n",
            "         Sigmoid-420           [-1, 2904, 1, 1]               0\n",
            "SqueezeExcitation-421           [-1, 2904, 7, 7]               0\n",
            "          Conv2d-422           [-1, 2904, 7, 7]       8,433,216\n",
            "     BatchNorm2d-423           [-1, 2904, 7, 7]           5,808\n",
            "            ReLU-424           [-1, 2904, 7, 7]               0\n",
            "ResBottleneckBlock-425           [-1, 2904, 7, 7]               0\n",
            "          Conv2d-426           [-1, 7392, 4, 4]      21,466,368\n",
            "     BatchNorm2d-427           [-1, 7392, 4, 4]          14,784\n",
            "          Conv2d-428           [-1, 7392, 7, 7]      21,466,368\n",
            "     BatchNorm2d-429           [-1, 7392, 7, 7]          14,784\n",
            "            ReLU-430           [-1, 7392, 7, 7]               0\n",
            "          Conv2d-431           [-1, 7392, 4, 4]      17,563,392\n",
            "     BatchNorm2d-432           [-1, 7392, 4, 4]          14,784\n",
            "            ReLU-433           [-1, 7392, 4, 4]               0\n",
            "AdaptiveAvgPool2d-434           [-1, 7392, 1, 1]               0\n",
            "          Conv2d-435            [-1, 726, 1, 1]       5,367,318\n",
            "            ReLU-436            [-1, 726, 1, 1]               0\n",
            "          Conv2d-437           [-1, 7392, 1, 1]       5,373,984\n",
            "         Sigmoid-438           [-1, 7392, 1, 1]               0\n",
            "SqueezeExcitation-439           [-1, 7392, 4, 4]               0\n",
            "          Conv2d-440           [-1, 7392, 4, 4]      54,641,664\n",
            "     BatchNorm2d-441           [-1, 7392, 4, 4]          14,784\n",
            "            ReLU-442           [-1, 7392, 4, 4]               0\n",
            "ResBottleneckBlock-443           [-1, 7392, 4, 4]               0\n",
            "AdaptiveAvgPool2d-444           [-1, 7392, 1, 1]               0\n",
            "          Linear-445                  [-1, 964]       7,126,852\n",
            "================================================================\n",
            "Total params: 644,546,746\n",
            "Trainable params: 7,126,852\n",
            "Non-trainable params: 637,419,894\n",
            "----------------------------------------------------------------\n",
            "Input size (MB): 0.13\n",
            "Forward/backward pass size (MB): 469.35\n",
            "Params size (MB): 2458.75\n",
            "Estimated Total Size (MB): 2928.23\n",
            "----------------------------------------------------------------\n"
          ]
        }
      ]
    },
    {
      "cell_type": "markdown",
      "source": [
        "| Modelo | Optimizador | Learning Rate | Params | Epoch | Acc Train | Acc Val | Acc Test |\n",
        "| -----  | ----- | ---- | ---- | ---- | ---- | ---- | ---- |\n",
        "| RegNet | SGD | 1e-3 | momentum=0.9 | 10 | 0.885 | 0.169 | 0.168 |\n",
        "| RegNet | SGD | 1e-2 | momentum=0.9 | 8 | 0.993 | 0.210 | 0.212 |\n",
        "| RegNet | SGD | 1e-1 | momentum=0.9 | 10 | 0.995 | 0.157 | 0.156 |\n",
        "| RegNet | Adam | 3e-3 | | 3 | 0.888 | 0.140 | 0.131 |\n"
      ],
      "metadata": {
        "id": "Nbo_mn5k41PK"
      }
    },
    {
      "cell_type": "code",
      "source": [
        "# Para guardar los valores que queremos visualizar\n",
        "ovrl_history = {\n",
        "    'epochs': [],\n",
        "    'train': {'loss': [], 'acc': []},\n",
        "    'val': {'loss': [], 'acc': []},\n",
        "    'test': {'loss': [], 'acc': []},\n",
        "}\n",
        "\n",
        "n_epochs = 10\n",
        "\n",
        "for epoch in range(n_epochs):\n",
        "    losses = []\n",
        "    cum_loss = 0.0\n",
        "    cum_acc = 0.0\n",
        "    with tqdm(train_loader, unit='batch', position=0, leave=True) as tepoch:\n",
        "      tepoch.set_description(f\"Epoch {epoch}/{n_epochs}\")\n",
        "      for batch, (data, targets) in enumerate(tepoch, start=1):\n",
        "        optimizer.zero_grad()\n",
        "        data = data.to(device)\n",
        "        targets = targets.to(device)\n",
        "\n",
        "        preds = model(data)\n",
        "        loss = criterion(preds, targets)\n",
        "\n",
        "        loss.backward()\n",
        "        optimizer.step()\n",
        "\n",
        "        _, preds = torch.max(preds, dim=1)\n",
        "        cum_acc += torch.sum(preds == targets)\n",
        "\n",
        "        # Cifras de desempeño\n",
        "        cum_loss += loss.item()\n",
        "        curr_loss = cum_loss / batch\n",
        "        curr_acc = cum_acc / (batch * batch_size)\n",
        "        tepoch.set_postfix(Loss=curr_loss, Acc=curr_acc.item())\n",
        "        losses.append(loss.item())\n",
        "\n",
        "        torch.cuda.empty_cache()\n",
        "\n",
        "    epoch_loss = float(cum_loss / batch)\n",
        "    epoch_acc = float(cum_acc / (batch * batch_size))\n",
        "\n",
        "    # Guardamos la epoca\n",
        "    ovrl_history['epochs'].append(epoch)\n",
        "\n",
        "    # Guardamos el loss y accuracy para la epoca\n",
        "    ovrl_history['train']['loss'].append(epoch_loss)\n",
        "    ovrl_history['train']['acc'].append(epoch_acc)\n",
        "\n",
        "    # Guardamos el loss y accuracy en el set de validacion\n",
        "    val_acc = test_model(model, val_loader)\n",
        "    ovrl_history['val']['loss'].append(epoch_loss)\n",
        "    ovrl_history['val']['acc'].append(float(val_acc))\n",
        "    print(f'Validation Accuracy: {val_acc}')\n",
        "\n",
        "    # Guardamos el loss y accuracy en el set de testing\n",
        "    test_acc = test_model(model, test_loader)\n",
        "    ovrl_history['test']['acc'].append(float(test_acc))\n",
        "    print(f'Testing Accuracy: {test_acc}')\n",
        "\n",
        "    # Guardamos el progreso actual en caso de que se corte la sesión.\n",
        "    # Debe existir el directorio\n",
        "    # Se guarda cada una de las epocas distintas para despues graficarla\n",
        "    torch.save(model, model_path + '_' + str(epoch).zfill(3) + f'_{learning_rate}_{opti}' + '.pt')\n",
        "\n",
        "    print(f'Epoch {epoch + 1} finished\\n')"
      ],
      "metadata": {
        "colab": {
          "base_uri": "https://localhost:8080/",
          "height": 1000
        },
        "id": "9GsSVKv5KDQi",
        "outputId": "0452319f-757f-4ce3-fd48-bda69a7393e7"
      },
      "execution_count": null,
      "outputs": [
        {
          "output_type": "stream",
          "name": "stderr",
          "text": [
            "Epoch 0/20: 100%|██████████| 211/211 [04:50<00:00,  1.38s/batch, Acc=0.0502, Loss=6.23]\n"
          ]
        },
        {
          "output_type": "stream",
          "name": "stdout",
          "text": [
            "Validation Accuracy: 0.11747925728559494\n",
            "Testing Accuracy: 0.1270746886730194\n",
            "Epoch 1 finished\n",
            "\n"
          ]
        },
        {
          "output_type": "stream",
          "name": "stderr",
          "text": [
            "Epoch 1/20: 100%|██████████| 211/211 [04:57<00:00,  1.41s/batch, Acc=0.437, Loss=3.42]\n"
          ]
        },
        {
          "output_type": "stream",
          "name": "stdout",
          "text": [
            "Validation Accuracy: 0.1667531281709671\n",
            "Testing Accuracy: 0.1685684770345688\n",
            "Epoch 2 finished\n",
            "\n"
          ]
        },
        {
          "output_type": "stream",
          "name": "stderr",
          "text": [
            "Epoch 2/20: 100%|██████████| 211/211 [04:56<00:00,  1.41s/batch, Acc=0.88, Loss=1.44]\n"
          ]
        },
        {
          "output_type": "stream",
          "name": "stdout",
          "text": [
            "Validation Accuracy: 0.19087137281894684\n",
            "Testing Accuracy: 0.192427396774292\n",
            "Epoch 3 finished\n",
            "\n"
          ]
        },
        {
          "output_type": "stream",
          "name": "stderr",
          "text": [
            "Epoch 3/20: 100%|██████████| 211/211 [04:57<00:00,  1.41s/batch, Acc=0.97, Loss=0.811]\n"
          ]
        },
        {
          "output_type": "stream",
          "name": "stdout",
          "text": [
            "Validation Accuracy: 0.20072615146636963\n",
            "Testing Accuracy: 0.20591287314891815\n",
            "Epoch 4 finished\n",
            "\n"
          ]
        },
        {
          "output_type": "stream",
          "name": "stderr",
          "text": [
            "Epoch 4/20: 100%|██████████| 211/211 [04:57<00:00,  1.41s/batch, Acc=0.988, Loss=0.501]\n"
          ]
        },
        {
          "output_type": "stream",
          "name": "stdout",
          "text": [
            "Validation Accuracy: 0.1994294673204422\n",
            "Testing Accuracy: 0.2033195197582245\n",
            "Epoch 5 finished\n",
            "\n"
          ]
        },
        {
          "output_type": "stream",
          "name": "stderr",
          "text": [
            "Epoch 5/20: 100%|██████████| 211/211 [04:57<00:00,  1.41s/batch, Acc=0.989, Loss=0.388]\n"
          ]
        },
        {
          "output_type": "stream",
          "name": "stdout",
          "text": [
            "Validation Accuracy: 0.20565353333950043\n",
            "Testing Accuracy: 0.21161827445030212\n",
            "Epoch 6 finished\n",
            "\n"
          ]
        },
        {
          "output_type": "stream",
          "name": "stderr",
          "text": [
            "Epoch 6/20: 100%|██████████| 211/211 [04:57<00:00,  1.41s/batch, Acc=0.992, Loss=0.284]\n"
          ]
        },
        {
          "output_type": "stream",
          "name": "stdout",
          "text": [
            "Validation Accuracy: 0.21109959483146667\n",
            "Testing Accuracy: 0.21058093011379242\n",
            "Epoch 7 finished\n",
            "\n"
          ]
        },
        {
          "output_type": "stream",
          "name": "stderr",
          "text": [
            "Epoch 7/20: 100%|██████████| 211/211 [04:57<00:00,  1.41s/batch, Acc=0.993, Loss=0.224]\n"
          ]
        },
        {
          "output_type": "stream",
          "name": "stdout",
          "text": [
            "Validation Accuracy: 0.21006225049495697\n",
            "Testing Accuracy: 0.21161827445030212\n",
            "Epoch 8 finished\n",
            "\n"
          ]
        },
        {
          "output_type": "stream",
          "name": "stderr",
          "text": [
            "Epoch 8/20: 100%|██████████| 211/211 [04:57<00:00,  1.41s/batch, Acc=0.993, Loss=0.208]\n"
          ]
        },
        {
          "output_type": "stream",
          "name": "stdout",
          "text": [
            "Validation Accuracy: 0.21213693916797638\n",
            "Testing Accuracy: 0.2064315527677536\n",
            "Epoch 9 finished\n",
            "\n"
          ]
        },
        {
          "output_type": "stream",
          "name": "stderr",
          "text": [
            "Epoch 9/20: 100%|██████████| 211/211 [04:57<00:00,  1.41s/batch, Acc=0.993, Loss=0.191]\n"
          ]
        },
        {
          "output_type": "stream",
          "name": "stdout",
          "text": [
            "Validation Accuracy: 0.21395228803157806\n",
            "Testing Accuracy: 0.20228217542171478\n",
            "Epoch 10 finished\n",
            "\n"
          ]
        },
        {
          "output_type": "stream",
          "name": "stderr",
          "text": [
            "Epoch 10/20: 100%|██████████| 211/211 [04:56<00:00,  1.41s/batch, Acc=0.993, Loss=0.163]\n"
          ]
        },
        {
          "output_type": "stream",
          "name": "stdout",
          "text": [
            "Validation Accuracy: 0.2152489721775055\n",
            "Testing Accuracy: 0.208506241440773\n",
            "Epoch 11 finished\n",
            "\n"
          ]
        },
        {
          "output_type": "stream",
          "name": "stderr",
          "text": [
            "Epoch 11/20: 100%|██████████| 211/211 [04:57<00:00,  1.41s/batch, Acc=0.994, Loss=0.14]\n"
          ]
        },
        {
          "output_type": "stream",
          "name": "stdout",
          "text": [
            "Validation Accuracy: 0.2103215903043747\n",
            "Testing Accuracy: 0.2053942084312439\n",
            "Epoch 12 finished\n",
            "\n"
          ]
        },
        {
          "output_type": "stream",
          "name": "stderr",
          "text": [
            "Epoch 12/20: 100%|██████████| 211/211 [04:57<00:00,  1.41s/batch, Acc=0.996, Loss=0.119]\n"
          ]
        },
        {
          "output_type": "stream",
          "name": "stdout",
          "text": [
            "Validation Accuracy: 0.21161827445030212\n",
            "Testing Accuracy: 0.2074688971042633\n",
            "Epoch 13 finished\n",
            "\n"
          ]
        },
        {
          "output_type": "stream",
          "name": "stderr",
          "text": [
            "Epoch 13/20: 100%|██████████| 211/211 [04:56<00:00,  1.41s/batch, Acc=0.996, Loss=0.117]\n"
          ]
        },
        {
          "output_type": "stream",
          "name": "stdout",
          "text": [
            "Validation Accuracy: 0.21109959483146667\n",
            "Testing Accuracy: 0.20798756182193756\n",
            "Epoch 14 finished\n",
            "\n"
          ]
        },
        {
          "output_type": "stream",
          "name": "stderr",
          "text": [
            "Epoch 14/20: 100%|██████████| 211/211 [04:57<00:00,  1.41s/batch, Acc=0.996, Loss=0.0982]\n"
          ]
        },
        {
          "output_type": "stream",
          "name": "stdout",
          "text": [
            "Validation Accuracy: 0.209284245967865\n",
            "Testing Accuracy: 0.21006225049495697\n",
            "Epoch 15 finished\n",
            "\n"
          ]
        },
        {
          "output_type": "stream",
          "name": "stderr",
          "text": [
            "Epoch 15/20: 100%|██████████| 211/211 [04:57<00:00,  1.41s/batch, Acc=0.995, Loss=0.11]\n"
          ]
        },
        {
          "output_type": "stream",
          "name": "stdout",
          "text": [
            "Validation Accuracy: 0.2064315527677536\n",
            "Testing Accuracy: 0.2064315527677536\n",
            "Epoch 16 finished\n",
            "\n"
          ]
        },
        {
          "output_type": "stream",
          "name": "stderr",
          "text": [
            "Epoch 16/20: 100%|██████████| 211/211 [04:57<00:00,  1.41s/batch, Acc=0.996, Loss=0.0972]\n"
          ]
        },
        {
          "output_type": "stream",
          "name": "stdout",
          "text": [
            "Validation Accuracy: 0.20902490615844727\n",
            "Testing Accuracy: 0.20695021748542786\n",
            "Epoch 17 finished\n",
            "\n"
          ]
        },
        {
          "output_type": "stream",
          "name": "stderr",
          "text": [
            "Epoch 17/20:  61%|██████    | 128/211 [03:01<01:57,  1.42s/batch, Acc=0.997, Loss=0.0943]\n"
          ]
        },
        {
          "output_type": "error",
          "ename": "KeyboardInterrupt",
          "evalue": "ignored",
          "traceback": [
            "\u001b[0;31m---------------------------------------------------------------------------\u001b[0m",
            "\u001b[0;31mKeyboardInterrupt\u001b[0m                         Traceback (most recent call last)",
            "\u001b[0;32m<ipython-input-34-7dccc2d1c0b8>\u001b[0m in \u001b[0;36m<cell line: 11>\u001b[0;34m()\u001b[0m\n\u001b[1;32m     30\u001b[0m \u001b[0;34m\u001b[0m\u001b[0m\n\u001b[1;32m     31\u001b[0m         \u001b[0;31m# Cifras de desempeño\u001b[0m\u001b[0;34m\u001b[0m\u001b[0;34m\u001b[0m\u001b[0m\n\u001b[0;32m---> 32\u001b[0;31m         \u001b[0mcum_loss\u001b[0m \u001b[0;34m+=\u001b[0m \u001b[0mloss\u001b[0m\u001b[0;34m.\u001b[0m\u001b[0mitem\u001b[0m\u001b[0;34m(\u001b[0m\u001b[0;34m)\u001b[0m\u001b[0;34m\u001b[0m\u001b[0;34m\u001b[0m\u001b[0m\n\u001b[0m\u001b[1;32m     33\u001b[0m         \u001b[0mcurr_loss\u001b[0m \u001b[0;34m=\u001b[0m \u001b[0mcum_loss\u001b[0m \u001b[0;34m/\u001b[0m \u001b[0mbatch\u001b[0m\u001b[0;34m\u001b[0m\u001b[0;34m\u001b[0m\u001b[0m\n\u001b[1;32m     34\u001b[0m         \u001b[0mcurr_acc\u001b[0m \u001b[0;34m=\u001b[0m \u001b[0mcum_acc\u001b[0m \u001b[0;34m/\u001b[0m \u001b[0;34m(\u001b[0m\u001b[0mbatch\u001b[0m \u001b[0;34m*\u001b[0m \u001b[0mbatch_size\u001b[0m\u001b[0;34m)\u001b[0m\u001b[0;34m\u001b[0m\u001b[0;34m\u001b[0m\u001b[0m\n",
            "\u001b[0;31mKeyboardInterrupt\u001b[0m: "
          ]
        }
      ]
    },
    {
      "cell_type": "code",
      "source": [],
      "metadata": {
        "id": "ClrqahM1w-nj"
      },
      "execution_count": null,
      "outputs": []
    }
  ]
}
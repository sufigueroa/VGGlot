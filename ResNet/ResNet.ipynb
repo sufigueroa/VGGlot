{
  "nbformat": 4,
  "nbformat_minor": 0,
  "metadata": {
    "colab": {
      "provenance": [],
      "machine_shape": "hm",
      "gpuType": "T4"
    },
    "kernelspec": {
      "name": "python3",
      "display_name": "Python 3"
    },
    "language_info": {
      "name": "python"
    },
    "accelerator": "GPU"
  },
  "cells": [
    {
      "cell_type": "markdown",
      "source": [
        "## Librerías"
      ],
      "metadata": {
        "id": "nJRpJLm-6OxT"
      }
    },
    {
      "cell_type": "code",
      "execution_count": null,
      "metadata": {
        "id": "j6RaYAlH49o7"
      },
      "outputs": [],
      "source": [
        "import os\n",
        "import shutil\n",
        "import subprocess\n",
        "import numpy as np\n",
        "import pandas as pd\n",
        "import scipy.io\n",
        "import random\n",
        "import pickle\n",
        "from PIL import Image\n",
        "from copy import copy, deepcopy\n",
        "from IPython.display import display\n",
        "\n",
        "import matplotlib.pyplot as plt\n",
        "\n",
        "from os import listdir\n",
        "from os.path import join\n",
        "from tqdm.notebook import tqdm\n",
        "from tqdm import tqdm\n",
        "\n",
        "import torch\n",
        "import torch.nn as nn\n",
        "import torch.optim as optim\n",
        "from torch.utils.data import random_split\n",
        "\n",
        "import torchvision.models as models\n",
        "import torchvision.transforms as transforms\n",
        "\n",
        "from torchsummary import summary\n",
        "from torch.utils.data import DataLoader\n",
        "from torchvision.datasets import ImageFolder\n",
        "from torchvision.transforms import Compose, ToTensor, Normalize, Resize\n",
        "from torchvision.models import mobilenet_v3_small, MobileNet_V3_Small_Weights, ResNet50_Weights"
      ]
    },
    {
      "cell_type": "code",
      "source": [
        "device = torch.device(\"cuda:0\") if torch.cuda.is_available() else torch.device(\"cpu\")\n",
        "print(\"Device:\", device)"
      ],
      "metadata": {
        "colab": {
          "base_uri": "https://localhost:8080/"
        },
        "id": "9jaUw4MU6Tnj",
        "outputId": "2b1d941c-fa62-4130-dcd3-36a7b8468f72"
      },
      "execution_count": null,
      "outputs": [
        {
          "output_type": "stream",
          "name": "stdout",
          "text": [
            "Device: cuda:0\n"
          ]
        }
      ]
    },
    {
      "cell_type": "markdown",
      "source": [
        "## Load Dataset"
      ],
      "metadata": {
        "id": "K5CiZOpD7Mhi"
      }
    },
    {
      "cell_type": "code",
      "source": [
        "repo_url = 'https://github.com/brendenlake/omniglot.git'\n",
        "subprocess.call(['git', 'clone', repo_url])"
      ],
      "metadata": {
        "colab": {
          "base_uri": "https://localhost:8080/"
        },
        "id": "vkLlB9uc673h",
        "outputId": "a1a59cc8-b085-4ae6-d51f-d95d6a8d20b0"
      },
      "execution_count": null,
      "outputs": [
        {
          "output_type": "execute_result",
          "data": {
            "text/plain": [
              "0"
            ]
          },
          "metadata": {},
          "execution_count": 3
        }
      ]
    },
    {
      "cell_type": "code",
      "source": [
        "!unzip -qq './omniglot/python/images_background.zip'\n",
        "!unzip -qq './omniglot/python/strokes_background.zip'"
      ],
      "metadata": {
        "id": "pWL6GcIE7Qpl"
      },
      "execution_count": null,
      "outputs": []
    },
    {
      "cell_type": "markdown",
      "source": [
        "## Orden de las imágenes"
      ],
      "metadata": {
        "id": "a_MT-bf69Bh9"
      }
    },
    {
      "cell_type": "markdown",
      "source": [
        "En la carpeta images_background, hay 30 alfabetos diferentes. Cada alfabeto contiene una cantidad variada de caracteres, entre 20-50 aprox. Cada uno de los caracteres cuenta es de la forma XXXX_YY.png, donde XXXX corresponde al identificador del caracter, el cual es único entre todos los caracteres de todos los alfabetos. YY corresponde al número de muestra de un caracter en específico, el cual va siempre desde 01 hasta 20 (20 muestras por caracter)."
      ],
      "metadata": {
        "id": "QxmwZVpv-VH_"
      }
    },
    {
      "cell_type": "markdown",
      "source": [
        "Ahora bien, el problema está en que los XXXX no vienen ordenados secuencialmente en cada uno de los alfabetos. Por lo tanto, para hacer el preprocesamiento, hará un diccionario que mapeará cada uno de los id a un valor ordenado, para que la posterior clasificación sea más rápida."
      ],
      "metadata": {
        "id": "PEwVNtlt_xs-"
      }
    },
    {
      "cell_type": "code",
      "source": [
        "img_dir = 'images_background'\n",
        "# stroke_dir = 'strokes_background'\n",
        "nreps = 20 # number of renditions for each character\n",
        "# nalpha = 5 # number of alphabets to show\n",
        "\n",
        "alphabet_names = sorted([a for a in os.listdir(img_dir) if a[0] != '.']) # get folder names\n",
        "length_alphabet_names = len(alphabet_names)\n",
        "character_lengths = [len(os.listdir(os.path.join(img_dir, alph_name))) for alph_name in alphabet_names]\n",
        "\n",
        "# alphabet_names = random.sample(alphabet_names,nalpha) # choose random alphabets\n",
        "# print(len(alphabet_names))\n",
        "\n",
        "N = sum([len(os.listdir(os.path.join(img_dir, alph_name, char)))\n",
        "            for alph_name in alphabet_names\n",
        "            for char in os.listdir(os.path.join(img_dir, alph_name))\n",
        "      ])\n",
        "\n",
        "\n",
        "y = np.zeros((N), 'int') # ground truth\n",
        "current_character_folder = 0 # carpeta de un caracter visitado\n",
        "\n",
        "df_alphabet_names = []\n",
        "df_character_names = []\n",
        "df_character_idx = []\n",
        "df_paths = []\n",
        "df_y = []\n",
        "\n",
        "for i in range(len(alphabet_names)):\n",
        "  alphabet_name = alphabet_names[i]\n",
        "  character_length = character_lengths[i]\n",
        "  character_folders = sorted(os.listdir(os.path.join(img_dir, alphabet_name)))\n",
        "\n",
        "  for j in range(character_length):\n",
        "    character_folder = character_folders[j]\n",
        "    characters = sorted(os.listdir(os.path.join(img_dir, alphabet_name, character_folder)))\n",
        "    # print(character_folder)\n",
        "\n",
        "    for k in range(nreps):\n",
        "      y[(current_character_folder * nreps) + k] = current_character_folder\n",
        "\n",
        "      # Se añade al Df\n",
        "      df_alphabet_names.extend([alphabet_name])\n",
        "      df_character_names.extend([character_folder])\n",
        "      df_character_idx.extend([k])\n",
        "      df_paths.extend([os.path.join(img_dir, alphabet_name, character_folder, characters[k])])\n",
        "      df_y.extend([current_character_folder])\n",
        "\n",
        "    current_character_folder += 1\n",
        "\n",
        "\n",
        "df = pd.DataFrame({\n",
        "    'Alphabet': df_alphabet_names,\n",
        "    'Character': df_character_names,\n",
        "    'Sample': df_character_idx,\n",
        "    'Path': df_paths,\n",
        "    'y': df_y\n",
        "})"
      ],
      "metadata": {
        "id": "F5WwCV9K7T2U"
      },
      "execution_count": null,
      "outputs": []
    },
    {
      "cell_type": "markdown",
      "source": [
        "Al observar las muestras que tenemos, se obtiene lo siguiente"
      ],
      "metadata": {
        "id": "FkpwjLruG6Kb"
      }
    },
    {
      "cell_type": "code",
      "source": [
        "df"
      ],
      "metadata": {
        "colab": {
          "base_uri": "https://localhost:8080/",
          "height": 423
        },
        "id": "3nE6_A7cGxpJ",
        "outputId": "e5c10167-623a-47b6-c3d6-01d36a20123c"
      },
      "execution_count": null,
      "outputs": [
        {
          "output_type": "execute_result",
          "data": {
            "text/plain": [
              "                   Alphabet    Character  Sample  \\\n",
              "0      Alphabet_of_the_Magi  character01       0   \n",
              "1      Alphabet_of_the_Magi  character01       1   \n",
              "2      Alphabet_of_the_Magi  character01       2   \n",
              "3      Alphabet_of_the_Magi  character01       3   \n",
              "4      Alphabet_of_the_Magi  character01       4   \n",
              "...                     ...          ...     ...   \n",
              "19275              Tifinagh  character55      15   \n",
              "19276              Tifinagh  character55      16   \n",
              "19277              Tifinagh  character55      17   \n",
              "19278              Tifinagh  character55      18   \n",
              "19279              Tifinagh  character55      19   \n",
              "\n",
              "                                                    Path    y  \n",
              "0      images_background/Alphabet_of_the_Magi/charact...    0  \n",
              "1      images_background/Alphabet_of_the_Magi/charact...    0  \n",
              "2      images_background/Alphabet_of_the_Magi/charact...    0  \n",
              "3      images_background/Alphabet_of_the_Magi/charact...    0  \n",
              "4      images_background/Alphabet_of_the_Magi/charact...    0  \n",
              "...                                                  ...  ...  \n",
              "19275  images_background/Tifinagh/character55/0964_16...  963  \n",
              "19276  images_background/Tifinagh/character55/0964_17...  963  \n",
              "19277  images_background/Tifinagh/character55/0964_18...  963  \n",
              "19278  images_background/Tifinagh/character55/0964_19...  963  \n",
              "19279  images_background/Tifinagh/character55/0964_20...  963  \n",
              "\n",
              "[19280 rows x 5 columns]"
            ],
            "text/html": [
              "\n",
              "\n",
              "  <div id=\"df-d7fa3a4b-9ebb-4fa5-8903-f10afda448ec\">\n",
              "    <div class=\"colab-df-container\">\n",
              "      <div>\n",
              "<style scoped>\n",
              "    .dataframe tbody tr th:only-of-type {\n",
              "        vertical-align: middle;\n",
              "    }\n",
              "\n",
              "    .dataframe tbody tr th {\n",
              "        vertical-align: top;\n",
              "    }\n",
              "\n",
              "    .dataframe thead th {\n",
              "        text-align: right;\n",
              "    }\n",
              "</style>\n",
              "<table border=\"1\" class=\"dataframe\">\n",
              "  <thead>\n",
              "    <tr style=\"text-align: right;\">\n",
              "      <th></th>\n",
              "      <th>Alphabet</th>\n",
              "      <th>Character</th>\n",
              "      <th>Sample</th>\n",
              "      <th>Path</th>\n",
              "      <th>y</th>\n",
              "    </tr>\n",
              "  </thead>\n",
              "  <tbody>\n",
              "    <tr>\n",
              "      <th>0</th>\n",
              "      <td>Alphabet_of_the_Magi</td>\n",
              "      <td>character01</td>\n",
              "      <td>0</td>\n",
              "      <td>images_background/Alphabet_of_the_Magi/charact...</td>\n",
              "      <td>0</td>\n",
              "    </tr>\n",
              "    <tr>\n",
              "      <th>1</th>\n",
              "      <td>Alphabet_of_the_Magi</td>\n",
              "      <td>character01</td>\n",
              "      <td>1</td>\n",
              "      <td>images_background/Alphabet_of_the_Magi/charact...</td>\n",
              "      <td>0</td>\n",
              "    </tr>\n",
              "    <tr>\n",
              "      <th>2</th>\n",
              "      <td>Alphabet_of_the_Magi</td>\n",
              "      <td>character01</td>\n",
              "      <td>2</td>\n",
              "      <td>images_background/Alphabet_of_the_Magi/charact...</td>\n",
              "      <td>0</td>\n",
              "    </tr>\n",
              "    <tr>\n",
              "      <th>3</th>\n",
              "      <td>Alphabet_of_the_Magi</td>\n",
              "      <td>character01</td>\n",
              "      <td>3</td>\n",
              "      <td>images_background/Alphabet_of_the_Magi/charact...</td>\n",
              "      <td>0</td>\n",
              "    </tr>\n",
              "    <tr>\n",
              "      <th>4</th>\n",
              "      <td>Alphabet_of_the_Magi</td>\n",
              "      <td>character01</td>\n",
              "      <td>4</td>\n",
              "      <td>images_background/Alphabet_of_the_Magi/charact...</td>\n",
              "      <td>0</td>\n",
              "    </tr>\n",
              "    <tr>\n",
              "      <th>...</th>\n",
              "      <td>...</td>\n",
              "      <td>...</td>\n",
              "      <td>...</td>\n",
              "      <td>...</td>\n",
              "      <td>...</td>\n",
              "    </tr>\n",
              "    <tr>\n",
              "      <th>19275</th>\n",
              "      <td>Tifinagh</td>\n",
              "      <td>character55</td>\n",
              "      <td>15</td>\n",
              "      <td>images_background/Tifinagh/character55/0964_16...</td>\n",
              "      <td>963</td>\n",
              "    </tr>\n",
              "    <tr>\n",
              "      <th>19276</th>\n",
              "      <td>Tifinagh</td>\n",
              "      <td>character55</td>\n",
              "      <td>16</td>\n",
              "      <td>images_background/Tifinagh/character55/0964_17...</td>\n",
              "      <td>963</td>\n",
              "    </tr>\n",
              "    <tr>\n",
              "      <th>19277</th>\n",
              "      <td>Tifinagh</td>\n",
              "      <td>character55</td>\n",
              "      <td>17</td>\n",
              "      <td>images_background/Tifinagh/character55/0964_18...</td>\n",
              "      <td>963</td>\n",
              "    </tr>\n",
              "    <tr>\n",
              "      <th>19278</th>\n",
              "      <td>Tifinagh</td>\n",
              "      <td>character55</td>\n",
              "      <td>18</td>\n",
              "      <td>images_background/Tifinagh/character55/0964_19...</td>\n",
              "      <td>963</td>\n",
              "    </tr>\n",
              "    <tr>\n",
              "      <th>19279</th>\n",
              "      <td>Tifinagh</td>\n",
              "      <td>character55</td>\n",
              "      <td>19</td>\n",
              "      <td>images_background/Tifinagh/character55/0964_20...</td>\n",
              "      <td>963</td>\n",
              "    </tr>\n",
              "  </tbody>\n",
              "</table>\n",
              "<p>19280 rows × 5 columns</p>\n",
              "</div>\n",
              "      <button class=\"colab-df-convert\" onclick=\"convertToInteractive('df-d7fa3a4b-9ebb-4fa5-8903-f10afda448ec')\"\n",
              "              title=\"Convert this dataframe to an interactive table.\"\n",
              "              style=\"display:none;\">\n",
              "\n",
              "  <svg xmlns=\"http://www.w3.org/2000/svg\" height=\"24px\"viewBox=\"0 0 24 24\"\n",
              "       width=\"24px\">\n",
              "    <path d=\"M0 0h24v24H0V0z\" fill=\"none\"/>\n",
              "    <path d=\"M18.56 5.44l.94 2.06.94-2.06 2.06-.94-2.06-.94-.94-2.06-.94 2.06-2.06.94zm-11 1L8.5 8.5l.94-2.06 2.06-.94-2.06-.94L8.5 2.5l-.94 2.06-2.06.94zm10 10l.94 2.06.94-2.06 2.06-.94-2.06-.94-.94-2.06-.94 2.06-2.06.94z\"/><path d=\"M17.41 7.96l-1.37-1.37c-.4-.4-.92-.59-1.43-.59-.52 0-1.04.2-1.43.59L10.3 9.45l-7.72 7.72c-.78.78-.78 2.05 0 2.83L4 21.41c.39.39.9.59 1.41.59.51 0 1.02-.2 1.41-.59l7.78-7.78 2.81-2.81c.8-.78.8-2.07 0-2.86zM5.41 20L4 18.59l7.72-7.72 1.47 1.35L5.41 20z\"/>\n",
              "  </svg>\n",
              "      </button>\n",
              "\n",
              "\n",
              "\n",
              "    <div id=\"df-0fbf7ce8-ebef-4ca3-9930-90bfc7c36374\">\n",
              "      <button class=\"colab-df-quickchart\" onclick=\"quickchart('df-0fbf7ce8-ebef-4ca3-9930-90bfc7c36374')\"\n",
              "              title=\"Suggest charts.\"\n",
              "              style=\"display:none;\">\n",
              "\n",
              "<svg xmlns=\"http://www.w3.org/2000/svg\" height=\"24px\"viewBox=\"0 0 24 24\"\n",
              "     width=\"24px\">\n",
              "    <g>\n",
              "        <path d=\"M19 3H5c-1.1 0-2 .9-2 2v14c0 1.1.9 2 2 2h14c1.1 0 2-.9 2-2V5c0-1.1-.9-2-2-2zM9 17H7v-7h2v7zm4 0h-2V7h2v10zm4 0h-2v-4h2v4z\"/>\n",
              "    </g>\n",
              "</svg>\n",
              "      </button>\n",
              "    </div>\n",
              "\n",
              "<style>\n",
              "  .colab-df-quickchart {\n",
              "    background-color: #E8F0FE;\n",
              "    border: none;\n",
              "    border-radius: 50%;\n",
              "    cursor: pointer;\n",
              "    display: none;\n",
              "    fill: #1967D2;\n",
              "    height: 32px;\n",
              "    padding: 0 0 0 0;\n",
              "    width: 32px;\n",
              "  }\n",
              "\n",
              "  .colab-df-quickchart:hover {\n",
              "    background-color: #E2EBFA;\n",
              "    box-shadow: 0px 1px 2px rgba(60, 64, 67, 0.3), 0px 1px 3px 1px rgba(60, 64, 67, 0.15);\n",
              "    fill: #174EA6;\n",
              "  }\n",
              "\n",
              "  [theme=dark] .colab-df-quickchart {\n",
              "    background-color: #3B4455;\n",
              "    fill: #D2E3FC;\n",
              "  }\n",
              "\n",
              "  [theme=dark] .colab-df-quickchart:hover {\n",
              "    background-color: #434B5C;\n",
              "    box-shadow: 0px 1px 3px 1px rgba(0, 0, 0, 0.15);\n",
              "    filter: drop-shadow(0px 1px 2px rgba(0, 0, 0, 0.3));\n",
              "    fill: #FFFFFF;\n",
              "  }\n",
              "</style>\n",
              "\n",
              "    <script>\n",
              "      async function quickchart(key) {\n",
              "        const containerElement = document.querySelector('#' + key);\n",
              "        const charts = await google.colab.kernel.invokeFunction(\n",
              "            'suggestCharts', [key], {});\n",
              "      }\n",
              "    </script>\n",
              "\n",
              "      <script>\n",
              "\n",
              "function displayQuickchartButton(domScope) {\n",
              "  let quickchartButtonEl =\n",
              "    domScope.querySelector('#df-0fbf7ce8-ebef-4ca3-9930-90bfc7c36374 button.colab-df-quickchart');\n",
              "  quickchartButtonEl.style.display =\n",
              "    google.colab.kernel.accessAllowed ? 'block' : 'none';\n",
              "}\n",
              "\n",
              "        displayQuickchartButton(document);\n",
              "      </script>\n",
              "      <style>\n",
              "    .colab-df-container {\n",
              "      display:flex;\n",
              "      flex-wrap:wrap;\n",
              "      gap: 12px;\n",
              "    }\n",
              "\n",
              "    .colab-df-convert {\n",
              "      background-color: #E8F0FE;\n",
              "      border: none;\n",
              "      border-radius: 50%;\n",
              "      cursor: pointer;\n",
              "      display: none;\n",
              "      fill: #1967D2;\n",
              "      height: 32px;\n",
              "      padding: 0 0 0 0;\n",
              "      width: 32px;\n",
              "    }\n",
              "\n",
              "    .colab-df-convert:hover {\n",
              "      background-color: #E2EBFA;\n",
              "      box-shadow: 0px 1px 2px rgba(60, 64, 67, 0.3), 0px 1px 3px 1px rgba(60, 64, 67, 0.15);\n",
              "      fill: #174EA6;\n",
              "    }\n",
              "\n",
              "    [theme=dark] .colab-df-convert {\n",
              "      background-color: #3B4455;\n",
              "      fill: #D2E3FC;\n",
              "    }\n",
              "\n",
              "    [theme=dark] .colab-df-convert:hover {\n",
              "      background-color: #434B5C;\n",
              "      box-shadow: 0px 1px 3px 1px rgba(0, 0, 0, 0.15);\n",
              "      filter: drop-shadow(0px 1px 2px rgba(0, 0, 0, 0.3));\n",
              "      fill: #FFFFFF;\n",
              "    }\n",
              "  </style>\n",
              "\n",
              "      <script>\n",
              "        const buttonEl =\n",
              "          document.querySelector('#df-d7fa3a4b-9ebb-4fa5-8903-f10afda448ec button.colab-df-convert');\n",
              "        buttonEl.style.display =\n",
              "          google.colab.kernel.accessAllowed ? 'block' : 'none';\n",
              "\n",
              "        async function convertToInteractive(key) {\n",
              "          const element = document.querySelector('#df-d7fa3a4b-9ebb-4fa5-8903-f10afda448ec');\n",
              "          const dataTable =\n",
              "            await google.colab.kernel.invokeFunction('convertToInteractive',\n",
              "                                                     [key], {});\n",
              "          if (!dataTable) return;\n",
              "\n",
              "          const docLinkHtml = 'Like what you see? Visit the ' +\n",
              "            '<a target=\"_blank\" href=https://colab.research.google.com/notebooks/data_table.ipynb>data table notebook</a>'\n",
              "            + ' to learn more about interactive tables.';\n",
              "          element.innerHTML = '';\n",
              "          dataTable['output_type'] = 'display_data';\n",
              "          await google.colab.output.renderOutput(dataTable, element);\n",
              "          const docLink = document.createElement('div');\n",
              "          docLink.innerHTML = docLinkHtml;\n",
              "          element.appendChild(docLink);\n",
              "        }\n",
              "      </script>\n",
              "    </div>\n",
              "  </div>\n"
            ]
          },
          "metadata": {},
          "execution_count": 6
        }
      ]
    },
    {
      "cell_type": "markdown",
      "source": [
        "## Ejemplo de una imagen"
      ],
      "metadata": {
        "id": "5EVtbenEOMcj"
      }
    },
    {
      "cell_type": "code",
      "source": [
        "path = df.iloc[0]['Path']\n",
        "img = Image.open(path)\n",
        "# print('Shape:', img.shape)\n",
        "plt.imshow(img, cmap='gray')\n",
        "plt.show()"
      ],
      "metadata": {
        "colab": {
          "base_uri": "https://localhost:8080/",
          "height": 434
        },
        "id": "EHSDlVH9OOBw",
        "outputId": "138f0f26-febb-4f33-feaa-56d75a4f8acd"
      },
      "execution_count": null,
      "outputs": [
        {
          "output_type": "display_data",
          "data": {
            "text/plain": [
              "<Figure size 640x480 with 1 Axes>"
            ],
            "image/png": "[encoded data removed]"
          },
          "metadata": {}
        }
      ]
    },
    {
      "cell_type": "code",
      "source": [
        "print(img)"
      ],
      "metadata": {
        "colab": {
          "base_uri": "https://localhost:8080/"
        },
        "id": "JyTyPtfIBV9J",
        "outputId": "0c0e7a8a-a970-442b-ea3e-cad63053b4dd"
      },
      "execution_count": null,
      "outputs": [
        {
          "output_type": "stream",
          "name": "stdout",
          "text": [
            "<PIL.PngImagePlugin.PngImageFile image mode=1 size=105x105 at 0x7FDF6A031A20>\n"
          ]
        }
      ]
    },
    {
      "cell_type": "markdown",
      "source": [
        "## Separación Train - Val - Test:\n",
        "\n",
        "El objetivo de la ResNet es justamente clasificar cada uno de los caracteres. En total, tenemos 964 caracteres distintos (labels enumerados del 0 al 963), provenientes de 30 alfabetos, y cada caracter posee 20 muestras. Por ende, tenemos 19280 imagenes distintas.\n",
        "\n",
        "Dado que cada caracter posee 20 muestras, se utilizará una proporción 70% train, 20% validation y 10% test. Vale decir: 14 imágenes de train, 4 de validation, y 2 de test por cada caracter.\n",
        "\n",
        "En total debería dar:\n",
        "* 13.496 imágenes de Train\n",
        "* 3.856 imágenes de Validation\n",
        "* 1.928 imágenes de Test"
      ],
      "metadata": {
        "id": "E-yYhKZmD9PF"
      }
    },
    {
      "cell_type": "code",
      "source": [
        "# Separacion de df basados en el numero de fila\n",
        "df_train = df.groupby('y').head(14)\n",
        "df_val = df.groupby('y').apply(lambda x: x.iloc[14:18])\n",
        "df_test = df.groupby('y').apply(lambda x: x.iloc[18:20])\n",
        "\n",
        "# Reseteamos los indices de los df\n",
        "df_train.reset_index(drop=True, inplace=True)\n",
        "df_val.reset_index(drop=True, inplace=True)\n",
        "df_test.reset_index(drop=True, inplace=True)\n"
      ],
      "metadata": {
        "id": "HIL7mN16PIVb"
      },
      "execution_count": null,
      "outputs": []
    },
    {
      "cell_type": "code",
      "source": [
        "print('Length df_train:', len(df_train))\n",
        "print('Length df_val:', len(df_val))\n",
        "print('Length df_test:', len(df_test))"
      ],
      "metadata": {
        "colab": {
          "base_uri": "https://localhost:8080/"
        },
        "id": "scalaQkmQuY_",
        "outputId": "d7e27f4d-c9d3-4a29-99d5-49b2636682e8"
      },
      "execution_count": null,
      "outputs": [
        {
          "output_type": "stream",
          "name": "stdout",
          "text": [
            "Length df_train: 13496\n",
            "Length df_val: 3856\n",
            "Length df_test: 1928\n"
          ]
        }
      ]
    },
    {
      "cell_type": "markdown",
      "source": [
        "Por ejemplo, si vemos como quedó el df_train:"
      ],
      "metadata": {
        "id": "OCVt-njlQ23W"
      }
    },
    {
      "cell_type": "code",
      "source": [
        "df_train[0:20]"
      ],
      "metadata": {
        "colab": {
          "base_uri": "https://localhost:8080/",
          "height": 676
        },
        "id": "dwzHy4OLRCmM",
        "outputId": "379edf4e-d247-488c-ff19-5c1ae9559d22"
      },
      "execution_count": null,
      "outputs": [
        {
          "output_type": "execute_result",
          "data": {
            "text/plain": [
              "                Alphabet    Character  Sample  \\\n",
              "0   Alphabet_of_the_Magi  character01       0   \n",
              "1   Alphabet_of_the_Magi  character01       1   \n",
              "2   Alphabet_of_the_Magi  character01       2   \n",
              "3   Alphabet_of_the_Magi  character01       3   \n",
              "4   Alphabet_of_the_Magi  character01       4   \n",
              "5   Alphabet_of_the_Magi  character01       5   \n",
              "6   Alphabet_of_the_Magi  character01       6   \n",
              "7   Alphabet_of_the_Magi  character01       7   \n",
              "8   Alphabet_of_the_Magi  character01       8   \n",
              "9   Alphabet_of_the_Magi  character01       9   \n",
              "10  Alphabet_of_the_Magi  character01      10   \n",
              "11  Alphabet_of_the_Magi  character01      11   \n",
              "12  Alphabet_of_the_Magi  character01      12   \n",
              "13  Alphabet_of_the_Magi  character01      13   \n",
              "14  Alphabet_of_the_Magi  character02       0   \n",
              "15  Alphabet_of_the_Magi  character02       1   \n",
              "16  Alphabet_of_the_Magi  character02       2   \n",
              "17  Alphabet_of_the_Magi  character02       3   \n",
              "18  Alphabet_of_the_Magi  character02       4   \n",
              "19  Alphabet_of_the_Magi  character02       5   \n",
              "\n",
              "                                                 Path  y  \n",
              "0   images_background/Alphabet_of_the_Magi/charact...  0  \n",
              "1   images_background/Alphabet_of_the_Magi/charact...  0  \n",
              "2   images_background/Alphabet_of_the_Magi/charact...  0  \n",
              "3   images_background/Alphabet_of_the_Magi/charact...  0  \n",
              "4   images_background/Alphabet_of_the_Magi/charact...  0  \n",
              "5   images_background/Alphabet_of_the_Magi/charact...  0  \n",
              "6   images_background/Alphabet_of_the_Magi/charact...  0  \n",
              "7   images_background/Alphabet_of_the_Magi/charact...  0  \n",
              "8   images_background/Alphabet_of_the_Magi/charact...  0  \n",
              "9   images_background/Alphabet_of_the_Magi/charact...  0  \n",
              "10  images_background/Alphabet_of_the_Magi/charact...  0  \n",
              "11  images_background/Alphabet_of_the_Magi/charact...  0  \n",
              "12  images_background/Alphabet_of_the_Magi/charact...  0  \n",
              "13  images_background/Alphabet_of_the_Magi/charact...  0  \n",
              "14  images_background/Alphabet_of_the_Magi/charact...  1  \n",
              "15  images_background/Alphabet_of_the_Magi/charact...  1  \n",
              "16  images_background/Alphabet_of_the_Magi/charact...  1  \n",
              "17  images_background/Alphabet_of_the_Magi/charact...  1  \n",
              "18  images_background/Alphabet_of_the_Magi/charact...  1  \n",
              "19  images_background/Alphabet_of_the_Magi/charact...  1  "
            ],
            "text/html": [
              "\n",
              "\n",
              "  <div id=\"df-1f8ee353-4a8f-4950-a400-115ade521fc1\">\n",
              "    <div class=\"colab-df-container\">\n",
              "      <div>\n",
              "<style scoped>\n",
              "    .dataframe tbody tr th:only-of-type {\n",
              "        vertical-align: middle;\n",
              "    }\n",
              "\n",
              "    .dataframe tbody tr th {\n",
              "        vertical-align: top;\n",
              "    }\n",
              "\n",
              "    .dataframe thead th {\n",
              "        text-align: right;\n",
              "    }\n",
              "</style>\n",
              "<table border=\"1\" class=\"dataframe\">\n",
              "  <thead>\n",
              "    <tr style=\"text-align: right;\">\n",
              "      <th></th>\n",
              "      <th>Alphabet</th>\n",
              "      <th>Character</th>\n",
              "      <th>Sample</th>\n",
              "      <th>Path</th>\n",
              "      <th>y</th>\n",
              "    </tr>\n",
              "  </thead>\n",
              "  <tbody>\n",
              "    <tr>\n",
              "      <th>0</th>\n",
              "      <td>Alphabet_of_the_Magi</td>\n",
              "      <td>character01</td>\n",
              "      <td>0</td>\n",
              "      <td>images_background/Alphabet_of_the_Magi/charact...</td>\n",
              "      <td>0</td>\n",
              "    </tr>\n",
              "    <tr>\n",
              "      <th>1</th>\n",
              "      <td>Alphabet_of_the_Magi</td>\n",
              "      <td>character01</td>\n",
              "      <td>1</td>\n",
              "      <td>images_background/Alphabet_of_the_Magi/charact...</td>\n",
              "      <td>0</td>\n",
              "    </tr>\n",
              "    <tr>\n",
              "      <th>2</th>\n",
              "      <td>Alphabet_of_the_Magi</td>\n",
              "      <td>character01</td>\n",
              "      <td>2</td>\n",
              "      <td>images_background/Alphabet_of_the_Magi/charact...</td>\n",
              "      <td>0</td>\n",
              "    </tr>\n",
              "    <tr>\n",
              "      <th>3</th>\n",
              "      <td>Alphabet_of_the_Magi</td>\n",
              "      <td>character01</td>\n",
              "      <td>3</td>\n",
              "      <td>images_background/Alphabet_of_the_Magi/charact...</td>\n",
              "      <td>0</td>\n",
              "    </tr>\n",
              "    <tr>\n",
              "      <th>4</th>\n",
              "      <td>Alphabet_of_the_Magi</td>\n",
              "      <td>character01</td>\n",
              "      <td>4</td>\n",
              "      <td>images_background/Alphabet_of_the_Magi/charact...</td>\n",
              "      <td>0</td>\n",
              "    </tr>\n",
              "    <tr>\n",
              "      <th>5</th>\n",
              "      <td>Alphabet_of_the_Magi</td>\n",
              "      <td>character01</td>\n",
              "      <td>5</td>\n",
              "      <td>images_background/Alphabet_of_the_Magi/charact...</td>\n",
              "      <td>0</td>\n",
              "    </tr>\n",
              "    <tr>\n",
              "      <th>6</th>\n",
              "      <td>Alphabet_of_the_Magi</td>\n",
              "      <td>character01</td>\n",
              "      <td>6</td>\n",
              "      <td>images_background/Alphabet_of_the_Magi/charact...</td>\n",
              "      <td>0</td>\n",
              "    </tr>\n",
              "    <tr>\n",
              "      <th>7</th>\n",
              "      <td>Alphabet_of_the_Magi</td>\n",
              "      <td>character01</td>\n",
              "      <td>7</td>\n",
              "      <td>images_background/Alphabet_of_the_Magi/charact...</td>\n",
              "      <td>0</td>\n",
              "    </tr>\n",
              "    <tr>\n",
              "      <th>8</th>\n",
              "      <td>Alphabet_of_the_Magi</td>\n",
              "      <td>character01</td>\n",
              "      <td>8</td>\n",
              "      <td>images_background/Alphabet_of_the_Magi/charact...</td>\n",
              "      <td>0</td>\n",
              "    </tr>\n",
              "    <tr>\n",
              "      <th>9</th>\n",
              "      <td>Alphabet_of_the_Magi</td>\n",
              "      <td>character01</td>\n",
              "      <td>9</td>\n",
              "      <td>images_background/Alphabet_of_the_Magi/charact...</td>\n",
              "      <td>0</td>\n",
              "    </tr>\n",
              "    <tr>\n",
              "      <th>10</th>\n",
              "      <td>Alphabet_of_the_Magi</td>\n",
              "      <td>character01</td>\n",
              "      <td>10</td>\n",
              "      <td>images_background/Alphabet_of_the_Magi/charact...</td>\n",
              "      <td>0</td>\n",
              "    </tr>\n",
              "    <tr>\n",
              "      <th>11</th>\n",
              "      <td>Alphabet_of_the_Magi</td>\n",
              "      <td>character01</td>\n",
              "      <td>11</td>\n",
              "      <td>images_background/Alphabet_of_the_Magi/charact...</td>\n",
              "      <td>0</td>\n",
              "    </tr>\n",
              "    <tr>\n",
              "      <th>12</th>\n",
              "      <td>Alphabet_of_the_Magi</td>\n",
              "      <td>character01</td>\n",
              "      <td>12</td>\n",
              "      <td>images_background/Alphabet_of_the_Magi/charact...</td>\n",
              "      <td>0</td>\n",
              "    </tr>\n",
              "    <tr>\n",
              "      <th>13</th>\n",
              "      <td>Alphabet_of_the_Magi</td>\n",
              "      <td>character01</td>\n",
              "      <td>13</td>\n",
              "      <td>images_background/Alphabet_of_the_Magi/charact...</td>\n",
              "      <td>0</td>\n",
              "    </tr>\n",
              "    <tr>\n",
              "      <th>14</th>\n",
              "      <td>Alphabet_of_the_Magi</td>\n",
              "      <td>character02</td>\n",
              "      <td>0</td>\n",
              "      <td>images_background/Alphabet_of_the_Magi/charact...</td>\n",
              "      <td>1</td>\n",
              "    </tr>\n",
              "    <tr>\n",
              "      <th>15</th>\n",
              "      <td>Alphabet_of_the_Magi</td>\n",
              "      <td>character02</td>\n",
              "      <td>1</td>\n",
              "      <td>images_background/Alphabet_of_the_Magi/charact...</td>\n",
              "      <td>1</td>\n",
              "    </tr>\n",
              "    <tr>\n",
              "      <th>16</th>\n",
              "      <td>Alphabet_of_the_Magi</td>\n",
              "      <td>character02</td>\n",
              "      <td>2</td>\n",
              "      <td>images_background/Alphabet_of_the_Magi/charact...</td>\n",
              "      <td>1</td>\n",
              "    </tr>\n",
              "    <tr>\n",
              "      <th>17</th>\n",
              "      <td>Alphabet_of_the_Magi</td>\n",
              "      <td>character02</td>\n",
              "      <td>3</td>\n",
              "      <td>images_background/Alphabet_of_the_Magi/charact...</td>\n",
              "      <td>1</td>\n",
              "    </tr>\n",
              "    <tr>\n",
              "      <th>18</th>\n",
              "      <td>Alphabet_of_the_Magi</td>\n",
              "      <td>character02</td>\n",
              "      <td>4</td>\n",
              "      <td>images_background/Alphabet_of_the_Magi/charact...</td>\n",
              "      <td>1</td>\n",
              "    </tr>\n",
              "    <tr>\n",
              "      <th>19</th>\n",
              "      <td>Alphabet_of_the_Magi</td>\n",
              "      <td>character02</td>\n",
              "      <td>5</td>\n",
              "      <td>images_background/Alphabet_of_the_Magi/charact...</td>\n",
              "      <td>1</td>\n",
              "    </tr>\n",
              "  </tbody>\n",
              "</table>\n",
              "</div>\n",
              "      <button class=\"colab-df-convert\" onclick=\"convertToInteractive('df-1f8ee353-4a8f-4950-a400-115ade521fc1')\"\n",
              "              title=\"Convert this dataframe to an interactive table.\"\n",
              "              style=\"display:none;\">\n",
              "\n",
              "  <svg xmlns=\"http://www.w3.org/2000/svg\" height=\"24px\"viewBox=\"0 0 24 24\"\n",
              "       width=\"24px\">\n",
              "    <path d=\"M0 0h24v24H0V0z\" fill=\"none\"/>\n",
              "    <path d=\"M18.56 5.44l.94 2.06.94-2.06 2.06-.94-2.06-.94-.94-2.06-.94 2.06-2.06.94zm-11 1L8.5 8.5l.94-2.06 2.06-.94-2.06-.94L8.5 2.5l-.94 2.06-2.06.94zm10 10l.94 2.06.94-2.06 2.06-.94-2.06-.94-.94-2.06-.94 2.06-2.06.94z\"/><path d=\"M17.41 7.96l-1.37-1.37c-.4-.4-.92-.59-1.43-.59-.52 0-1.04.2-1.43.59L10.3 9.45l-7.72 7.72c-.78.78-.78 2.05 0 2.83L4 21.41c.39.39.9.59 1.41.59.51 0 1.02-.2 1.41-.59l7.78-7.78 2.81-2.81c.8-.78.8-2.07 0-2.86zM5.41 20L4 18.59l7.72-7.72 1.47 1.35L5.41 20z\"/>\n",
              "  </svg>\n",
              "      </button>\n",
              "\n",
              "\n",
              "\n",
              "    <div id=\"df-a9c36748-4278-4b37-aa8f-5b975af2b3aa\">\n",
              "      <button class=\"colab-df-quickchart\" onclick=\"quickchart('df-a9c36748-4278-4b37-aa8f-5b975af2b3aa')\"\n",
              "              title=\"Suggest charts.\"\n",
              "              style=\"display:none;\">\n",
              "\n",
              "<svg xmlns=\"http://www.w3.org/2000/svg\" height=\"24px\"viewBox=\"0 0 24 24\"\n",
              "     width=\"24px\">\n",
              "    <g>\n",
              "        <path d=\"M19 3H5c-1.1 0-2 .9-2 2v14c0 1.1.9 2 2 2h14c1.1 0 2-.9 2-2V5c0-1.1-.9-2-2-2zM9 17H7v-7h2v7zm4 0h-2V7h2v10zm4 0h-2v-4h2v4z\"/>\n",
              "    </g>\n",
              "</svg>\n",
              "      </button>\n",
              "    </div>\n",
              "\n",
              "<style>\n",
              "  .colab-df-quickchart {\n",
              "    background-color: #E8F0FE;\n",
              "    border: none;\n",
              "    border-radius: 50%;\n",
              "    cursor: pointer;\n",
              "    display: none;\n",
              "    fill: #1967D2;\n",
              "    height: 32px;\n",
              "    padding: 0 0 0 0;\n",
              "    width: 32px;\n",
              "  }\n",
              "\n",
              "  .colab-df-quickchart:hover {\n",
              "    background-color: #E2EBFA;\n",
              "    box-shadow: 0px 1px 2px rgba(60, 64, 67, 0.3), 0px 1px 3px 1px rgba(60, 64, 67, 0.15);\n",
              "    fill: #174EA6;\n",
              "  }\n",
              "\n",
              "  [theme=dark] .colab-df-quickchart {\n",
              "    background-color: #3B4455;\n",
              "    fill: #D2E3FC;\n",
              "  }\n",
              "\n",
              "  [theme=dark] .colab-df-quickchart:hover {\n",
              "    background-color: #434B5C;\n",
              "    box-shadow: 0px 1px 3px 1px rgba(0, 0, 0, 0.15);\n",
              "    filter: drop-shadow(0px 1px 2px rgba(0, 0, 0, 0.3));\n",
              "    fill: #FFFFFF;\n",
              "  }\n",
              "</style>\n",
              "\n",
              "    <script>\n",
              "      async function quickchart(key) {\n",
              "        const containerElement = document.querySelector('#' + key);\n",
              "        const charts = await google.colab.kernel.invokeFunction(\n",
              "            'suggestCharts', [key], {});\n",
              "      }\n",
              "    </script>\n",
              "\n",
              "      <script>\n",
              "\n",
              "function displayQuickchartButton(domScope) {\n",
              "  let quickchartButtonEl =\n",
              "    domScope.querySelector('#df-a9c36748-4278-4b37-aa8f-5b975af2b3aa button.colab-df-quickchart');\n",
              "  quickchartButtonEl.style.display =\n",
              "    google.colab.kernel.accessAllowed ? 'block' : 'none';\n",
              "}\n",
              "\n",
              "        displayQuickchartButton(document);\n",
              "      </script>\n",
              "      <style>\n",
              "    .colab-df-container {\n",
              "      display:flex;\n",
              "      flex-wrap:wrap;\n",
              "      gap: 12px;\n",
              "    }\n",
              "\n",
              "    .colab-df-convert {\n",
              "      background-color: #E8F0FE;\n",
              "      border: none;\n",
              "      border-radius: 50%;\n",
              "      cursor: pointer;\n",
              "      display: none;\n",
              "      fill: #1967D2;\n",
              "      height: 32px;\n",
              "      padding: 0 0 0 0;\n",
              "      width: 32px;\n",
              "    }\n",
              "\n",
              "    .colab-df-convert:hover {\n",
              "      background-color: #E2EBFA;\n",
              "      box-shadow: 0px 1px 2px rgba(60, 64, 67, 0.3), 0px 1px 3px 1px rgba(60, 64, 67, 0.15);\n",
              "      fill: #174EA6;\n",
              "    }\n",
              "\n",
              "    [theme=dark] .colab-df-convert {\n",
              "      background-color: #3B4455;\n",
              "      fill: #D2E3FC;\n",
              "    }\n",
              "\n",
              "    [theme=dark] .colab-df-convert:hover {\n",
              "      background-color: #434B5C;\n",
              "      box-shadow: 0px 1px 3px 1px rgba(0, 0, 0, 0.15);\n",
              "      filter: drop-shadow(0px 1px 2px rgba(0, 0, 0, 0.3));\n",
              "      fill: #FFFFFF;\n",
              "    }\n",
              "  </style>\n",
              "\n",
              "      <script>\n",
              "        const buttonEl =\n",
              "          document.querySelector('#df-1f8ee353-4a8f-4950-a400-115ade521fc1 button.colab-df-convert');\n",
              "        buttonEl.style.display =\n",
              "          google.colab.kernel.accessAllowed ? 'block' : 'none';\n",
              "\n",
              "        async function convertToInteractive(key) {\n",
              "          const element = document.querySelector('#df-1f8ee353-4a8f-4950-a400-115ade521fc1');\n",
              "          const dataTable =\n",
              "            await google.colab.kernel.invokeFunction('convertToInteractive',\n",
              "                                                     [key], {});\n",
              "          if (!dataTable) return;\n",
              "\n",
              "          const docLinkHtml = 'Like what you see? Visit the ' +\n",
              "            '<a target=\"_blank\" href=https://colab.research.google.com/notebooks/data_table.ipynb>data table notebook</a>'\n",
              "            + ' to learn more about interactive tables.';\n",
              "          element.innerHTML = '';\n",
              "          dataTable['output_type'] = 'display_data';\n",
              "          await google.colab.output.renderOutput(dataTable, element);\n",
              "          const docLink = document.createElement('div');\n",
              "          docLink.innerHTML = docLinkHtml;\n",
              "          element.appendChild(docLink);\n",
              "        }\n",
              "      </script>\n",
              "    </div>\n",
              "  </div>\n"
            ]
          },
          "metadata": {},
          "execution_count": 11
        }
      ]
    },
    {
      "cell_type": "markdown",
      "source": [
        "## Modelo ResNet50"
      ],
      "metadata": {
        "id": "SzIGGLV0Juuk"
      }
    },
    {
      "cell_type": "code",
      "source": [
        "num_classes = 964 # Cantidad de clases que hay\n"
      ],
      "metadata": {
        "id": "9EjltURwMuNS"
      },
      "execution_count": null,
      "outputs": []
    },
    {
      "cell_type": "markdown",
      "source": [
        "## Train"
      ],
      "metadata": {
        "id": "fnBVH6wfNSjW"
      }
    },
    {
      "cell_type": "code",
      "source": [
        "class Character(torch.utils.data.Dataset):\n",
        "    def __init__(self, images, labels, transform=None):\n",
        "        self.transform = transform\n",
        "        self.images = images     # Vincula el indice con un nombre de archivo\n",
        "        self.labels = labels     # Vincula el indice con una clase\n",
        "\n",
        "    def get_image(self, path):\n",
        "        # img = plt.imread(path)\n",
        "        img = Image.open(path)\n",
        "        return img\n",
        "\n",
        "    def __getitem__(self, idx):\n",
        "        path_name = self.images[idx]\n",
        "        label = self.labels[idx]\n",
        "        img = self.get_image(path_name)\n",
        "\n",
        "        if self.transform is not None:\n",
        "            img = self.transform(img)\n",
        "        return img, label\n",
        "\n",
        "    def __len__(self):\n",
        "        return len(self.images)"
      ],
      "metadata": {
        "id": "_u5gUIleQqAb"
      },
      "execution_count": null,
      "outputs": []
    },
    {
      "cell_type": "code",
      "source": [
        "# Set up data transformations\n",
        "transform = Compose([\n",
        "    lambda x: x.convert('RGB'),\n",
        "    ToTensor(),\n",
        "    Normalize((0.5, 0.5, 0.5), (0.5, 0.5, 0.5))\n",
        "])\n",
        "\n",
        "\n",
        "train_dataset = Character(images=df_train['Path'], labels=df_train['y'], transform=transform)\n",
        "val_dataset = Character(images=df_val['Path'], labels=df_val['y'], transform=transform)\n",
        "test_dataset = Character(images=df_test['Path'], labels=df_test['y'], transform=transform)"
      ],
      "metadata": {
        "id": "RLglVdEkRAhU"
      },
      "execution_count": null,
      "outputs": []
    },
    {
      "cell_type": "code",
      "source": [
        "print('Train Dataset Length:', len(train_dataset))\n",
        "print('Val Dataset Length:', len(val_dataset))\n",
        "print('Test Dataset Length:', len(test_dataset))"
      ],
      "metadata": {
        "colab": {
          "base_uri": "https://localhost:8080/"
        },
        "id": "9yRb4EGGS4rc",
        "outputId": "1f303434-7f1e-42df-925b-57c9cc887765"
      },
      "execution_count": null,
      "outputs": [
        {
          "output_type": "stream",
          "name": "stdout",
          "text": [
            "Train Dataset Length: 13496\n",
            "Val Dataset Length: 3856\n",
            "Test Dataset Length: 1928\n"
          ]
        }
      ]
    },
    {
      "cell_type": "code",
      "source": [
        "# Set up the train loader\n",
        "batch_size = 64\n",
        "shuffle = True\n",
        "train_loader = DataLoader(train_dataset, batch_size=batch_size, shuffle=shuffle)\n",
        "val_loader = DataLoader(val_dataset, batch_size=batch_size, shuffle=shuffle)\n",
        "test_loader = DataLoader(test_dataset, batch_size=batch_size, shuffle=shuffle)"
      ],
      "metadata": {
        "id": "8bpcoym0QH7v"
      },
      "execution_count": null,
      "outputs": []
    },
    {
      "cell_type": "code",
      "source": [
        "trainiter = iter(train_loader)\n",
        "features, labels = next(trainiter)\n",
        "print(features.shape, labels.shape)"
      ],
      "metadata": {
        "colab": {
          "base_uri": "https://localhost:8080/"
        },
        "id": "Z_O7F4P4F_iH",
        "outputId": "df5c6990-7a16-46c1-ee6f-8987d642cd3e"
      },
      "execution_count": null,
      "outputs": [
        {
          "output_type": "stream",
          "name": "stdout",
          "text": [
            "torch.Size([64, 3, 105, 105]) torch.Size([64])\n"
          ]
        }
      ]
    },
    {
      "cell_type": "code",
      "source": [
        "len(train_loader)"
      ],
      "metadata": {
        "colab": {
          "base_uri": "https://localhost:8080/"
        },
        "id": "3uvzXDbJTP6c",
        "outputId": "1f14046c-4d45-4204-a446-76bbf7169d0c"
      },
      "execution_count": null,
      "outputs": [
        {
          "output_type": "execute_result",
          "data": {
            "text/plain": [
              "211"
            ]
          },
          "metadata": {},
          "execution_count": 19
        }
      ]
    },
    {
      "cell_type": "code",
      "source": [
        "os.makedirs('models_sgd_2', exist_ok=True)\n",
        "model_path = 'models_sgd_2/resnet50_sgd_2'\n"
      ],
      "metadata": {
        "id": "fONePAmkJny0"
      },
      "execution_count": null,
      "outputs": []
    },
    {
      "cell_type": "code",
      "source": [
        "model = models.resnet50(weights=ResNet50_Weights.IMAGENET1K_V2)\n",
        "model.fc = nn.Linear(2048, num_classes, bias=True)\n",
        "model.aux_logits=False\n",
        "model.to(device)"
      ],
      "metadata": {
        "colab": {
          "base_uri": "https://localhost:8080/"
        },
        "id": "U4v-WIbXSNcS",
        "outputId": "dd3f50ab-3b4c-44ba-e0af-de577e348c31"
      },
      "execution_count": null,
      "outputs": [
        {
          "output_type": "execute_result",
          "data": {
            "text/plain": [
              "ResNet(\n",
              "  (conv1): Conv2d(3, 64, kernel_size=(7, 7), stride=(2, 2), padding=(3, 3), bias=False)\n",
              "  (bn1): BatchNorm2d(64, eps=1e-05, momentum=0.1, affine=True, track_running_stats=True)\n",
              "  (relu): ReLU(inplace=True)\n",
              "  (maxpool): MaxPool2d(kernel_size=3, stride=2, padding=1, dilation=1, ceil_mode=False)\n",
              "  (layer1): Sequential(\n",
              "    (0): Bottleneck(\n",
              "      (conv1): Conv2d(64, 64, kernel_size=(1, 1), stride=(1, 1), bias=False)\n",
              "      (bn1): BatchNorm2d(64, eps=1e-05, momentum=0.1, affine=True, track_running_stats=True)\n",
              "      (conv2): Conv2d(64, 64, kernel_size=(3, 3), stride=(1, 1), padding=(1, 1), bias=False)\n",
              "      (bn2): BatchNorm2d(64, eps=1e-05, momentum=0.1, affine=True, track_running_stats=True)\n",
              "      (conv3): Conv2d(64, 256, kernel_size=(1, 1), stride=(1, 1), bias=False)\n",
              "      (bn3): BatchNorm2d(256, eps=1e-05, momentum=0.1, affine=True, track_running_stats=True)\n",
              "      (relu): ReLU(inplace=True)\n",
              "      (downsample): Sequential(\n",
              "        (0): Conv2d(64, 256, kernel_size=(1, 1), stride=(1, 1), bias=False)\n",
              "        (1): BatchNorm2d(256, eps=1e-05, momentum=0.1, affine=True, track_running_stats=True)\n",
              "      )\n",
              "    )\n",
              "    (1): Bottleneck(\n",
              "      (conv1): Conv2d(256, 64, kernel_size=(1, 1), stride=(1, 1), bias=False)\n",
              "      (bn1): BatchNorm2d(64, eps=1e-05, momentum=0.1, affine=True, track_running_stats=True)\n",
              "      (conv2): Conv2d(64, 64, kernel_size=(3, 3), stride=(1, 1), padding=(1, 1), bias=False)\n",
              "      (bn2): BatchNorm2d(64, eps=1e-05, momentum=0.1, affine=True, track_running_stats=True)\n",
              "      (conv3): Conv2d(64, 256, kernel_size=(1, 1), stride=(1, 1), bias=False)\n",
              "      (bn3): BatchNorm2d(256, eps=1e-05, momentum=0.1, affine=True, track_running_stats=True)\n",
              "      (relu): ReLU(inplace=True)\n",
              "    )\n",
              "    (2): Bottleneck(\n",
              "      (conv1): Conv2d(256, 64, kernel_size=(1, 1), stride=(1, 1), bias=False)\n",
              "      (bn1): BatchNorm2d(64, eps=1e-05, momentum=0.1, affine=True, track_running_stats=True)\n",
              "      (conv2): Conv2d(64, 64, kernel_size=(3, 3), stride=(1, 1), padding=(1, 1), bias=False)\n",
              "      (bn2): BatchNorm2d(64, eps=1e-05, momentum=0.1, affine=True, track_running_stats=True)\n",
              "      (conv3): Conv2d(64, 256, kernel_size=(1, 1), stride=(1, 1), bias=False)\n",
              "      (bn3): BatchNorm2d(256, eps=1e-05, momentum=0.1, affine=True, track_running_stats=True)\n",
              "      (relu): ReLU(inplace=True)\n",
              "    )\n",
              "  )\n",
              "  (layer2): Sequential(\n",
              "    (0): Bottleneck(\n",
              "      (conv1): Conv2d(256, 128, kernel_size=(1, 1), stride=(1, 1), bias=False)\n",
              "      (bn1): BatchNorm2d(128, eps=1e-05, momentum=0.1, affine=True, track_running_stats=True)\n",
              "      (conv2): Conv2d(128, 128, kernel_size=(3, 3), stride=(2, 2), padding=(1, 1), bias=False)\n",
              "      (bn2): BatchNorm2d(128, eps=1e-05, momentum=0.1, affine=True, track_running_stats=True)\n",
              "      (conv3): Conv2d(128, 512, kernel_size=(1, 1), stride=(1, 1), bias=False)\n",
              "      (bn3): BatchNorm2d(512, eps=1e-05, momentum=0.1, affine=True, track_running_stats=True)\n",
              "      (relu): ReLU(inplace=True)\n",
              "      (downsample): Sequential(\n",
              "        (0): Conv2d(256, 512, kernel_size=(1, 1), stride=(2, 2), bias=False)\n",
              "        (1): BatchNorm2d(512, eps=1e-05, momentum=0.1, affine=True, track_running_stats=True)\n",
              "      )\n",
              "    )\n",
              "    (1): Bottleneck(\n",
              "      (conv1): Conv2d(512, 128, kernel_size=(1, 1), stride=(1, 1), bias=False)\n",
              "      (bn1): BatchNorm2d(128, eps=1e-05, momentum=0.1, affine=True, track_running_stats=True)\n",
              "      (conv2): Conv2d(128, 128, kernel_size=(3, 3), stride=(1, 1), padding=(1, 1), bias=False)\n",
              "      (bn2): BatchNorm2d(128, eps=1e-05, momentum=0.1, affine=True, track_running_stats=True)\n",
              "      (conv3): Conv2d(128, 512, kernel_size=(1, 1), stride=(1, 1), bias=False)\n",
              "      (bn3): BatchNorm2d(512, eps=1e-05, momentum=0.1, affine=True, track_running_stats=True)\n",
              "      (relu): ReLU(inplace=True)\n",
              "    )\n",
              "    (2): Bottleneck(\n",
              "      (conv1): Conv2d(512, 128, kernel_size=(1, 1), stride=(1, 1), bias=False)\n",
              "      (bn1): BatchNorm2d(128, eps=1e-05, momentum=0.1, affine=True, track_running_stats=True)\n",
              "      (conv2): Conv2d(128, 128, kernel_size=(3, 3), stride=(1, 1), padding=(1, 1), bias=False)\n",
              "      (bn2): BatchNorm2d(128, eps=1e-05, momentum=0.1, affine=True, track_running_stats=True)\n",
              "      (conv3): Conv2d(128, 512, kernel_size=(1, 1), stride=(1, 1), bias=False)\n",
              "      (bn3): BatchNorm2d(512, eps=1e-05, momentum=0.1, affine=True, track_running_stats=True)\n",
              "      (relu): ReLU(inplace=True)\n",
              "    )\n",
              "    (3): Bottleneck(\n",
              "      (conv1): Conv2d(512, 128, kernel_size=(1, 1), stride=(1, 1), bias=False)\n",
              "      (bn1): BatchNorm2d(128, eps=1e-05, momentum=0.1, affine=True, track_running_stats=True)\n",
              "      (conv2): Conv2d(128, 128, kernel_size=(3, 3), stride=(1, 1), padding=(1, 1), bias=False)\n",
              "      (bn2): BatchNorm2d(128, eps=1e-05, momentum=0.1, affine=True, track_running_stats=True)\n",
              "      (conv3): Conv2d(128, 512, kernel_size=(1, 1), stride=(1, 1), bias=False)\n",
              "      (bn3): BatchNorm2d(512, eps=1e-05, momentum=0.1, affine=True, track_running_stats=True)\n",
              "      (relu): ReLU(inplace=True)\n",
              "    )\n",
              "  )\n",
              "  (layer3): Sequential(\n",
              "    (0): Bottleneck(\n",
              "      (conv1): Conv2d(512, 256, kernel_size=(1, 1), stride=(1, 1), bias=False)\n",
              "      (bn1): BatchNorm2d(256, eps=1e-05, momentum=0.1, affine=True, track_running_stats=True)\n",
              "      (conv2): Conv2d(256, 256, kernel_size=(3, 3), stride=(2, 2), padding=(1, 1), bias=False)\n",
              "      (bn2): BatchNorm2d(256, eps=1e-05, momentum=0.1, affine=True, track_running_stats=True)\n",
              "      (conv3): Conv2d(256, 1024, kernel_size=(1, 1), stride=(1, 1), bias=False)\n",
              "      (bn3): BatchNorm2d(1024, eps=1e-05, momentum=0.1, affine=True, track_running_stats=True)\n",
              "      (relu): ReLU(inplace=True)\n",
              "      (downsample): Sequential(\n",
              "        (0): Conv2d(512, 1024, kernel_size=(1, 1), stride=(2, 2), bias=False)\n",
              "        (1): BatchNorm2d(1024, eps=1e-05, momentum=0.1, affine=True, track_running_stats=True)\n",
              "      )\n",
              "    )\n",
              "    (1): Bottleneck(\n",
              "      (conv1): Conv2d(1024, 256, kernel_size=(1, 1), stride=(1, 1), bias=False)\n",
              "      (bn1): BatchNorm2d(256, eps=1e-05, momentum=0.1, affine=True, track_running_stats=True)\n",
              "      (conv2): Conv2d(256, 256, kernel_size=(3, 3), stride=(1, 1), padding=(1, 1), bias=False)\n",
              "      (bn2): BatchNorm2d(256, eps=1e-05, momentum=0.1, affine=True, track_running_stats=True)\n",
              "      (conv3): Conv2d(256, 1024, kernel_size=(1, 1), stride=(1, 1), bias=False)\n",
              "      (bn3): BatchNorm2d(1024, eps=1e-05, momentum=0.1, affine=True, track_running_stats=True)\n",
              "      (relu): ReLU(inplace=True)\n",
              "    )\n",
              "    (2): Bottleneck(\n",
              "      (conv1): Conv2d(1024, 256, kernel_size=(1, 1), stride=(1, 1), bias=False)\n",
              "      (bn1): BatchNorm2d(256, eps=1e-05, momentum=0.1, affine=True, track_running_stats=True)\n",
              "      (conv2): Conv2d(256, 256, kernel_size=(3, 3), stride=(1, 1), padding=(1, 1), bias=False)\n",
              "      (bn2): BatchNorm2d(256, eps=1e-05, momentum=0.1, affine=True, track_running_stats=True)\n",
              "      (conv3): Conv2d(256, 1024, kernel_size=(1, 1), stride=(1, 1), bias=False)\n",
              "      (bn3): BatchNorm2d(1024, eps=1e-05, momentum=0.1, affine=True, track_running_stats=True)\n",
              "      (relu): ReLU(inplace=True)\n",
              "    )\n",
              "    (3): Bottleneck(\n",
              "      (conv1): Conv2d(1024, 256, kernel_size=(1, 1), stride=(1, 1), bias=False)\n",
              "      (bn1): BatchNorm2d(256, eps=1e-05, momentum=0.1, affine=True, track_running_stats=True)\n",
              "      (conv2): Conv2d(256, 256, kernel_size=(3, 3), stride=(1, 1), padding=(1, 1), bias=False)\n",
              "      (bn2): BatchNorm2d(256, eps=1e-05, momentum=0.1, affine=True, track_running_stats=True)\n",
              "      (conv3): Conv2d(256, 1024, kernel_size=(1, 1), stride=(1, 1), bias=False)\n",
              "      (bn3): BatchNorm2d(1024, eps=1e-05, momentum=0.1, affine=True, track_running_stats=True)\n",
              "      (relu): ReLU(inplace=True)\n",
              "    )\n",
              "    (4): Bottleneck(\n",
              "      (conv1): Conv2d(1024, 256, kernel_size=(1, 1), stride=(1, 1), bias=False)\n",
              "      (bn1): BatchNorm2d(256, eps=1e-05, momentum=0.1, affine=True, track_running_stats=True)\n",
              "      (conv2): Conv2d(256, 256, kernel_size=(3, 3), stride=(1, 1), padding=(1, 1), bias=False)\n",
              "      (bn2): BatchNorm2d(256, eps=1e-05, momentum=0.1, affine=True, track_running_stats=True)\n",
              "      (conv3): Conv2d(256, 1024, kernel_size=(1, 1), stride=(1, 1), bias=False)\n",
              "      (bn3): BatchNorm2d(1024, eps=1e-05, momentum=0.1, affine=True, track_running_stats=True)\n",
              "      (relu): ReLU(inplace=True)\n",
              "    )\n",
              "    (5): Bottleneck(\n",
              "      (conv1): Conv2d(1024, 256, kernel_size=(1, 1), stride=(1, 1), bias=False)\n",
              "      (bn1): BatchNorm2d(256, eps=1e-05, momentum=0.1, affine=True, track_running_stats=True)\n",
              "      (conv2): Conv2d(256, 256, kernel_size=(3, 3), stride=(1, 1), padding=(1, 1), bias=False)\n",
              "      (bn2): BatchNorm2d(256, eps=1e-05, momentum=0.1, affine=True, track_running_stats=True)\n",
              "      (conv3): Conv2d(256, 1024, kernel_size=(1, 1), stride=(1, 1), bias=False)\n",
              "      (bn3): BatchNorm2d(1024, eps=1e-05, momentum=0.1, affine=True, track_running_stats=True)\n",
              "      (relu): ReLU(inplace=True)\n",
              "    )\n",
              "  )\n",
              "  (layer4): Sequential(\n",
              "    (0): Bottleneck(\n",
              "      (conv1): Conv2d(1024, 512, kernel_size=(1, 1), stride=(1, 1), bias=False)\n",
              "      (bn1): BatchNorm2d(512, eps=1e-05, momentum=0.1, affine=True, track_running_stats=True)\n",
              "      (conv2): Conv2d(512, 512, kernel_size=(3, 3), stride=(2, 2), padding=(1, 1), bias=False)\n",
              "      (bn2): BatchNorm2d(512, eps=1e-05, momentum=0.1, affine=True, track_running_stats=True)\n",
              "      (conv3): Conv2d(512, 2048, kernel_size=(1, 1), stride=(1, 1), bias=False)\n",
              "      (bn3): BatchNorm2d(2048, eps=1e-05, momentum=0.1, affine=True, track_running_stats=True)\n",
              "      (relu): ReLU(inplace=True)\n",
              "      (downsample): Sequential(\n",
              "        (0): Conv2d(1024, 2048, kernel_size=(1, 1), stride=(2, 2), bias=False)\n",
              "        (1): BatchNorm2d(2048, eps=1e-05, momentum=0.1, affine=True, track_running_stats=True)\n",
              "      )\n",
              "    )\n",
              "    (1): Bottleneck(\n",
              "      (conv1): Conv2d(2048, 512, kernel_size=(1, 1), stride=(1, 1), bias=False)\n",
              "      (bn1): BatchNorm2d(512, eps=1e-05, momentum=0.1, affine=True, track_running_stats=True)\n",
              "      (conv2): Conv2d(512, 512, kernel_size=(3, 3), stride=(1, 1), padding=(1, 1), bias=False)\n",
              "      (bn2): BatchNorm2d(512, eps=1e-05, momentum=0.1, affine=True, track_running_stats=True)\n",
              "      (conv3): Conv2d(512, 2048, kernel_size=(1, 1), stride=(1, 1), bias=False)\n",
              "      (bn3): BatchNorm2d(2048, eps=1e-05, momentum=0.1, affine=True, track_running_stats=True)\n",
              "      (relu): ReLU(inplace=True)\n",
              "    )\n",
              "    (2): Bottleneck(\n",
              "      (conv1): Conv2d(2048, 512, kernel_size=(1, 1), stride=(1, 1), bias=False)\n",
              "      (bn1): BatchNorm2d(512, eps=1e-05, momentum=0.1, affine=True, track_running_stats=True)\n",
              "      (conv2): Conv2d(512, 512, kernel_size=(3, 3), stride=(1, 1), padding=(1, 1), bias=False)\n",
              "      (bn2): BatchNorm2d(512, eps=1e-05, momentum=0.1, affine=True, track_running_stats=True)\n",
              "      (conv3): Conv2d(512, 2048, kernel_size=(1, 1), stride=(1, 1), bias=False)\n",
              "      (bn3): BatchNorm2d(2048, eps=1e-05, momentum=0.1, affine=True, track_running_stats=True)\n",
              "      (relu): ReLU(inplace=True)\n",
              "    )\n",
              "  )\n",
              "  (avgpool): AdaptiveAvgPool2d(output_size=(1, 1))\n",
              "  (fc): Linear(in_features=2048, out_features=964, bias=True)\n",
              ")"
            ]
          },
          "metadata": {},
          "execution_count": 48
        }
      ]
    },
    {
      "cell_type": "code",
      "source": [
        "criterion = nn.CrossEntropyLoss()\n",
        "optimizer = optim.SGD(model.parameters(), lr=1e-3, momentum=0.9)\n",
        "# optimizer = optim.Adam(model.parameters(), lr=1e-3, betas=(0.8, 0.9))\n",
        "# optimizer = optim.Adagrad(model.parameters(), lr=0.01, lr_decay=0)\n",
        "# optimizer = optim.SGD(model.parameters(), lr=2.5e-4)\n",
        "\n",
        "# optimizer = optim.Adam(model.parameters(), lr=2.5e-4)\n"
      ],
      "metadata": {
        "id": "3jMXEvmeM79Z"
      },
      "execution_count": null,
      "outputs": []
    },
    {
      "cell_type": "code",
      "source": [
        "# Congelamos todos los parametros del modelo\n",
        "for param in model.parameters(): param.requires_grad = False\n",
        "\n",
        "# Descongelamos la última capa\n",
        "for param in model.fc.parameters(): param.requires_grad = True\n",
        "\n",
        "summary(model, input_size=(3, 105, 105))"
      ],
      "metadata": {
        "colab": {
          "base_uri": "https://localhost:8080/"
        },
        "id": "KSMticnc-igl",
        "outputId": "4958a4bb-07b2-4aa8-d9e7-5756c558d18a"
      },
      "execution_count": null,
      "outputs": [
        {
          "output_type": "stream",
          "name": "stdout",
          "text": [
            "----------------------------------------------------------------\n",
            "        Layer (type)               Output Shape         Param #\n",
            "================================================================\n",
            "            Conv2d-1           [-1, 64, 53, 53]           9,408\n",
            "       BatchNorm2d-2           [-1, 64, 53, 53]             128\n",
            "              ReLU-3           [-1, 64, 53, 53]               0\n",
            "         MaxPool2d-4           [-1, 64, 27, 27]               0\n",
            "            Conv2d-5           [-1, 64, 27, 27]           4,096\n",
            "       BatchNorm2d-6           [-1, 64, 27, 27]             128\n",
            "              ReLU-7           [-1, 64, 27, 27]               0\n",
            "            Conv2d-8           [-1, 64, 27, 27]          36,864\n",
            "       BatchNorm2d-9           [-1, 64, 27, 27]             128\n",
            "             ReLU-10           [-1, 64, 27, 27]               0\n",
            "           Conv2d-11          [-1, 256, 27, 27]          16,384\n",
            "      BatchNorm2d-12          [-1, 256, 27, 27]             512\n",
            "           Conv2d-13          [-1, 256, 27, 27]          16,384\n",
            "      BatchNorm2d-14          [-1, 256, 27, 27]             512\n",
            "             ReLU-15          [-1, 256, 27, 27]               0\n",
            "       Bottleneck-16          [-1, 256, 27, 27]               0\n",
            "           Conv2d-17           [-1, 64, 27, 27]          16,384\n",
            "      BatchNorm2d-18           [-1, 64, 27, 27]             128\n",
            "             ReLU-19           [-1, 64, 27, 27]               0\n",
            "           Conv2d-20           [-1, 64, 27, 27]          36,864\n",
            "      BatchNorm2d-21           [-1, 64, 27, 27]             128\n",
            "             ReLU-22           [-1, 64, 27, 27]               0\n",
            "           Conv2d-23          [-1, 256, 27, 27]          16,384\n",
            "      BatchNorm2d-24          [-1, 256, 27, 27]             512\n",
            "             ReLU-25          [-1, 256, 27, 27]               0\n",
            "       Bottleneck-26          [-1, 256, 27, 27]               0\n",
            "           Conv2d-27           [-1, 64, 27, 27]          16,384\n",
            "      BatchNorm2d-28           [-1, 64, 27, 27]             128\n",
            "             ReLU-29           [-1, 64, 27, 27]               0\n",
            "           Conv2d-30           [-1, 64, 27, 27]          36,864\n",
            "      BatchNorm2d-31           [-1, 64, 27, 27]             128\n",
            "             ReLU-32           [-1, 64, 27, 27]               0\n",
            "           Conv2d-33          [-1, 256, 27, 27]          16,384\n",
            "      BatchNorm2d-34          [-1, 256, 27, 27]             512\n",
            "             ReLU-35          [-1, 256, 27, 27]               0\n",
            "       Bottleneck-36          [-1, 256, 27, 27]               0\n",
            "           Conv2d-37          [-1, 128, 27, 27]          32,768\n",
            "      BatchNorm2d-38          [-1, 128, 27, 27]             256\n",
            "             ReLU-39          [-1, 128, 27, 27]               0\n",
            "           Conv2d-40          [-1, 128, 14, 14]         147,456\n",
            "      BatchNorm2d-41          [-1, 128, 14, 14]             256\n",
            "             ReLU-42          [-1, 128, 14, 14]               0\n",
            "           Conv2d-43          [-1, 512, 14, 14]          65,536\n",
            "      BatchNorm2d-44          [-1, 512, 14, 14]           1,024\n",
            "           Conv2d-45          [-1, 512, 14, 14]         131,072\n",
            "      BatchNorm2d-46          [-1, 512, 14, 14]           1,024\n",
            "             ReLU-47          [-1, 512, 14, 14]               0\n",
            "       Bottleneck-48          [-1, 512, 14, 14]               0\n",
            "           Conv2d-49          [-1, 128, 14, 14]          65,536\n",
            "      BatchNorm2d-50          [-1, 128, 14, 14]             256\n",
            "             ReLU-51          [-1, 128, 14, 14]               0\n",
            "           Conv2d-52          [-1, 128, 14, 14]         147,456\n",
            "      BatchNorm2d-53          [-1, 128, 14, 14]             256\n",
            "             ReLU-54          [-1, 128, 14, 14]               0\n",
            "           Conv2d-55          [-1, 512, 14, 14]          65,536\n",
            "      BatchNorm2d-56          [-1, 512, 14, 14]           1,024\n",
            "             ReLU-57          [-1, 512, 14, 14]               0\n",
            "       Bottleneck-58          [-1, 512, 14, 14]               0\n",
            "           Conv2d-59          [-1, 128, 14, 14]          65,536\n",
            "      BatchNorm2d-60          [-1, 128, 14, 14]             256\n",
            "             ReLU-61          [-1, 128, 14, 14]               0\n",
            "           Conv2d-62          [-1, 128, 14, 14]         147,456\n",
            "      BatchNorm2d-63          [-1, 128, 14, 14]             256\n",
            "             ReLU-64          [-1, 128, 14, 14]               0\n",
            "           Conv2d-65          [-1, 512, 14, 14]          65,536\n",
            "      BatchNorm2d-66          [-1, 512, 14, 14]           1,024\n",
            "             ReLU-67          [-1, 512, 14, 14]               0\n",
            "       Bottleneck-68          [-1, 512, 14, 14]               0\n",
            "           Conv2d-69          [-1, 128, 14, 14]          65,536\n",
            "      BatchNorm2d-70          [-1, 128, 14, 14]             256\n",
            "             ReLU-71          [-1, 128, 14, 14]               0\n",
            "           Conv2d-72          [-1, 128, 14, 14]         147,456\n",
            "      BatchNorm2d-73          [-1, 128, 14, 14]             256\n",
            "             ReLU-74          [-1, 128, 14, 14]               0\n",
            "           Conv2d-75          [-1, 512, 14, 14]          65,536\n",
            "      BatchNorm2d-76          [-1, 512, 14, 14]           1,024\n",
            "             ReLU-77          [-1, 512, 14, 14]               0\n",
            "       Bottleneck-78          [-1, 512, 14, 14]               0\n",
            "           Conv2d-79          [-1, 256, 14, 14]         131,072\n",
            "      BatchNorm2d-80          [-1, 256, 14, 14]             512\n",
            "             ReLU-81          [-1, 256, 14, 14]               0\n",
            "           Conv2d-82            [-1, 256, 7, 7]         589,824\n",
            "      BatchNorm2d-83            [-1, 256, 7, 7]             512\n",
            "             ReLU-84            [-1, 256, 7, 7]               0\n",
            "           Conv2d-85           [-1, 1024, 7, 7]         262,144\n",
            "      BatchNorm2d-86           [-1, 1024, 7, 7]           2,048\n",
            "           Conv2d-87           [-1, 1024, 7, 7]         524,288\n",
            "      BatchNorm2d-88           [-1, 1024, 7, 7]           2,048\n",
            "             ReLU-89           [-1, 1024, 7, 7]               0\n",
            "       Bottleneck-90           [-1, 1024, 7, 7]               0\n",
            "           Conv2d-91            [-1, 256, 7, 7]         262,144\n",
            "      BatchNorm2d-92            [-1, 256, 7, 7]             512\n",
            "             ReLU-93            [-1, 256, 7, 7]               0\n",
            "           Conv2d-94            [-1, 256, 7, 7]         589,824\n",
            "      BatchNorm2d-95            [-1, 256, 7, 7]             512\n",
            "             ReLU-96            [-1, 256, 7, 7]               0\n",
            "           Conv2d-97           [-1, 1024, 7, 7]         262,144\n",
            "      BatchNorm2d-98           [-1, 1024, 7, 7]           2,048\n",
            "             ReLU-99           [-1, 1024, 7, 7]               0\n",
            "      Bottleneck-100           [-1, 1024, 7, 7]               0\n",
            "          Conv2d-101            [-1, 256, 7, 7]         262,144\n",
            "     BatchNorm2d-102            [-1, 256, 7, 7]             512\n",
            "            ReLU-103            [-1, 256, 7, 7]               0\n",
            "          Conv2d-104            [-1, 256, 7, 7]         589,824\n",
            "     BatchNorm2d-105            [-1, 256, 7, 7]             512\n",
            "            ReLU-106            [-1, 256, 7, 7]               0\n",
            "          Conv2d-107           [-1, 1024, 7, 7]         262,144\n",
            "     BatchNorm2d-108           [-1, 1024, 7, 7]           2,048\n",
            "            ReLU-109           [-1, 1024, 7, 7]               0\n",
            "      Bottleneck-110           [-1, 1024, 7, 7]               0\n",
            "          Conv2d-111            [-1, 256, 7, 7]         262,144\n",
            "     BatchNorm2d-112            [-1, 256, 7, 7]             512\n",
            "            ReLU-113            [-1, 256, 7, 7]               0\n",
            "          Conv2d-114            [-1, 256, 7, 7]         589,824\n",
            "     BatchNorm2d-115            [-1, 256, 7, 7]             512\n",
            "            ReLU-116            [-1, 256, 7, 7]               0\n",
            "          Conv2d-117           [-1, 1024, 7, 7]         262,144\n",
            "     BatchNorm2d-118           [-1, 1024, 7, 7]           2,048\n",
            "            ReLU-119           [-1, 1024, 7, 7]               0\n",
            "      Bottleneck-120           [-1, 1024, 7, 7]               0\n",
            "          Conv2d-121            [-1, 256, 7, 7]         262,144\n",
            "     BatchNorm2d-122            [-1, 256, 7, 7]             512\n",
            "            ReLU-123            [-1, 256, 7, 7]               0\n",
            "          Conv2d-124            [-1, 256, 7, 7]         589,824\n",
            "     BatchNorm2d-125            [-1, 256, 7, 7]             512\n",
            "            ReLU-126            [-1, 256, 7, 7]               0\n",
            "          Conv2d-127           [-1, 1024, 7, 7]         262,144\n",
            "     BatchNorm2d-128           [-1, 1024, 7, 7]           2,048\n",
            "            ReLU-129           [-1, 1024, 7, 7]               0\n",
            "      Bottleneck-130           [-1, 1024, 7, 7]               0\n",
            "          Conv2d-131            [-1, 256, 7, 7]         262,144\n",
            "     BatchNorm2d-132            [-1, 256, 7, 7]             512\n",
            "            ReLU-133            [-1, 256, 7, 7]               0\n",
            "          Conv2d-134            [-1, 256, 7, 7]         589,824\n",
            "     BatchNorm2d-135            [-1, 256, 7, 7]             512\n",
            "            ReLU-136            [-1, 256, 7, 7]               0\n",
            "          Conv2d-137           [-1, 1024, 7, 7]         262,144\n",
            "     BatchNorm2d-138           [-1, 1024, 7, 7]           2,048\n",
            "            ReLU-139           [-1, 1024, 7, 7]               0\n",
            "      Bottleneck-140           [-1, 1024, 7, 7]               0\n",
            "          Conv2d-141            [-1, 512, 7, 7]         524,288\n",
            "     BatchNorm2d-142            [-1, 512, 7, 7]           1,024\n",
            "            ReLU-143            [-1, 512, 7, 7]               0\n",
            "          Conv2d-144            [-1, 512, 4, 4]       2,359,296\n",
            "     BatchNorm2d-145            [-1, 512, 4, 4]           1,024\n",
            "            ReLU-146            [-1, 512, 4, 4]               0\n",
            "          Conv2d-147           [-1, 2048, 4, 4]       1,048,576\n",
            "     BatchNorm2d-148           [-1, 2048, 4, 4]           4,096\n",
            "          Conv2d-149           [-1, 2048, 4, 4]       2,097,152\n",
            "     BatchNorm2d-150           [-1, 2048, 4, 4]           4,096\n",
            "            ReLU-151           [-1, 2048, 4, 4]               0\n",
            "      Bottleneck-152           [-1, 2048, 4, 4]               0\n",
            "          Conv2d-153            [-1, 512, 4, 4]       1,048,576\n",
            "     BatchNorm2d-154            [-1, 512, 4, 4]           1,024\n",
            "            ReLU-155            [-1, 512, 4, 4]               0\n",
            "          Conv2d-156            [-1, 512, 4, 4]       2,359,296\n",
            "     BatchNorm2d-157            [-1, 512, 4, 4]           1,024\n",
            "            ReLU-158            [-1, 512, 4, 4]               0\n",
            "          Conv2d-159           [-1, 2048, 4, 4]       1,048,576\n",
            "     BatchNorm2d-160           [-1, 2048, 4, 4]           4,096\n",
            "            ReLU-161           [-1, 2048, 4, 4]               0\n",
            "      Bottleneck-162           [-1, 2048, 4, 4]               0\n",
            "          Conv2d-163            [-1, 512, 4, 4]       1,048,576\n",
            "     BatchNorm2d-164            [-1, 512, 4, 4]           1,024\n",
            "            ReLU-165            [-1, 512, 4, 4]               0\n",
            "          Conv2d-166            [-1, 512, 4, 4]       2,359,296\n",
            "     BatchNorm2d-167            [-1, 512, 4, 4]           1,024\n",
            "            ReLU-168            [-1, 512, 4, 4]               0\n",
            "          Conv2d-169           [-1, 2048, 4, 4]       1,048,576\n",
            "     BatchNorm2d-170           [-1, 2048, 4, 4]           4,096\n",
            "            ReLU-171           [-1, 2048, 4, 4]               0\n",
            "      Bottleneck-172           [-1, 2048, 4, 4]               0\n",
            "AdaptiveAvgPool2d-173           [-1, 2048, 1, 1]               0\n",
            "          Linear-174                  [-1, 964]       1,975,236\n",
            "================================================================\n",
            "Total params: 25,483,268\n",
            "Trainable params: 1,975,236\n",
            "Non-trainable params: 23,508,032\n",
            "----------------------------------------------------------------\n",
            "Input size (MB): 0.13\n",
            "Forward/backward pass size (MB): 70.04\n",
            "Params size (MB): 97.21\n",
            "Estimated Total Size (MB): 167.38\n",
            "----------------------------------------------------------------\n"
          ]
        }
      ]
    },
    {
      "cell_type": "markdown",
      "source": [
        "## Test"
      ],
      "metadata": {
        "id": "-ocu1pr5Ln7G"
      }
    },
    {
      "cell_type": "code",
      "source": [
        "# Función para correr inferencia usando un modelo y un\n",
        "# DataLoader con nuestros datos del set de test.\n",
        "def test_model(model, test_dl):\n",
        "    total_correctas = 0.0\n",
        "    total_muestras = 0.0\n",
        "\n",
        "    for x, target in test_dl:          # Iteramos sobre nuestros datos\n",
        "        # Inicio de la iteración\n",
        "        model.eval()                        # Dejamos el modelo en modo evaluación\n",
        "        with torch.no_grad():               # No se calculará información de gradientes\n",
        "                                            # en el código de más abajo.\n",
        "            x = x.cuda()\n",
        "            target = target.cuda()          # Enviamos nuestros datos a GPU\n",
        "            output = model(x)               # Hacemos el forward de nuestros datos\n",
        "\n",
        "            preds = output.argmax(dim=1)             # El máximo valor es nuestra predicción\n",
        "            correctas = (preds == target).sum()      # Acumulamos las correctas durante la época\n",
        "            total_correctas += correctas\n",
        "            total_muestras += target.shape[0]        # Sumamos el tamaño del batch\n",
        "\n",
        "            accuracy = total_correctas/total_muestras # Acc = correctas/total\n",
        "\n",
        "    return accuracy"
      ],
      "metadata": {
        "id": "sfZ9jg9ALnqq"
      },
      "execution_count": null,
      "outputs": []
    },
    {
      "cell_type": "code",
      "source": [
        "# Para guardar los valores que queremos visualizar\n",
        "ovrl_history = {\n",
        "    'epochs': [],\n",
        "    'train': {'loss': [], 'acc': []},\n",
        "    'val': {'loss': [], 'acc': []},\n",
        "    'test': {'loss': [], 'acc': []},\n",
        "}\n",
        "\n",
        "n_epochs = 15\n",
        "\n",
        "for epoch in range(n_epochs):\n",
        "    losses = []\n",
        "    cum_loss = 0.0\n",
        "    cum_acc = 0.0\n",
        "    with tqdm(train_loader, unit='batch', position=0, leave=True) as tepoch:\n",
        "      tepoch.set_description(f\"Epoch {epoch}/{n_epochs}\")\n",
        "      for batch, (data, targets) in enumerate(tepoch, start=1):\n",
        "        optimizer.zero_grad()\n",
        "        data = data.to(device)\n",
        "        targets = targets.to(device)\n",
        "\n",
        "        preds = model(data)\n",
        "        loss = criterion(preds, targets)\n",
        "\n",
        "        loss.backward()\n",
        "        optimizer.step()\n",
        "\n",
        "        _, preds = torch.max(preds, dim=1)\n",
        "        cum_acc += torch.sum(preds == targets)\n",
        "\n",
        "        # Cifras de desempeño\n",
        "        cum_loss += loss.item()\n",
        "        curr_loss = cum_loss / batch\n",
        "        curr_acc = cum_acc / (batch * batch_size)\n",
        "        tepoch.set_postfix(Loss=curr_loss, Acc=curr_acc.item())\n",
        "        losses.append(loss.item())\n",
        "\n",
        "        torch.cuda.empty_cache()\n",
        "\n",
        "    epoch_loss = float(cum_loss / batch)\n",
        "    epoch_acc = float(cum_acc / (batch * batch_size))\n",
        "\n",
        "    # Guardamos la epoca\n",
        "    ovrl_history['epochs'].append(epoch)\n",
        "\n",
        "    # Guardamos el loss y accuracy para la epoca\n",
        "    ovrl_history['train']['loss'].append(epoch_loss)\n",
        "    ovrl_history['train']['acc'].append(epoch_acc)\n",
        "\n",
        "    # Guardamos el loss y accuracy en el set de validacion\n",
        "    val_acc = test_model(model, val_loader)\n",
        "    ovrl_history['val']['loss'].append(epoch_loss)\n",
        "    ovrl_history['val']['acc'].append(float(val_acc))\n",
        "    print(f'Validation Accuracy: {val_acc}')\n",
        "\n",
        "    # Guardamos el loss y accuracy en el set de testing\n",
        "    test_acc = test_model(model, test_loader)\n",
        "    ovrl_history['test']['acc'].append(float(test_acc))\n",
        "    print(f'Testing Accuracy: {test_acc}')\n",
        "\n",
        "    # Guardamos el progreso actual en caso de que se corte la sesión.\n",
        "    # Debe existir el directorio\n",
        "    # Se guarda cada una de las epocas distintas para despues graficarla\n",
        "    torch.save(model, model_path + '_' + str(epoch).zfill(3) + '.pt')\n",
        "\n",
        "    print(f'Epoch {epoch + 1} finished\\n')"
      ],
      "metadata": {
        "colab": {
          "base_uri": "https://localhost:8080/"
        },
        "id": "9GsSVKv5KDQi",
        "outputId": "8396f75b-0e97-4e38-c167-9a9eacbd5b8d"
      },
      "execution_count": null,
      "outputs": [
        {
          "output_type": "stream",
          "name": "stderr",
          "text": [
            "Epoch 0/15: 100%|██████████| 211/211 [00:21<00:00,  9.73batch/s, Acc=0.833, Loss=2.7]\n"
          ]
        },
        {
          "output_type": "stream",
          "name": "stdout",
          "text": [
            "Validation Accuracy: 0.15300831198692322\n",
            "Testing Accuracy: 0.17738589644432068\n",
            "Epoch 1 finished\n",
            "\n"
          ]
        },
        {
          "output_type": "stream",
          "name": "stderr",
          "text": [
            "Epoch 1/15: 100%|██████████| 211/211 [00:21<00:00,  9.97batch/s, Acc=0.835, Loss=2.69]\n"
          ]
        },
        {
          "output_type": "stream",
          "name": "stdout",
          "text": [
            "Validation Accuracy: 0.15404565632343292\n",
            "Testing Accuracy: 0.17582988739013672\n",
            "Epoch 2 finished\n",
            "\n"
          ]
        },
        {
          "output_type": "stream",
          "name": "stderr",
          "text": [
            "Epoch 2/15: 100%|██████████| 211/211 [00:22<00:00,  9.30batch/s, Acc=0.836, Loss=2.68]\n"
          ]
        },
        {
          "output_type": "stream",
          "name": "stdout",
          "text": [
            "Validation Accuracy: 0.15534232556819916\n",
            "Testing Accuracy: 0.17634855210781097\n",
            "Epoch 3 finished\n",
            "\n"
          ]
        },
        {
          "output_type": "stream",
          "name": "stderr",
          "text": [
            "Epoch 3/15: 100%|██████████| 211/211 [00:20<00:00, 10.10batch/s, Acc=0.838, Loss=2.66]\n"
          ]
        },
        {
          "output_type": "stream",
          "name": "stdout",
          "text": [
            "Validation Accuracy: 0.15534232556819916\n",
            "Testing Accuracy: 0.17686723172664642\n",
            "Epoch 4 finished\n",
            "\n"
          ]
        },
        {
          "output_type": "stream",
          "name": "stderr",
          "text": [
            "Epoch 4/15: 100%|██████████| 211/211 [00:20<00:00, 10.06batch/s, Acc=0.839, Loss=2.65]\n"
          ]
        },
        {
          "output_type": "stream",
          "name": "stdout",
          "text": [
            "Validation Accuracy: 0.15612034499645233\n",
            "Testing Accuracy: 0.17634855210781097\n",
            "Epoch 5 finished\n",
            "\n"
          ]
        },
        {
          "output_type": "stream",
          "name": "stderr",
          "text": [
            "Epoch 5/15: 100%|██████████| 211/211 [00:21<00:00,  9.97batch/s, Acc=0.841, Loss=2.63]\n"
          ]
        },
        {
          "output_type": "stream",
          "name": "stdout",
          "text": [
            "Validation Accuracy: 0.15741701424121857\n",
            "Testing Accuracy: 0.17634855210781097\n",
            "Epoch 6 finished\n",
            "\n"
          ]
        },
        {
          "output_type": "stream",
          "name": "stderr",
          "text": [
            "Epoch 6/15: 100%|██████████| 211/211 [00:20<00:00, 10.10batch/s, Acc=0.843, Loss=2.62]\n"
          ]
        },
        {
          "output_type": "stream",
          "name": "stdout",
          "text": [
            "Validation Accuracy: 0.15793569386005402\n",
            "Testing Accuracy: 0.17686723172664642\n",
            "Epoch 7 finished\n",
            "\n"
          ]
        },
        {
          "output_type": "stream",
          "name": "stderr",
          "text": [
            "Epoch 7/15: 100%|██████████| 211/211 [00:21<00:00, 10.00batch/s, Acc=0.844, Loss=2.6]\n"
          ]
        },
        {
          "output_type": "stream",
          "name": "stdout",
          "text": [
            "Validation Accuracy: 0.15793569386005402\n",
            "Testing Accuracy: 0.17634855210781097\n",
            "Epoch 8 finished\n",
            "\n"
          ]
        },
        {
          "output_type": "stream",
          "name": "stderr",
          "text": [
            "Epoch 8/15: 100%|██████████| 211/211 [00:21<00:00, 10.01batch/s, Acc=0.845, Loss=2.59]\n"
          ]
        },
        {
          "output_type": "stream",
          "name": "stdout",
          "text": [
            "Validation Accuracy: 0.15845435857772827\n",
            "Testing Accuracy: 0.17790457606315613\n",
            "Epoch 9 finished\n",
            "\n"
          ]
        },
        {
          "output_type": "stream",
          "name": "stderr",
          "text": [
            "Epoch 9/15: 100%|██████████| 211/211 [00:21<00:00,  9.96batch/s, Acc=0.846, Loss=2.57]\n"
          ]
        },
        {
          "output_type": "stream",
          "name": "stdout",
          "text": [
            "Validation Accuracy: 0.15845435857772827\n",
            "Testing Accuracy: 0.17634855210781097\n",
            "Epoch 10 finished\n",
            "\n"
          ]
        },
        {
          "output_type": "stream",
          "name": "stderr",
          "text": [
            "Epoch 10/15: 100%|██████████| 211/211 [00:21<00:00,  9.88batch/s, Acc=0.849, Loss=2.56]\n"
          ]
        },
        {
          "output_type": "stream",
          "name": "stdout",
          "text": [
            "Validation Accuracy: 0.158713698387146\n",
            "Testing Accuracy: 0.17686723172664642\n",
            "Epoch 11 finished\n",
            "\n"
          ]
        },
        {
          "output_type": "stream",
          "name": "stderr",
          "text": [
            "Epoch 11/15: 100%|██████████| 211/211 [00:21<00:00,  9.86batch/s, Acc=0.849, Loss=2.55]\n"
          ]
        },
        {
          "output_type": "stream",
          "name": "stdout",
          "text": [
            "Validation Accuracy: 0.15845435857772827\n",
            "Testing Accuracy: 0.17582988739013672\n",
            "Epoch 12 finished\n",
            "\n"
          ]
        },
        {
          "output_type": "stream",
          "name": "stderr",
          "text": [
            "Epoch 12/15: 100%|██████████| 211/211 [00:21<00:00, 10.00batch/s, Acc=0.851, Loss=2.53]\n"
          ]
        },
        {
          "output_type": "stream",
          "name": "stdout",
          "text": [
            "Validation Accuracy: 0.15923237800598145\n",
            "Testing Accuracy: 0.17634855210781097\n",
            "Epoch 13 finished\n",
            "\n"
          ]
        },
        {
          "output_type": "stream",
          "name": "stderr",
          "text": [
            "Epoch 13/15: 100%|██████████| 211/211 [00:21<00:00, 10.03batch/s, Acc=0.852, Loss=2.52]\n"
          ]
        },
        {
          "output_type": "stream",
          "name": "stdout",
          "text": [
            "Validation Accuracy: 0.15923237800598145\n",
            "Testing Accuracy: 0.17634855210781097\n",
            "Epoch 14 finished\n",
            "\n"
          ]
        },
        {
          "output_type": "stream",
          "name": "stderr",
          "text": [
            "Epoch 14/15: 100%|██████████| 211/211 [00:20<00:00, 10.17batch/s, Acc=0.853, Loss=2.5]\n"
          ]
        },
        {
          "output_type": "stream",
          "name": "stdout",
          "text": [
            "Validation Accuracy: 0.16001038253307343\n",
            "Testing Accuracy: 0.17686723172664642\n",
            "Epoch 15 finished\n",
            "\n"
          ]
        }
      ]
    },
    {
      "cell_type": "markdown",
      "source": [
        "## Tablas"
      ],
      "metadata": {
        "id": "mkgCcGCxgztl"
      }
    },
    {
      "cell_type": "markdown",
      "source": [
        "| Modelo | Optimizador | Learning Rate | Params | Epoch | Acc Train | Acc Val | Acc Test |\n",
        "| -----  | ----- | ---- | ---- | ---- | ---- | ---- | ---- |\n",
        "| ResNet | SGD | 1e-3 | momentum=0.9 | 15 | 0.853 | 0.160 | 0.177 |\n",
        "| ResNet | SGD | 1e-2 | momentum=0.9 | 15 | 0.802 | 0.154 | 0.177 |\n",
        "| ResNet | SGD | 1e-1 | momentum=0.9 | 15 | 0.999 | 0.189 | 0.208 |\n",
        "| ResNet | SGD | 1e-0 | momentum=0.9 | 15 | 0.998 | 0.162 | 0.184 |\n",
        "| ResNet | Adam | 1e-4 |betas=(0.8, 0.9) | 30 | 0.971 | 0.186 | 0.209 |\n",
        "| ResNet | Adam | 1e-3 |betas=(0.8, 0.9) | 15 | 0.996 | 0.182 | 0.205 |\n"
      ],
      "metadata": {
        "id": "bY5slp6OFBTr"
      }
    },
    {
      "cell_type": "markdown",
      "source": [
        "## Gráficos"
      ],
      "metadata": {
        "id": "v3tGh35CO41p"
      }
    },
    {
      "cell_type": "code",
      "source": [
        "ovrl_history_sgd = copy(ovrl_history)"
      ],
      "metadata": {
        "id": "AmdMSMGVhAcm"
      },
      "execution_count": null,
      "outputs": []
    },
    {
      "cell_type": "code",
      "source": [
        "with open('ovrl_history_sgd.pkl', 'wb') as fp:\n",
        "    pickle.dump(ovrl_history_sgd, fp)"
      ],
      "metadata": {
        "id": "ggY-8fVOiL9s"
      },
      "execution_count": null,
      "outputs": []
    },
    {
      "cell_type": "code",
      "source": [
        "fig, ax = plt.subplots()\n",
        "ax.plot(ovrl_history['epochs'], ovrl_history['train']['loss'], label='Función pérdida', color='black')\n",
        "ax.plot(ovrl_history['epochs'], ovrl_history['train']['acc'], label='Accuracy', color='orange')\n",
        "ax.set_xlabel('Número de Época')\n",
        "ax.set_ylabel('Valor')\n",
        "ax.set_title('Evolución de función de pérdida y Accuracy en Training')\n",
        "ax.legend()\n",
        "ax.grid(True)\n",
        "\n",
        "plt.show()"
      ],
      "metadata": {
        "colab": {
          "base_uri": "https://localhost:8080/",
          "height": 474
        },
        "id": "bqi9pJrTMta4",
        "outputId": "9f72881d-4963-4d66-8603-062c98ad9156"
      },
      "execution_count": null,
      "outputs": [
        {
          "output_type": "display_data",
          "data": {
            "text/plain": [
              "<Figure size 640x480 with 1 Axes>"
            ],
            "image/png": "[encoded data removed]"
          },
          "metadata": {}
        }
      ]
    },
    {
      "cell_type": "code",
      "source": [
        "fig, ax = plt.subplots()\n",
        "ax.plot(ovrl_history['epochs'], ovrl_history['val']['loss'], label='Función pérdida', color='black')\n",
        "ax.plot(ovrl_history['epochs'], ovrl_history['val']['acc'], label='Accuracy', color='orange')\n",
        "ax.set_xlabel('Número de Época')\n",
        "ax.set_ylabel('Valor')\n",
        "ax.set_title('Evolución de función de pérdida y Accuracy en Validation')\n",
        "ax.legend()\n",
        "ax.grid(True)\n",
        "\n",
        "plt.show()"
      ],
      "metadata": {
        "colab": {
          "base_uri": "https://localhost:8080/",
          "height": 474
        },
        "id": "qgOfS1tBOVXT",
        "outputId": "0b5d2e76-5e6b-46e6-e3fd-2264ac7c0a2d"
      },
      "execution_count": null,
      "outputs": [
        {
          "output_type": "display_data",
          "data": {
            "text/plain": [
              "<Figure size 640x480 with 1 Axes>"
            ],
            "image/png": "[encoded data removed]"
          },
          "metadata": {}
        }
      ]
    },
    {
      "cell_type": "code",
      "source": [
        "# def train(model, train_loader, criterion, optimizer, num_epochs):\n",
        "#     model.train()  # Set the model to training mode\n",
        "\n",
        "#     for epoch in tqdm(range(num_epochs)):\n",
        "#         running_loss = 0.0\n",
        "\n",
        "#         for images, labels in train_loader:\n",
        "#             optimizer.zero_grad()  # Zero the gradients\n",
        "\n",
        "#             outputs = model(images)  # Forward pass\n",
        "#             loss = criterion(outputs, labels)  # Compute the loss\n",
        "#             loss.backward()  # Backward pass\n",
        "#             optimizer.step()  # Update the weights\n",
        "\n",
        "#             running_loss += loss.item()\n",
        "\n",
        "#         # Print the average loss for this epoch\n",
        "#         print(f\"Epoch [{epoch+1}/{num_epochs}], Loss: {running_loss / len(train_loader)}\")"
      ],
      "metadata": {
        "id": "IB_ParObNBJ2"
      },
      "execution_count": null,
      "outputs": []
    },
    {
      "cell_type": "code",
      "source": [
        "# # Assuming you have a train_loader set up with your training data\n",
        "# num_epochs = 1  # Set the number of epochs for training\n",
        "# train(model, train_loader, criterion, optimizer, num_epochs)"
      ],
      "metadata": {
        "colab": {
          "base_uri": "https://localhost:8080/",
          "height": 1000
        },
        "id": "89r_J-8bNHhv",
        "outputId": "1437b470-7cc9-46e8-9ffb-48bf295a5f30"
      },
      "execution_count": null,
      "outputs": [
        {
          "output_type": "stream",
          "name": "stderr",
          "text": [
            "  0%|          | 0/1 [00:00<?, ?it/s]\n"
          ]
        },
        {
          "output_type": "error",
          "ename": "RuntimeError",
          "evalue": "ignored",
          "traceback": [
            "\u001b[0;31m---------------------------------------------------------------------------\u001b[0m",
            "\u001b[0;31mRuntimeError\u001b[0m                              Traceback (most recent call last)",
            "\u001b[0;32m<ipython-input-174-402105f2fc4f>\u001b[0m in \u001b[0;36m<cell line: 3>\u001b[0;34m()\u001b[0m\n\u001b[1;32m      1\u001b[0m \u001b[0;31m# Assuming you have a train_loader set up with your training data\u001b[0m\u001b[0;34m\u001b[0m\u001b[0;34m\u001b[0m\u001b[0m\n\u001b[1;32m      2\u001b[0m \u001b[0mnum_epochs\u001b[0m \u001b[0;34m=\u001b[0m \u001b[0;36m1\u001b[0m  \u001b[0;31m# Set the number of epochs for training\u001b[0m\u001b[0;34m\u001b[0m\u001b[0;34m\u001b[0m\u001b[0m\n\u001b[0;32m----> 3\u001b[0;31m \u001b[0mtrain\u001b[0m\u001b[0;34m(\u001b[0m\u001b[0mmodel\u001b[0m\u001b[0;34m,\u001b[0m \u001b[0mtrain_loader\u001b[0m\u001b[0;34m,\u001b[0m \u001b[0mcriterion\u001b[0m\u001b[0;34m,\u001b[0m \u001b[0moptimizer\u001b[0m\u001b[0;34m,\u001b[0m \u001b[0mnum_epochs\u001b[0m\u001b[0;34m)\u001b[0m\u001b[0;34m\u001b[0m\u001b[0;34m\u001b[0m\u001b[0m\n\u001b[0m",
            "\u001b[0;32m<ipython-input-173-9a19c4dfff75>\u001b[0m in \u001b[0;36mtrain\u001b[0;34m(model, train_loader, criterion, optimizer, num_epochs)\u001b[0m\n\u001b[1;32m      8\u001b[0m             \u001b[0moptimizer\u001b[0m\u001b[0;34m.\u001b[0m\u001b[0mzero_grad\u001b[0m\u001b[0;34m(\u001b[0m\u001b[0;34m)\u001b[0m  \u001b[0;31m# Zero the gradients\u001b[0m\u001b[0;34m\u001b[0m\u001b[0;34m\u001b[0m\u001b[0m\n\u001b[1;32m      9\u001b[0m \u001b[0;34m\u001b[0m\u001b[0m\n\u001b[0;32m---> 10\u001b[0;31m             \u001b[0moutputs\u001b[0m \u001b[0;34m=\u001b[0m \u001b[0mmodel\u001b[0m\u001b[0;34m(\u001b[0m\u001b[0mimages\u001b[0m\u001b[0;34m)\u001b[0m  \u001b[0;31m# Forward pass\u001b[0m\u001b[0;34m\u001b[0m\u001b[0;34m\u001b[0m\u001b[0m\n\u001b[0m\u001b[1;32m     11\u001b[0m             \u001b[0mloss\u001b[0m \u001b[0;34m=\u001b[0m \u001b[0mcriterion\u001b[0m\u001b[0;34m(\u001b[0m\u001b[0moutputs\u001b[0m\u001b[0;34m,\u001b[0m \u001b[0mlabels\u001b[0m\u001b[0;34m)\u001b[0m  \u001b[0;31m# Compute the loss\u001b[0m\u001b[0;34m\u001b[0m\u001b[0;34m\u001b[0m\u001b[0m\n\u001b[1;32m     12\u001b[0m             \u001b[0mloss\u001b[0m\u001b[0;34m.\u001b[0m\u001b[0mbackward\u001b[0m\u001b[0;34m(\u001b[0m\u001b[0;34m)\u001b[0m  \u001b[0;31m# Backward pass\u001b[0m\u001b[0;34m\u001b[0m\u001b[0;34m\u001b[0m\u001b[0m\n",
            "\u001b[0;32m/usr/local/lib/python3.10/dist-packages/torch/nn/modules/module.py\u001b[0m in \u001b[0;36m_call_impl\u001b[0;34m(self, *args, **kwargs)\u001b[0m\n\u001b[1;32m   1499\u001b[0m                 \u001b[0;32mor\u001b[0m \u001b[0m_global_backward_pre_hooks\u001b[0m \u001b[0;32mor\u001b[0m \u001b[0m_global_backward_hooks\u001b[0m\u001b[0;34m\u001b[0m\u001b[0;34m\u001b[0m\u001b[0m\n\u001b[1;32m   1500\u001b[0m                 or _global_forward_hooks or _global_forward_pre_hooks):\n\u001b[0;32m-> 1501\u001b[0;31m             \u001b[0;32mreturn\u001b[0m \u001b[0mforward_call\u001b[0m\u001b[0;34m(\u001b[0m\u001b[0;34m*\u001b[0m\u001b[0margs\u001b[0m\u001b[0;34m,\u001b[0m \u001b[0;34m**\u001b[0m\u001b[0mkwargs\u001b[0m\u001b[0;34m)\u001b[0m\u001b[0;34m\u001b[0m\u001b[0;34m\u001b[0m\u001b[0m\n\u001b[0m\u001b[1;32m   1502\u001b[0m         \u001b[0;31m# Do not call functions when jit is used\u001b[0m\u001b[0;34m\u001b[0m\u001b[0;34m\u001b[0m\u001b[0m\n\u001b[1;32m   1503\u001b[0m         \u001b[0mfull_backward_hooks\u001b[0m\u001b[0;34m,\u001b[0m \u001b[0mnon_full_backward_hooks\u001b[0m \u001b[0;34m=\u001b[0m \u001b[0;34m[\u001b[0m\u001b[0;34m]\u001b[0m\u001b[0;34m,\u001b[0m \u001b[0;34m[\u001b[0m\u001b[0;34m]\u001b[0m\u001b[0;34m\u001b[0m\u001b[0;34m\u001b[0m\u001b[0m\n",
            "\u001b[0;32m/usr/local/lib/python3.10/dist-packages/torchvision/models/resnet.py\u001b[0m in \u001b[0;36mforward\u001b[0;34m(self, x)\u001b[0m\n\u001b[1;32m    283\u001b[0m \u001b[0;34m\u001b[0m\u001b[0m\n\u001b[1;32m    284\u001b[0m     \u001b[0;32mdef\u001b[0m \u001b[0mforward\u001b[0m\u001b[0;34m(\u001b[0m\u001b[0mself\u001b[0m\u001b[0;34m,\u001b[0m \u001b[0mx\u001b[0m\u001b[0;34m:\u001b[0m \u001b[0mTensor\u001b[0m\u001b[0;34m)\u001b[0m \u001b[0;34m->\u001b[0m \u001b[0mTensor\u001b[0m\u001b[0;34m:\u001b[0m\u001b[0;34m\u001b[0m\u001b[0;34m\u001b[0m\u001b[0m\n\u001b[0;32m--> 285\u001b[0;31m         \u001b[0;32mreturn\u001b[0m \u001b[0mself\u001b[0m\u001b[0;34m.\u001b[0m\u001b[0m_forward_impl\u001b[0m\u001b[0;34m(\u001b[0m\u001b[0mx\u001b[0m\u001b[0;34m)\u001b[0m\u001b[0;34m\u001b[0m\u001b[0;34m\u001b[0m\u001b[0m\n\u001b[0m\u001b[1;32m    286\u001b[0m \u001b[0;34m\u001b[0m\u001b[0m\n\u001b[1;32m    287\u001b[0m \u001b[0;34m\u001b[0m\u001b[0m\n",
            "\u001b[0;32m/usr/local/lib/python3.10/dist-packages/torchvision/models/resnet.py\u001b[0m in \u001b[0;36m_forward_impl\u001b[0;34m(self, x)\u001b[0m\n\u001b[1;32m    266\u001b[0m     \u001b[0;32mdef\u001b[0m \u001b[0m_forward_impl\u001b[0m\u001b[0;34m(\u001b[0m\u001b[0mself\u001b[0m\u001b[0;34m,\u001b[0m \u001b[0mx\u001b[0m\u001b[0;34m:\u001b[0m \u001b[0mTensor\u001b[0m\u001b[0;34m)\u001b[0m \u001b[0;34m->\u001b[0m \u001b[0mTensor\u001b[0m\u001b[0;34m:\u001b[0m\u001b[0;34m\u001b[0m\u001b[0;34m\u001b[0m\u001b[0m\n\u001b[1;32m    267\u001b[0m         \u001b[0;31m# See note [TorchScript super()]\u001b[0m\u001b[0;34m\u001b[0m\u001b[0;34m\u001b[0m\u001b[0m\n\u001b[0;32m--> 268\u001b[0;31m         \u001b[0mx\u001b[0m \u001b[0;34m=\u001b[0m \u001b[0mself\u001b[0m\u001b[0;34m.\u001b[0m\u001b[0mconv1\u001b[0m\u001b[0;34m(\u001b[0m\u001b[0mx\u001b[0m\u001b[0;34m)\u001b[0m\u001b[0;34m\u001b[0m\u001b[0;34m\u001b[0m\u001b[0m\n\u001b[0m\u001b[1;32m    269\u001b[0m         \u001b[0mx\u001b[0m \u001b[0;34m=\u001b[0m \u001b[0mself\u001b[0m\u001b[0;34m.\u001b[0m\u001b[0mbn1\u001b[0m\u001b[0;34m(\u001b[0m\u001b[0mx\u001b[0m\u001b[0;34m)\u001b[0m\u001b[0;34m\u001b[0m\u001b[0;34m\u001b[0m\u001b[0m\n\u001b[1;32m    270\u001b[0m         \u001b[0mx\u001b[0m \u001b[0;34m=\u001b[0m \u001b[0mself\u001b[0m\u001b[0;34m.\u001b[0m\u001b[0mrelu\u001b[0m\u001b[0;34m(\u001b[0m\u001b[0mx\u001b[0m\u001b[0;34m)\u001b[0m\u001b[0;34m\u001b[0m\u001b[0;34m\u001b[0m\u001b[0m\n",
            "\u001b[0;32m/usr/local/lib/python3.10/dist-packages/torch/nn/modules/module.py\u001b[0m in \u001b[0;36m_call_impl\u001b[0;34m(self, *args, **kwargs)\u001b[0m\n\u001b[1;32m   1499\u001b[0m                 \u001b[0;32mor\u001b[0m \u001b[0m_global_backward_pre_hooks\u001b[0m \u001b[0;32mor\u001b[0m \u001b[0m_global_backward_hooks\u001b[0m\u001b[0;34m\u001b[0m\u001b[0;34m\u001b[0m\u001b[0m\n\u001b[1;32m   1500\u001b[0m                 or _global_forward_hooks or _global_forward_pre_hooks):\n\u001b[0;32m-> 1501\u001b[0;31m             \u001b[0;32mreturn\u001b[0m \u001b[0mforward_call\u001b[0m\u001b[0;34m(\u001b[0m\u001b[0;34m*\u001b[0m\u001b[0margs\u001b[0m\u001b[0;34m,\u001b[0m \u001b[0;34m**\u001b[0m\u001b[0mkwargs\u001b[0m\u001b[0;34m)\u001b[0m\u001b[0;34m\u001b[0m\u001b[0;34m\u001b[0m\u001b[0m\n\u001b[0m\u001b[1;32m   1502\u001b[0m         \u001b[0;31m# Do not call functions when jit is used\u001b[0m\u001b[0;34m\u001b[0m\u001b[0;34m\u001b[0m\u001b[0m\n\u001b[1;32m   1503\u001b[0m         \u001b[0mfull_backward_hooks\u001b[0m\u001b[0;34m,\u001b[0m \u001b[0mnon_full_backward_hooks\u001b[0m \u001b[0;34m=\u001b[0m \u001b[0;34m[\u001b[0m\u001b[0;34m]\u001b[0m\u001b[0;34m,\u001b[0m \u001b[0;34m[\u001b[0m\u001b[0;34m]\u001b[0m\u001b[0;34m\u001b[0m\u001b[0;34m\u001b[0m\u001b[0m\n",
            "\u001b[0;32m/usr/local/lib/python3.10/dist-packages/torch/nn/modules/conv.py\u001b[0m in \u001b[0;36mforward\u001b[0;34m(self, input)\u001b[0m\n\u001b[1;32m    461\u001b[0m \u001b[0;34m\u001b[0m\u001b[0m\n\u001b[1;32m    462\u001b[0m     \u001b[0;32mdef\u001b[0m \u001b[0mforward\u001b[0m\u001b[0;34m(\u001b[0m\u001b[0mself\u001b[0m\u001b[0;34m,\u001b[0m \u001b[0minput\u001b[0m\u001b[0;34m:\u001b[0m \u001b[0mTensor\u001b[0m\u001b[0;34m)\u001b[0m \u001b[0;34m->\u001b[0m \u001b[0mTensor\u001b[0m\u001b[0;34m:\u001b[0m\u001b[0;34m\u001b[0m\u001b[0;34m\u001b[0m\u001b[0m\n\u001b[0;32m--> 463\u001b[0;31m         \u001b[0;32mreturn\u001b[0m \u001b[0mself\u001b[0m\u001b[0;34m.\u001b[0m\u001b[0m_conv_forward\u001b[0m\u001b[0;34m(\u001b[0m\u001b[0minput\u001b[0m\u001b[0;34m,\u001b[0m \u001b[0mself\u001b[0m\u001b[0;34m.\u001b[0m\u001b[0mweight\u001b[0m\u001b[0;34m,\u001b[0m \u001b[0mself\u001b[0m\u001b[0;34m.\u001b[0m\u001b[0mbias\u001b[0m\u001b[0;34m)\u001b[0m\u001b[0;34m\u001b[0m\u001b[0;34m\u001b[0m\u001b[0m\n\u001b[0m\u001b[1;32m    464\u001b[0m \u001b[0;34m\u001b[0m\u001b[0m\n\u001b[1;32m    465\u001b[0m \u001b[0;32mclass\u001b[0m \u001b[0mConv3d\u001b[0m\u001b[0;34m(\u001b[0m\u001b[0m_ConvNd\u001b[0m\u001b[0;34m)\u001b[0m\u001b[0;34m:\u001b[0m\u001b[0;34m\u001b[0m\u001b[0;34m\u001b[0m\u001b[0m\n",
            "\u001b[0;32m/usr/local/lib/python3.10/dist-packages/torch/nn/modules/conv.py\u001b[0m in \u001b[0;36m_conv_forward\u001b[0;34m(self, input, weight, bias)\u001b[0m\n\u001b[1;32m    457\u001b[0m                             \u001b[0mweight\u001b[0m\u001b[0;34m,\u001b[0m \u001b[0mbias\u001b[0m\u001b[0;34m,\u001b[0m \u001b[0mself\u001b[0m\u001b[0;34m.\u001b[0m\u001b[0mstride\u001b[0m\u001b[0;34m,\u001b[0m\u001b[0;34m\u001b[0m\u001b[0;34m\u001b[0m\u001b[0m\n\u001b[1;32m    458\u001b[0m                             _pair(0), self.dilation, self.groups)\n\u001b[0;32m--> 459\u001b[0;31m         return F.conv2d(input, weight, bias, self.stride,\n\u001b[0m\u001b[1;32m    460\u001b[0m                         self.padding, self.dilation, self.groups)\n\u001b[1;32m    461\u001b[0m \u001b[0;34m\u001b[0m\u001b[0m\n",
            "\u001b[0;31mRuntimeError\u001b[0m: Input type (torch.FloatTensor) and weight type (torch.cuda.FloatTensor) should be the same or input should be a MKLDNN tensor and weight is a dense tensor"
          ]
        }
      ]
    },
    {
      "cell_type": "markdown",
      "source": [
        "## Test"
      ],
      "metadata": {
        "id": "1ChNOyorNT-E"
      }
    },
    {
      "cell_type": "code",
      "source": [
        "# def test(model, test_loader):\n",
        "#     model.eval()  # Set the model to evaluation mode\n",
        "#     correct = 0\n",
        "#     total = 0\n",
        "\n",
        "#     with torch.no_grad():\n",
        "#         for images, labels in test_loader:\n",
        "#             outputs = model(images)  # Forward pass\n",
        "#             _, predicted = torch.max(outputs.data, 1)\n",
        "#             total += labels.size(0)\n",
        "#             correct += (predicted == labels).sum().item()\n",
        "\n",
        "#     accuracy = 100 * correct / total\n",
        "#     print(f\"Test Accuracy: {accuracy}%\")\n",
        "\n",
        "\n"
      ],
      "metadata": {
        "id": "3mDsNt7oNQJr"
      },
      "execution_count": null,
      "outputs": []
    },
    {
      "cell_type": "code",
      "source": [
        "# Función para correr inferencia usando un modelo y un\n",
        "# DataLoader con nuestros datos del set de test.\n",
        "def test_model(model, test_dl):\n",
        "    total_correctas = 0.0\n",
        "    total_muestras = 0.0\n",
        "\n",
        "    for x, target in test_dl:          # Iteramos sobre nuestros datos\n",
        "        # Inicio de la iteración\n",
        "        model.eval()                        # Dejamos el modelo en modo evaluación\n",
        "        with torch.no_grad():               # No se calculará información de gradientes\n",
        "                                            # en el código de más abajo.\n",
        "            x = x.cuda()\n",
        "            target = target.cuda()          # Enviamos nuestros datos a GPU\n",
        "            output = model(x)               # Hacemos el forward de nuestros datos\n",
        "\n",
        "            preds = output.argmax(dim=1)             # El máximo valor es nuestra predicción\n",
        "            correctas = (preds == target).sum()      # Acumulamos las correctas durante la época\n",
        "            total_correctas += correctas\n",
        "            total_muestras += target.shape[0]        # Sumamos el tamaño del batch\n",
        "\n",
        "            accuracy = total_correctas/total_muestras # Acc = correctas/total\n",
        "\n",
        "    return accuracy"
      ],
      "metadata": {
        "id": "UL3bHrf_LGlh"
      },
      "execution_count": null,
      "outputs": []
    },
    {
      "cell_type": "code",
      "source": [
        "# Assuming you have a test_loader set up with your test data\n",
        "test(model, test_loader)"
      ],
      "metadata": {
        "colab": {
          "base_uri": "https://localhost:8080/"
        },
        "id": "TZHNdJwnNVxa",
        "outputId": "34c1c0f5-2ff2-4e22-cac6-cc94c0ab44de"
      },
      "execution_count": null,
      "outputs": [
        {
          "output_type": "stream",
          "name": "stdout",
          "text": [
            "Test Accuracy: 0.05186721991701245%\n"
          ]
        }
      ]
    },
    {
      "cell_type": "code",
      "source": [],
      "metadata": {
        "id": "88D4cstzb2Ha"
      },
      "execution_count": null,
      "outputs": []
    }
  ]
}
{
  "nbformat": 4,
  "nbformat_minor": 0,
  "metadata": {
    "colab": {
      "provenance": [],
      "machine_shape": "hm",
      "gpuType": "T4"
    },
    "kernelspec": {
      "name": "python3",
      "display_name": "Python 3"
    },
    "language_info": {
      "name": "python"
    },
    "accelerator": "GPU"
  },
  "cells": [
    {
      "cell_type": "markdown",
      "source": [
        "## Librerías"
      ],
      "metadata": {
        "id": "nJRpJLm-6OxT"
      }
    },
    {
      "cell_type": "code",
      "execution_count": null,
      "metadata": {
        "id": "j6RaYAlH49o7"
      },
      "outputs": [],
      "source": [
        "import os\n",
        "import shutil\n",
        "import subprocess\n",
        "import numpy as np\n",
        "import pandas as pd\n",
        "import scipy.io\n",
        "import random\n",
        "from PIL import Image\n",
        "from copy import copy, deepcopy\n",
        "from IPython.display import display\n",
        "\n",
        "import matplotlib.pyplot as plt\n",
        "\n",
        "from os import listdir\n",
        "from os.path import join\n",
        "from tqdm.notebook import tqdm\n",
        "from tqdm import tqdm\n",
        "\n",
        "import torch\n",
        "import torch.nn as nn\n",
        "import torch.optim as optim\n",
        "from torch.utils.data import random_split\n",
        "\n",
        "import torchvision.models as models\n",
        "import torchvision.transforms as transforms\n",
        "\n",
        "from torchsummary import summary\n",
        "from torch.utils.data import DataLoader\n",
        "from torchvision.datasets import ImageFolder\n",
        "from torchvision.transforms import Compose, ToTensor, Normalize, Resize\n",
        "from torchvision.models import mobilenet_v3_small, MobileNet_V3_Small_Weights, ResNet50_Weights, EfficientNet_V2_L_Weights"
      ]
    },
    {
      "cell_type": "code",
      "source": [
        "device = torch.device(\"cuda:0\") if torch.cuda.is_available() else torch.device(\"cpu\")\n",
        "print(\"Device:\", device)"
      ],
      "metadata": {
        "colab": {
          "base_uri": "https://localhost:8080/"
        },
        "id": "9jaUw4MU6Tnj",
        "outputId": "aff23aec-d470-4729-cc5c-74272f2d9280"
      },
      "execution_count": null,
      "outputs": [
        {
          "output_type": "stream",
          "name": "stdout",
          "text": [
            "Device: cuda:0\n"
          ]
        }
      ]
    },
    {
      "cell_type": "markdown",
      "source": [
        "## Load Dataset"
      ],
      "metadata": {
        "id": "K5CiZOpD7Mhi"
      }
    },
    {
      "cell_type": "code",
      "source": [
        "repo_url = 'https://github.com/brendenlake/omniglot.git'\n",
        "subprocess.call(['git', 'clone', repo_url])"
      ],
      "metadata": {
        "colab": {
          "base_uri": "https://localhost:8080/"
        },
        "id": "vkLlB9uc673h",
        "outputId": "c9685454-1bea-4414-ad31-f4e9fb09a3fb"
      },
      "execution_count": null,
      "outputs": [
        {
          "output_type": "execute_result",
          "data": {
            "text/plain": [
              "0"
            ]
          },
          "metadata": {},
          "execution_count": 3
        }
      ]
    },
    {
      "cell_type": "code",
      "source": [
        "!unzip -qq './omniglot/python/images_background.zip'\n",
        "!unzip -qq './omniglot/python/strokes_background.zip'"
      ],
      "metadata": {
        "id": "pWL6GcIE7Qpl"
      },
      "execution_count": null,
      "outputs": []
    },
    {
      "cell_type": "markdown",
      "source": [
        "## Orden de las imágenes"
      ],
      "metadata": {
        "id": "a_MT-bf69Bh9"
      }
    },
    {
      "cell_type": "markdown",
      "source": [
        "En la carpeta images_background, hay 30 alfabetos diferentes. Cada alfabeto contiene una cantidad variada de caracteres, entre 20-50 aprox. Cada uno de los caracteres cuenta es de la forma XXXX_YY.png, donde XXXX corresponde al identificador del caracter, el cual es único entre todos los caracteres de todos los alfabetos. YY corresponde al número de muestra de un caracter en específico, el cual va siempre desde 01 hasta 20 (20 muestras por caracter)."
      ],
      "metadata": {
        "id": "QxmwZVpv-VH_"
      }
    },
    {
      "cell_type": "markdown",
      "source": [
        "Ahora bien, el problema está en que los XXXX no vienen ordenados secuencialmente en cada uno de los alfabetos. Por lo tanto, para hacer el preprocesamiento, hará un diccionario que mapeará cada uno de los id a un valor ordenado, para que la posterior clasificación sea más rápida."
      ],
      "metadata": {
        "id": "PEwVNtlt_xs-"
      }
    },
    {
      "cell_type": "code",
      "source": [
        "img_dir = 'images_background'\n",
        "# stroke_dir = 'strokes_background'\n",
        "nreps = 20 # number of renditions for each character\n",
        "# nalpha = 5 # number of alphabets to show\n",
        "\n",
        "alphabet_names = sorted([a for a in os.listdir(img_dir) if a[0] != '.']) # get folder names\n",
        "length_alphabet_names = len(alphabet_names)\n",
        "character_lengths = [len(os.listdir(os.path.join(img_dir, alph_name))) for alph_name in alphabet_names]\n",
        "\n",
        "# alphabet_names = random.sample(alphabet_names,nalpha) # choose random alphabets\n",
        "# print(len(alphabet_names))\n",
        "\n",
        "N = sum([len(os.listdir(os.path.join(img_dir, alph_name, char)))\n",
        "            for alph_name in alphabet_names\n",
        "            for char in os.listdir(os.path.join(img_dir, alph_name))\n",
        "      ])\n",
        "\n",
        "\n",
        "y = np.zeros((N), 'int') # ground truth\n",
        "current_character_folder = 0 # carpeta de un caracter visitado\n",
        "\n",
        "df_alphabet_names = []\n",
        "df_character_names = []\n",
        "df_character_idx = []\n",
        "df_paths = []\n",
        "df_y = []\n",
        "\n",
        "for i in range(len(alphabet_names)):\n",
        "  alphabet_name = alphabet_names[i]\n",
        "  character_length = character_lengths[i]\n",
        "  character_folders = sorted(os.listdir(os.path.join(img_dir, alphabet_name)))\n",
        "\n",
        "  for j in range(character_length):\n",
        "    character_folder = character_folders[j]\n",
        "    characters = sorted(os.listdir(os.path.join(img_dir, alphabet_name, character_folder)))\n",
        "    # print(character_folder)\n",
        "\n",
        "    for k in range(nreps):\n",
        "      y[(current_character_folder * nreps) + k] = current_character_folder\n",
        "\n",
        "      # Se añade al Df\n",
        "      df_alphabet_names.extend([alphabet_name])\n",
        "      df_character_names.extend([character_folder])\n",
        "      df_character_idx.extend([k])\n",
        "      df_paths.extend([os.path.join(img_dir, alphabet_name, character_folder, characters[k])])\n",
        "      df_y.extend([current_character_folder])\n",
        "\n",
        "    current_character_folder += 1\n",
        "\n",
        "\n",
        "df = pd.DataFrame({\n",
        "    'Alphabet': df_alphabet_names,\n",
        "    'Character': df_character_names,\n",
        "    'Sample': df_character_idx,\n",
        "    'Path': df_paths,\n",
        "    'y': df_y\n",
        "})"
      ],
      "metadata": {
        "id": "F5WwCV9K7T2U"
      },
      "execution_count": null,
      "outputs": []
    },
    {
      "cell_type": "markdown",
      "source": [
        "Al observar las muestras que tenemos, se obtiene lo siguiente"
      ],
      "metadata": {
        "id": "FkpwjLruG6Kb"
      }
    },
    {
      "cell_type": "code",
      "source": [
        "df"
      ],
      "metadata": {
        "colab": {
          "base_uri": "https://localhost:8080/",
          "height": 423
        },
        "id": "3nE6_A7cGxpJ",
        "outputId": "6eed556d-17b0-4b45-ea6e-2832c15f37ad"
      },
      "execution_count": null,
      "outputs": [
        {
          "output_type": "execute_result",
          "data": {
            "text/plain": [
              "                   Alphabet    Character  Sample  \\\n",
              "0      Alphabet_of_the_Magi  character01       0   \n",
              "1      Alphabet_of_the_Magi  character01       1   \n",
              "2      Alphabet_of_the_Magi  character01       2   \n",
              "3      Alphabet_of_the_Magi  character01       3   \n",
              "4      Alphabet_of_the_Magi  character01       4   \n",
              "...                     ...          ...     ...   \n",
              "19275              Tifinagh  character55      15   \n",
              "19276              Tifinagh  character55      16   \n",
              "19277              Tifinagh  character55      17   \n",
              "19278              Tifinagh  character55      18   \n",
              "19279              Tifinagh  character55      19   \n",
              "\n",
              "                                                    Path    y  \n",
              "0      images_background/Alphabet_of_the_Magi/charact...    0  \n",
              "1      images_background/Alphabet_of_the_Magi/charact...    0  \n",
              "2      images_background/Alphabet_of_the_Magi/charact...    0  \n",
              "3      images_background/Alphabet_of_the_Magi/charact...    0  \n",
              "4      images_background/Alphabet_of_the_Magi/charact...    0  \n",
              "...                                                  ...  ...  \n",
              "19275  images_background/Tifinagh/character55/0964_16...  963  \n",
              "19276  images_background/Tifinagh/character55/0964_17...  963  \n",
              "19277  images_background/Tifinagh/character55/0964_18...  963  \n",
              "19278  images_background/Tifinagh/character55/0964_19...  963  \n",
              "19279  images_background/Tifinagh/character55/0964_20...  963  \n",
              "\n",
              "[19280 rows x 5 columns]"
            ],
            "text/html": [
              "\n",
              "  <div id=\"df-55b76d8e-051b-467b-9c94-98fb9c965aef\">\n",
              "    <div class=\"colab-df-container\">\n",
              "      <div>\n",
              "<style scoped>\n",
              "    .dataframe tbody tr th:only-of-type {\n",
              "        vertical-align: middle;\n",
              "    }\n",
              "\n",
              "    .dataframe tbody tr th {\n",
              "        vertical-align: top;\n",
              "    }\n",
              "\n",
              "    .dataframe thead th {\n",
              "        text-align: right;\n",
              "    }\n",
              "</style>\n",
              "<table border=\"1\" class=\"dataframe\">\n",
              "  <thead>\n",
              "    <tr style=\"text-align: right;\">\n",
              "      <th></th>\n",
              "      <th>Alphabet</th>\n",
              "      <th>Character</th>\n",
              "      <th>Sample</th>\n",
              "      <th>Path</th>\n",
              "      <th>y</th>\n",
              "    </tr>\n",
              "  </thead>\n",
              "  <tbody>\n",
              "    <tr>\n",
              "      <th>0</th>\n",
              "      <td>Alphabet_of_the_Magi</td>\n",
              "      <td>character01</td>\n",
              "      <td>0</td>\n",
              "      <td>images_background/Alphabet_of_the_Magi/charact...</td>\n",
              "      <td>0</td>\n",
              "    </tr>\n",
              "    <tr>\n",
              "      <th>1</th>\n",
              "      <td>Alphabet_of_the_Magi</td>\n",
              "      <td>character01</td>\n",
              "      <td>1</td>\n",
              "      <td>images_background/Alphabet_of_the_Magi/charact...</td>\n",
              "      <td>0</td>\n",
              "    </tr>\n",
              "    <tr>\n",
              "      <th>2</th>\n",
              "      <td>Alphabet_of_the_Magi</td>\n",
              "      <td>character01</td>\n",
              "      <td>2</td>\n",
              "      <td>images_background/Alphabet_of_the_Magi/charact...</td>\n",
              "      <td>0</td>\n",
              "    </tr>\n",
              "    <tr>\n",
              "      <th>3</th>\n",
              "      <td>Alphabet_of_the_Magi</td>\n",
              "      <td>character01</td>\n",
              "      <td>3</td>\n",
              "      <td>images_background/Alphabet_of_the_Magi/charact...</td>\n",
              "      <td>0</td>\n",
              "    </tr>\n",
              "    <tr>\n",
              "      <th>4</th>\n",
              "      <td>Alphabet_of_the_Magi</td>\n",
              "      <td>character01</td>\n",
              "      <td>4</td>\n",
              "      <td>images_background/Alphabet_of_the_Magi/charact...</td>\n",
              "      <td>0</td>\n",
              "    </tr>\n",
              "    <tr>\n",
              "      <th>...</th>\n",
              "      <td>...</td>\n",
              "      <td>...</td>\n",
              "      <td>...</td>\n",
              "      <td>...</td>\n",
              "      <td>...</td>\n",
              "    </tr>\n",
              "    <tr>\n",
              "      <th>19275</th>\n",
              "      <td>Tifinagh</td>\n",
              "      <td>character55</td>\n",
              "      <td>15</td>\n",
              "      <td>images_background/Tifinagh/character55/0964_16...</td>\n",
              "      <td>963</td>\n",
              "    </tr>\n",
              "    <tr>\n",
              "      <th>19276</th>\n",
              "      <td>Tifinagh</td>\n",
              "      <td>character55</td>\n",
              "      <td>16</td>\n",
              "      <td>images_background/Tifinagh/character55/0964_17...</td>\n",
              "      <td>963</td>\n",
              "    </tr>\n",
              "    <tr>\n",
              "      <th>19277</th>\n",
              "      <td>Tifinagh</td>\n",
              "      <td>character55</td>\n",
              "      <td>17</td>\n",
              "      <td>images_background/Tifinagh/character55/0964_18...</td>\n",
              "      <td>963</td>\n",
              "    </tr>\n",
              "    <tr>\n",
              "      <th>19278</th>\n",
              "      <td>Tifinagh</td>\n",
              "      <td>character55</td>\n",
              "      <td>18</td>\n",
              "      <td>images_background/Tifinagh/character55/0964_19...</td>\n",
              "      <td>963</td>\n",
              "    </tr>\n",
              "    <tr>\n",
              "      <th>19279</th>\n",
              "      <td>Tifinagh</td>\n",
              "      <td>character55</td>\n",
              "      <td>19</td>\n",
              "      <td>images_background/Tifinagh/character55/0964_20...</td>\n",
              "      <td>963</td>\n",
              "    </tr>\n",
              "  </tbody>\n",
              "</table>\n",
              "<p>19280 rows × 5 columns</p>\n",
              "</div>\n",
              "      <button class=\"colab-df-convert\" onclick=\"convertToInteractive('df-55b76d8e-051b-467b-9c94-98fb9c965aef')\"\n",
              "              title=\"Convert this dataframe to an interactive table.\"\n",
              "              style=\"display:none;\">\n",
              "        \n",
              "  <svg xmlns=\"http://www.w3.org/2000/svg\" height=\"24px\"viewBox=\"0 0 24 24\"\n",
              "       width=\"24px\">\n",
              "    <path d=\"M0 0h24v24H0V0z\" fill=\"none\"/>\n",
              "    <path d=\"M18.56 5.44l.94 2.06.94-2.06 2.06-.94-2.06-.94-.94-2.06-.94 2.06-2.06.94zm-11 1L8.5 8.5l.94-2.06 2.06-.94-2.06-.94L8.5 2.5l-.94 2.06-2.06.94zm10 10l.94 2.06.94-2.06 2.06-.94-2.06-.94-.94-2.06-.94 2.06-2.06.94z\"/><path d=\"M17.41 7.96l-1.37-1.37c-.4-.4-.92-.59-1.43-.59-.52 0-1.04.2-1.43.59L10.3 9.45l-7.72 7.72c-.78.78-.78 2.05 0 2.83L4 21.41c.39.39.9.59 1.41.59.51 0 1.02-.2 1.41-.59l7.78-7.78 2.81-2.81c.8-.78.8-2.07 0-2.86zM5.41 20L4 18.59l7.72-7.72 1.47 1.35L5.41 20z\"/>\n",
              "  </svg>\n",
              "      </button>\n",
              "      \n",
              "  <style>\n",
              "    .colab-df-container {\n",
              "      display:flex;\n",
              "      flex-wrap:wrap;\n",
              "      gap: 12px;\n",
              "    }\n",
              "\n",
              "    .colab-df-convert {\n",
              "      background-color: #E8F0FE;\n",
              "      border: none;\n",
              "      border-radius: 50%;\n",
              "      cursor: pointer;\n",
              "      display: none;\n",
              "      fill: #1967D2;\n",
              "      height: 32px;\n",
              "      padding: 0 0 0 0;\n",
              "      width: 32px;\n",
              "    }\n",
              "\n",
              "    .colab-df-convert:hover {\n",
              "      background-color: #E2EBFA;\n",
              "      box-shadow: 0px 1px 2px rgba(60, 64, 67, 0.3), 0px 1px 3px 1px rgba(60, 64, 67, 0.15);\n",
              "      fill: #174EA6;\n",
              "    }\n",
              "\n",
              "    [theme=dark] .colab-df-convert {\n",
              "      background-color: #3B4455;\n",
              "      fill: #D2E3FC;\n",
              "    }\n",
              "\n",
              "    [theme=dark] .colab-df-convert:hover {\n",
              "      background-color: #434B5C;\n",
              "      box-shadow: 0px 1px 3px 1px rgba(0, 0, 0, 0.15);\n",
              "      filter: drop-shadow(0px 1px 2px rgba(0, 0, 0, 0.3));\n",
              "      fill: #FFFFFF;\n",
              "    }\n",
              "  </style>\n",
              "\n",
              "      <script>\n",
              "        const buttonEl =\n",
              "          document.querySelector('#df-55b76d8e-051b-467b-9c94-98fb9c965aef button.colab-df-convert');\n",
              "        buttonEl.style.display =\n",
              "          google.colab.kernel.accessAllowed ? 'block' : 'none';\n",
              "\n",
              "        async function convertToInteractive(key) {\n",
              "          const element = document.querySelector('#df-55b76d8e-051b-467b-9c94-98fb9c965aef');\n",
              "          const dataTable =\n",
              "            await google.colab.kernel.invokeFunction('convertToInteractive',\n",
              "                                                     [key], {});\n",
              "          if (!dataTable) return;\n",
              "\n",
              "          const docLinkHtml = 'Like what you see? Visit the ' +\n",
              "            '<a target=\"_blank\" href=https://colab.research.google.com/notebooks/data_table.ipynb>data table notebook</a>'\n",
              "            + ' to learn more about interactive tables.';\n",
              "          element.innerHTML = '';\n",
              "          dataTable['output_type'] = 'display_data';\n",
              "          await google.colab.output.renderOutput(dataTable, element);\n",
              "          const docLink = document.createElement('div');\n",
              "          docLink.innerHTML = docLinkHtml;\n",
              "          element.appendChild(docLink);\n",
              "        }\n",
              "      </script>\n",
              "    </div>\n",
              "  </div>\n",
              "  "
            ]
          },
          "metadata": {},
          "execution_count": 6
        }
      ]
    },
    {
      "cell_type": "markdown",
      "source": [
        "## Ejemplo de una imagen"
      ],
      "metadata": {
        "id": "5EVtbenEOMcj"
      }
    },
    {
      "cell_type": "code",
      "source": [
        "path = df.iloc[0]['Path']\n",
        "img = Image.open(path)\n",
        "# print('Shape:', img.shape)\n",
        "plt.imshow(img, cmap='gray')\n",
        "plt.show()"
      ],
      "metadata": {
        "colab": {
          "base_uri": "https://localhost:8080/",
          "height": 434
        },
        "id": "EHSDlVH9OOBw",
        "outputId": "974af588-3457-41e2-8f50-c69dce8020ba"
      },
      "execution_count": null,
      "outputs": [
        {
          "output_type": "display_data",
          "data": {
            "text/plain": [
              "<Figure size 640x480 with 1 Axes>"
            ],
            "image/png": "[encoded data removed]"
          },
          "metadata": {}
        }
      ]
    },
    {
      "cell_type": "code",
      "source": [
        "print(img)"
      ],
      "metadata": {
        "colab": {
          "base_uri": "https://localhost:8080/"
        },
        "id": "JyTyPtfIBV9J",
        "outputId": "69419a76-ec09-43b8-df70-af6087fe32f8"
      },
      "execution_count": null,
      "outputs": [
        {
          "output_type": "stream",
          "name": "stdout",
          "text": [
            "<PIL.PngImagePlugin.PngImageFile image mode=1 size=105x105 at 0x7FC255711930>\n"
          ]
        }
      ]
    },
    {
      "cell_type": "markdown",
      "source": [
        "## Separación Train - Val - Test:\n",
        "\n",
        "El objetivo de la ResNet es justamente clasificar cada uno de los caracteres. En total, tenemos 964 caracteres distintos (labels enumerados del 0 al 963), provenientes de 30 alfabetos, y cada caracter posee 20 muestras. Por ende, tenemos 19280 imagenes distintas.\n",
        "\n",
        "Dado que cada caracter posee 20 muestras, se utilizará una proporción 70% train, 20% validation y 10% test. Vale decir: 14 imágenes de train, 4 de validation, y 2 de test por cada caracter.\n",
        "\n",
        "En total debería dar:\n",
        "* 13.496 imágenes de Train\n",
        "* 3.856 imágenes de Validation\n",
        "* 1.928 imágenes de Test"
      ],
      "metadata": {
        "id": "E-yYhKZmD9PF"
      }
    },
    {
      "cell_type": "code",
      "source": [
        "# Separacion de df basados en el numero de fila\n",
        "df_train = df.groupby('y').head(14)\n",
        "df_val = df.groupby('y').apply(lambda x: x.iloc[14:18])\n",
        "df_test = df.groupby('y').apply(lambda x: x.iloc[18:20])\n",
        "\n",
        "# Reseteamos los indices de los df\n",
        "df_train.reset_index(drop=True, inplace=True)\n",
        "df_val.reset_index(drop=True, inplace=True)\n",
        "df_test.reset_index(drop=True, inplace=True)\n"
      ],
      "metadata": {
        "id": "HIL7mN16PIVb"
      },
      "execution_count": null,
      "outputs": []
    },
    {
      "cell_type": "code",
      "source": [
        "print('Length df_train:', len(df_train))\n",
        "print('Length df_val:', len(df_val))\n",
        "print('Length df_test:', len(df_test))"
      ],
      "metadata": {
        "colab": {
          "base_uri": "https://localhost:8080/"
        },
        "id": "scalaQkmQuY_",
        "outputId": "a4fdf291-5b71-4987-c44e-8b9d7fa21fd4"
      },
      "execution_count": null,
      "outputs": [
        {
          "output_type": "stream",
          "name": "stdout",
          "text": [
            "Length df_train: 13496\n",
            "Length df_val: 3856\n",
            "Length df_test: 1928\n"
          ]
        }
      ]
    },
    {
      "cell_type": "markdown",
      "source": [
        "Por ejemplo, si vemos como quedó el df_train:"
      ],
      "metadata": {
        "id": "OCVt-njlQ23W"
      }
    },
    {
      "cell_type": "code",
      "source": [
        "df_train[0:20]"
      ],
      "metadata": {
        "colab": {
          "base_uri": "https://localhost:8080/",
          "height": 676
        },
        "id": "dwzHy4OLRCmM",
        "outputId": "042a88e1-daa2-4d23-bf36-a1c31849b9c7"
      },
      "execution_count": null,
      "outputs": [
        {
          "output_type": "execute_result",
          "data": {
            "text/plain": [
              "                Alphabet    Character  Sample  \\\n",
              "0   Alphabet_of_the_Magi  character01       0   \n",
              "1   Alphabet_of_the_Magi  character01       1   \n",
              "2   Alphabet_of_the_Magi  character01       2   \n",
              "3   Alphabet_of_the_Magi  character01       3   \n",
              "4   Alphabet_of_the_Magi  character01       4   \n",
              "5   Alphabet_of_the_Magi  character01       5   \n",
              "6   Alphabet_of_the_Magi  character01       6   \n",
              "7   Alphabet_of_the_Magi  character01       7   \n",
              "8   Alphabet_of_the_Magi  character01       8   \n",
              "9   Alphabet_of_the_Magi  character01       9   \n",
              "10  Alphabet_of_the_Magi  character01      10   \n",
              "11  Alphabet_of_the_Magi  character01      11   \n",
              "12  Alphabet_of_the_Magi  character01      12   \n",
              "13  Alphabet_of_the_Magi  character01      13   \n",
              "14  Alphabet_of_the_Magi  character02       0   \n",
              "15  Alphabet_of_the_Magi  character02       1   \n",
              "16  Alphabet_of_the_Magi  character02       2   \n",
              "17  Alphabet_of_the_Magi  character02       3   \n",
              "18  Alphabet_of_the_Magi  character02       4   \n",
              "19  Alphabet_of_the_Magi  character02       5   \n",
              "\n",
              "                                                 Path  y  \n",
              "0   images_background/Alphabet_of_the_Magi/charact...  0  \n",
              "1   images_background/Alphabet_of_the_Magi/charact...  0  \n",
              "2   images_background/Alphabet_of_the_Magi/charact...  0  \n",
              "3   images_background/Alphabet_of_the_Magi/charact...  0  \n",
              "4   images_background/Alphabet_of_the_Magi/charact...  0  \n",
              "5   images_background/Alphabet_of_the_Magi/charact...  0  \n",
              "6   images_background/Alphabet_of_the_Magi/charact...  0  \n",
              "7   images_background/Alphabet_of_the_Magi/charact...  0  \n",
              "8   images_background/Alphabet_of_the_Magi/charact...  0  \n",
              "9   images_background/Alphabet_of_the_Magi/charact...  0  \n",
              "10  images_background/Alphabet_of_the_Magi/charact...  0  \n",
              "11  images_background/Alphabet_of_the_Magi/charact...  0  \n",
              "12  images_background/Alphabet_of_the_Magi/charact...  0  \n",
              "13  images_background/Alphabet_of_the_Magi/charact...  0  \n",
              "14  images_background/Alphabet_of_the_Magi/charact...  1  \n",
              "15  images_background/Alphabet_of_the_Magi/charact...  1  \n",
              "16  images_background/Alphabet_of_the_Magi/charact...  1  \n",
              "17  images_background/Alphabet_of_the_Magi/charact...  1  \n",
              "18  images_background/Alphabet_of_the_Magi/charact...  1  \n",
              "19  images_background/Alphabet_of_the_Magi/charact...  1  "
            ],
            "text/html": [
              "\n",
              "  <div id=\"df-677378e4-3911-44b4-a52e-ef90179c5df4\">\n",
              "    <div class=\"colab-df-container\">\n",
              "      <div>\n",
              "<style scoped>\n",
              "    .dataframe tbody tr th:only-of-type {\n",
              "        vertical-align: middle;\n",
              "    }\n",
              "\n",
              "    .dataframe tbody tr th {\n",
              "        vertical-align: top;\n",
              "    }\n",
              "\n",
              "    .dataframe thead th {\n",
              "        text-align: right;\n",
              "    }\n",
              "</style>\n",
              "<table border=\"1\" class=\"dataframe\">\n",
              "  <thead>\n",
              "    <tr style=\"text-align: right;\">\n",
              "      <th></th>\n",
              "      <th>Alphabet</th>\n",
              "      <th>Character</th>\n",
              "      <th>Sample</th>\n",
              "      <th>Path</th>\n",
              "      <th>y</th>\n",
              "    </tr>\n",
              "  </thead>\n",
              "  <tbody>\n",
              "    <tr>\n",
              "      <th>0</th>\n",
              "      <td>Alphabet_of_the_Magi</td>\n",
              "      <td>character01</td>\n",
              "      <td>0</td>\n",
              "      <td>images_background/Alphabet_of_the_Magi/charact...</td>\n",
              "      <td>0</td>\n",
              "    </tr>\n",
              "    <tr>\n",
              "      <th>1</th>\n",
              "      <td>Alphabet_of_the_Magi</td>\n",
              "      <td>character01</td>\n",
              "      <td>1</td>\n",
              "      <td>images_background/Alphabet_of_the_Magi/charact...</td>\n",
              "      <td>0</td>\n",
              "    </tr>\n",
              "    <tr>\n",
              "      <th>2</th>\n",
              "      <td>Alphabet_of_the_Magi</td>\n",
              "      <td>character01</td>\n",
              "      <td>2</td>\n",
              "      <td>images_background/Alphabet_of_the_Magi/charact...</td>\n",
              "      <td>0</td>\n",
              "    </tr>\n",
              "    <tr>\n",
              "      <th>3</th>\n",
              "      <td>Alphabet_of_the_Magi</td>\n",
              "      <td>character01</td>\n",
              "      <td>3</td>\n",
              "      <td>images_background/Alphabet_of_the_Magi/charact...</td>\n",
              "      <td>0</td>\n",
              "    </tr>\n",
              "    <tr>\n",
              "      <th>4</th>\n",
              "      <td>Alphabet_of_the_Magi</td>\n",
              "      <td>character01</td>\n",
              "      <td>4</td>\n",
              "      <td>images_background/Alphabet_of_the_Magi/charact...</td>\n",
              "      <td>0</td>\n",
              "    </tr>\n",
              "    <tr>\n",
              "      <th>5</th>\n",
              "      <td>Alphabet_of_the_Magi</td>\n",
              "      <td>character01</td>\n",
              "      <td>5</td>\n",
              "      <td>images_background/Alphabet_of_the_Magi/charact...</td>\n",
              "      <td>0</td>\n",
              "    </tr>\n",
              "    <tr>\n",
              "      <th>6</th>\n",
              "      <td>Alphabet_of_the_Magi</td>\n",
              "      <td>character01</td>\n",
              "      <td>6</td>\n",
              "      <td>images_background/Alphabet_of_the_Magi/charact...</td>\n",
              "      <td>0</td>\n",
              "    </tr>\n",
              "    <tr>\n",
              "      <th>7</th>\n",
              "      <td>Alphabet_of_the_Magi</td>\n",
              "      <td>character01</td>\n",
              "      <td>7</td>\n",
              "      <td>images_background/Alphabet_of_the_Magi/charact...</td>\n",
              "      <td>0</td>\n",
              "    </tr>\n",
              "    <tr>\n",
              "      <th>8</th>\n",
              "      <td>Alphabet_of_the_Magi</td>\n",
              "      <td>character01</td>\n",
              "      <td>8</td>\n",
              "      <td>images_background/Alphabet_of_the_Magi/charact...</td>\n",
              "      <td>0</td>\n",
              "    </tr>\n",
              "    <tr>\n",
              "      <th>9</th>\n",
              "      <td>Alphabet_of_the_Magi</td>\n",
              "      <td>character01</td>\n",
              "      <td>9</td>\n",
              "      <td>images_background/Alphabet_of_the_Magi/charact...</td>\n",
              "      <td>0</td>\n",
              "    </tr>\n",
              "    <tr>\n",
              "      <th>10</th>\n",
              "      <td>Alphabet_of_the_Magi</td>\n",
              "      <td>character01</td>\n",
              "      <td>10</td>\n",
              "      <td>images_background/Alphabet_of_the_Magi/charact...</td>\n",
              "      <td>0</td>\n",
              "    </tr>\n",
              "    <tr>\n",
              "      <th>11</th>\n",
              "      <td>Alphabet_of_the_Magi</td>\n",
              "      <td>character01</td>\n",
              "      <td>11</td>\n",
              "      <td>images_background/Alphabet_of_the_Magi/charact...</td>\n",
              "      <td>0</td>\n",
              "    </tr>\n",
              "    <tr>\n",
              "      <th>12</th>\n",
              "      <td>Alphabet_of_the_Magi</td>\n",
              "      <td>character01</td>\n",
              "      <td>12</td>\n",
              "      <td>images_background/Alphabet_of_the_Magi/charact...</td>\n",
              "      <td>0</td>\n",
              "    </tr>\n",
              "    <tr>\n",
              "      <th>13</th>\n",
              "      <td>Alphabet_of_the_Magi</td>\n",
              "      <td>character01</td>\n",
              "      <td>13</td>\n",
              "      <td>images_background/Alphabet_of_the_Magi/charact...</td>\n",
              "      <td>0</td>\n",
              "    </tr>\n",
              "    <tr>\n",
              "      <th>14</th>\n",
              "      <td>Alphabet_of_the_Magi</td>\n",
              "      <td>character02</td>\n",
              "      <td>0</td>\n",
              "      <td>images_background/Alphabet_of_the_Magi/charact...</td>\n",
              "      <td>1</td>\n",
              "    </tr>\n",
              "    <tr>\n",
              "      <th>15</th>\n",
              "      <td>Alphabet_of_the_Magi</td>\n",
              "      <td>character02</td>\n",
              "      <td>1</td>\n",
              "      <td>images_background/Alphabet_of_the_Magi/charact...</td>\n",
              "      <td>1</td>\n",
              "    </tr>\n",
              "    <tr>\n",
              "      <th>16</th>\n",
              "      <td>Alphabet_of_the_Magi</td>\n",
              "      <td>character02</td>\n",
              "      <td>2</td>\n",
              "      <td>images_background/Alphabet_of_the_Magi/charact...</td>\n",
              "      <td>1</td>\n",
              "    </tr>\n",
              "    <tr>\n",
              "      <th>17</th>\n",
              "      <td>Alphabet_of_the_Magi</td>\n",
              "      <td>character02</td>\n",
              "      <td>3</td>\n",
              "      <td>images_background/Alphabet_of_the_Magi/charact...</td>\n",
              "      <td>1</td>\n",
              "    </tr>\n",
              "    <tr>\n",
              "      <th>18</th>\n",
              "      <td>Alphabet_of_the_Magi</td>\n",
              "      <td>character02</td>\n",
              "      <td>4</td>\n",
              "      <td>images_background/Alphabet_of_the_Magi/charact...</td>\n",
              "      <td>1</td>\n",
              "    </tr>\n",
              "    <tr>\n",
              "      <th>19</th>\n",
              "      <td>Alphabet_of_the_Magi</td>\n",
              "      <td>character02</td>\n",
              "      <td>5</td>\n",
              "      <td>images_background/Alphabet_of_the_Magi/charact...</td>\n",
              "      <td>1</td>\n",
              "    </tr>\n",
              "  </tbody>\n",
              "</table>\n",
              "</div>\n",
              "      <button class=\"colab-df-convert\" onclick=\"convertToInteractive('df-677378e4-3911-44b4-a52e-ef90179c5df4')\"\n",
              "              title=\"Convert this dataframe to an interactive table.\"\n",
              "              style=\"display:none;\">\n",
              "        \n",
              "  <svg xmlns=\"http://www.w3.org/2000/svg\" height=\"24px\"viewBox=\"0 0 24 24\"\n",
              "       width=\"24px\">\n",
              "    <path d=\"M0 0h24v24H0V0z\" fill=\"none\"/>\n",
              "    <path d=\"M18.56 5.44l.94 2.06.94-2.06 2.06-.94-2.06-.94-.94-2.06-.94 2.06-2.06.94zm-11 1L8.5 8.5l.94-2.06 2.06-.94-2.06-.94L8.5 2.5l-.94 2.06-2.06.94zm10 10l.94 2.06.94-2.06 2.06-.94-2.06-.94-.94-2.06-.94 2.06-2.06.94z\"/><path d=\"M17.41 7.96l-1.37-1.37c-.4-.4-.92-.59-1.43-.59-.52 0-1.04.2-1.43.59L10.3 9.45l-7.72 7.72c-.78.78-.78 2.05 0 2.83L4 21.41c.39.39.9.59 1.41.59.51 0 1.02-.2 1.41-.59l7.78-7.78 2.81-2.81c.8-.78.8-2.07 0-2.86zM5.41 20L4 18.59l7.72-7.72 1.47 1.35L5.41 20z\"/>\n",
              "  </svg>\n",
              "      </button>\n",
              "      \n",
              "  <style>\n",
              "    .colab-df-container {\n",
              "      display:flex;\n",
              "      flex-wrap:wrap;\n",
              "      gap: 12px;\n",
              "    }\n",
              "\n",
              "    .colab-df-convert {\n",
              "      background-color: #E8F0FE;\n",
              "      border: none;\n",
              "      border-radius: 50%;\n",
              "      cursor: pointer;\n",
              "      display: none;\n",
              "      fill: #1967D2;\n",
              "      height: 32px;\n",
              "      padding: 0 0 0 0;\n",
              "      width: 32px;\n",
              "    }\n",
              "\n",
              "    .colab-df-convert:hover {\n",
              "      background-color: #E2EBFA;\n",
              "      box-shadow: 0px 1px 2px rgba(60, 64, 67, 0.3), 0px 1px 3px 1px rgba(60, 64, 67, 0.15);\n",
              "      fill: #174EA6;\n",
              "    }\n",
              "\n",
              "    [theme=dark] .colab-df-convert {\n",
              "      background-color: #3B4455;\n",
              "      fill: #D2E3FC;\n",
              "    }\n",
              "\n",
              "    [theme=dark] .colab-df-convert:hover {\n",
              "      background-color: #434B5C;\n",
              "      box-shadow: 0px 1px 3px 1px rgba(0, 0, 0, 0.15);\n",
              "      filter: drop-shadow(0px 1px 2px rgba(0, 0, 0, 0.3));\n",
              "      fill: #FFFFFF;\n",
              "    }\n",
              "  </style>\n",
              "\n",
              "      <script>\n",
              "        const buttonEl =\n",
              "          document.querySelector('#df-677378e4-3911-44b4-a52e-ef90179c5df4 button.colab-df-convert');\n",
              "        buttonEl.style.display =\n",
              "          google.colab.kernel.accessAllowed ? 'block' : 'none';\n",
              "\n",
              "        async function convertToInteractive(key) {\n",
              "          const element = document.querySelector('#df-677378e4-3911-44b4-a52e-ef90179c5df4');\n",
              "          const dataTable =\n",
              "            await google.colab.kernel.invokeFunction('convertToInteractive',\n",
              "                                                     [key], {});\n",
              "          if (!dataTable) return;\n",
              "\n",
              "          const docLinkHtml = 'Like what you see? Visit the ' +\n",
              "            '<a target=\"_blank\" href=https://colab.research.google.com/notebooks/data_table.ipynb>data table notebook</a>'\n",
              "            + ' to learn more about interactive tables.';\n",
              "          element.innerHTML = '';\n",
              "          dataTable['output_type'] = 'display_data';\n",
              "          await google.colab.output.renderOutput(dataTable, element);\n",
              "          const docLink = document.createElement('div');\n",
              "          docLink.innerHTML = docLinkHtml;\n",
              "          element.appendChild(docLink);\n",
              "        }\n",
              "      </script>\n",
              "    </div>\n",
              "  </div>\n",
              "  "
            ]
          },
          "metadata": {},
          "execution_count": 11
        }
      ]
    },
    {
      "cell_type": "markdown",
      "source": [
        "## Modelo EfficientNet"
      ],
      "metadata": {
        "id": "SzIGGLV0Juuk"
      }
    },
    {
      "cell_type": "code",
      "source": [
        "num_classes = 964 # Cantidad de clases que hay"
      ],
      "metadata": {
        "id": "9EjltURwMuNS"
      },
      "execution_count": null,
      "outputs": []
    },
    {
      "cell_type": "code",
      "source": [
        "model = models.efficientnet_v2_l(weights=EfficientNet_V2_L_Weights.IMAGENET1K_V1)\n",
        "model.classifier[1] = nn.Linear(1280, num_classes, bias=True)\n",
        "model.aux_logits=False\n",
        "model.to(device)\n",
        "\n",
        "for param in model.parameters(): param.requires_grad = False\n",
        "\n",
        "# Descongelamos la última capa\n",
        "for param in model.classifier.parameters(): param.requires_grad = True\n",
        "\n",
        "summary(model, input_size=(3, 105, 105))\n",
        "\n",
        "criterion = nn.CrossEntropyLoss()\n",
        "optimizer = optim.SGD(model.parameters(), lr=1e-2, momentum=0.7)"
      ],
      "metadata": {
        "id": "3jMXEvmeM79Z"
      },
      "execution_count": null,
      "outputs": []
    },
    {
      "cell_type": "markdown",
      "source": [
        "## Train"
      ],
      "metadata": {
        "id": "fnBVH6wfNSjW"
      }
    },
    {
      "cell_type": "code",
      "source": [
        "class Character(torch.utils.data.Dataset):\n",
        "    def __init__(self, images, labels, transform=None):\n",
        "        self.transform = transform\n",
        "        self.images = images     # Vincula el indice con un nombre de archivo\n",
        "        self.labels = labels     # Vincula el indice con una clase\n",
        "\n",
        "    def get_image(self, path):\n",
        "        # img = plt.imread(path)\n",
        "        img = Image.open(path)\n",
        "        return img\n",
        "\n",
        "    def __getitem__(self, idx):\n",
        "        path_name = self.images[idx]\n",
        "        label = self.labels[idx]\n",
        "        img = self.get_image(path_name)\n",
        "\n",
        "        if self.transform is not None:\n",
        "            img = self.transform(img)\n",
        "        return img, label\n",
        "\n",
        "    def __len__(self):\n",
        "        return len(self.images)"
      ],
      "metadata": {
        "id": "_u5gUIleQqAb"
      },
      "execution_count": null,
      "outputs": []
    },
    {
      "cell_type": "code",
      "source": [
        "# Set up data transformations\n",
        "transform = Compose([\n",
        "    lambda x: x.convert('RGB'),\n",
        "    ToTensor(),\n",
        "    Normalize((0.5, 0.5, 0.5), (0.5, 0.5, 0.5))\n",
        "])\n",
        "\n",
        "\n",
        "train_dataset = Character(images=df_train['Path'], labels=df_train['y'], transform=transform)\n",
        "val_dataset = Character(images=df_val['Path'], labels=df_val['y'], transform=transform)\n",
        "test_dataset = Character(images=df_test['Path'], labels=df_test['y'], transform=transform)"
      ],
      "metadata": {
        "id": "RLglVdEkRAhU"
      },
      "execution_count": null,
      "outputs": []
    },
    {
      "cell_type": "code",
      "source": [
        "print('Train Dataset Length:', len(train_dataset))\n",
        "print('Val Dataset Length:', len(val_dataset))\n",
        "print('Test Dataset Length:', len(test_dataset))"
      ],
      "metadata": {
        "colab": {
          "base_uri": "https://localhost:8080/"
        },
        "id": "9yRb4EGGS4rc",
        "outputId": "b44882f7-1970-46ec-c396-842f3e027f25"
      },
      "execution_count": null,
      "outputs": [
        {
          "output_type": "stream",
          "name": "stdout",
          "text": [
            "Train Dataset Length: 13496\n",
            "Val Dataset Length: 3856\n",
            "Test Dataset Length: 1928\n"
          ]
        }
      ]
    },
    {
      "cell_type": "code",
      "source": [
        "# Set up the train loader\n",
        "batch_size = 64\n",
        "shuffle = True\n",
        "train_loader = DataLoader(train_dataset, batch_size=batch_size, shuffle=shuffle)\n",
        "val_loader = DataLoader(val_dataset, batch_size=batch_size, shuffle=shuffle)\n",
        "test_loader = DataLoader(test_dataset, batch_size=batch_size, shuffle=shuffle)"
      ],
      "metadata": {
        "id": "8bpcoym0QH7v"
      },
      "execution_count": null,
      "outputs": []
    },
    {
      "cell_type": "code",
      "source": [
        "trainiter = iter(train_loader)\n",
        "features, labels = next(trainiter)\n",
        "print(features.shape, labels.shape)"
      ],
      "metadata": {
        "colab": {
          "base_uri": "https://localhost:8080/"
        },
        "id": "Z_O7F4P4F_iH",
        "outputId": "c236fb07-0f95-48dc-997e-00d6d3856a77"
      },
      "execution_count": null,
      "outputs": [
        {
          "output_type": "stream",
          "name": "stdout",
          "text": [
            "torch.Size([64, 3, 105, 105]) torch.Size([64])\n"
          ]
        }
      ]
    },
    {
      "cell_type": "code",
      "source": [
        "len(train_loader)"
      ],
      "metadata": {
        "colab": {
          "base_uri": "https://localhost:8080/"
        },
        "id": "3uvzXDbJTP6c",
        "outputId": "abaf8cfe-1039-4a73-d96d-b5d07a49fc48"
      },
      "execution_count": null,
      "outputs": [
        {
          "output_type": "execute_result",
          "data": {
            "text/plain": [
              "211"
            ]
          },
          "metadata": {},
          "execution_count": 27
        }
      ]
    },
    {
      "cell_type": "code",
      "source": [
        "os.makedirs('models', exist_ok=True)\n",
        "model_path = 'models/EfficientNet'\n"
      ],
      "metadata": {
        "id": "fONePAmkJny0"
      },
      "execution_count": null,
      "outputs": []
    },
    {
      "cell_type": "markdown",
      "source": [
        "## Test"
      ],
      "metadata": {
        "id": "-ocu1pr5Ln7G"
      }
    },
    {
      "cell_type": "code",
      "source": [
        "# Función para correr inferencia usando un modelo y un\n",
        "# DataLoader con nuestros datos del set de test.\n",
        "def test_model(model, test_dl):\n",
        "    total_correctas = 0.0\n",
        "    total_muestras = 0.0\n",
        "\n",
        "    for x, target in test_dl:          # Iteramos sobre nuestros datos\n",
        "        # Inicio de la iteración\n",
        "        model.eval()                        # Dejamos el modelo en modo evaluación\n",
        "        with torch.no_grad():               # No se calculará información de gradientes\n",
        "                                            # en el código de más abajo.\n",
        "            x = x.cuda()\n",
        "            target = target.cuda()          # Enviamos nuestros datos a GPU\n",
        "            output = model(x)               # Hacemos el forward de nuestros datos\n",
        "\n",
        "            preds = output.argmax(dim=1)             # El máximo valor es nuestra predicción\n",
        "            correctas = (preds == target).sum()      # Acumulamos las correctas durante la época\n",
        "            total_correctas += correctas\n",
        "            total_muestras += target.shape[0]        # Sumamos el tamaño del batch\n",
        "\n",
        "            accuracy = total_correctas/total_muestras # Acc = correctas/total\n",
        "\n",
        "    return accuracy"
      ],
      "metadata": {
        "id": "sfZ9jg9ALnqq"
      },
      "execution_count": null,
      "outputs": []
    },
    {
      "cell_type": "code",
      "source": [
        "model = models.efficientnet_v2_l(weights=EfficientNet_V2_L_Weights.IMAGENET1K_V1)\n",
        "model.classifier[1] = nn.Linear(1280, num_classes, bias=True)\n",
        "model.aux_logits=False\n",
        "model.to(device)\n",
        "\n",
        "for param in model.parameters(): param.requires_grad = False\n",
        "\n",
        "# Descongelamos la última capa\n",
        "for param in model.classifier.parameters(): param.requires_grad = True\n",
        "\n",
        "summary(model, input_size=(3, 105, 105))\n",
        "\n",
        "criterion = nn.CrossEntropyLoss()\n",
        "# optimizer = optim.SGD(model.parameters(), lr=1e-2, momentum=0.7)\n",
        "optimizer = optim.Adam(model.parameters(), lr=1e-4)\n",
        "# optimizer = optim.Adagrad(model.parameters(), lr=0.009, lr_decay=0.0001)\n",
        "# optimizer = optim.ASGD(model.parameters(), lr=0.01)"
      ],
      "metadata": {
        "colab": {
          "base_uri": "https://localhost:8080/"
        },
        "id": "cSeU4C4zj0zd",
        "outputId": "ea947d30-c485-4678-d21c-e7d4f90ae816"
      },
      "execution_count": null,
      "outputs": [
        {
          "output_type": "stream",
          "name": "stdout",
          "text": [
            "----------------------------------------------------------------\n",
            "        Layer (type)               Output Shape         Param #\n",
            "================================================================\n",
            "            Conv2d-1           [-1, 32, 53, 53]             864\n",
            "       BatchNorm2d-2           [-1, 32, 53, 53]              64\n",
            "              SiLU-3           [-1, 32, 53, 53]               0\n",
            "            Conv2d-4           [-1, 32, 53, 53]           9,216\n",
            "       BatchNorm2d-5           [-1, 32, 53, 53]              64\n",
            "              SiLU-6           [-1, 32, 53, 53]               0\n",
            "   StochasticDepth-7           [-1, 32, 53, 53]               0\n",
            "       FusedMBConv-8           [-1, 32, 53, 53]               0\n",
            "            Conv2d-9           [-1, 32, 53, 53]           9,216\n",
            "      BatchNorm2d-10           [-1, 32, 53, 53]              64\n",
            "             SiLU-11           [-1, 32, 53, 53]               0\n",
            "  StochasticDepth-12           [-1, 32, 53, 53]               0\n",
            "      FusedMBConv-13           [-1, 32, 53, 53]               0\n",
            "           Conv2d-14           [-1, 32, 53, 53]           9,216\n",
            "      BatchNorm2d-15           [-1, 32, 53, 53]              64\n",
            "             SiLU-16           [-1, 32, 53, 53]               0\n",
            "  StochasticDepth-17           [-1, 32, 53, 53]               0\n",
            "      FusedMBConv-18           [-1, 32, 53, 53]               0\n",
            "           Conv2d-19           [-1, 32, 53, 53]           9,216\n",
            "      BatchNorm2d-20           [-1, 32, 53, 53]              64\n",
            "             SiLU-21           [-1, 32, 53, 53]               0\n",
            "  StochasticDepth-22           [-1, 32, 53, 53]               0\n",
            "      FusedMBConv-23           [-1, 32, 53, 53]               0\n",
            "           Conv2d-24          [-1, 128, 27, 27]          36,864\n",
            "      BatchNorm2d-25          [-1, 128, 27, 27]             256\n",
            "             SiLU-26          [-1, 128, 27, 27]               0\n",
            "           Conv2d-27           [-1, 64, 27, 27]           8,192\n",
            "      BatchNorm2d-28           [-1, 64, 27, 27]             128\n",
            "      FusedMBConv-29           [-1, 64, 27, 27]               0\n",
            "           Conv2d-30          [-1, 256, 27, 27]         147,456\n",
            "      BatchNorm2d-31          [-1, 256, 27, 27]             512\n",
            "             SiLU-32          [-1, 256, 27, 27]               0\n",
            "           Conv2d-33           [-1, 64, 27, 27]          16,384\n",
            "      BatchNorm2d-34           [-1, 64, 27, 27]             128\n",
            "  StochasticDepth-35           [-1, 64, 27, 27]               0\n",
            "      FusedMBConv-36           [-1, 64, 27, 27]               0\n",
            "           Conv2d-37          [-1, 256, 27, 27]         147,456\n",
            "      BatchNorm2d-38          [-1, 256, 27, 27]             512\n",
            "             SiLU-39          [-1, 256, 27, 27]               0\n",
            "           Conv2d-40           [-1, 64, 27, 27]          16,384\n",
            "      BatchNorm2d-41           [-1, 64, 27, 27]             128\n",
            "  StochasticDepth-42           [-1, 64, 27, 27]               0\n",
            "      FusedMBConv-43           [-1, 64, 27, 27]               0\n",
            "           Conv2d-44          [-1, 256, 27, 27]         147,456\n",
            "      BatchNorm2d-45          [-1, 256, 27, 27]             512\n",
            "             SiLU-46          [-1, 256, 27, 27]               0\n",
            "           Conv2d-47           [-1, 64, 27, 27]          16,384\n",
            "      BatchNorm2d-48           [-1, 64, 27, 27]             128\n",
            "  StochasticDepth-49           [-1, 64, 27, 27]               0\n",
            "      FusedMBConv-50           [-1, 64, 27, 27]               0\n",
            "           Conv2d-51          [-1, 256, 27, 27]         147,456\n",
            "      BatchNorm2d-52          [-1, 256, 27, 27]             512\n",
            "             SiLU-53          [-1, 256, 27, 27]               0\n",
            "           Conv2d-54           [-1, 64, 27, 27]          16,384\n",
            "      BatchNorm2d-55           [-1, 64, 27, 27]             128\n",
            "  StochasticDepth-56           [-1, 64, 27, 27]               0\n",
            "      FusedMBConv-57           [-1, 64, 27, 27]               0\n",
            "           Conv2d-58          [-1, 256, 27, 27]         147,456\n",
            "      BatchNorm2d-59          [-1, 256, 27, 27]             512\n",
            "             SiLU-60          [-1, 256, 27, 27]               0\n",
            "           Conv2d-61           [-1, 64, 27, 27]          16,384\n",
            "      BatchNorm2d-62           [-1, 64, 27, 27]             128\n",
            "  StochasticDepth-63           [-1, 64, 27, 27]               0\n",
            "      FusedMBConv-64           [-1, 64, 27, 27]               0\n",
            "           Conv2d-65          [-1, 256, 27, 27]         147,456\n",
            "      BatchNorm2d-66          [-1, 256, 27, 27]             512\n",
            "             SiLU-67          [-1, 256, 27, 27]               0\n",
            "           Conv2d-68           [-1, 64, 27, 27]          16,384\n",
            "      BatchNorm2d-69           [-1, 64, 27, 27]             128\n",
            "  StochasticDepth-70           [-1, 64, 27, 27]               0\n",
            "      FusedMBConv-71           [-1, 64, 27, 27]               0\n",
            "           Conv2d-72          [-1, 256, 14, 14]         147,456\n",
            "      BatchNorm2d-73          [-1, 256, 14, 14]             512\n",
            "             SiLU-74          [-1, 256, 14, 14]               0\n",
            "           Conv2d-75           [-1, 96, 14, 14]          24,576\n",
            "      BatchNorm2d-76           [-1, 96, 14, 14]             192\n",
            "      FusedMBConv-77           [-1, 96, 14, 14]               0\n",
            "           Conv2d-78          [-1, 384, 14, 14]         331,776\n",
            "      BatchNorm2d-79          [-1, 384, 14, 14]             768\n",
            "             SiLU-80          [-1, 384, 14, 14]               0\n",
            "           Conv2d-81           [-1, 96, 14, 14]          36,864\n",
            "      BatchNorm2d-82           [-1, 96, 14, 14]             192\n",
            "  StochasticDepth-83           [-1, 96, 14, 14]               0\n",
            "      FusedMBConv-84           [-1, 96, 14, 14]               0\n",
            "           Conv2d-85          [-1, 384, 14, 14]         331,776\n",
            "      BatchNorm2d-86          [-1, 384, 14, 14]             768\n",
            "             SiLU-87          [-1, 384, 14, 14]               0\n",
            "           Conv2d-88           [-1, 96, 14, 14]          36,864\n",
            "      BatchNorm2d-89           [-1, 96, 14, 14]             192\n",
            "  StochasticDepth-90           [-1, 96, 14, 14]               0\n",
            "      FusedMBConv-91           [-1, 96, 14, 14]               0\n",
            "           Conv2d-92          [-1, 384, 14, 14]         331,776\n",
            "      BatchNorm2d-93          [-1, 384, 14, 14]             768\n",
            "             SiLU-94          [-1, 384, 14, 14]               0\n",
            "           Conv2d-95           [-1, 96, 14, 14]          36,864\n",
            "      BatchNorm2d-96           [-1, 96, 14, 14]             192\n",
            "  StochasticDepth-97           [-1, 96, 14, 14]               0\n",
            "      FusedMBConv-98           [-1, 96, 14, 14]               0\n",
            "           Conv2d-99          [-1, 384, 14, 14]         331,776\n",
            "     BatchNorm2d-100          [-1, 384, 14, 14]             768\n",
            "            SiLU-101          [-1, 384, 14, 14]               0\n",
            "          Conv2d-102           [-1, 96, 14, 14]          36,864\n",
            "     BatchNorm2d-103           [-1, 96, 14, 14]             192\n",
            " StochasticDepth-104           [-1, 96, 14, 14]               0\n",
            "     FusedMBConv-105           [-1, 96, 14, 14]               0\n",
            "          Conv2d-106          [-1, 384, 14, 14]         331,776\n",
            "     BatchNorm2d-107          [-1, 384, 14, 14]             768\n",
            "            SiLU-108          [-1, 384, 14, 14]               0\n",
            "          Conv2d-109           [-1, 96, 14, 14]          36,864\n",
            "     BatchNorm2d-110           [-1, 96, 14, 14]             192\n",
            " StochasticDepth-111           [-1, 96, 14, 14]               0\n",
            "     FusedMBConv-112           [-1, 96, 14, 14]               0\n",
            "          Conv2d-113          [-1, 384, 14, 14]         331,776\n",
            "     BatchNorm2d-114          [-1, 384, 14, 14]             768\n",
            "            SiLU-115          [-1, 384, 14, 14]               0\n",
            "          Conv2d-116           [-1, 96, 14, 14]          36,864\n",
            "     BatchNorm2d-117           [-1, 96, 14, 14]             192\n",
            " StochasticDepth-118           [-1, 96, 14, 14]               0\n",
            "     FusedMBConv-119           [-1, 96, 14, 14]               0\n",
            "          Conv2d-120          [-1, 384, 14, 14]          36,864\n",
            "     BatchNorm2d-121          [-1, 384, 14, 14]             768\n",
            "            SiLU-122          [-1, 384, 14, 14]               0\n",
            "          Conv2d-123            [-1, 384, 7, 7]           3,456\n",
            "     BatchNorm2d-124            [-1, 384, 7, 7]             768\n",
            "            SiLU-125            [-1, 384, 7, 7]               0\n",
            "AdaptiveAvgPool2d-126            [-1, 384, 1, 1]               0\n",
            "          Conv2d-127             [-1, 24, 1, 1]           9,240\n",
            "            SiLU-128             [-1, 24, 1, 1]               0\n",
            "          Conv2d-129            [-1, 384, 1, 1]           9,600\n",
            "         Sigmoid-130            [-1, 384, 1, 1]               0\n",
            "SqueezeExcitation-131            [-1, 384, 7, 7]               0\n",
            "          Conv2d-132            [-1, 192, 7, 7]          73,728\n",
            "     BatchNorm2d-133            [-1, 192, 7, 7]             384\n",
            "          MBConv-134            [-1, 192, 7, 7]               0\n",
            "          Conv2d-135            [-1, 768, 7, 7]         147,456\n",
            "     BatchNorm2d-136            [-1, 768, 7, 7]           1,536\n",
            "            SiLU-137            [-1, 768, 7, 7]               0\n",
            "          Conv2d-138            [-1, 768, 7, 7]           6,912\n",
            "     BatchNorm2d-139            [-1, 768, 7, 7]           1,536\n",
            "            SiLU-140            [-1, 768, 7, 7]               0\n",
            "AdaptiveAvgPool2d-141            [-1, 768, 1, 1]               0\n",
            "          Conv2d-142             [-1, 48, 1, 1]          36,912\n",
            "            SiLU-143             [-1, 48, 1, 1]               0\n",
            "          Conv2d-144            [-1, 768, 1, 1]          37,632\n",
            "         Sigmoid-145            [-1, 768, 1, 1]               0\n",
            "SqueezeExcitation-146            [-1, 768, 7, 7]               0\n",
            "          Conv2d-147            [-1, 192, 7, 7]         147,456\n",
            "     BatchNorm2d-148            [-1, 192, 7, 7]             384\n",
            " StochasticDepth-149            [-1, 192, 7, 7]               0\n",
            "          MBConv-150            [-1, 192, 7, 7]               0\n",
            "          Conv2d-151            [-1, 768, 7, 7]         147,456\n",
            "     BatchNorm2d-152            [-1, 768, 7, 7]           1,536\n",
            "            SiLU-153            [-1, 768, 7, 7]               0\n",
            "          Conv2d-154            [-1, 768, 7, 7]           6,912\n",
            "     BatchNorm2d-155            [-1, 768, 7, 7]           1,536\n",
            "            SiLU-156            [-1, 768, 7, 7]               0\n",
            "AdaptiveAvgPool2d-157            [-1, 768, 1, 1]               0\n",
            "          Conv2d-158             [-1, 48, 1, 1]          36,912\n",
            "            SiLU-159             [-1, 48, 1, 1]               0\n",
            "          Conv2d-160            [-1, 768, 1, 1]          37,632\n",
            "         Sigmoid-161            [-1, 768, 1, 1]               0\n",
            "SqueezeExcitation-162            [-1, 768, 7, 7]               0\n",
            "          Conv2d-163            [-1, 192, 7, 7]         147,456\n",
            "     BatchNorm2d-164            [-1, 192, 7, 7]             384\n",
            " StochasticDepth-165            [-1, 192, 7, 7]               0\n",
            "          MBConv-166            [-1, 192, 7, 7]               0\n",
            "          Conv2d-167            [-1, 768, 7, 7]         147,456\n",
            "     BatchNorm2d-168            [-1, 768, 7, 7]           1,536\n",
            "            SiLU-169            [-1, 768, 7, 7]               0\n",
            "          Conv2d-170            [-1, 768, 7, 7]           6,912\n",
            "     BatchNorm2d-171            [-1, 768, 7, 7]           1,536\n",
            "            SiLU-172            [-1, 768, 7, 7]               0\n",
            "AdaptiveAvgPool2d-173            [-1, 768, 1, 1]               0\n",
            "          Conv2d-174             [-1, 48, 1, 1]          36,912\n",
            "            SiLU-175             [-1, 48, 1, 1]               0\n",
            "          Conv2d-176            [-1, 768, 1, 1]          37,632\n",
            "         Sigmoid-177            [-1, 768, 1, 1]               0\n",
            "SqueezeExcitation-178            [-1, 768, 7, 7]               0\n",
            "          Conv2d-179            [-1, 192, 7, 7]         147,456\n",
            "     BatchNorm2d-180            [-1, 192, 7, 7]             384\n",
            " StochasticDepth-181            [-1, 192, 7, 7]               0\n",
            "          MBConv-182            [-1, 192, 7, 7]               0\n",
            "          Conv2d-183            [-1, 768, 7, 7]         147,456\n",
            "     BatchNorm2d-184            [-1, 768, 7, 7]           1,536\n",
            "            SiLU-185            [-1, 768, 7, 7]               0\n",
            "          Conv2d-186            [-1, 768, 7, 7]           6,912\n",
            "     BatchNorm2d-187            [-1, 768, 7, 7]           1,536\n",
            "            SiLU-188            [-1, 768, 7, 7]               0\n",
            "AdaptiveAvgPool2d-189            [-1, 768, 1, 1]               0\n",
            "          Conv2d-190             [-1, 48, 1, 1]          36,912\n",
            "            SiLU-191             [-1, 48, 1, 1]               0\n",
            "          Conv2d-192            [-1, 768, 1, 1]          37,632\n",
            "         Sigmoid-193            [-1, 768, 1, 1]               0\n",
            "SqueezeExcitation-194            [-1, 768, 7, 7]               0\n",
            "          Conv2d-195            [-1, 192, 7, 7]         147,456\n",
            "     BatchNorm2d-196            [-1, 192, 7, 7]             384\n",
            " StochasticDepth-197            [-1, 192, 7, 7]               0\n",
            "          MBConv-198            [-1, 192, 7, 7]               0\n",
            "          Conv2d-199            [-1, 768, 7, 7]         147,456\n",
            "     BatchNorm2d-200            [-1, 768, 7, 7]           1,536\n",
            "            SiLU-201            [-1, 768, 7, 7]               0\n",
            "          Conv2d-202            [-1, 768, 7, 7]           6,912\n",
            "     BatchNorm2d-203            [-1, 768, 7, 7]           1,536\n",
            "            SiLU-204            [-1, 768, 7, 7]               0\n",
            "AdaptiveAvgPool2d-205            [-1, 768, 1, 1]               0\n",
            "          Conv2d-206             [-1, 48, 1, 1]          36,912\n",
            "            SiLU-207             [-1, 48, 1, 1]               0\n",
            "          Conv2d-208            [-1, 768, 1, 1]          37,632\n",
            "         Sigmoid-209            [-1, 768, 1, 1]               0\n",
            "SqueezeExcitation-210            [-1, 768, 7, 7]               0\n",
            "          Conv2d-211            [-1, 192, 7, 7]         147,456\n",
            "     BatchNorm2d-212            [-1, 192, 7, 7]             384\n",
            " StochasticDepth-213            [-1, 192, 7, 7]               0\n",
            "          MBConv-214            [-1, 192, 7, 7]               0\n",
            "          Conv2d-215            [-1, 768, 7, 7]         147,456\n",
            "     BatchNorm2d-216            [-1, 768, 7, 7]           1,536\n",
            "            SiLU-217            [-1, 768, 7, 7]               0\n",
            "          Conv2d-218            [-1, 768, 7, 7]           6,912\n",
            "     BatchNorm2d-219            [-1, 768, 7, 7]           1,536\n",
            "            SiLU-220            [-1, 768, 7, 7]               0\n",
            "AdaptiveAvgPool2d-221            [-1, 768, 1, 1]               0\n",
            "          Conv2d-222             [-1, 48, 1, 1]          36,912\n",
            "            SiLU-223             [-1, 48, 1, 1]               0\n",
            "          Conv2d-224            [-1, 768, 1, 1]          37,632\n",
            "         Sigmoid-225            [-1, 768, 1, 1]               0\n",
            "SqueezeExcitation-226            [-1, 768, 7, 7]               0\n",
            "          Conv2d-227            [-1, 192, 7, 7]         147,456\n",
            "     BatchNorm2d-228            [-1, 192, 7, 7]             384\n",
            " StochasticDepth-229            [-1, 192, 7, 7]               0\n",
            "          MBConv-230            [-1, 192, 7, 7]               0\n",
            "          Conv2d-231            [-1, 768, 7, 7]         147,456\n",
            "     BatchNorm2d-232            [-1, 768, 7, 7]           1,536\n",
            "            SiLU-233            [-1, 768, 7, 7]               0\n",
            "          Conv2d-234            [-1, 768, 7, 7]           6,912\n",
            "     BatchNorm2d-235            [-1, 768, 7, 7]           1,536\n",
            "            SiLU-236            [-1, 768, 7, 7]               0\n",
            "AdaptiveAvgPool2d-237            [-1, 768, 1, 1]               0\n",
            "          Conv2d-238             [-1, 48, 1, 1]          36,912\n",
            "            SiLU-239             [-1, 48, 1, 1]               0\n",
            "          Conv2d-240            [-1, 768, 1, 1]          37,632\n",
            "         Sigmoid-241            [-1, 768, 1, 1]               0\n",
            "SqueezeExcitation-242            [-1, 768, 7, 7]               0\n",
            "          Conv2d-243            [-1, 192, 7, 7]         147,456\n",
            "     BatchNorm2d-244            [-1, 192, 7, 7]             384\n",
            " StochasticDepth-245            [-1, 192, 7, 7]               0\n",
            "          MBConv-246            [-1, 192, 7, 7]               0\n",
            "          Conv2d-247            [-1, 768, 7, 7]         147,456\n",
            "     BatchNorm2d-248            [-1, 768, 7, 7]           1,536\n",
            "            SiLU-249            [-1, 768, 7, 7]               0\n",
            "          Conv2d-250            [-1, 768, 7, 7]           6,912\n",
            "     BatchNorm2d-251            [-1, 768, 7, 7]           1,536\n",
            "            SiLU-252            [-1, 768, 7, 7]               0\n",
            "AdaptiveAvgPool2d-253            [-1, 768, 1, 1]               0\n",
            "          Conv2d-254             [-1, 48, 1, 1]          36,912\n",
            "            SiLU-255             [-1, 48, 1, 1]               0\n",
            "          Conv2d-256            [-1, 768, 1, 1]          37,632\n",
            "         Sigmoid-257            [-1, 768, 1, 1]               0\n",
            "SqueezeExcitation-258            [-1, 768, 7, 7]               0\n",
            "          Conv2d-259            [-1, 192, 7, 7]         147,456\n",
            "     BatchNorm2d-260            [-1, 192, 7, 7]             384\n",
            " StochasticDepth-261            [-1, 192, 7, 7]               0\n",
            "          MBConv-262            [-1, 192, 7, 7]               0\n",
            "          Conv2d-263            [-1, 768, 7, 7]         147,456\n",
            "     BatchNorm2d-264            [-1, 768, 7, 7]           1,536\n",
            "            SiLU-265            [-1, 768, 7, 7]               0\n",
            "          Conv2d-266            [-1, 768, 7, 7]           6,912\n",
            "     BatchNorm2d-267            [-1, 768, 7, 7]           1,536\n",
            "            SiLU-268            [-1, 768, 7, 7]               0\n",
            "AdaptiveAvgPool2d-269            [-1, 768, 1, 1]               0\n",
            "          Conv2d-270             [-1, 48, 1, 1]          36,912\n",
            "            SiLU-271             [-1, 48, 1, 1]               0\n",
            "          Conv2d-272            [-1, 768, 1, 1]          37,632\n",
            "         Sigmoid-273            [-1, 768, 1, 1]               0\n",
            "SqueezeExcitation-274            [-1, 768, 7, 7]               0\n",
            "          Conv2d-275            [-1, 192, 7, 7]         147,456\n",
            "     BatchNorm2d-276            [-1, 192, 7, 7]             384\n",
            " StochasticDepth-277            [-1, 192, 7, 7]               0\n",
            "          MBConv-278            [-1, 192, 7, 7]               0\n",
            "          Conv2d-279           [-1, 1152, 7, 7]         221,184\n",
            "     BatchNorm2d-280           [-1, 1152, 7, 7]           2,304\n",
            "            SiLU-281           [-1, 1152, 7, 7]               0\n",
            "          Conv2d-282           [-1, 1152, 7, 7]          10,368\n",
            "     BatchNorm2d-283           [-1, 1152, 7, 7]           2,304\n",
            "            SiLU-284           [-1, 1152, 7, 7]               0\n",
            "AdaptiveAvgPool2d-285           [-1, 1152, 1, 1]               0\n",
            "          Conv2d-286             [-1, 48, 1, 1]          55,344\n",
            "            SiLU-287             [-1, 48, 1, 1]               0\n",
            "          Conv2d-288           [-1, 1152, 1, 1]          56,448\n",
            "         Sigmoid-289           [-1, 1152, 1, 1]               0\n",
            "SqueezeExcitation-290           [-1, 1152, 7, 7]               0\n",
            "          Conv2d-291            [-1, 224, 7, 7]         258,048\n",
            "     BatchNorm2d-292            [-1, 224, 7, 7]             448\n",
            "          MBConv-293            [-1, 224, 7, 7]               0\n",
            "          Conv2d-294           [-1, 1344, 7, 7]         301,056\n",
            "     BatchNorm2d-295           [-1, 1344, 7, 7]           2,688\n",
            "            SiLU-296           [-1, 1344, 7, 7]               0\n",
            "          Conv2d-297           [-1, 1344, 7, 7]          12,096\n",
            "     BatchNorm2d-298           [-1, 1344, 7, 7]           2,688\n",
            "            SiLU-299           [-1, 1344, 7, 7]               0\n",
            "AdaptiveAvgPool2d-300           [-1, 1344, 1, 1]               0\n",
            "          Conv2d-301             [-1, 56, 1, 1]          75,320\n",
            "            SiLU-302             [-1, 56, 1, 1]               0\n",
            "          Conv2d-303           [-1, 1344, 1, 1]          76,608\n",
            "         Sigmoid-304           [-1, 1344, 1, 1]               0\n",
            "SqueezeExcitation-305           [-1, 1344, 7, 7]               0\n",
            "          Conv2d-306            [-1, 224, 7, 7]         301,056\n",
            "     BatchNorm2d-307            [-1, 224, 7, 7]             448\n",
            " StochasticDepth-308            [-1, 224, 7, 7]               0\n",
            "          MBConv-309            [-1, 224, 7, 7]               0\n",
            "          Conv2d-310           [-1, 1344, 7, 7]         301,056\n",
            "     BatchNorm2d-311           [-1, 1344, 7, 7]           2,688\n",
            "            SiLU-312           [-1, 1344, 7, 7]               0\n",
            "          Conv2d-313           [-1, 1344, 7, 7]          12,096\n",
            "     BatchNorm2d-314           [-1, 1344, 7, 7]           2,688\n",
            "            SiLU-315           [-1, 1344, 7, 7]               0\n",
            "AdaptiveAvgPool2d-316           [-1, 1344, 1, 1]               0\n",
            "          Conv2d-317             [-1, 56, 1, 1]          75,320\n",
            "            SiLU-318             [-1, 56, 1, 1]               0\n",
            "          Conv2d-319           [-1, 1344, 1, 1]          76,608\n",
            "         Sigmoid-320           [-1, 1344, 1, 1]               0\n",
            "SqueezeExcitation-321           [-1, 1344, 7, 7]               0\n",
            "          Conv2d-322            [-1, 224, 7, 7]         301,056\n",
            "     BatchNorm2d-323            [-1, 224, 7, 7]             448\n",
            " StochasticDepth-324            [-1, 224, 7, 7]               0\n",
            "          MBConv-325            [-1, 224, 7, 7]               0\n",
            "          Conv2d-326           [-1, 1344, 7, 7]         301,056\n",
            "     BatchNorm2d-327           [-1, 1344, 7, 7]           2,688\n",
            "            SiLU-328           [-1, 1344, 7, 7]               0\n",
            "          Conv2d-329           [-1, 1344, 7, 7]          12,096\n",
            "     BatchNorm2d-330           [-1, 1344, 7, 7]           2,688\n",
            "            SiLU-331           [-1, 1344, 7, 7]               0\n",
            "AdaptiveAvgPool2d-332           [-1, 1344, 1, 1]               0\n",
            "          Conv2d-333             [-1, 56, 1, 1]          75,320\n",
            "            SiLU-334             [-1, 56, 1, 1]               0\n",
            "          Conv2d-335           [-1, 1344, 1, 1]          76,608\n",
            "         Sigmoid-336           [-1, 1344, 1, 1]               0\n",
            "SqueezeExcitation-337           [-1, 1344, 7, 7]               0\n",
            "          Conv2d-338            [-1, 224, 7, 7]         301,056\n",
            "     BatchNorm2d-339            [-1, 224, 7, 7]             448\n",
            " StochasticDepth-340            [-1, 224, 7, 7]               0\n",
            "          MBConv-341            [-1, 224, 7, 7]               0\n",
            "          Conv2d-342           [-1, 1344, 7, 7]         301,056\n",
            "     BatchNorm2d-343           [-1, 1344, 7, 7]           2,688\n",
            "            SiLU-344           [-1, 1344, 7, 7]               0\n",
            "          Conv2d-345           [-1, 1344, 7, 7]          12,096\n",
            "     BatchNorm2d-346           [-1, 1344, 7, 7]           2,688\n",
            "            SiLU-347           [-1, 1344, 7, 7]               0\n",
            "AdaptiveAvgPool2d-348           [-1, 1344, 1, 1]               0\n",
            "          Conv2d-349             [-1, 56, 1, 1]          75,320\n",
            "            SiLU-350             [-1, 56, 1, 1]               0\n",
            "          Conv2d-351           [-1, 1344, 1, 1]          76,608\n",
            "         Sigmoid-352           [-1, 1344, 1, 1]               0\n",
            "SqueezeExcitation-353           [-1, 1344, 7, 7]               0\n",
            "          Conv2d-354            [-1, 224, 7, 7]         301,056\n",
            "     BatchNorm2d-355            [-1, 224, 7, 7]             448\n",
            " StochasticDepth-356            [-1, 224, 7, 7]               0\n",
            "          MBConv-357            [-1, 224, 7, 7]               0\n",
            "          Conv2d-358           [-1, 1344, 7, 7]         301,056\n",
            "     BatchNorm2d-359           [-1, 1344, 7, 7]           2,688\n",
            "            SiLU-360           [-1, 1344, 7, 7]               0\n",
            "          Conv2d-361           [-1, 1344, 7, 7]          12,096\n",
            "     BatchNorm2d-362           [-1, 1344, 7, 7]           2,688\n",
            "            SiLU-363           [-1, 1344, 7, 7]               0\n",
            "AdaptiveAvgPool2d-364           [-1, 1344, 1, 1]               0\n",
            "          Conv2d-365             [-1, 56, 1, 1]          75,320\n",
            "            SiLU-366             [-1, 56, 1, 1]               0\n",
            "          Conv2d-367           [-1, 1344, 1, 1]          76,608\n",
            "         Sigmoid-368           [-1, 1344, 1, 1]               0\n",
            "SqueezeExcitation-369           [-1, 1344, 7, 7]               0\n",
            "          Conv2d-370            [-1, 224, 7, 7]         301,056\n",
            "     BatchNorm2d-371            [-1, 224, 7, 7]             448\n",
            " StochasticDepth-372            [-1, 224, 7, 7]               0\n",
            "          MBConv-373            [-1, 224, 7, 7]               0\n",
            "          Conv2d-374           [-1, 1344, 7, 7]         301,056\n",
            "     BatchNorm2d-375           [-1, 1344, 7, 7]           2,688\n",
            "            SiLU-376           [-1, 1344, 7, 7]               0\n",
            "          Conv2d-377           [-1, 1344, 7, 7]          12,096\n",
            "     BatchNorm2d-378           [-1, 1344, 7, 7]           2,688\n",
            "            SiLU-379           [-1, 1344, 7, 7]               0\n",
            "AdaptiveAvgPool2d-380           [-1, 1344, 1, 1]               0\n",
            "          Conv2d-381             [-1, 56, 1, 1]          75,320\n",
            "            SiLU-382             [-1, 56, 1, 1]               0\n",
            "          Conv2d-383           [-1, 1344, 1, 1]          76,608\n",
            "         Sigmoid-384           [-1, 1344, 1, 1]               0\n",
            "SqueezeExcitation-385           [-1, 1344, 7, 7]               0\n",
            "          Conv2d-386            [-1, 224, 7, 7]         301,056\n",
            "     BatchNorm2d-387            [-1, 224, 7, 7]             448\n",
            " StochasticDepth-388            [-1, 224, 7, 7]               0\n",
            "          MBConv-389            [-1, 224, 7, 7]               0\n",
            "          Conv2d-390           [-1, 1344, 7, 7]         301,056\n",
            "     BatchNorm2d-391           [-1, 1344, 7, 7]           2,688\n",
            "            SiLU-392           [-1, 1344, 7, 7]               0\n",
            "          Conv2d-393           [-1, 1344, 7, 7]          12,096\n",
            "     BatchNorm2d-394           [-1, 1344, 7, 7]           2,688\n",
            "            SiLU-395           [-1, 1344, 7, 7]               0\n",
            "AdaptiveAvgPool2d-396           [-1, 1344, 1, 1]               0\n",
            "          Conv2d-397             [-1, 56, 1, 1]          75,320\n",
            "            SiLU-398             [-1, 56, 1, 1]               0\n",
            "          Conv2d-399           [-1, 1344, 1, 1]          76,608\n",
            "         Sigmoid-400           [-1, 1344, 1, 1]               0\n",
            "SqueezeExcitation-401           [-1, 1344, 7, 7]               0\n",
            "          Conv2d-402            [-1, 224, 7, 7]         301,056\n",
            "     BatchNorm2d-403            [-1, 224, 7, 7]             448\n",
            " StochasticDepth-404            [-1, 224, 7, 7]               0\n",
            "          MBConv-405            [-1, 224, 7, 7]               0\n",
            "          Conv2d-406           [-1, 1344, 7, 7]         301,056\n",
            "     BatchNorm2d-407           [-1, 1344, 7, 7]           2,688\n",
            "            SiLU-408           [-1, 1344, 7, 7]               0\n",
            "          Conv2d-409           [-1, 1344, 7, 7]          12,096\n",
            "     BatchNorm2d-410           [-1, 1344, 7, 7]           2,688\n",
            "            SiLU-411           [-1, 1344, 7, 7]               0\n",
            "AdaptiveAvgPool2d-412           [-1, 1344, 1, 1]               0\n",
            "          Conv2d-413             [-1, 56, 1, 1]          75,320\n",
            "            SiLU-414             [-1, 56, 1, 1]               0\n",
            "          Conv2d-415           [-1, 1344, 1, 1]          76,608\n",
            "         Sigmoid-416           [-1, 1344, 1, 1]               0\n",
            "SqueezeExcitation-417           [-1, 1344, 7, 7]               0\n",
            "          Conv2d-418            [-1, 224, 7, 7]         301,056\n",
            "     BatchNorm2d-419            [-1, 224, 7, 7]             448\n",
            " StochasticDepth-420            [-1, 224, 7, 7]               0\n",
            "          MBConv-421            [-1, 224, 7, 7]               0\n",
            "          Conv2d-422           [-1, 1344, 7, 7]         301,056\n",
            "     BatchNorm2d-423           [-1, 1344, 7, 7]           2,688\n",
            "            SiLU-424           [-1, 1344, 7, 7]               0\n",
            "          Conv2d-425           [-1, 1344, 7, 7]          12,096\n",
            "     BatchNorm2d-426           [-1, 1344, 7, 7]           2,688\n",
            "            SiLU-427           [-1, 1344, 7, 7]               0\n",
            "AdaptiveAvgPool2d-428           [-1, 1344, 1, 1]               0\n",
            "          Conv2d-429             [-1, 56, 1, 1]          75,320\n",
            "            SiLU-430             [-1, 56, 1, 1]               0\n",
            "          Conv2d-431           [-1, 1344, 1, 1]          76,608\n",
            "         Sigmoid-432           [-1, 1344, 1, 1]               0\n",
            "SqueezeExcitation-433           [-1, 1344, 7, 7]               0\n",
            "          Conv2d-434            [-1, 224, 7, 7]         301,056\n",
            "     BatchNorm2d-435            [-1, 224, 7, 7]             448\n",
            " StochasticDepth-436            [-1, 224, 7, 7]               0\n",
            "          MBConv-437            [-1, 224, 7, 7]               0\n",
            "          Conv2d-438           [-1, 1344, 7, 7]         301,056\n",
            "     BatchNorm2d-439           [-1, 1344, 7, 7]           2,688\n",
            "            SiLU-440           [-1, 1344, 7, 7]               0\n",
            "          Conv2d-441           [-1, 1344, 7, 7]          12,096\n",
            "     BatchNorm2d-442           [-1, 1344, 7, 7]           2,688\n",
            "            SiLU-443           [-1, 1344, 7, 7]               0\n",
            "AdaptiveAvgPool2d-444           [-1, 1344, 1, 1]               0\n",
            "          Conv2d-445             [-1, 56, 1, 1]          75,320\n",
            "            SiLU-446             [-1, 56, 1, 1]               0\n",
            "          Conv2d-447           [-1, 1344, 1, 1]          76,608\n",
            "         Sigmoid-448           [-1, 1344, 1, 1]               0\n",
            "SqueezeExcitation-449           [-1, 1344, 7, 7]               0\n",
            "          Conv2d-450            [-1, 224, 7, 7]         301,056\n",
            "     BatchNorm2d-451            [-1, 224, 7, 7]             448\n",
            " StochasticDepth-452            [-1, 224, 7, 7]               0\n",
            "          MBConv-453            [-1, 224, 7, 7]               0\n",
            "          Conv2d-454           [-1, 1344, 7, 7]         301,056\n",
            "     BatchNorm2d-455           [-1, 1344, 7, 7]           2,688\n",
            "            SiLU-456           [-1, 1344, 7, 7]               0\n",
            "          Conv2d-457           [-1, 1344, 7, 7]          12,096\n",
            "     BatchNorm2d-458           [-1, 1344, 7, 7]           2,688\n",
            "            SiLU-459           [-1, 1344, 7, 7]               0\n",
            "AdaptiveAvgPool2d-460           [-1, 1344, 1, 1]               0\n",
            "          Conv2d-461             [-1, 56, 1, 1]          75,320\n",
            "            SiLU-462             [-1, 56, 1, 1]               0\n",
            "          Conv2d-463           [-1, 1344, 1, 1]          76,608\n",
            "         Sigmoid-464           [-1, 1344, 1, 1]               0\n",
            "SqueezeExcitation-465           [-1, 1344, 7, 7]               0\n",
            "          Conv2d-466            [-1, 224, 7, 7]         301,056\n",
            "     BatchNorm2d-467            [-1, 224, 7, 7]             448\n",
            " StochasticDepth-468            [-1, 224, 7, 7]               0\n",
            "          MBConv-469            [-1, 224, 7, 7]               0\n",
            "          Conv2d-470           [-1, 1344, 7, 7]         301,056\n",
            "     BatchNorm2d-471           [-1, 1344, 7, 7]           2,688\n",
            "            SiLU-472           [-1, 1344, 7, 7]               0\n",
            "          Conv2d-473           [-1, 1344, 7, 7]          12,096\n",
            "     BatchNorm2d-474           [-1, 1344, 7, 7]           2,688\n",
            "            SiLU-475           [-1, 1344, 7, 7]               0\n",
            "AdaptiveAvgPool2d-476           [-1, 1344, 1, 1]               0\n",
            "          Conv2d-477             [-1, 56, 1, 1]          75,320\n",
            "            SiLU-478             [-1, 56, 1, 1]               0\n",
            "          Conv2d-479           [-1, 1344, 1, 1]          76,608\n",
            "         Sigmoid-480           [-1, 1344, 1, 1]               0\n",
            "SqueezeExcitation-481           [-1, 1344, 7, 7]               0\n",
            "          Conv2d-482            [-1, 224, 7, 7]         301,056\n",
            "     BatchNorm2d-483            [-1, 224, 7, 7]             448\n",
            " StochasticDepth-484            [-1, 224, 7, 7]               0\n",
            "          MBConv-485            [-1, 224, 7, 7]               0\n",
            "          Conv2d-486           [-1, 1344, 7, 7]         301,056\n",
            "     BatchNorm2d-487           [-1, 1344, 7, 7]           2,688\n",
            "            SiLU-488           [-1, 1344, 7, 7]               0\n",
            "          Conv2d-489           [-1, 1344, 7, 7]          12,096\n",
            "     BatchNorm2d-490           [-1, 1344, 7, 7]           2,688\n",
            "            SiLU-491           [-1, 1344, 7, 7]               0\n",
            "AdaptiveAvgPool2d-492           [-1, 1344, 1, 1]               0\n",
            "          Conv2d-493             [-1, 56, 1, 1]          75,320\n",
            "            SiLU-494             [-1, 56, 1, 1]               0\n",
            "          Conv2d-495           [-1, 1344, 1, 1]          76,608\n",
            "         Sigmoid-496           [-1, 1344, 1, 1]               0\n",
            "SqueezeExcitation-497           [-1, 1344, 7, 7]               0\n",
            "          Conv2d-498            [-1, 224, 7, 7]         301,056\n",
            "     BatchNorm2d-499            [-1, 224, 7, 7]             448\n",
            " StochasticDepth-500            [-1, 224, 7, 7]               0\n",
            "          MBConv-501            [-1, 224, 7, 7]               0\n",
            "          Conv2d-502           [-1, 1344, 7, 7]         301,056\n",
            "     BatchNorm2d-503           [-1, 1344, 7, 7]           2,688\n",
            "            SiLU-504           [-1, 1344, 7, 7]               0\n",
            "          Conv2d-505           [-1, 1344, 7, 7]          12,096\n",
            "     BatchNorm2d-506           [-1, 1344, 7, 7]           2,688\n",
            "            SiLU-507           [-1, 1344, 7, 7]               0\n",
            "AdaptiveAvgPool2d-508           [-1, 1344, 1, 1]               0\n",
            "          Conv2d-509             [-1, 56, 1, 1]          75,320\n",
            "            SiLU-510             [-1, 56, 1, 1]               0\n",
            "          Conv2d-511           [-1, 1344, 1, 1]          76,608\n",
            "         Sigmoid-512           [-1, 1344, 1, 1]               0\n",
            "SqueezeExcitation-513           [-1, 1344, 7, 7]               0\n",
            "          Conv2d-514            [-1, 224, 7, 7]         301,056\n",
            "     BatchNorm2d-515            [-1, 224, 7, 7]             448\n",
            " StochasticDepth-516            [-1, 224, 7, 7]               0\n",
            "          MBConv-517            [-1, 224, 7, 7]               0\n",
            "          Conv2d-518           [-1, 1344, 7, 7]         301,056\n",
            "     BatchNorm2d-519           [-1, 1344, 7, 7]           2,688\n",
            "            SiLU-520           [-1, 1344, 7, 7]               0\n",
            "          Conv2d-521           [-1, 1344, 7, 7]          12,096\n",
            "     BatchNorm2d-522           [-1, 1344, 7, 7]           2,688\n",
            "            SiLU-523           [-1, 1344, 7, 7]               0\n",
            "AdaptiveAvgPool2d-524           [-1, 1344, 1, 1]               0\n",
            "          Conv2d-525             [-1, 56, 1, 1]          75,320\n",
            "            SiLU-526             [-1, 56, 1, 1]               0\n",
            "          Conv2d-527           [-1, 1344, 1, 1]          76,608\n",
            "         Sigmoid-528           [-1, 1344, 1, 1]               0\n",
            "SqueezeExcitation-529           [-1, 1344, 7, 7]               0\n",
            "          Conv2d-530            [-1, 224, 7, 7]         301,056\n",
            "     BatchNorm2d-531            [-1, 224, 7, 7]             448\n",
            " StochasticDepth-532            [-1, 224, 7, 7]               0\n",
            "          MBConv-533            [-1, 224, 7, 7]               0\n",
            "          Conv2d-534           [-1, 1344, 7, 7]         301,056\n",
            "     BatchNorm2d-535           [-1, 1344, 7, 7]           2,688\n",
            "            SiLU-536           [-1, 1344, 7, 7]               0\n",
            "          Conv2d-537           [-1, 1344, 7, 7]          12,096\n",
            "     BatchNorm2d-538           [-1, 1344, 7, 7]           2,688\n",
            "            SiLU-539           [-1, 1344, 7, 7]               0\n",
            "AdaptiveAvgPool2d-540           [-1, 1344, 1, 1]               0\n",
            "          Conv2d-541             [-1, 56, 1, 1]          75,320\n",
            "            SiLU-542             [-1, 56, 1, 1]               0\n",
            "          Conv2d-543           [-1, 1344, 1, 1]          76,608\n",
            "         Sigmoid-544           [-1, 1344, 1, 1]               0\n",
            "SqueezeExcitation-545           [-1, 1344, 7, 7]               0\n",
            "          Conv2d-546            [-1, 224, 7, 7]         301,056\n",
            "     BatchNorm2d-547            [-1, 224, 7, 7]             448\n",
            " StochasticDepth-548            [-1, 224, 7, 7]               0\n",
            "          MBConv-549            [-1, 224, 7, 7]               0\n",
            "          Conv2d-550           [-1, 1344, 7, 7]         301,056\n",
            "     BatchNorm2d-551           [-1, 1344, 7, 7]           2,688\n",
            "            SiLU-552           [-1, 1344, 7, 7]               0\n",
            "          Conv2d-553           [-1, 1344, 7, 7]          12,096\n",
            "     BatchNorm2d-554           [-1, 1344, 7, 7]           2,688\n",
            "            SiLU-555           [-1, 1344, 7, 7]               0\n",
            "AdaptiveAvgPool2d-556           [-1, 1344, 1, 1]               0\n",
            "          Conv2d-557             [-1, 56, 1, 1]          75,320\n",
            "            SiLU-558             [-1, 56, 1, 1]               0\n",
            "          Conv2d-559           [-1, 1344, 1, 1]          76,608\n",
            "         Sigmoid-560           [-1, 1344, 1, 1]               0\n",
            "SqueezeExcitation-561           [-1, 1344, 7, 7]               0\n",
            "          Conv2d-562            [-1, 224, 7, 7]         301,056\n",
            "     BatchNorm2d-563            [-1, 224, 7, 7]             448\n",
            " StochasticDepth-564            [-1, 224, 7, 7]               0\n",
            "          MBConv-565            [-1, 224, 7, 7]               0\n",
            "          Conv2d-566           [-1, 1344, 7, 7]         301,056\n",
            "     BatchNorm2d-567           [-1, 1344, 7, 7]           2,688\n",
            "            SiLU-568           [-1, 1344, 7, 7]               0\n",
            "          Conv2d-569           [-1, 1344, 7, 7]          12,096\n",
            "     BatchNorm2d-570           [-1, 1344, 7, 7]           2,688\n",
            "            SiLU-571           [-1, 1344, 7, 7]               0\n",
            "AdaptiveAvgPool2d-572           [-1, 1344, 1, 1]               0\n",
            "          Conv2d-573             [-1, 56, 1, 1]          75,320\n",
            "            SiLU-574             [-1, 56, 1, 1]               0\n",
            "          Conv2d-575           [-1, 1344, 1, 1]          76,608\n",
            "         Sigmoid-576           [-1, 1344, 1, 1]               0\n",
            "SqueezeExcitation-577           [-1, 1344, 7, 7]               0\n",
            "          Conv2d-578            [-1, 224, 7, 7]         301,056\n",
            "     BatchNorm2d-579            [-1, 224, 7, 7]             448\n",
            " StochasticDepth-580            [-1, 224, 7, 7]               0\n",
            "          MBConv-581            [-1, 224, 7, 7]               0\n",
            "          Conv2d-582           [-1, 1344, 7, 7]         301,056\n",
            "     BatchNorm2d-583           [-1, 1344, 7, 7]           2,688\n",
            "            SiLU-584           [-1, 1344, 7, 7]               0\n",
            "          Conv2d-585           [-1, 1344, 4, 4]          12,096\n",
            "     BatchNorm2d-586           [-1, 1344, 4, 4]           2,688\n",
            "            SiLU-587           [-1, 1344, 4, 4]               0\n",
            "AdaptiveAvgPool2d-588           [-1, 1344, 1, 1]               0\n",
            "          Conv2d-589             [-1, 56, 1, 1]          75,320\n",
            "            SiLU-590             [-1, 56, 1, 1]               0\n",
            "          Conv2d-591           [-1, 1344, 1, 1]          76,608\n",
            "         Sigmoid-592           [-1, 1344, 1, 1]               0\n",
            "SqueezeExcitation-593           [-1, 1344, 4, 4]               0\n",
            "          Conv2d-594            [-1, 384, 4, 4]         516,096\n",
            "     BatchNorm2d-595            [-1, 384, 4, 4]             768\n",
            "          MBConv-596            [-1, 384, 4, 4]               0\n",
            "          Conv2d-597           [-1, 2304, 4, 4]         884,736\n",
            "     BatchNorm2d-598           [-1, 2304, 4, 4]           4,608\n",
            "            SiLU-599           [-1, 2304, 4, 4]               0\n",
            "          Conv2d-600           [-1, 2304, 4, 4]          20,736\n",
            "     BatchNorm2d-601           [-1, 2304, 4, 4]           4,608\n",
            "            SiLU-602           [-1, 2304, 4, 4]               0\n",
            "AdaptiveAvgPool2d-603           [-1, 2304, 1, 1]               0\n",
            "          Conv2d-604             [-1, 96, 1, 1]         221,280\n",
            "            SiLU-605             [-1, 96, 1, 1]               0\n",
            "          Conv2d-606           [-1, 2304, 1, 1]         223,488\n",
            "         Sigmoid-607           [-1, 2304, 1, 1]               0\n",
            "SqueezeExcitation-608           [-1, 2304, 4, 4]               0\n",
            "          Conv2d-609            [-1, 384, 4, 4]         884,736\n",
            "     BatchNorm2d-610            [-1, 384, 4, 4]             768\n",
            " StochasticDepth-611            [-1, 384, 4, 4]               0\n",
            "          MBConv-612            [-1, 384, 4, 4]               0\n",
            "          Conv2d-613           [-1, 2304, 4, 4]         884,736\n",
            "     BatchNorm2d-614           [-1, 2304, 4, 4]           4,608\n",
            "            SiLU-615           [-1, 2304, 4, 4]               0\n",
            "          Conv2d-616           [-1, 2304, 4, 4]          20,736\n",
            "     BatchNorm2d-617           [-1, 2304, 4, 4]           4,608\n",
            "            SiLU-618           [-1, 2304, 4, 4]               0\n",
            "AdaptiveAvgPool2d-619           [-1, 2304, 1, 1]               0\n",
            "          Conv2d-620             [-1, 96, 1, 1]         221,280\n",
            "            SiLU-621             [-1, 96, 1, 1]               0\n",
            "          Conv2d-622           [-1, 2304, 1, 1]         223,488\n",
            "         Sigmoid-623           [-1, 2304, 1, 1]               0\n",
            "SqueezeExcitation-624           [-1, 2304, 4, 4]               0\n",
            "          Conv2d-625            [-1, 384, 4, 4]         884,736\n",
            "     BatchNorm2d-626            [-1, 384, 4, 4]             768\n",
            " StochasticDepth-627            [-1, 384, 4, 4]               0\n",
            "          MBConv-628            [-1, 384, 4, 4]               0\n",
            "          Conv2d-629           [-1, 2304, 4, 4]         884,736\n",
            "     BatchNorm2d-630           [-1, 2304, 4, 4]           4,608\n",
            "            SiLU-631           [-1, 2304, 4, 4]               0\n",
            "          Conv2d-632           [-1, 2304, 4, 4]          20,736\n",
            "     BatchNorm2d-633           [-1, 2304, 4, 4]           4,608\n",
            "            SiLU-634           [-1, 2304, 4, 4]               0\n",
            "AdaptiveAvgPool2d-635           [-1, 2304, 1, 1]               0\n",
            "          Conv2d-636             [-1, 96, 1, 1]         221,280\n",
            "            SiLU-637             [-1, 96, 1, 1]               0\n",
            "          Conv2d-638           [-1, 2304, 1, 1]         223,488\n",
            "         Sigmoid-639           [-1, 2304, 1, 1]               0\n",
            "SqueezeExcitation-640           [-1, 2304, 4, 4]               0\n",
            "          Conv2d-641            [-1, 384, 4, 4]         884,736\n",
            "     BatchNorm2d-642            [-1, 384, 4, 4]             768\n",
            " StochasticDepth-643            [-1, 384, 4, 4]               0\n",
            "          MBConv-644            [-1, 384, 4, 4]               0\n",
            "          Conv2d-645           [-1, 2304, 4, 4]         884,736\n",
            "     BatchNorm2d-646           [-1, 2304, 4, 4]           4,608\n",
            "            SiLU-647           [-1, 2304, 4, 4]               0\n",
            "          Conv2d-648           [-1, 2304, 4, 4]          20,736\n",
            "     BatchNorm2d-649           [-1, 2304, 4, 4]           4,608\n",
            "            SiLU-650           [-1, 2304, 4, 4]               0\n",
            "AdaptiveAvgPool2d-651           [-1, 2304, 1, 1]               0\n",
            "          Conv2d-652             [-1, 96, 1, 1]         221,280\n",
            "            SiLU-653             [-1, 96, 1, 1]               0\n",
            "          Conv2d-654           [-1, 2304, 1, 1]         223,488\n",
            "         Sigmoid-655           [-1, 2304, 1, 1]               0\n",
            "SqueezeExcitation-656           [-1, 2304, 4, 4]               0\n",
            "          Conv2d-657            [-1, 384, 4, 4]         884,736\n",
            "     BatchNorm2d-658            [-1, 384, 4, 4]             768\n",
            " StochasticDepth-659            [-1, 384, 4, 4]               0\n",
            "          MBConv-660            [-1, 384, 4, 4]               0\n",
            "          Conv2d-661           [-1, 2304, 4, 4]         884,736\n",
            "     BatchNorm2d-662           [-1, 2304, 4, 4]           4,608\n",
            "            SiLU-663           [-1, 2304, 4, 4]               0\n",
            "          Conv2d-664           [-1, 2304, 4, 4]          20,736\n",
            "     BatchNorm2d-665           [-1, 2304, 4, 4]           4,608\n",
            "            SiLU-666           [-1, 2304, 4, 4]               0\n",
            "AdaptiveAvgPool2d-667           [-1, 2304, 1, 1]               0\n",
            "          Conv2d-668             [-1, 96, 1, 1]         221,280\n",
            "            SiLU-669             [-1, 96, 1, 1]               0\n",
            "          Conv2d-670           [-1, 2304, 1, 1]         223,488\n",
            "         Sigmoid-671           [-1, 2304, 1, 1]               0\n",
            "SqueezeExcitation-672           [-1, 2304, 4, 4]               0\n",
            "          Conv2d-673            [-1, 384, 4, 4]         884,736\n",
            "     BatchNorm2d-674            [-1, 384, 4, 4]             768\n",
            " StochasticDepth-675            [-1, 384, 4, 4]               0\n",
            "          MBConv-676            [-1, 384, 4, 4]               0\n",
            "          Conv2d-677           [-1, 2304, 4, 4]         884,736\n",
            "     BatchNorm2d-678           [-1, 2304, 4, 4]           4,608\n",
            "            SiLU-679           [-1, 2304, 4, 4]               0\n",
            "          Conv2d-680           [-1, 2304, 4, 4]          20,736\n",
            "     BatchNorm2d-681           [-1, 2304, 4, 4]           4,608\n",
            "            SiLU-682           [-1, 2304, 4, 4]               0\n",
            "AdaptiveAvgPool2d-683           [-1, 2304, 1, 1]               0\n",
            "          Conv2d-684             [-1, 96, 1, 1]         221,280\n",
            "            SiLU-685             [-1, 96, 1, 1]               0\n",
            "          Conv2d-686           [-1, 2304, 1, 1]         223,488\n",
            "         Sigmoid-687           [-1, 2304, 1, 1]               0\n",
            "SqueezeExcitation-688           [-1, 2304, 4, 4]               0\n",
            "          Conv2d-689            [-1, 384, 4, 4]         884,736\n",
            "     BatchNorm2d-690            [-1, 384, 4, 4]             768\n",
            " StochasticDepth-691            [-1, 384, 4, 4]               0\n",
            "          MBConv-692            [-1, 384, 4, 4]               0\n",
            "          Conv2d-693           [-1, 2304, 4, 4]         884,736\n",
            "     BatchNorm2d-694           [-1, 2304, 4, 4]           4,608\n",
            "            SiLU-695           [-1, 2304, 4, 4]               0\n",
            "          Conv2d-696           [-1, 2304, 4, 4]          20,736\n",
            "     BatchNorm2d-697           [-1, 2304, 4, 4]           4,608\n",
            "            SiLU-698           [-1, 2304, 4, 4]               0\n",
            "AdaptiveAvgPool2d-699           [-1, 2304, 1, 1]               0\n",
            "          Conv2d-700             [-1, 96, 1, 1]         221,280\n",
            "            SiLU-701             [-1, 96, 1, 1]               0\n",
            "          Conv2d-702           [-1, 2304, 1, 1]         223,488\n",
            "         Sigmoid-703           [-1, 2304, 1, 1]               0\n",
            "SqueezeExcitation-704           [-1, 2304, 4, 4]               0\n",
            "          Conv2d-705            [-1, 384, 4, 4]         884,736\n",
            "     BatchNorm2d-706            [-1, 384, 4, 4]             768\n",
            " StochasticDepth-707            [-1, 384, 4, 4]               0\n",
            "          MBConv-708            [-1, 384, 4, 4]               0\n",
            "          Conv2d-709           [-1, 2304, 4, 4]         884,736\n",
            "     BatchNorm2d-710           [-1, 2304, 4, 4]           4,608\n",
            "            SiLU-711           [-1, 2304, 4, 4]               0\n",
            "          Conv2d-712           [-1, 2304, 4, 4]          20,736\n",
            "     BatchNorm2d-713           [-1, 2304, 4, 4]           4,608\n",
            "            SiLU-714           [-1, 2304, 4, 4]               0\n",
            "AdaptiveAvgPool2d-715           [-1, 2304, 1, 1]               0\n",
            "          Conv2d-716             [-1, 96, 1, 1]         221,280\n",
            "            SiLU-717             [-1, 96, 1, 1]               0\n",
            "          Conv2d-718           [-1, 2304, 1, 1]         223,488\n",
            "         Sigmoid-719           [-1, 2304, 1, 1]               0\n",
            "SqueezeExcitation-720           [-1, 2304, 4, 4]               0\n",
            "          Conv2d-721            [-1, 384, 4, 4]         884,736\n",
            "     BatchNorm2d-722            [-1, 384, 4, 4]             768\n",
            " StochasticDepth-723            [-1, 384, 4, 4]               0\n",
            "          MBConv-724            [-1, 384, 4, 4]               0\n",
            "          Conv2d-725           [-1, 2304, 4, 4]         884,736\n",
            "     BatchNorm2d-726           [-1, 2304, 4, 4]           4,608\n",
            "            SiLU-727           [-1, 2304, 4, 4]               0\n",
            "          Conv2d-728           [-1, 2304, 4, 4]          20,736\n",
            "     BatchNorm2d-729           [-1, 2304, 4, 4]           4,608\n",
            "            SiLU-730           [-1, 2304, 4, 4]               0\n",
            "AdaptiveAvgPool2d-731           [-1, 2304, 1, 1]               0\n",
            "          Conv2d-732             [-1, 96, 1, 1]         221,280\n",
            "            SiLU-733             [-1, 96, 1, 1]               0\n",
            "          Conv2d-734           [-1, 2304, 1, 1]         223,488\n",
            "         Sigmoid-735           [-1, 2304, 1, 1]               0\n",
            "SqueezeExcitation-736           [-1, 2304, 4, 4]               0\n",
            "          Conv2d-737            [-1, 384, 4, 4]         884,736\n",
            "     BatchNorm2d-738            [-1, 384, 4, 4]             768\n",
            " StochasticDepth-739            [-1, 384, 4, 4]               0\n",
            "          MBConv-740            [-1, 384, 4, 4]               0\n",
            "          Conv2d-741           [-1, 2304, 4, 4]         884,736\n",
            "     BatchNorm2d-742           [-1, 2304, 4, 4]           4,608\n",
            "            SiLU-743           [-1, 2304, 4, 4]               0\n",
            "          Conv2d-744           [-1, 2304, 4, 4]          20,736\n",
            "     BatchNorm2d-745           [-1, 2304, 4, 4]           4,608\n",
            "            SiLU-746           [-1, 2304, 4, 4]               0\n",
            "AdaptiveAvgPool2d-747           [-1, 2304, 1, 1]               0\n",
            "          Conv2d-748             [-1, 96, 1, 1]         221,280\n",
            "            SiLU-749             [-1, 96, 1, 1]               0\n",
            "          Conv2d-750           [-1, 2304, 1, 1]         223,488\n",
            "         Sigmoid-751           [-1, 2304, 1, 1]               0\n",
            "SqueezeExcitation-752           [-1, 2304, 4, 4]               0\n",
            "          Conv2d-753            [-1, 384, 4, 4]         884,736\n",
            "     BatchNorm2d-754            [-1, 384, 4, 4]             768\n",
            " StochasticDepth-755            [-1, 384, 4, 4]               0\n",
            "          MBConv-756            [-1, 384, 4, 4]               0\n",
            "          Conv2d-757           [-1, 2304, 4, 4]         884,736\n",
            "     BatchNorm2d-758           [-1, 2304, 4, 4]           4,608\n",
            "            SiLU-759           [-1, 2304, 4, 4]               0\n",
            "          Conv2d-760           [-1, 2304, 4, 4]          20,736\n",
            "     BatchNorm2d-761           [-1, 2304, 4, 4]           4,608\n",
            "            SiLU-762           [-1, 2304, 4, 4]               0\n",
            "AdaptiveAvgPool2d-763           [-1, 2304, 1, 1]               0\n",
            "          Conv2d-764             [-1, 96, 1, 1]         221,280\n",
            "            SiLU-765             [-1, 96, 1, 1]               0\n",
            "          Conv2d-766           [-1, 2304, 1, 1]         223,488\n",
            "         Sigmoid-767           [-1, 2304, 1, 1]               0\n",
            "SqueezeExcitation-768           [-1, 2304, 4, 4]               0\n",
            "          Conv2d-769            [-1, 384, 4, 4]         884,736\n",
            "     BatchNorm2d-770            [-1, 384, 4, 4]             768\n",
            " StochasticDepth-771            [-1, 384, 4, 4]               0\n",
            "          MBConv-772            [-1, 384, 4, 4]               0\n",
            "          Conv2d-773           [-1, 2304, 4, 4]         884,736\n",
            "     BatchNorm2d-774           [-1, 2304, 4, 4]           4,608\n",
            "            SiLU-775           [-1, 2304, 4, 4]               0\n",
            "          Conv2d-776           [-1, 2304, 4, 4]          20,736\n",
            "     BatchNorm2d-777           [-1, 2304, 4, 4]           4,608\n",
            "            SiLU-778           [-1, 2304, 4, 4]               0\n",
            "AdaptiveAvgPool2d-779           [-1, 2304, 1, 1]               0\n",
            "          Conv2d-780             [-1, 96, 1, 1]         221,280\n",
            "            SiLU-781             [-1, 96, 1, 1]               0\n",
            "          Conv2d-782           [-1, 2304, 1, 1]         223,488\n",
            "         Sigmoid-783           [-1, 2304, 1, 1]               0\n",
            "SqueezeExcitation-784           [-1, 2304, 4, 4]               0\n",
            "          Conv2d-785            [-1, 384, 4, 4]         884,736\n",
            "     BatchNorm2d-786            [-1, 384, 4, 4]             768\n",
            " StochasticDepth-787            [-1, 384, 4, 4]               0\n",
            "          MBConv-788            [-1, 384, 4, 4]               0\n",
            "          Conv2d-789           [-1, 2304, 4, 4]         884,736\n",
            "     BatchNorm2d-790           [-1, 2304, 4, 4]           4,608\n",
            "            SiLU-791           [-1, 2304, 4, 4]               0\n",
            "          Conv2d-792           [-1, 2304, 4, 4]          20,736\n",
            "     BatchNorm2d-793           [-1, 2304, 4, 4]           4,608\n",
            "            SiLU-794           [-1, 2304, 4, 4]               0\n",
            "AdaptiveAvgPool2d-795           [-1, 2304, 1, 1]               0\n",
            "          Conv2d-796             [-1, 96, 1, 1]         221,280\n",
            "            SiLU-797             [-1, 96, 1, 1]               0\n",
            "          Conv2d-798           [-1, 2304, 1, 1]         223,488\n",
            "         Sigmoid-799           [-1, 2304, 1, 1]               0\n",
            "SqueezeExcitation-800           [-1, 2304, 4, 4]               0\n",
            "          Conv2d-801            [-1, 384, 4, 4]         884,736\n",
            "     BatchNorm2d-802            [-1, 384, 4, 4]             768\n",
            " StochasticDepth-803            [-1, 384, 4, 4]               0\n",
            "          MBConv-804            [-1, 384, 4, 4]               0\n",
            "          Conv2d-805           [-1, 2304, 4, 4]         884,736\n",
            "     BatchNorm2d-806           [-1, 2304, 4, 4]           4,608\n",
            "            SiLU-807           [-1, 2304, 4, 4]               0\n",
            "          Conv2d-808           [-1, 2304, 4, 4]          20,736\n",
            "     BatchNorm2d-809           [-1, 2304, 4, 4]           4,608\n",
            "            SiLU-810           [-1, 2304, 4, 4]               0\n",
            "AdaptiveAvgPool2d-811           [-1, 2304, 1, 1]               0\n",
            "          Conv2d-812             [-1, 96, 1, 1]         221,280\n",
            "            SiLU-813             [-1, 96, 1, 1]               0\n",
            "          Conv2d-814           [-1, 2304, 1, 1]         223,488\n",
            "         Sigmoid-815           [-1, 2304, 1, 1]               0\n",
            "SqueezeExcitation-816           [-1, 2304, 4, 4]               0\n",
            "          Conv2d-817            [-1, 384, 4, 4]         884,736\n",
            "     BatchNorm2d-818            [-1, 384, 4, 4]             768\n",
            " StochasticDepth-819            [-1, 384, 4, 4]               0\n",
            "          MBConv-820            [-1, 384, 4, 4]               0\n",
            "          Conv2d-821           [-1, 2304, 4, 4]         884,736\n",
            "     BatchNorm2d-822           [-1, 2304, 4, 4]           4,608\n",
            "            SiLU-823           [-1, 2304, 4, 4]               0\n",
            "          Conv2d-824           [-1, 2304, 4, 4]          20,736\n",
            "     BatchNorm2d-825           [-1, 2304, 4, 4]           4,608\n",
            "            SiLU-826           [-1, 2304, 4, 4]               0\n",
            "AdaptiveAvgPool2d-827           [-1, 2304, 1, 1]               0\n",
            "          Conv2d-828             [-1, 96, 1, 1]         221,280\n",
            "            SiLU-829             [-1, 96, 1, 1]               0\n",
            "          Conv2d-830           [-1, 2304, 1, 1]         223,488\n",
            "         Sigmoid-831           [-1, 2304, 1, 1]               0\n",
            "SqueezeExcitation-832           [-1, 2304, 4, 4]               0\n",
            "          Conv2d-833            [-1, 384, 4, 4]         884,736\n",
            "     BatchNorm2d-834            [-1, 384, 4, 4]             768\n",
            " StochasticDepth-835            [-1, 384, 4, 4]               0\n",
            "          MBConv-836            [-1, 384, 4, 4]               0\n",
            "          Conv2d-837           [-1, 2304, 4, 4]         884,736\n",
            "     BatchNorm2d-838           [-1, 2304, 4, 4]           4,608\n",
            "            SiLU-839           [-1, 2304, 4, 4]               0\n",
            "          Conv2d-840           [-1, 2304, 4, 4]          20,736\n",
            "     BatchNorm2d-841           [-1, 2304, 4, 4]           4,608\n",
            "            SiLU-842           [-1, 2304, 4, 4]               0\n",
            "AdaptiveAvgPool2d-843           [-1, 2304, 1, 1]               0\n",
            "          Conv2d-844             [-1, 96, 1, 1]         221,280\n",
            "            SiLU-845             [-1, 96, 1, 1]               0\n",
            "          Conv2d-846           [-1, 2304, 1, 1]         223,488\n",
            "         Sigmoid-847           [-1, 2304, 1, 1]               0\n",
            "SqueezeExcitation-848           [-1, 2304, 4, 4]               0\n",
            "          Conv2d-849            [-1, 384, 4, 4]         884,736\n",
            "     BatchNorm2d-850            [-1, 384, 4, 4]             768\n",
            " StochasticDepth-851            [-1, 384, 4, 4]               0\n",
            "          MBConv-852            [-1, 384, 4, 4]               0\n",
            "          Conv2d-853           [-1, 2304, 4, 4]         884,736\n",
            "     BatchNorm2d-854           [-1, 2304, 4, 4]           4,608\n",
            "            SiLU-855           [-1, 2304, 4, 4]               0\n",
            "          Conv2d-856           [-1, 2304, 4, 4]          20,736\n",
            "     BatchNorm2d-857           [-1, 2304, 4, 4]           4,608\n",
            "            SiLU-858           [-1, 2304, 4, 4]               0\n",
            "AdaptiveAvgPool2d-859           [-1, 2304, 1, 1]               0\n",
            "          Conv2d-860             [-1, 96, 1, 1]         221,280\n",
            "            SiLU-861             [-1, 96, 1, 1]               0\n",
            "          Conv2d-862           [-1, 2304, 1, 1]         223,488\n",
            "         Sigmoid-863           [-1, 2304, 1, 1]               0\n",
            "SqueezeExcitation-864           [-1, 2304, 4, 4]               0\n",
            "          Conv2d-865            [-1, 384, 4, 4]         884,736\n",
            "     BatchNorm2d-866            [-1, 384, 4, 4]             768\n",
            " StochasticDepth-867            [-1, 384, 4, 4]               0\n",
            "          MBConv-868            [-1, 384, 4, 4]               0\n",
            "          Conv2d-869           [-1, 2304, 4, 4]         884,736\n",
            "     BatchNorm2d-870           [-1, 2304, 4, 4]           4,608\n",
            "            SiLU-871           [-1, 2304, 4, 4]               0\n",
            "          Conv2d-872           [-1, 2304, 4, 4]          20,736\n",
            "     BatchNorm2d-873           [-1, 2304, 4, 4]           4,608\n",
            "            SiLU-874           [-1, 2304, 4, 4]               0\n",
            "AdaptiveAvgPool2d-875           [-1, 2304, 1, 1]               0\n",
            "          Conv2d-876             [-1, 96, 1, 1]         221,280\n",
            "            SiLU-877             [-1, 96, 1, 1]               0\n",
            "          Conv2d-878           [-1, 2304, 1, 1]         223,488\n",
            "         Sigmoid-879           [-1, 2304, 1, 1]               0\n",
            "SqueezeExcitation-880           [-1, 2304, 4, 4]               0\n",
            "          Conv2d-881            [-1, 384, 4, 4]         884,736\n",
            "     BatchNorm2d-882            [-1, 384, 4, 4]             768\n",
            " StochasticDepth-883            [-1, 384, 4, 4]               0\n",
            "          MBConv-884            [-1, 384, 4, 4]               0\n",
            "          Conv2d-885           [-1, 2304, 4, 4]         884,736\n",
            "     BatchNorm2d-886           [-1, 2304, 4, 4]           4,608\n",
            "            SiLU-887           [-1, 2304, 4, 4]               0\n",
            "          Conv2d-888           [-1, 2304, 4, 4]          20,736\n",
            "     BatchNorm2d-889           [-1, 2304, 4, 4]           4,608\n",
            "            SiLU-890           [-1, 2304, 4, 4]               0\n",
            "AdaptiveAvgPool2d-891           [-1, 2304, 1, 1]               0\n",
            "          Conv2d-892             [-1, 96, 1, 1]         221,280\n",
            "            SiLU-893             [-1, 96, 1, 1]               0\n",
            "          Conv2d-894           [-1, 2304, 1, 1]         223,488\n",
            "         Sigmoid-895           [-1, 2304, 1, 1]               0\n",
            "SqueezeExcitation-896           [-1, 2304, 4, 4]               0\n",
            "          Conv2d-897            [-1, 384, 4, 4]         884,736\n",
            "     BatchNorm2d-898            [-1, 384, 4, 4]             768\n",
            " StochasticDepth-899            [-1, 384, 4, 4]               0\n",
            "          MBConv-900            [-1, 384, 4, 4]               0\n",
            "          Conv2d-901           [-1, 2304, 4, 4]         884,736\n",
            "     BatchNorm2d-902           [-1, 2304, 4, 4]           4,608\n",
            "            SiLU-903           [-1, 2304, 4, 4]               0\n",
            "          Conv2d-904           [-1, 2304, 4, 4]          20,736\n",
            "     BatchNorm2d-905           [-1, 2304, 4, 4]           4,608\n",
            "            SiLU-906           [-1, 2304, 4, 4]               0\n",
            "AdaptiveAvgPool2d-907           [-1, 2304, 1, 1]               0\n",
            "          Conv2d-908             [-1, 96, 1, 1]         221,280\n",
            "            SiLU-909             [-1, 96, 1, 1]               0\n",
            "          Conv2d-910           [-1, 2304, 1, 1]         223,488\n",
            "         Sigmoid-911           [-1, 2304, 1, 1]               0\n",
            "SqueezeExcitation-912           [-1, 2304, 4, 4]               0\n",
            "          Conv2d-913            [-1, 384, 4, 4]         884,736\n",
            "     BatchNorm2d-914            [-1, 384, 4, 4]             768\n",
            " StochasticDepth-915            [-1, 384, 4, 4]               0\n",
            "          MBConv-916            [-1, 384, 4, 4]               0\n",
            "          Conv2d-917           [-1, 2304, 4, 4]         884,736\n",
            "     BatchNorm2d-918           [-1, 2304, 4, 4]           4,608\n",
            "            SiLU-919           [-1, 2304, 4, 4]               0\n",
            "          Conv2d-920           [-1, 2304, 4, 4]          20,736\n",
            "     BatchNorm2d-921           [-1, 2304, 4, 4]           4,608\n",
            "            SiLU-922           [-1, 2304, 4, 4]               0\n",
            "AdaptiveAvgPool2d-923           [-1, 2304, 1, 1]               0\n",
            "          Conv2d-924             [-1, 96, 1, 1]         221,280\n",
            "            SiLU-925             [-1, 96, 1, 1]               0\n",
            "          Conv2d-926           [-1, 2304, 1, 1]         223,488\n",
            "         Sigmoid-927           [-1, 2304, 1, 1]               0\n",
            "SqueezeExcitation-928           [-1, 2304, 4, 4]               0\n",
            "          Conv2d-929            [-1, 384, 4, 4]         884,736\n",
            "     BatchNorm2d-930            [-1, 384, 4, 4]             768\n",
            " StochasticDepth-931            [-1, 384, 4, 4]               0\n",
            "          MBConv-932            [-1, 384, 4, 4]               0\n",
            "          Conv2d-933           [-1, 2304, 4, 4]         884,736\n",
            "     BatchNorm2d-934           [-1, 2304, 4, 4]           4,608\n",
            "            SiLU-935           [-1, 2304, 4, 4]               0\n",
            "          Conv2d-936           [-1, 2304, 4, 4]          20,736\n",
            "     BatchNorm2d-937           [-1, 2304, 4, 4]           4,608\n",
            "            SiLU-938           [-1, 2304, 4, 4]               0\n",
            "AdaptiveAvgPool2d-939           [-1, 2304, 1, 1]               0\n",
            "          Conv2d-940             [-1, 96, 1, 1]         221,280\n",
            "            SiLU-941             [-1, 96, 1, 1]               0\n",
            "          Conv2d-942           [-1, 2304, 1, 1]         223,488\n",
            "         Sigmoid-943           [-1, 2304, 1, 1]               0\n",
            "SqueezeExcitation-944           [-1, 2304, 4, 4]               0\n",
            "          Conv2d-945            [-1, 384, 4, 4]         884,736\n",
            "     BatchNorm2d-946            [-1, 384, 4, 4]             768\n",
            " StochasticDepth-947            [-1, 384, 4, 4]               0\n",
            "          MBConv-948            [-1, 384, 4, 4]               0\n",
            "          Conv2d-949           [-1, 2304, 4, 4]         884,736\n",
            "     BatchNorm2d-950           [-1, 2304, 4, 4]           4,608\n",
            "            SiLU-951           [-1, 2304, 4, 4]               0\n",
            "          Conv2d-952           [-1, 2304, 4, 4]          20,736\n",
            "     BatchNorm2d-953           [-1, 2304, 4, 4]           4,608\n",
            "            SiLU-954           [-1, 2304, 4, 4]               0\n",
            "AdaptiveAvgPool2d-955           [-1, 2304, 1, 1]               0\n",
            "          Conv2d-956             [-1, 96, 1, 1]         221,280\n",
            "            SiLU-957             [-1, 96, 1, 1]               0\n",
            "          Conv2d-958           [-1, 2304, 1, 1]         223,488\n",
            "         Sigmoid-959           [-1, 2304, 1, 1]               0\n",
            "SqueezeExcitation-960           [-1, 2304, 4, 4]               0\n",
            "          Conv2d-961            [-1, 384, 4, 4]         884,736\n",
            "     BatchNorm2d-962            [-1, 384, 4, 4]             768\n",
            " StochasticDepth-963            [-1, 384, 4, 4]               0\n",
            "          MBConv-964            [-1, 384, 4, 4]               0\n",
            "          Conv2d-965           [-1, 2304, 4, 4]         884,736\n",
            "     BatchNorm2d-966           [-1, 2304, 4, 4]           4,608\n",
            "            SiLU-967           [-1, 2304, 4, 4]               0\n",
            "          Conv2d-968           [-1, 2304, 4, 4]          20,736\n",
            "     BatchNorm2d-969           [-1, 2304, 4, 4]           4,608\n",
            "            SiLU-970           [-1, 2304, 4, 4]               0\n",
            "AdaptiveAvgPool2d-971           [-1, 2304, 1, 1]               0\n",
            "          Conv2d-972             [-1, 96, 1, 1]         221,280\n",
            "            SiLU-973             [-1, 96, 1, 1]               0\n",
            "          Conv2d-974           [-1, 2304, 1, 1]         223,488\n",
            "         Sigmoid-975           [-1, 2304, 1, 1]               0\n",
            "SqueezeExcitation-976           [-1, 2304, 4, 4]               0\n",
            "          Conv2d-977            [-1, 384, 4, 4]         884,736\n",
            "     BatchNorm2d-978            [-1, 384, 4, 4]             768\n",
            " StochasticDepth-979            [-1, 384, 4, 4]               0\n",
            "          MBConv-980            [-1, 384, 4, 4]               0\n",
            "          Conv2d-981           [-1, 2304, 4, 4]         884,736\n",
            "     BatchNorm2d-982           [-1, 2304, 4, 4]           4,608\n",
            "            SiLU-983           [-1, 2304, 4, 4]               0\n",
            "          Conv2d-984           [-1, 2304, 4, 4]          20,736\n",
            "     BatchNorm2d-985           [-1, 2304, 4, 4]           4,608\n",
            "            SiLU-986           [-1, 2304, 4, 4]               0\n",
            "AdaptiveAvgPool2d-987           [-1, 2304, 1, 1]               0\n",
            "          Conv2d-988             [-1, 96, 1, 1]         221,280\n",
            "            SiLU-989             [-1, 96, 1, 1]               0\n",
            "          Conv2d-990           [-1, 2304, 1, 1]         223,488\n",
            "         Sigmoid-991           [-1, 2304, 1, 1]               0\n",
            "SqueezeExcitation-992           [-1, 2304, 4, 4]               0\n",
            "          Conv2d-993            [-1, 640, 4, 4]       1,474,560\n",
            "     BatchNorm2d-994            [-1, 640, 4, 4]           1,280\n",
            "          MBConv-995            [-1, 640, 4, 4]               0\n",
            "          Conv2d-996           [-1, 3840, 4, 4]       2,457,600\n",
            "     BatchNorm2d-997           [-1, 3840, 4, 4]           7,680\n",
            "            SiLU-998           [-1, 3840, 4, 4]               0\n",
            "          Conv2d-999           [-1, 3840, 4, 4]          34,560\n",
            "    BatchNorm2d-1000           [-1, 3840, 4, 4]           7,680\n",
            "           SiLU-1001           [-1, 3840, 4, 4]               0\n",
            "AdaptiveAvgPool2d-1002           [-1, 3840, 1, 1]               0\n",
            "         Conv2d-1003            [-1, 160, 1, 1]         614,560\n",
            "           SiLU-1004            [-1, 160, 1, 1]               0\n",
            "         Conv2d-1005           [-1, 3840, 1, 1]         618,240\n",
            "        Sigmoid-1006           [-1, 3840, 1, 1]               0\n",
            "SqueezeExcitation-1007           [-1, 3840, 4, 4]               0\n",
            "         Conv2d-1008            [-1, 640, 4, 4]       2,457,600\n",
            "    BatchNorm2d-1009            [-1, 640, 4, 4]           1,280\n",
            "StochasticDepth-1010            [-1, 640, 4, 4]               0\n",
            "         MBConv-1011            [-1, 640, 4, 4]               0\n",
            "         Conv2d-1012           [-1, 3840, 4, 4]       2,457,600\n",
            "    BatchNorm2d-1013           [-1, 3840, 4, 4]           7,680\n",
            "           SiLU-1014           [-1, 3840, 4, 4]               0\n",
            "         Conv2d-1015           [-1, 3840, 4, 4]          34,560\n",
            "    BatchNorm2d-1016           [-1, 3840, 4, 4]           7,680\n",
            "           SiLU-1017           [-1, 3840, 4, 4]               0\n",
            "AdaptiveAvgPool2d-1018           [-1, 3840, 1, 1]               0\n",
            "         Conv2d-1019            [-1, 160, 1, 1]         614,560\n",
            "           SiLU-1020            [-1, 160, 1, 1]               0\n",
            "         Conv2d-1021           [-1, 3840, 1, 1]         618,240\n",
            "        Sigmoid-1022           [-1, 3840, 1, 1]               0\n",
            "SqueezeExcitation-1023           [-1, 3840, 4, 4]               0\n",
            "         Conv2d-1024            [-1, 640, 4, 4]       2,457,600\n",
            "    BatchNorm2d-1025            [-1, 640, 4, 4]           1,280\n",
            "StochasticDepth-1026            [-1, 640, 4, 4]               0\n",
            "         MBConv-1027            [-1, 640, 4, 4]               0\n",
            "         Conv2d-1028           [-1, 3840, 4, 4]       2,457,600\n",
            "    BatchNorm2d-1029           [-1, 3840, 4, 4]           7,680\n",
            "           SiLU-1030           [-1, 3840, 4, 4]               0\n",
            "         Conv2d-1031           [-1, 3840, 4, 4]          34,560\n",
            "    BatchNorm2d-1032           [-1, 3840, 4, 4]           7,680\n",
            "           SiLU-1033           [-1, 3840, 4, 4]               0\n",
            "AdaptiveAvgPool2d-1034           [-1, 3840, 1, 1]               0\n",
            "         Conv2d-1035            [-1, 160, 1, 1]         614,560\n",
            "           SiLU-1036            [-1, 160, 1, 1]               0\n",
            "         Conv2d-1037           [-1, 3840, 1, 1]         618,240\n",
            "        Sigmoid-1038           [-1, 3840, 1, 1]               0\n",
            "SqueezeExcitation-1039           [-1, 3840, 4, 4]               0\n",
            "         Conv2d-1040            [-1, 640, 4, 4]       2,457,600\n",
            "    BatchNorm2d-1041            [-1, 640, 4, 4]           1,280\n",
            "StochasticDepth-1042            [-1, 640, 4, 4]               0\n",
            "         MBConv-1043            [-1, 640, 4, 4]               0\n",
            "         Conv2d-1044           [-1, 3840, 4, 4]       2,457,600\n",
            "    BatchNorm2d-1045           [-1, 3840, 4, 4]           7,680\n",
            "           SiLU-1046           [-1, 3840, 4, 4]               0\n",
            "         Conv2d-1047           [-1, 3840, 4, 4]          34,560\n",
            "    BatchNorm2d-1048           [-1, 3840, 4, 4]           7,680\n",
            "           SiLU-1049           [-1, 3840, 4, 4]               0\n",
            "AdaptiveAvgPool2d-1050           [-1, 3840, 1, 1]               0\n",
            "         Conv2d-1051            [-1, 160, 1, 1]         614,560\n",
            "           SiLU-1052            [-1, 160, 1, 1]               0\n",
            "         Conv2d-1053           [-1, 3840, 1, 1]         618,240\n",
            "        Sigmoid-1054           [-1, 3840, 1, 1]               0\n",
            "SqueezeExcitation-1055           [-1, 3840, 4, 4]               0\n",
            "         Conv2d-1056            [-1, 640, 4, 4]       2,457,600\n",
            "    BatchNorm2d-1057            [-1, 640, 4, 4]           1,280\n",
            "StochasticDepth-1058            [-1, 640, 4, 4]               0\n",
            "         MBConv-1059            [-1, 640, 4, 4]               0\n",
            "         Conv2d-1060           [-1, 3840, 4, 4]       2,457,600\n",
            "    BatchNorm2d-1061           [-1, 3840, 4, 4]           7,680\n",
            "           SiLU-1062           [-1, 3840, 4, 4]               0\n",
            "         Conv2d-1063           [-1, 3840, 4, 4]          34,560\n",
            "    BatchNorm2d-1064           [-1, 3840, 4, 4]           7,680\n",
            "           SiLU-1065           [-1, 3840, 4, 4]               0\n",
            "AdaptiveAvgPool2d-1066           [-1, 3840, 1, 1]               0\n",
            "         Conv2d-1067            [-1, 160, 1, 1]         614,560\n",
            "           SiLU-1068            [-1, 160, 1, 1]               0\n",
            "         Conv2d-1069           [-1, 3840, 1, 1]         618,240\n",
            "        Sigmoid-1070           [-1, 3840, 1, 1]               0\n",
            "SqueezeExcitation-1071           [-1, 3840, 4, 4]               0\n",
            "         Conv2d-1072            [-1, 640, 4, 4]       2,457,600\n",
            "    BatchNorm2d-1073            [-1, 640, 4, 4]           1,280\n",
            "StochasticDepth-1074            [-1, 640, 4, 4]               0\n",
            "         MBConv-1075            [-1, 640, 4, 4]               0\n",
            "         Conv2d-1076           [-1, 3840, 4, 4]       2,457,600\n",
            "    BatchNorm2d-1077           [-1, 3840, 4, 4]           7,680\n",
            "           SiLU-1078           [-1, 3840, 4, 4]               0\n",
            "         Conv2d-1079           [-1, 3840, 4, 4]          34,560\n",
            "    BatchNorm2d-1080           [-1, 3840, 4, 4]           7,680\n",
            "           SiLU-1081           [-1, 3840, 4, 4]               0\n",
            "AdaptiveAvgPool2d-1082           [-1, 3840, 1, 1]               0\n",
            "         Conv2d-1083            [-1, 160, 1, 1]         614,560\n",
            "           SiLU-1084            [-1, 160, 1, 1]               0\n",
            "         Conv2d-1085           [-1, 3840, 1, 1]         618,240\n",
            "        Sigmoid-1086           [-1, 3840, 1, 1]               0\n",
            "SqueezeExcitation-1087           [-1, 3840, 4, 4]               0\n",
            "         Conv2d-1088            [-1, 640, 4, 4]       2,457,600\n",
            "    BatchNorm2d-1089            [-1, 640, 4, 4]           1,280\n",
            "StochasticDepth-1090            [-1, 640, 4, 4]               0\n",
            "         MBConv-1091            [-1, 640, 4, 4]               0\n",
            "         Conv2d-1092           [-1, 1280, 4, 4]         819,200\n",
            "    BatchNorm2d-1093           [-1, 1280, 4, 4]           2,560\n",
            "           SiLU-1094           [-1, 1280, 4, 4]               0\n",
            "AdaptiveAvgPool2d-1095           [-1, 1280, 1, 1]               0\n",
            "        Dropout-1096                 [-1, 1280]               0\n",
            "         Linear-1097                  [-1, 964]       1,234,884\n",
            "================================================================\n",
            "Total params: 118,469,156\n",
            "Trainable params: 1,234,884\n",
            "Non-trainable params: 117,234,272\n",
            "----------------------------------------------------------------\n",
            "Input size (MB): 0.13\n",
            "Forward/backward pass size (MB): 245.31\n",
            "Params size (MB): 451.92\n",
            "Estimated Total Size (MB): 697.36\n",
            "----------------------------------------------------------------\n"
          ]
        }
      ]
    },
    {
      "cell_type": "markdown",
      "source": [
        "| Modelo | Optimizador | Learning Rate | Params | Epoch | Acc Train | Acc Val | Acc Test |\n",
        "| -----  | ----- | ---- | ---- | ---- | ---- | ---- | ---- |\n",
        "| EfficientNet | SGD |  | | | | | |\n",
        "| EfficientNet | Adam | 1e-4 | | 51 | 0.999 | 0.395 | 0.432 |\n",
        "| EfficientNet | Adam | 8e-2 | | 5 | 0.924 | 0.232 | 0.256 |\n",
        "| EfficientNet | Adam | 2e-3 | | 10 | 0.999 | 0.392 | 0.406 |\n",
        "| EfficientNet | Adam | 8e-3 | | 5 | 0.997 | 0.310| 0.332 |\n",
        "| EfficientNet | Adam | 1e-2 | | 5 | 0.993 | 0.293| 0.345 |\n",
        "| EfficientNet | Adam | 4e-2 | | 6 | 0.942 | 0.239| 0.265 |\n",
        "| EfficientNet | Adam | 4e-4 | betas=(0.8, 0.9)| 7 | 0.987 | 0.392| 0.423 |\n",
        "| EfficientNet | Adagrad | 0.009 |lr_decay=0.0001 | 100 | 0.999 | 0.383 | 0.423 |\n",
        "| EfficientNet | ASGD | 0.01 | | 10 | 0.49 | 0.156 | 0.179 |"
      ],
      "metadata": {
        "id": "Nbo_mn5k41PK"
      }
    },
    {
      "cell_type": "code",
      "source": [
        "# Para guardar los valores que queremos visualizar\n",
        "ovrl_history = {\n",
        "    'epochs': [],\n",
        "    'train': {'loss': [], 'acc': []},\n",
        "    'val': {'loss': [], 'acc': []},\n",
        "    'test': {'loss': [], 'acc': []},\n",
        "}\n",
        "\n",
        "n_epochs = 100\n",
        "\n",
        "for epoch in range(n_epochs):\n",
        "    losses = []\n",
        "    cum_loss = 0.0\n",
        "    cum_acc = 0.0\n",
        "    with tqdm(train_loader, unit='batch', position=0, leave=True) as tepoch:\n",
        "      tepoch.set_description(f\"Epoch {epoch}/{n_epochs}\")\n",
        "      for batch, (data, targets) in enumerate(tepoch, start=1):\n",
        "        optimizer.zero_grad()\n",
        "        data = data.to(device)\n",
        "        targets = targets.to(device)\n",
        "\n",
        "        preds = model(data)\n",
        "        loss = criterion(preds, targets)\n",
        "\n",
        "        loss.backward()\n",
        "        optimizer.step()\n",
        "\n",
        "        _, preds = torch.max(preds, dim=1)\n",
        "        cum_acc += torch.sum(preds == targets)\n",
        "\n",
        "        # Cifras de desempeño\n",
        "        cum_loss += loss.item()\n",
        "        curr_loss = cum_loss / batch\n",
        "        curr_acc = cum_acc / (batch * batch_size)\n",
        "        tepoch.set_postfix(Loss=curr_loss, Acc=curr_acc.item())\n",
        "        losses.append(loss.item())\n",
        "\n",
        "        torch.cuda.empty_cache()\n",
        "\n",
        "    epoch_loss = float(cum_loss / batch)\n",
        "    epoch_acc = float(cum_acc / (batch * batch_size))\n",
        "\n",
        "    # Guardamos la epoca\n",
        "    ovrl_history['epochs'].append(epoch)\n",
        "\n",
        "    # Guardamos el loss y accuracy para la epoca\n",
        "    ovrl_history['train']['loss'].append(epoch_loss)\n",
        "    ovrl_history['train']['acc'].append(epoch_acc)\n",
        "\n",
        "    # Guardamos el loss y accuracy en el set de validacion\n",
        "    val_acc = test_model(model, val_loader)\n",
        "    ovrl_history['val']['loss'].append(epoch_loss)\n",
        "    ovrl_history['val']['acc'].append(float(val_acc))\n",
        "    print(f'Validation Accuracy: {val_acc}')\n",
        "\n",
        "    # Guardamos el loss y accuracy en el set de testing\n",
        "    test_acc = test_model(model, test_loader)\n",
        "    ovrl_history['test']['acc'].append(float(test_acc))\n",
        "    print(f'Testing Accuracy: {test_acc}')\n",
        "\n",
        "    # Guardamos el progreso actual en caso de que se corte la sesión.\n",
        "    # Debe existir el directorio\n",
        "    # Se guarda cada una de las epocas distintas para despues graficarla\n",
        "    torch.save(model, model_path + '_' + str(epoch).zfill(3) + '.pt')\n",
        "\n",
        "    print(f'Epoch {epoch + 1} finished\\n')"
      ],
      "metadata": {
        "colab": {
          "base_uri": "https://localhost:8080/",
          "height": 1000
        },
        "id": "9GsSVKv5KDQi",
        "outputId": "9c122077-eab5-4704-9461-c54c5daa01a8"
      },
      "execution_count": null,
      "outputs": [
        {
          "output_type": "stream",
          "name": "stderr",
          "text": [
            "Epoch 0/100: 100%|██████████| 211/211 [00:52<00:00,  4.01batch/s, Acc=0.00237, Loss=6.95]\n"
          ]
        },
        {
          "output_type": "stream",
          "name": "stdout",
          "text": [
            "Validation Accuracy: 0.020487552508711815\n",
            "Testing Accuracy: 0.01815352775156498\n",
            "Epoch 1 finished\n",
            "\n"
          ]
        },
        {
          "output_type": "stream",
          "name": "stderr",
          "text": [
            "Epoch 1/100: 100%|██████████| 211/211 [00:52<00:00,  3.99batch/s, Acc=0.0727, Loss=6.13]\n"
          ]
        },
        {
          "output_type": "stream",
          "name": "stdout",
          "text": [
            "Validation Accuracy: 0.08065353333950043\n",
            "Testing Accuracy: 0.0684647336602211\n",
            "Epoch 2 finished\n",
            "\n"
          ]
        },
        {
          "output_type": "stream",
          "name": "stderr",
          "text": [
            "Epoch 2/100: 100%|██████████| 211/211 [00:52<00:00,  4.05batch/s, Acc=0.26, Loss=5.5]\n"
          ]
        },
        {
          "output_type": "stream",
          "name": "stdout",
          "text": [
            "Validation Accuracy: 0.14211618900299072\n",
            "Testing Accuracy: 0.14315353333950043\n",
            "Epoch 3 finished\n",
            "\n"
          ]
        },
        {
          "output_type": "stream",
          "name": "stderr",
          "text": [
            "Epoch 3/100: 100%|██████████| 211/211 [00:52<00:00,  4.05batch/s, Acc=0.485, Loss=4.88]\n"
          ]
        },
        {
          "output_type": "stream",
          "name": "stdout",
          "text": [
            "Validation Accuracy: 0.19035270810127258\n",
            "Testing Accuracy: 0.21058093011379242\n",
            "Epoch 4 finished\n",
            "\n"
          ]
        },
        {
          "output_type": "stream",
          "name": "stderr",
          "text": [
            "Epoch 4/100: 100%|██████████| 211/211 [00:52<00:00,  4.04batch/s, Acc=0.671, Loss=4.29]\n"
          ]
        },
        {
          "output_type": "stream",
          "name": "stdout",
          "text": [
            "Validation Accuracy: 0.23236516118049622\n",
            "Testing Accuracy: 0.25570541620254517\n",
            "Epoch 5 finished\n",
            "\n"
          ]
        },
        {
          "output_type": "stream",
          "name": "stderr",
          "text": [
            "Epoch 5/100: 100%|██████████| 211/211 [00:52<00:00,  4.04batch/s, Acc=0.788, Loss=3.73]\n"
          ]
        },
        {
          "output_type": "stream",
          "name": "stdout",
          "text": [
            "Validation Accuracy: 0.259854793548584\n",
            "Testing Accuracy: 0.2847510576248169\n",
            "Epoch 6 finished\n",
            "\n"
          ]
        },
        {
          "output_type": "stream",
          "name": "stderr",
          "text": [
            "Epoch 6/100: 100%|██████████| 211/211 [00:52<00:00,  4.05batch/s, Acc=0.862, Loss=3.22]\n"
          ]
        },
        {
          "output_type": "stream",
          "name": "stdout",
          "text": [
            "Validation Accuracy: 0.2889004349708557\n",
            "Testing Accuracy: 0.3117220103740692\n",
            "Epoch 7 finished\n",
            "\n"
          ]
        },
        {
          "output_type": "stream",
          "name": "stderr",
          "text": [
            "Epoch 7/100: 100%|██████████| 211/211 [00:52<00:00,  4.05batch/s, Acc=0.909, Loss=2.77]\n"
          ]
        },
        {
          "output_type": "stream",
          "name": "stdout",
          "text": [
            "Validation Accuracy: 0.3106846511363983\n",
            "Testing Accuracy: 0.3433610200881958\n",
            "Epoch 8 finished\n",
            "\n"
          ]
        },
        {
          "output_type": "stream",
          "name": "stderr",
          "text": [
            "Epoch 8/100: 100%|██████████| 211/211 [00:52<00:00,  4.05batch/s, Acc=0.94, Loss=2.37]\n"
          ]
        },
        {
          "output_type": "stream",
          "name": "stdout",
          "text": [
            "Validation Accuracy: 0.3254668116569519\n",
            "Testing Accuracy: 0.3589211702346802\n",
            "Epoch 9 finished\n",
            "\n"
          ]
        },
        {
          "output_type": "stream",
          "name": "stderr",
          "text": [
            "Epoch 9/100: 100%|██████████| 211/211 [00:52<00:00,  4.05batch/s, Acc=0.957, Loss=2.02]\n"
          ]
        },
        {
          "output_type": "stream",
          "name": "stdout",
          "text": [
            "Validation Accuracy: 0.33973032236099243\n",
            "Testing Accuracy: 0.37344399094581604\n",
            "Epoch 10 finished\n",
            "\n"
          ]
        },
        {
          "output_type": "stream",
          "name": "stderr",
          "text": [
            "Epoch 10/100: 100%|██████████| 211/211 [00:52<00:00,  4.05batch/s, Acc=0.969, Loss=1.73]\n"
          ]
        },
        {
          "output_type": "stream",
          "name": "stdout",
          "text": [
            "Validation Accuracy: 0.35165977478027344\n",
            "Testing Accuracy: 0.3869294822216034\n",
            "Epoch 11 finished\n",
            "\n"
          ]
        },
        {
          "output_type": "stream",
          "name": "stderr",
          "text": [
            "Epoch 11/100: 100%|██████████| 211/211 [00:52<00:00,  4.05batch/s, Acc=0.978, Loss=1.48]\n"
          ]
        },
        {
          "output_type": "stream",
          "name": "stdout",
          "text": [
            "Validation Accuracy: 0.3581431806087494\n",
            "Testing Accuracy: 0.3947095572948456\n",
            "Epoch 12 finished\n",
            "\n"
          ]
        },
        {
          "output_type": "stream",
          "name": "stderr",
          "text": [
            "Epoch 12/100: 100%|██████████| 211/211 [00:52<00:00,  4.05batch/s, Acc=0.984, Loss=1.26]\n"
          ]
        },
        {
          "output_type": "stream",
          "name": "stdout",
          "text": [
            "Validation Accuracy: 0.36566391587257385\n",
            "Testing Accuracy: 0.39056017994880676\n",
            "Epoch 13 finished\n",
            "\n"
          ]
        },
        {
          "output_type": "stream",
          "name": "stderr",
          "text": [
            "Epoch 13/100: 100%|██████████| 211/211 [00:52<00:00,  4.04batch/s, Acc=0.989, Loss=1.08]\n"
          ]
        },
        {
          "output_type": "stream",
          "name": "stdout",
          "text": [
            "Validation Accuracy: 0.36851662397384644\n",
            "Testing Accuracy: 0.39834028482437134\n",
            "Epoch 14 finished\n",
            "\n"
          ]
        },
        {
          "output_type": "stream",
          "name": "stderr",
          "text": [
            "Epoch 14/100: 100%|██████████| 211/211 [00:52<00:00,  4.05batch/s, Acc=0.992, Loss=0.929]\n"
          ]
        },
        {
          "output_type": "stream",
          "name": "stdout",
          "text": [
            "Validation Accuracy: 0.37240666151046753\n",
            "Testing Accuracy: 0.4030083119869232\n",
            "Epoch 15 finished\n",
            "\n"
          ]
        },
        {
          "output_type": "stream",
          "name": "stderr",
          "text": [
            "Epoch 15/100: 100%|██████████| 211/211 [00:52<00:00,  4.05batch/s, Acc=0.993, Loss=0.8]\n"
          ]
        },
        {
          "output_type": "stream",
          "name": "stdout",
          "text": [
            "Validation Accuracy: 0.3768153786659241\n",
            "Testing Accuracy: 0.40923237800598145\n",
            "Epoch 16 finished\n",
            "\n"
          ]
        },
        {
          "output_type": "stream",
          "name": "stderr",
          "text": [
            "Epoch 16/100: 100%|██████████| 211/211 [00:52<00:00,  4.05batch/s, Acc=0.995, Loss=0.689]\n"
          ]
        },
        {
          "output_type": "stream",
          "name": "stdout",
          "text": [
            "Validation Accuracy: 0.37655603885650635\n",
            "Testing Accuracy: 0.40923237800598145\n",
            "Epoch 17 finished\n",
            "\n"
          ]
        },
        {
          "output_type": "stream",
          "name": "stderr",
          "text": [
            "Epoch 17/100: 100%|██████████| 211/211 [00:52<00:00,  4.05batch/s, Acc=0.996, Loss=0.594]\n"
          ]
        },
        {
          "output_type": "stream",
          "name": "stdout",
          "text": [
            "Validation Accuracy: 0.37940874695777893\n",
            "Testing Accuracy: 0.4149377942085266\n",
            "Epoch 18 finished\n",
            "\n"
          ]
        },
        {
          "output_type": "stream",
          "name": "stderr",
          "text": [
            "Epoch 18/100: 100%|██████████| 211/211 [00:52<00:00,  4.06batch/s, Acc=0.997, Loss=0.514]\n"
          ]
        },
        {
          "output_type": "stream",
          "name": "stdout",
          "text": [
            "Validation Accuracy: 0.3827801048755646\n",
            "Testing Accuracy: 0.4154564440250397\n",
            "Epoch 19 finished\n",
            "\n"
          ]
        },
        {
          "output_type": "stream",
          "name": "stderr",
          "text": [
            "Epoch 19/100: 100%|██████████| 211/211 [00:52<00:00,  4.05batch/s, Acc=0.998, Loss=0.445]\n"
          ]
        },
        {
          "output_type": "stream",
          "name": "stdout",
          "text": [
            "Validation Accuracy: 0.3851141333580017\n",
            "Testing Accuracy: 0.4139004349708557\n",
            "Epoch 20 finished\n",
            "\n"
          ]
        },
        {
          "output_type": "stream",
          "name": "stderr",
          "text": [
            "Epoch 20/100: 100%|██████████| 211/211 [00:51<00:00,  4.07batch/s, Acc=0.998, Loss=0.386]\n"
          ]
        },
        {
          "output_type": "stream",
          "name": "stdout",
          "text": [
            "Validation Accuracy: 0.3869294822216034\n",
            "Testing Accuracy: 0.41856849193573\n",
            "Epoch 21 finished\n",
            "\n"
          ]
        },
        {
          "output_type": "stream",
          "name": "stderr",
          "text": [
            "Epoch 21/100: 100%|██████████| 211/211 [00:52<00:00,  4.06batch/s, Acc=0.998, Loss=0.335]\n"
          ]
        },
        {
          "output_type": "stream",
          "name": "stdout",
          "text": [
            "Validation Accuracy: 0.38641080260276794\n",
            "Testing Accuracy: 0.4196058213710785\n",
            "Epoch 22 finished\n",
            "\n"
          ]
        },
        {
          "output_type": "stream",
          "name": "stderr",
          "text": [
            "Epoch 22/100: 100%|██████████| 211/211 [00:52<00:00,  4.05batch/s, Acc=0.999, Loss=0.292]\n"
          ]
        },
        {
          "output_type": "stream",
          "name": "stdout",
          "text": [
            "Validation Accuracy: 0.3858921229839325\n",
            "Testing Accuracy: 0.42116186022758484\n",
            "Epoch 23 finished\n",
            "\n"
          ]
        },
        {
          "output_type": "stream",
          "name": "stderr",
          "text": [
            "Epoch 23/100: 100%|██████████| 211/211 [00:51<00:00,  4.06batch/s, Acc=0.999, Loss=0.255]\n"
          ]
        },
        {
          "output_type": "stream",
          "name": "stdout",
          "text": [
            "Validation Accuracy: 0.38848549127578735\n",
            "Testing Accuracy: 0.4216805100440979\n",
            "Epoch 24 finished\n",
            "\n"
          ]
        },
        {
          "output_type": "stream",
          "name": "stderr",
          "text": [
            "Epoch 24/100: 100%|██████████| 211/211 [00:51<00:00,  4.07batch/s, Acc=0.999, Loss=0.223]\n"
          ]
        },
        {
          "output_type": "stream",
          "name": "stdout",
          "text": [
            "Validation Accuracy: 0.3900415003299713\n",
            "Testing Accuracy: 0.4206431806087494\n",
            "Epoch 25 finished\n",
            "\n"
          ]
        },
        {
          "output_type": "stream",
          "name": "stderr",
          "text": [
            "Epoch 25/100: 100%|██████████| 211/211 [00:51<00:00,  4.06batch/s, Acc=0.999, Loss=0.196]\n"
          ]
        },
        {
          "output_type": "stream",
          "name": "stdout",
          "text": [
            "Validation Accuracy: 0.389782190322876\n",
            "Testing Accuracy: 0.42427387833595276\n",
            "Epoch 26 finished\n",
            "\n"
          ]
        },
        {
          "output_type": "stream",
          "name": "stderr",
          "text": [
            "Epoch 26/100: 100%|██████████| 211/211 [00:51<00:00,  4.06batch/s, Acc=0.999, Loss=0.172]\n"
          ]
        },
        {
          "output_type": "stream",
          "name": "stdout",
          "text": [
            "Validation Accuracy: 0.3887448310852051\n",
            "Testing Accuracy: 0.4247925579547882\n",
            "Epoch 27 finished\n",
            "\n"
          ]
        },
        {
          "output_type": "stream",
          "name": "stderr",
          "text": [
            "Epoch 27/100: 100%|██████████| 211/211 [00:51<00:00,  4.06batch/s, Acc=0.999, Loss=0.152]\n"
          ]
        },
        {
          "output_type": "stream",
          "name": "stdout",
          "text": [
            "Validation Accuracy: 0.3908195197582245\n",
            "Testing Accuracy: 0.42323654890060425\n",
            "Epoch 28 finished\n",
            "\n"
          ]
        },
        {
          "output_type": "stream",
          "name": "stderr",
          "text": [
            "Epoch 28/100: 100%|██████████| 211/211 [00:51<00:00,  4.07batch/s, Acc=0.999, Loss=0.134]\n"
          ]
        },
        {
          "output_type": "stream",
          "name": "stdout",
          "text": [
            "Validation Accuracy: 0.39056017994880676\n",
            "Testing Accuracy: 0.4227178692817688\n",
            "Epoch 29 finished\n",
            "\n"
          ]
        },
        {
          "output_type": "stream",
          "name": "stderr",
          "text": [
            "Epoch 29/100: 100%|██████████| 211/211 [00:51<00:00,  4.06batch/s, Acc=0.999, Loss=0.119]\n"
          ]
        },
        {
          "output_type": "stream",
          "name": "stdout",
          "text": [
            "Validation Accuracy: 0.3892635107040405\n",
            "Testing Accuracy: 0.428941935300827\n",
            "Epoch 30 finished\n",
            "\n"
          ]
        },
        {
          "output_type": "stream",
          "name": "stderr",
          "text": [
            "Epoch 30/100: 100%|██████████| 211/211 [00:51<00:00,  4.06batch/s, Acc=0.999, Loss=0.105]\n"
          ]
        },
        {
          "output_type": "stream",
          "name": "stdout",
          "text": [
            "Validation Accuracy: 0.39159753918647766\n",
            "Testing Accuracy: 0.42738592624664307\n",
            "Epoch 31 finished\n",
            "\n"
          ]
        },
        {
          "output_type": "stream",
          "name": "stderr",
          "text": [
            "Epoch 31/100: 100%|██████████| 211/211 [00:51<00:00,  4.06batch/s, Acc=0.999, Loss=0.0937]\n"
          ]
        },
        {
          "output_type": "stream",
          "name": "stdout",
          "text": [
            "Validation Accuracy: 0.39030084013938904\n",
            "Testing Accuracy: 0.42634856700897217\n",
            "Epoch 32 finished\n",
            "\n"
          ]
        },
        {
          "output_type": "stream",
          "name": "stderr",
          "text": [
            "Epoch 32/100: 100%|██████████| 211/211 [00:51<00:00,  4.06batch/s, Acc=0.999, Loss=0.0836]\n"
          ]
        },
        {
          "output_type": "stream",
          "name": "stdout",
          "text": [
            "Validation Accuracy: 0.3900415003299713\n",
            "Testing Accuracy: 0.42790457606315613\n",
            "Epoch 33 finished\n",
            "\n"
          ]
        },
        {
          "output_type": "stream",
          "name": "stderr",
          "text": [
            "Epoch 33/100: 100%|██████████| 211/211 [00:52<00:00,  4.04batch/s, Acc=0.999, Loss=0.0747]\n"
          ]
        },
        {
          "output_type": "stream",
          "name": "stdout",
          "text": [
            "Validation Accuracy: 0.3908195197582245\n",
            "Testing Accuracy: 0.4294606149196625\n",
            "Epoch 34 finished\n",
            "\n"
          ]
        },
        {
          "output_type": "stream",
          "name": "stderr",
          "text": [
            "Epoch 34/100: 100%|██████████| 211/211 [00:52<00:00,  4.05batch/s, Acc=0.999, Loss=0.0669]\n"
          ]
        },
        {
          "output_type": "stream",
          "name": "stdout",
          "text": [
            "Validation Accuracy: 0.39237552881240845\n",
            "Testing Accuracy: 0.4294606149196625\n",
            "Epoch 35 finished\n",
            "\n"
          ]
        },
        {
          "output_type": "stream",
          "name": "stderr",
          "text": [
            "Epoch 35/100: 100%|██████████| 211/211 [00:52<00:00,  4.05batch/s, Acc=0.999, Loss=0.06]\n"
          ]
        },
        {
          "output_type": "stream",
          "name": "stdout",
          "text": [
            "Validation Accuracy: 0.3918568789958954\n",
            "Testing Accuracy: 0.428941935300827\n",
            "Epoch 36 finished\n",
            "\n"
          ]
        },
        {
          "output_type": "stream",
          "name": "stderr",
          "text": [
            "Epoch 36/100: 100%|██████████| 211/211 [00:51<00:00,  4.06batch/s, Acc=0.999, Loss=0.054]\n"
          ]
        },
        {
          "output_type": "stream",
          "name": "stdout",
          "text": [
            "Validation Accuracy: 0.39159753918647766\n",
            "Testing Accuracy: 0.43101662397384644\n",
            "Epoch 37 finished\n",
            "\n"
          ]
        },
        {
          "output_type": "stream",
          "name": "stderr",
          "text": [
            "Epoch 37/100: 100%|██████████| 211/211 [00:52<00:00,  4.06batch/s, Acc=0.999, Loss=0.0486]\n"
          ]
        },
        {
          "output_type": "stream",
          "name": "stdout",
          "text": [
            "Validation Accuracy: 0.3921161890029907\n",
            "Testing Accuracy: 0.4284232556819916\n",
            "Epoch 38 finished\n",
            "\n"
          ]
        },
        {
          "output_type": "stream",
          "name": "stderr",
          "text": [
            "Epoch 38/100: 100%|██████████| 211/211 [00:52<00:00,  4.05batch/s, Acc=0.999, Loss=0.0438]\n"
          ]
        },
        {
          "output_type": "stream",
          "name": "stdout",
          "text": [
            "Validation Accuracy: 0.3918568789958954\n",
            "Testing Accuracy: 0.4294606149196625\n",
            "Epoch 39 finished\n",
            "\n"
          ]
        },
        {
          "output_type": "stream",
          "name": "stderr",
          "text": [
            "Epoch 39/100: 100%|██████████| 211/211 [00:52<00:00,  4.05batch/s, Acc=0.999, Loss=0.0396]\n"
          ]
        },
        {
          "output_type": "stream",
          "name": "stdout",
          "text": [
            "Validation Accuracy: 0.3918568789958954\n",
            "Testing Accuracy: 0.4294606149196625\n",
            "Epoch 40 finished\n",
            "\n"
          ]
        },
        {
          "output_type": "stream",
          "name": "stderr",
          "text": [
            "Epoch 40/100: 100%|██████████| 211/211 [00:52<00:00,  4.04batch/s, Acc=0.999, Loss=0.0358]\n"
          ]
        },
        {
          "output_type": "stream",
          "name": "stdout",
          "text": [
            "Validation Accuracy: 0.3910788595676422\n",
            "Testing Accuracy: 0.42997926473617554\n",
            "Epoch 41 finished\n",
            "\n"
          ]
        },
        {
          "output_type": "stream",
          "name": "stderr",
          "text": [
            "Epoch 41/100: 100%|██████████| 211/211 [00:52<00:00,  4.05batch/s, Acc=0.999, Loss=0.0324]\n"
          ]
        },
        {
          "output_type": "stream",
          "name": "stdout",
          "text": [
            "Validation Accuracy: 0.39030084013938904\n",
            "Testing Accuracy: 0.43101662397384644\n",
            "Epoch 42 finished\n",
            "\n"
          ]
        },
        {
          "output_type": "stream",
          "name": "stderr",
          "text": [
            "Epoch 42/100: 100%|██████████| 211/211 [00:51<00:00,  4.06batch/s, Acc=0.999, Loss=0.0294]\n"
          ]
        },
        {
          "output_type": "stream",
          "name": "stdout",
          "text": [
            "Validation Accuracy: 0.3918568789958954\n",
            "Testing Accuracy: 0.43205395340919495\n",
            "Epoch 43 finished\n",
            "\n"
          ]
        },
        {
          "output_type": "stream",
          "name": "stderr",
          "text": [
            "Epoch 43/100: 100%|██████████| 211/211 [00:52<00:00,  4.05batch/s, Acc=0.999, Loss=0.0267]\n"
          ]
        },
        {
          "output_type": "stream",
          "name": "stdout",
          "text": [
            "Validation Accuracy: 0.3910788595676422\n",
            "Testing Accuracy: 0.4315353035926819\n",
            "Epoch 44 finished\n",
            "\n"
          ]
        },
        {
          "output_type": "stream",
          "name": "stderr",
          "text": [
            "Epoch 44/100: 100%|██████████| 211/211 [00:51<00:00,  4.06batch/s, Acc=0.999, Loss=0.0242]\n"
          ]
        },
        {
          "output_type": "stream",
          "name": "stdout",
          "text": [
            "Validation Accuracy: 0.3910788595676422\n",
            "Testing Accuracy: 0.42997926473617554\n",
            "Epoch 45 finished\n",
            "\n"
          ]
        },
        {
          "output_type": "stream",
          "name": "stderr",
          "text": [
            "Epoch 45/100: 100%|██████████| 211/211 [00:52<00:00,  4.05batch/s, Acc=0.999, Loss=0.0221]\n"
          ]
        },
        {
          "output_type": "stream",
          "name": "stdout",
          "text": [
            "Validation Accuracy: 0.3918568789958954\n",
            "Testing Accuracy: 0.4315353035926819\n",
            "Epoch 46 finished\n",
            "\n"
          ]
        },
        {
          "output_type": "stream",
          "name": "stderr",
          "text": [
            "Epoch 46/100: 100%|██████████| 211/211 [00:52<00:00,  4.04batch/s, Acc=0.999, Loss=0.0201]\n"
          ]
        },
        {
          "output_type": "stream",
          "name": "stdout",
          "text": [
            "Validation Accuracy: 0.39159753918647766\n",
            "Testing Accuracy: 0.4315353035926819\n",
            "Epoch 47 finished\n",
            "\n"
          ]
        },
        {
          "output_type": "stream",
          "name": "stderr",
          "text": [
            "Epoch 47/100: 100%|██████████| 211/211 [00:52<00:00,  4.05batch/s, Acc=0.999, Loss=0.0183]\n"
          ]
        },
        {
          "output_type": "stream",
          "name": "stdout",
          "text": [
            "Validation Accuracy: 0.39419087767601013\n",
            "Testing Accuracy: 0.42997926473617554\n",
            "Epoch 48 finished\n",
            "\n"
          ]
        },
        {
          "output_type": "stream",
          "name": "stderr",
          "text": [
            "Epoch 48/100: 100%|██████████| 211/211 [00:52<00:00,  4.06batch/s, Acc=0.999, Loss=0.0167]\n"
          ]
        },
        {
          "output_type": "stream",
          "name": "stdout",
          "text": [
            "Validation Accuracy: 0.39367222785949707\n",
            "Testing Accuracy: 0.43101662397384644\n",
            "Epoch 49 finished\n",
            "\n"
          ]
        },
        {
          "output_type": "stream",
          "name": "stderr",
          "text": [
            "Epoch 49/100: 100%|██████████| 211/211 [00:52<00:00,  4.05batch/s, Acc=0.999, Loss=0.0152]\n"
          ]
        },
        {
          "output_type": "stream",
          "name": "stdout",
          "text": [
            "Validation Accuracy: 0.39341288805007935\n",
            "Testing Accuracy: 0.4325726330280304\n",
            "Epoch 50 finished\n",
            "\n"
          ]
        },
        {
          "output_type": "stream",
          "name": "stderr",
          "text": [
            "Epoch 50/100: 100%|██████████| 211/211 [00:52<00:00,  4.06batch/s, Acc=0.999, Loss=0.0139]\n"
          ]
        },
        {
          "output_type": "stream",
          "name": "stdout",
          "text": [
            "Validation Accuracy: 0.39522823691368103\n",
            "Testing Accuracy: 0.43205395340919495\n",
            "Epoch 51 finished\n",
            "\n"
          ]
        },
        {
          "output_type": "stream",
          "name": "stderr",
          "text": [
            "Epoch 51/100: 100%|██████████| 211/211 [00:52<00:00,  4.04batch/s, Acc=0.999, Loss=0.0127]\n"
          ]
        },
        {
          "output_type": "stream",
          "name": "stdout",
          "text": [
            "Validation Accuracy: 0.3949688971042633\n",
            "Testing Accuracy: 0.4315353035926819\n",
            "Epoch 52 finished\n",
            "\n"
          ]
        },
        {
          "output_type": "stream",
          "name": "stderr",
          "text": [
            "Epoch 52/100: 100%|██████████| 211/211 [00:52<00:00,  4.06batch/s, Acc=0.999, Loss=0.0116]\n"
          ]
        },
        {
          "output_type": "stream",
          "name": "stdout",
          "text": [
            "Validation Accuracy: 0.3931535482406616\n",
            "Testing Accuracy: 0.42997926473617554\n",
            "Epoch 53 finished\n",
            "\n"
          ]
        },
        {
          "output_type": "stream",
          "name": "stderr",
          "text": [
            "Epoch 53/100: 100%|██████████| 211/211 [00:52<00:00,  4.05batch/s, Acc=0.999, Loss=0.0106]\n"
          ]
        },
        {
          "output_type": "stream",
          "name": "stdout",
          "text": [
            "Validation Accuracy: 0.39341288805007935\n",
            "Testing Accuracy: 0.43205395340919495\n",
            "Epoch 54 finished\n",
            "\n"
          ]
        },
        {
          "output_type": "stream",
          "name": "stderr",
          "text": [
            "Epoch 54/100: 100%|██████████| 211/211 [00:52<00:00,  4.04batch/s, Acc=0.999, Loss=0.00967]\n"
          ]
        },
        {
          "output_type": "stream",
          "name": "stdout",
          "text": [
            "Validation Accuracy: 0.39341288805007935\n",
            "Testing Accuracy: 0.43205395340919495\n",
            "Epoch 55 finished\n",
            "\n"
          ]
        },
        {
          "output_type": "stream",
          "name": "stderr",
          "text": [
            "Epoch 55/100: 100%|██████████| 211/211 [00:52<00:00,  4.05batch/s, Acc=0.999, Loss=0.00885]\n"
          ]
        },
        {
          "output_type": "stream",
          "name": "stdout",
          "text": [
            "Validation Accuracy: 0.39522823691368103\n",
            "Testing Accuracy: 0.43309131264686584\n",
            "Epoch 56 finished\n",
            "\n"
          ]
        },
        {
          "output_type": "stream",
          "name": "stderr",
          "text": [
            "Epoch 56/100: 100%|██████████| 211/211 [00:52<00:00,  4.05batch/s, Acc=0.999, Loss=0.0081]\n"
          ]
        },
        {
          "output_type": "stream",
          "name": "stdout",
          "text": [
            "Validation Accuracy: 0.3957469165325165\n",
            "Testing Accuracy: 0.43309131264686584\n",
            "Epoch 57 finished\n",
            "\n"
          ]
        },
        {
          "output_type": "stream",
          "name": "stderr",
          "text": [
            "Epoch 57/100: 100%|██████████| 211/211 [00:52<00:00,  4.05batch/s, Acc=0.999, Loss=0.00742]\n"
          ]
        },
        {
          "output_type": "stream",
          "name": "stdout",
          "text": [
            "Validation Accuracy: 0.3957469165325165\n",
            "Testing Accuracy: 0.4336099922657013\n",
            "Epoch 58 finished\n",
            "\n"
          ]
        },
        {
          "output_type": "stream",
          "name": "stderr",
          "text": [
            "Epoch 58/100: 100%|██████████| 211/211 [00:52<00:00,  4.05batch/s, Acc=0.999, Loss=0.00679]\n"
          ]
        },
        {
          "output_type": "stream",
          "name": "stdout",
          "text": [
            "Validation Accuracy: 0.39445021748542786\n",
            "Testing Accuracy: 0.4336099922657013\n",
            "Epoch 59 finished\n",
            "\n"
          ]
        },
        {
          "output_type": "stream",
          "name": "stderr",
          "text": [
            "Epoch 59/100: 100%|██████████| 211/211 [00:51<00:00,  4.06batch/s, Acc=0.999, Loss=0.00622]\n"
          ]
        },
        {
          "output_type": "stream",
          "name": "stdout",
          "text": [
            "Validation Accuracy: 0.39367222785949707\n",
            "Testing Accuracy: 0.43309131264686584\n",
            "Epoch 60 finished\n",
            "\n"
          ]
        },
        {
          "output_type": "stream",
          "name": "stderr",
          "text": [
            "Epoch 60/100: 100%|██████████| 211/211 [00:52<00:00,  4.06batch/s, Acc=0.999, Loss=0.0057]\n"
          ]
        },
        {
          "output_type": "stream",
          "name": "stdout",
          "text": [
            "Validation Accuracy: 0.396784245967865\n",
            "Testing Accuracy: 0.43412864208221436\n",
            "Epoch 61 finished\n",
            "\n"
          ]
        },
        {
          "output_type": "stream",
          "name": "stderr",
          "text": [
            "Epoch 61/100: 100%|██████████| 211/211 [00:52<00:00,  4.04batch/s, Acc=0.999, Loss=0.00523]\n"
          ]
        },
        {
          "output_type": "stream",
          "name": "stdout",
          "text": [
            "Validation Accuracy: 0.39652490615844727\n",
            "Testing Accuracy: 0.4346473217010498\n",
            "Epoch 62 finished\n",
            "\n"
          ]
        },
        {
          "output_type": "stream",
          "name": "stderr",
          "text": [
            "Epoch 62/100: 100%|██████████| 211/211 [00:52<00:00,  4.05batch/s, Acc=0.999, Loss=0.00479]\n"
          ]
        },
        {
          "output_type": "stream",
          "name": "stdout",
          "text": [
            "Validation Accuracy: 0.3970435857772827\n",
            "Testing Accuracy: 0.43412864208221436\n",
            "Epoch 63 finished\n",
            "\n"
          ]
        },
        {
          "output_type": "stream",
          "name": "stderr",
          "text": [
            "Epoch 63/100: 100%|██████████| 211/211 [00:52<00:00,  4.05batch/s, Acc=0.999, Loss=0.0044]\n"
          ]
        },
        {
          "output_type": "stream",
          "name": "stdout",
          "text": [
            "Validation Accuracy: 0.39730292558670044\n",
            "Testing Accuracy: 0.43412864208221436\n",
            "Epoch 64 finished\n",
            "\n"
          ]
        },
        {
          "output_type": "stream",
          "name": "stderr",
          "text": [
            "Epoch 64/100: 100%|██████████| 211/211 [00:52<00:00,  4.06batch/s, Acc=0.999, Loss=0.00403]\n"
          ]
        },
        {
          "output_type": "stream",
          "name": "stdout",
          "text": [
            "Validation Accuracy: 0.39652490615844727\n",
            "Testing Accuracy: 0.4346473217010498\n",
            "Epoch 65 finished\n",
            "\n"
          ]
        },
        {
          "output_type": "stream",
          "name": "stderr",
          "text": [
            "Epoch 65/100: 100%|██████████| 211/211 [00:52<00:00,  4.04batch/s, Acc=0.999, Loss=0.0037]\n"
          ]
        },
        {
          "output_type": "stream",
          "name": "stdout",
          "text": [
            "Validation Accuracy: 0.39730292558670044\n",
            "Testing Accuracy: 0.43309131264686584\n",
            "Epoch 66 finished\n",
            "\n"
          ]
        },
        {
          "output_type": "stream",
          "name": "stderr",
          "text": [
            "Epoch 66/100: 100%|██████████| 211/211 [00:52<00:00,  4.05batch/s, Acc=0.999, Loss=0.0034]\n"
          ]
        },
        {
          "output_type": "stream",
          "name": "stdout",
          "text": [
            "Validation Accuracy: 0.39626556634902954\n",
            "Testing Accuracy: 0.4325726330280304\n",
            "Epoch 67 finished\n",
            "\n"
          ]
        },
        {
          "output_type": "stream",
          "name": "stderr",
          "text": [
            "Epoch 67/100: 100%|██████████| 211/211 [00:52<00:00,  4.04batch/s, Acc=0.999, Loss=0.00312]\n"
          ]
        },
        {
          "output_type": "stream",
          "name": "stdout",
          "text": [
            "Validation Accuracy: 0.3970435857772827\n",
            "Testing Accuracy: 0.43309131264686584\n",
            "Epoch 68 finished\n",
            "\n"
          ]
        },
        {
          "output_type": "stream",
          "name": "stderr",
          "text": [
            "Epoch 68/100: 100%|██████████| 211/211 [00:51<00:00,  4.06batch/s, Acc=0.999, Loss=0.00286]\n"
          ]
        },
        {
          "output_type": "stream",
          "name": "stdout",
          "text": [
            "Validation Accuracy: 0.39626556634902954\n",
            "Testing Accuracy: 0.4325726330280304\n",
            "Epoch 69 finished\n",
            "\n"
          ]
        },
        {
          "output_type": "stream",
          "name": "stderr",
          "text": [
            "Epoch 69/100: 100%|██████████| 211/211 [00:52<00:00,  4.05batch/s, Acc=0.999, Loss=0.00263]\n"
          ]
        },
        {
          "output_type": "stream",
          "name": "stdout",
          "text": [
            "Validation Accuracy: 0.39834028482437134\n",
            "Testing Accuracy: 0.43412864208221436\n",
            "Epoch 70 finished\n",
            "\n"
          ]
        },
        {
          "output_type": "stream",
          "name": "stderr",
          "text": [
            "Epoch 70/100: 100%|██████████| 211/211 [00:52<00:00,  4.05batch/s, Acc=0.999, Loss=0.00242]\n"
          ]
        },
        {
          "output_type": "stream",
          "name": "stdout",
          "text": [
            "Validation Accuracy: 0.3980809450149536\n",
            "Testing Accuracy: 0.43309131264686584\n",
            "Epoch 71 finished\n",
            "\n"
          ]
        },
        {
          "output_type": "stream",
          "name": "stderr",
          "text": [
            "Epoch 71/100: 100%|██████████| 211/211 [00:51<00:00,  4.07batch/s, Acc=0.999, Loss=0.00222]\n"
          ]
        },
        {
          "output_type": "stream",
          "name": "stdout",
          "text": [
            "Validation Accuracy: 0.39756226539611816\n",
            "Testing Accuracy: 0.4336099922657013\n",
            "Epoch 72 finished\n",
            "\n"
          ]
        },
        {
          "output_type": "stream",
          "name": "stderr",
          "text": [
            "Epoch 72/100: 100%|██████████| 211/211 [00:51<00:00,  4.07batch/s, Acc=0.999, Loss=0.00204]\n"
          ]
        },
        {
          "output_type": "stream",
          "name": "stdout",
          "text": [
            "Validation Accuracy: 0.39834028482437134\n",
            "Testing Accuracy: 0.43309131264686584\n",
            "Epoch 73 finished\n",
            "\n"
          ]
        },
        {
          "output_type": "stream",
          "name": "stderr",
          "text": [
            "Epoch 73/100: 100%|██████████| 211/211 [00:52<00:00,  4.06batch/s, Acc=0.999, Loss=0.00188]\n"
          ]
        },
        {
          "output_type": "stream",
          "name": "stdout",
          "text": [
            "Validation Accuracy: 0.39937761425971985\n",
            "Testing Accuracy: 0.4315353035926819\n",
            "Epoch 74 finished\n",
            "\n"
          ]
        },
        {
          "output_type": "stream",
          "name": "stderr",
          "text": [
            "Epoch 74/100: 100%|██████████| 211/211 [00:51<00:00,  4.06batch/s, Acc=0.999, Loss=0.00173]\n"
          ]
        },
        {
          "output_type": "stream",
          "name": "stdout",
          "text": [
            "Validation Accuracy: 0.3988589346408844\n",
            "Testing Accuracy: 0.4325726330280304\n",
            "Epoch 75 finished\n",
            "\n"
          ]
        },
        {
          "output_type": "stream",
          "name": "stderr",
          "text": [
            "Epoch 75/100: 100%|██████████| 211/211 [00:52<00:00,  4.06batch/s, Acc=0.999, Loss=0.00159]\n"
          ]
        },
        {
          "output_type": "stream",
          "name": "stdout",
          "text": [
            "Validation Accuracy: 0.3985995948314667\n",
            "Testing Accuracy: 0.43309131264686584\n",
            "Epoch 76 finished\n",
            "\n"
          ]
        },
        {
          "output_type": "stream",
          "name": "stderr",
          "text": [
            "Epoch 76/100: 100%|██████████| 211/211 [00:51<00:00,  4.07batch/s, Acc=0.999, Loss=0.00146]\n"
          ]
        },
        {
          "output_type": "stream",
          "name": "stdout",
          "text": [
            "Validation Accuracy: 0.3996369540691376\n",
            "Testing Accuracy: 0.4315353035926819\n",
            "Epoch 77 finished\n",
            "\n"
          ]
        },
        {
          "output_type": "stream",
          "name": "stderr",
          "text": [
            "Epoch 77/100: 100%|██████████| 211/211 [00:52<00:00,  4.06batch/s, Acc=0.999, Loss=0.00135]\n"
          ]
        },
        {
          "output_type": "error",
          "ename": "KeyboardInterrupt",
          "evalue": "ignored",
          "traceback": [
            "\u001b[0;31m---------------------------------------------------------------------------\u001b[0m",
            "\u001b[0;31mKeyboardInterrupt\u001b[0m                         Traceback (most recent call last)",
            "\u001b[0;32m<ipython-input-74-7be1726f04f4>\u001b[0m in \u001b[0;36m<cell line: 11>\u001b[0;34m()\u001b[0m\n\u001b[1;32m     49\u001b[0m \u001b[0;34m\u001b[0m\u001b[0m\n\u001b[1;32m     50\u001b[0m     \u001b[0;31m# Guardamos el loss y accuracy en el set de validacion\u001b[0m\u001b[0;34m\u001b[0m\u001b[0;34m\u001b[0m\u001b[0m\n\u001b[0;32m---> 51\u001b[0;31m     \u001b[0mval_acc\u001b[0m \u001b[0;34m=\u001b[0m \u001b[0mtest_model\u001b[0m\u001b[0;34m(\u001b[0m\u001b[0mmodel\u001b[0m\u001b[0;34m,\u001b[0m \u001b[0mval_loader\u001b[0m\u001b[0;34m)\u001b[0m\u001b[0;34m\u001b[0m\u001b[0;34m\u001b[0m\u001b[0m\n\u001b[0m\u001b[1;32m     52\u001b[0m     \u001b[0movrl_history\u001b[0m\u001b[0;34m[\u001b[0m\u001b[0;34m'val'\u001b[0m\u001b[0;34m]\u001b[0m\u001b[0;34m[\u001b[0m\u001b[0;34m'loss'\u001b[0m\u001b[0;34m]\u001b[0m\u001b[0;34m.\u001b[0m\u001b[0mappend\u001b[0m\u001b[0;34m(\u001b[0m\u001b[0mepoch_loss\u001b[0m\u001b[0;34m)\u001b[0m\u001b[0;34m\u001b[0m\u001b[0;34m\u001b[0m\u001b[0m\n\u001b[1;32m     53\u001b[0m     \u001b[0movrl_history\u001b[0m\u001b[0;34m[\u001b[0m\u001b[0;34m'val'\u001b[0m\u001b[0;34m]\u001b[0m\u001b[0;34m[\u001b[0m\u001b[0;34m'acc'\u001b[0m\u001b[0;34m]\u001b[0m\u001b[0;34m.\u001b[0m\u001b[0mappend\u001b[0m\u001b[0;34m(\u001b[0m\u001b[0mfloat\u001b[0m\u001b[0;34m(\u001b[0m\u001b[0mval_acc\u001b[0m\u001b[0;34m)\u001b[0m\u001b[0;34m)\u001b[0m\u001b[0;34m\u001b[0m\u001b[0;34m\u001b[0m\u001b[0m\n",
            "\u001b[0;32m<ipython-input-30-0a9a016123f8>\u001b[0m in \u001b[0;36mtest_model\u001b[0;34m(model, test_dl)\u001b[0m\n\u001b[1;32m      7\u001b[0m     \u001b[0;32mfor\u001b[0m \u001b[0mx\u001b[0m\u001b[0;34m,\u001b[0m \u001b[0mtarget\u001b[0m \u001b[0;32min\u001b[0m \u001b[0mtest_dl\u001b[0m\u001b[0;34m:\u001b[0m          \u001b[0;31m# Iteramos sobre nuestros datos\u001b[0m\u001b[0;34m\u001b[0m\u001b[0;34m\u001b[0m\u001b[0m\n\u001b[1;32m      8\u001b[0m         \u001b[0;31m# Inicio de la iteración\u001b[0m\u001b[0;34m\u001b[0m\u001b[0;34m\u001b[0m\u001b[0m\n\u001b[0;32m----> 9\u001b[0;31m         \u001b[0mmodel\u001b[0m\u001b[0;34m.\u001b[0m\u001b[0meval\u001b[0m\u001b[0;34m(\u001b[0m\u001b[0;34m)\u001b[0m                        \u001b[0;31m# Dejamos el modelo en modo evaluación\u001b[0m\u001b[0;34m\u001b[0m\u001b[0;34m\u001b[0m\u001b[0m\n\u001b[0m\u001b[1;32m     10\u001b[0m         \u001b[0;32mwith\u001b[0m \u001b[0mtorch\u001b[0m\u001b[0;34m.\u001b[0m\u001b[0mno_grad\u001b[0m\u001b[0;34m(\u001b[0m\u001b[0;34m)\u001b[0m\u001b[0;34m:\u001b[0m               \u001b[0;31m# No se calculará información de gradientes\u001b[0m\u001b[0;34m\u001b[0m\u001b[0;34m\u001b[0m\u001b[0m\n\u001b[1;32m     11\u001b[0m                                             \u001b[0;31m# en el código de más abajo.\u001b[0m\u001b[0;34m\u001b[0m\u001b[0;34m\u001b[0m\u001b[0m\n",
            "\u001b[0;32m/usr/local/lib/python3.10/dist-packages/torch/nn/modules/module.py\u001b[0m in \u001b[0;36meval\u001b[0;34m(self)\u001b[0m\n\u001b[1;32m   2305\u001b[0m             \u001b[0mModule\u001b[0m\u001b[0;34m:\u001b[0m \u001b[0mself\u001b[0m\u001b[0;34m\u001b[0m\u001b[0;34m\u001b[0m\u001b[0m\n\u001b[1;32m   2306\u001b[0m         \"\"\"\n\u001b[0;32m-> 2307\u001b[0;31m         \u001b[0;32mreturn\u001b[0m \u001b[0mself\u001b[0m\u001b[0;34m.\u001b[0m\u001b[0mtrain\u001b[0m\u001b[0;34m(\u001b[0m\u001b[0;32mFalse\u001b[0m\u001b[0;34m)\u001b[0m\u001b[0;34m\u001b[0m\u001b[0;34m\u001b[0m\u001b[0m\n\u001b[0m\u001b[1;32m   2308\u001b[0m \u001b[0;34m\u001b[0m\u001b[0m\n\u001b[1;32m   2309\u001b[0m     \u001b[0;32mdef\u001b[0m \u001b[0mrequires_grad_\u001b[0m\u001b[0;34m(\u001b[0m\u001b[0mself\u001b[0m\u001b[0;34m:\u001b[0m \u001b[0mT\u001b[0m\u001b[0;34m,\u001b[0m \u001b[0mrequires_grad\u001b[0m\u001b[0;34m:\u001b[0m \u001b[0mbool\u001b[0m \u001b[0;34m=\u001b[0m \u001b[0;32mTrue\u001b[0m\u001b[0;34m)\u001b[0m \u001b[0;34m->\u001b[0m \u001b[0mT\u001b[0m\u001b[0;34m:\u001b[0m\u001b[0;34m\u001b[0m\u001b[0;34m\u001b[0m\u001b[0m\n",
            "\u001b[0;32m/usr/local/lib/python3.10/dist-packages/torch/nn/modules/module.py\u001b[0m in \u001b[0;36mtrain\u001b[0;34m(self, mode)\u001b[0m\n\u001b[1;32m   2286\u001b[0m         \u001b[0mself\u001b[0m\u001b[0;34m.\u001b[0m\u001b[0mtraining\u001b[0m \u001b[0;34m=\u001b[0m \u001b[0mmode\u001b[0m\u001b[0;34m\u001b[0m\u001b[0;34m\u001b[0m\u001b[0m\n\u001b[1;32m   2287\u001b[0m         \u001b[0;32mfor\u001b[0m \u001b[0mmodule\u001b[0m \u001b[0;32min\u001b[0m \u001b[0mself\u001b[0m\u001b[0;34m.\u001b[0m\u001b[0mchildren\u001b[0m\u001b[0;34m(\u001b[0m\u001b[0;34m)\u001b[0m\u001b[0;34m:\u001b[0m\u001b[0;34m\u001b[0m\u001b[0;34m\u001b[0m\u001b[0m\n\u001b[0;32m-> 2288\u001b[0;31m             \u001b[0mmodule\u001b[0m\u001b[0;34m.\u001b[0m\u001b[0mtrain\u001b[0m\u001b[0;34m(\u001b[0m\u001b[0mmode\u001b[0m\u001b[0;34m)\u001b[0m\u001b[0;34m\u001b[0m\u001b[0;34m\u001b[0m\u001b[0m\n\u001b[0m\u001b[1;32m   2289\u001b[0m         \u001b[0;32mreturn\u001b[0m \u001b[0mself\u001b[0m\u001b[0;34m\u001b[0m\u001b[0;34m\u001b[0m\u001b[0m\n\u001b[1;32m   2290\u001b[0m \u001b[0;34m\u001b[0m\u001b[0m\n",
            "\u001b[0;32m/usr/local/lib/python3.10/dist-packages/torch/nn/modules/module.py\u001b[0m in \u001b[0;36mtrain\u001b[0;34m(self, mode)\u001b[0m\n\u001b[1;32m   2286\u001b[0m         \u001b[0mself\u001b[0m\u001b[0;34m.\u001b[0m\u001b[0mtraining\u001b[0m \u001b[0;34m=\u001b[0m \u001b[0mmode\u001b[0m\u001b[0;34m\u001b[0m\u001b[0;34m\u001b[0m\u001b[0m\n\u001b[1;32m   2287\u001b[0m         \u001b[0;32mfor\u001b[0m \u001b[0mmodule\u001b[0m \u001b[0;32min\u001b[0m \u001b[0mself\u001b[0m\u001b[0;34m.\u001b[0m\u001b[0mchildren\u001b[0m\u001b[0;34m(\u001b[0m\u001b[0;34m)\u001b[0m\u001b[0;34m:\u001b[0m\u001b[0;34m\u001b[0m\u001b[0;34m\u001b[0m\u001b[0m\n\u001b[0;32m-> 2288\u001b[0;31m             \u001b[0mmodule\u001b[0m\u001b[0;34m.\u001b[0m\u001b[0mtrain\u001b[0m\u001b[0;34m(\u001b[0m\u001b[0mmode\u001b[0m\u001b[0;34m)\u001b[0m\u001b[0;34m\u001b[0m\u001b[0;34m\u001b[0m\u001b[0m\n\u001b[0m\u001b[1;32m   2289\u001b[0m         \u001b[0;32mreturn\u001b[0m \u001b[0mself\u001b[0m\u001b[0;34m\u001b[0m\u001b[0;34m\u001b[0m\u001b[0m\n\u001b[1;32m   2290\u001b[0m \u001b[0;34m\u001b[0m\u001b[0m\n",
            "\u001b[0;32m/usr/local/lib/python3.10/dist-packages/torch/nn/modules/module.py\u001b[0m in \u001b[0;36mtrain\u001b[0;34m(self, mode)\u001b[0m\n\u001b[1;32m   2286\u001b[0m         \u001b[0mself\u001b[0m\u001b[0;34m.\u001b[0m\u001b[0mtraining\u001b[0m \u001b[0;34m=\u001b[0m \u001b[0mmode\u001b[0m\u001b[0;34m\u001b[0m\u001b[0;34m\u001b[0m\u001b[0m\n\u001b[1;32m   2287\u001b[0m         \u001b[0;32mfor\u001b[0m \u001b[0mmodule\u001b[0m \u001b[0;32min\u001b[0m \u001b[0mself\u001b[0m\u001b[0;34m.\u001b[0m\u001b[0mchildren\u001b[0m\u001b[0;34m(\u001b[0m\u001b[0;34m)\u001b[0m\u001b[0;34m:\u001b[0m\u001b[0;34m\u001b[0m\u001b[0;34m\u001b[0m\u001b[0m\n\u001b[0;32m-> 2288\u001b[0;31m             \u001b[0mmodule\u001b[0m\u001b[0;34m.\u001b[0m\u001b[0mtrain\u001b[0m\u001b[0;34m(\u001b[0m\u001b[0mmode\u001b[0m\u001b[0;34m)\u001b[0m\u001b[0;34m\u001b[0m\u001b[0;34m\u001b[0m\u001b[0m\n\u001b[0m\u001b[1;32m   2289\u001b[0m         \u001b[0;32mreturn\u001b[0m \u001b[0mself\u001b[0m\u001b[0;34m\u001b[0m\u001b[0;34m\u001b[0m\u001b[0m\n\u001b[1;32m   2290\u001b[0m \u001b[0;34m\u001b[0m\u001b[0m\n",
            "\u001b[0;32m/usr/local/lib/python3.10/dist-packages/torch/nn/modules/module.py\u001b[0m in \u001b[0;36mtrain\u001b[0;34m(self, mode)\u001b[0m\n\u001b[1;32m   2286\u001b[0m         \u001b[0mself\u001b[0m\u001b[0;34m.\u001b[0m\u001b[0mtraining\u001b[0m \u001b[0;34m=\u001b[0m \u001b[0mmode\u001b[0m\u001b[0;34m\u001b[0m\u001b[0;34m\u001b[0m\u001b[0m\n\u001b[1;32m   2287\u001b[0m         \u001b[0;32mfor\u001b[0m \u001b[0mmodule\u001b[0m \u001b[0;32min\u001b[0m \u001b[0mself\u001b[0m\u001b[0;34m.\u001b[0m\u001b[0mchildren\u001b[0m\u001b[0;34m(\u001b[0m\u001b[0;34m)\u001b[0m\u001b[0;34m:\u001b[0m\u001b[0;34m\u001b[0m\u001b[0;34m\u001b[0m\u001b[0m\n\u001b[0;32m-> 2288\u001b[0;31m             \u001b[0mmodule\u001b[0m\u001b[0;34m.\u001b[0m\u001b[0mtrain\u001b[0m\u001b[0;34m(\u001b[0m\u001b[0mmode\u001b[0m\u001b[0;34m)\u001b[0m\u001b[0;34m\u001b[0m\u001b[0;34m\u001b[0m\u001b[0m\n\u001b[0m\u001b[1;32m   2289\u001b[0m         \u001b[0;32mreturn\u001b[0m \u001b[0mself\u001b[0m\u001b[0;34m\u001b[0m\u001b[0;34m\u001b[0m\u001b[0m\n\u001b[1;32m   2290\u001b[0m \u001b[0;34m\u001b[0m\u001b[0m\n",
            "\u001b[0;32m/usr/local/lib/python3.10/dist-packages/torch/nn/modules/module.py\u001b[0m in \u001b[0;36mtrain\u001b[0;34m(self, mode)\u001b[0m\n\u001b[1;32m   2286\u001b[0m         \u001b[0mself\u001b[0m\u001b[0;34m.\u001b[0m\u001b[0mtraining\u001b[0m \u001b[0;34m=\u001b[0m \u001b[0mmode\u001b[0m\u001b[0;34m\u001b[0m\u001b[0;34m\u001b[0m\u001b[0m\n\u001b[1;32m   2287\u001b[0m         \u001b[0;32mfor\u001b[0m \u001b[0mmodule\u001b[0m \u001b[0;32min\u001b[0m \u001b[0mself\u001b[0m\u001b[0;34m.\u001b[0m\u001b[0mchildren\u001b[0m\u001b[0;34m(\u001b[0m\u001b[0;34m)\u001b[0m\u001b[0;34m:\u001b[0m\u001b[0;34m\u001b[0m\u001b[0;34m\u001b[0m\u001b[0m\n\u001b[0;32m-> 2288\u001b[0;31m             \u001b[0mmodule\u001b[0m\u001b[0;34m.\u001b[0m\u001b[0mtrain\u001b[0m\u001b[0;34m(\u001b[0m\u001b[0mmode\u001b[0m\u001b[0;34m)\u001b[0m\u001b[0;34m\u001b[0m\u001b[0;34m\u001b[0m\u001b[0m\n\u001b[0m\u001b[1;32m   2289\u001b[0m         \u001b[0;32mreturn\u001b[0m \u001b[0mself\u001b[0m\u001b[0;34m\u001b[0m\u001b[0;34m\u001b[0m\u001b[0m\n\u001b[1;32m   2290\u001b[0m \u001b[0;34m\u001b[0m\u001b[0m\n",
            "\u001b[0;32m/usr/local/lib/python3.10/dist-packages/torch/nn/modules/module.py\u001b[0m in \u001b[0;36mtrain\u001b[0;34m(self, mode)\u001b[0m\n\u001b[1;32m   2285\u001b[0m             \u001b[0;32mraise\u001b[0m \u001b[0mValueError\u001b[0m\u001b[0;34m(\u001b[0m\u001b[0;34m\"training mode is expected to be boolean\"\u001b[0m\u001b[0;34m)\u001b[0m\u001b[0;34m\u001b[0m\u001b[0;34m\u001b[0m\u001b[0m\n\u001b[1;32m   2286\u001b[0m         \u001b[0mself\u001b[0m\u001b[0;34m.\u001b[0m\u001b[0mtraining\u001b[0m \u001b[0;34m=\u001b[0m \u001b[0mmode\u001b[0m\u001b[0;34m\u001b[0m\u001b[0;34m\u001b[0m\u001b[0m\n\u001b[0;32m-> 2287\u001b[0;31m         \u001b[0;32mfor\u001b[0m \u001b[0mmodule\u001b[0m \u001b[0;32min\u001b[0m \u001b[0mself\u001b[0m\u001b[0;34m.\u001b[0m\u001b[0mchildren\u001b[0m\u001b[0;34m(\u001b[0m\u001b[0;34m)\u001b[0m\u001b[0;34m:\u001b[0m\u001b[0;34m\u001b[0m\u001b[0;34m\u001b[0m\u001b[0m\n\u001b[0m\u001b[1;32m   2288\u001b[0m             \u001b[0mmodule\u001b[0m\u001b[0;34m.\u001b[0m\u001b[0mtrain\u001b[0m\u001b[0;34m(\u001b[0m\u001b[0mmode\u001b[0m\u001b[0;34m)\u001b[0m\u001b[0;34m\u001b[0m\u001b[0;34m\u001b[0m\u001b[0m\n\u001b[1;32m   2289\u001b[0m         \u001b[0;32mreturn\u001b[0m \u001b[0mself\u001b[0m\u001b[0;34m\u001b[0m\u001b[0;34m\u001b[0m\u001b[0m\n",
            "\u001b[0;32m/usr/local/lib/python3.10/dist-packages/torch/nn/modules/module.py\u001b[0m in \u001b[0;36mchildren\u001b[0;34m(self)\u001b[0m\n\u001b[1;32m   2171\u001b[0m             \u001b[0mModule\u001b[0m\u001b[0;34m:\u001b[0m \u001b[0ma\u001b[0m \u001b[0mchild\u001b[0m \u001b[0mmodule\u001b[0m\u001b[0;34m\u001b[0m\u001b[0;34m\u001b[0m\u001b[0m\n\u001b[1;32m   2172\u001b[0m         \"\"\"\n\u001b[0;32m-> 2173\u001b[0;31m         \u001b[0;32mfor\u001b[0m \u001b[0mname\u001b[0m\u001b[0;34m,\u001b[0m \u001b[0mmodule\u001b[0m \u001b[0;32min\u001b[0m \u001b[0mself\u001b[0m\u001b[0;34m.\u001b[0m\u001b[0mnamed_children\u001b[0m\u001b[0;34m(\u001b[0m\u001b[0;34m)\u001b[0m\u001b[0;34m:\u001b[0m\u001b[0;34m\u001b[0m\u001b[0;34m\u001b[0m\u001b[0m\n\u001b[0m\u001b[1;32m   2174\u001b[0m             \u001b[0;32myield\u001b[0m \u001b[0mmodule\u001b[0m\u001b[0;34m\u001b[0m\u001b[0;34m\u001b[0m\u001b[0m\n\u001b[1;32m   2175\u001b[0m \u001b[0;34m\u001b[0m\u001b[0m\n",
            "\u001b[0;32m/usr/local/lib/python3.10/dist-packages/torch/nn/modules/module.py\u001b[0m in \u001b[0;36mnamed_children\u001b[0;34m(self)\u001b[0m\n\u001b[1;32m   2190\u001b[0m         \"\"\"\n\u001b[1;32m   2191\u001b[0m         \u001b[0mmemo\u001b[0m \u001b[0;34m=\u001b[0m \u001b[0mset\u001b[0m\u001b[0;34m(\u001b[0m\u001b[0;34m)\u001b[0m\u001b[0;34m\u001b[0m\u001b[0;34m\u001b[0m\u001b[0m\n\u001b[0;32m-> 2192\u001b[0;31m         \u001b[0;32mfor\u001b[0m \u001b[0mname\u001b[0m\u001b[0;34m,\u001b[0m \u001b[0mmodule\u001b[0m \u001b[0;32min\u001b[0m \u001b[0mself\u001b[0m\u001b[0;34m.\u001b[0m\u001b[0m_modules\u001b[0m\u001b[0;34m.\u001b[0m\u001b[0mitems\u001b[0m\u001b[0;34m(\u001b[0m\u001b[0;34m)\u001b[0m\u001b[0;34m:\u001b[0m\u001b[0;34m\u001b[0m\u001b[0;34m\u001b[0m\u001b[0m\n\u001b[0m\u001b[1;32m   2193\u001b[0m             \u001b[0;32mif\u001b[0m \u001b[0mmodule\u001b[0m \u001b[0;32mis\u001b[0m \u001b[0;32mnot\u001b[0m \u001b[0;32mNone\u001b[0m \u001b[0;32mand\u001b[0m \u001b[0mmodule\u001b[0m \u001b[0;32mnot\u001b[0m \u001b[0;32min\u001b[0m \u001b[0mmemo\u001b[0m\u001b[0;34m:\u001b[0m\u001b[0;34m\u001b[0m\u001b[0;34m\u001b[0m\u001b[0m\n\u001b[1;32m   2194\u001b[0m                 \u001b[0mmemo\u001b[0m\u001b[0;34m.\u001b[0m\u001b[0madd\u001b[0m\u001b[0;34m(\u001b[0m\u001b[0mmodule\u001b[0m\u001b[0;34m)\u001b[0m\u001b[0;34m\u001b[0m\u001b[0;34m\u001b[0m\u001b[0m\n",
            "\u001b[0;31mKeyboardInterrupt\u001b[0m: "
          ]
        }
      ]
    }
  ]
}
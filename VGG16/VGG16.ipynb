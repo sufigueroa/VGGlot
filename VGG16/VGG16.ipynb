{
  "nbformat": 4,
  "nbformat_minor": 0,
  "metadata": {
    "colab": {
      "provenance": [],
      "machine_shape": "hm",
      "gpuType": "T4"
    },
    "kernelspec": {
      "name": "python3",
      "display_name": "Python 3"
    },
    "language_info": {
      "name": "python"
    },
    "accelerator": "GPU"
  },
  "cells": [
    {
      "cell_type": "markdown",
      "source": [
        "## Librerías"
      ],
      "metadata": {
        "id": "nJRpJLm-6OxT"
      }
    },
    {
      "cell_type": "code",
      "execution_count": null,
      "metadata": {
        "id": "j6RaYAlH49o7"
      },
      "outputs": [],
      "source": [
        "import os\n",
        "import shutil\n",
        "import subprocess\n",
        "import numpy as np\n",
        "import pandas as pd\n",
        "import scipy.io\n",
        "import random\n",
        "from PIL import Image\n",
        "from copy import copy, deepcopy\n",
        "from IPython.display import display\n",
        "from tabulate import tabulate\n",
        "import cv2\n",
        "\n",
        "import matplotlib.pyplot as plt\n",
        "\n",
        "from os import listdir\n",
        "from os.path import join\n",
        "from tqdm.notebook import tqdm\n",
        "from tqdm import tqdm\n",
        "\n",
        "import torch\n",
        "import torch.nn as nn\n",
        "import torch.optim as optim\n",
        "from torch.utils.data import random_split\n",
        "\n",
        "import torchvision.models as models\n",
        "import torchvision.transforms as transforms\n",
        "\n",
        "from torchsummary import summary\n",
        "from torch.utils.data import DataLoader\n",
        "from torchvision.datasets import ImageFolder\n",
        "from torchvision.transforms import Compose, ToTensor, Normalize, Resize\n",
        "from torchvision.models import mobilenet_v3_small, MobileNet_V3_Small_Weights, ResNet50_Weights"
      ]
    },
    {
      "cell_type": "code",
      "source": [
        "device = torch.device(\"cuda:0\") if torch.cuda.is_available() else torch.device(\"cpu\")\n",
        "print(\"Device:\", device)"
      ],
      "metadata": {
        "colab": {
          "base_uri": "https://localhost:8080/"
        },
        "id": "9jaUw4MU6Tnj",
        "outputId": "a330cfe2-90e5-4645-da21-5c71b362c3bf"
      },
      "execution_count": null,
      "outputs": [
        {
          "output_type": "stream",
          "name": "stdout",
          "text": [
            "Device: cuda:0\n"
          ]
        }
      ]
    },
    {
      "cell_type": "markdown",
      "source": [
        "## Load Dataset"
      ],
      "metadata": {
        "id": "K5CiZOpD7Mhi"
      }
    },
    {
      "cell_type": "code",
      "source": [
        "repo_url = 'https://github.com/brendenlake/omniglot.git'\n",
        "subprocess.call(['git', 'clone', repo_url])"
      ],
      "metadata": {
        "colab": {
          "base_uri": "https://localhost:8080/"
        },
        "id": "vkLlB9uc673h",
        "outputId": "fed836c2-1ccd-464d-9514-e39cb2b7b121"
      },
      "execution_count": null,
      "outputs": [
        {
          "output_type": "execute_result",
          "data": {
            "text/plain": [
              "0"
            ]
          },
          "metadata": {},
          "execution_count": 3
        }
      ]
    },
    {
      "cell_type": "code",
      "source": [
        "!unzip -qq './omniglot/python/images_background.zip'\n",
        "!unzip -qq './omniglot/python/strokes_background.zip'"
      ],
      "metadata": {
        "id": "pWL6GcIE7Qpl"
      },
      "execution_count": null,
      "outputs": []
    },
    {
      "cell_type": "markdown",
      "source": [
        "## Orden de las imágenes"
      ],
      "metadata": {
        "id": "a_MT-bf69Bh9"
      }
    },
    {
      "cell_type": "markdown",
      "source": [
        "En la carpeta images_background, hay 30 alfabetos diferentes. Cada alfabeto contiene una cantidad variada de caracteres, entre 20-50 aprox. Cada uno de los caracteres cuenta es de la forma XXXX_YY.png, donde XXXX corresponde al identificador del caracter, el cual es único entre todos los caracteres de todos los alfabetos. YY corresponde al número de muestra de un caracter en específico, el cual va siempre desde 01 hasta 20 (20 muestras por caracter)."
      ],
      "metadata": {
        "id": "QxmwZVpv-VH_"
      }
    },
    {
      "cell_type": "markdown",
      "source": [
        "Ahora bien, el problema está en que los XXXX no vienen ordenados secuencialmente en cada uno de los alfabetos. Por lo tanto, para hacer el preprocesamiento, hará un diccionario que mapeará cada uno de los id a un valor ordenado, para que la posterior clasificación sea más rápida."
      ],
      "metadata": {
        "id": "PEwVNtlt_xs-"
      }
    },
    {
      "cell_type": "code",
      "source": [
        "img_dir = 'images_background'\n",
        "stroke_dir = 'strokes_background'\n",
        "nreps = 20 # number of renditions for each character\n",
        "# nalpha = 5 # number of alphabets to show\n",
        "\n",
        "alphabet_names = sorted([a for a in os.listdir(img_dir) if a[0] != '.']) # get folder names\n",
        "length_alphabet_names = len(alphabet_names)\n",
        "character_lengths = [len(os.listdir(os.path.join(img_dir, alph_name))) for alph_name in alphabet_names]\n",
        "\n",
        "# alphabet_names = random.sample(alphabet_names,nalpha) # choose random alphabets\n",
        "# print(len(alphabet_names))\n",
        "\n",
        "N = sum([len(os.listdir(os.path.join(img_dir, alph_name, char)))\n",
        "            for alph_name in alphabet_names\n",
        "            for char in os.listdir(os.path.join(img_dir, alph_name))\n",
        "      ])\n",
        "\n",
        "\n",
        "y = np.zeros((N), 'int') # ground truth\n",
        "current_character_folder = 0 # carpeta de un caracter visitado\n",
        "\n",
        "df_alphabet_names = []\n",
        "df_character_names = []\n",
        "df_character_idx = []\n",
        "df_paths = []\n",
        "df_y = []\n",
        "\n",
        "for i in range(len(alphabet_names)):\n",
        "  alphabet_name = alphabet_names[i]\n",
        "  character_length = character_lengths[i]\n",
        "  character_folders = sorted(os.listdir(os.path.join(img_dir, alphabet_name)))\n",
        "\n",
        "  for j in range(character_length):\n",
        "    character_folder = character_folders[j]\n",
        "    characters = sorted(os.listdir(os.path.join(img_dir, alphabet_name, character_folder)))\n",
        "    # print(character_folder)\n",
        "\n",
        "    for k in range(nreps):\n",
        "      y[(current_character_folder * nreps) + k] = current_character_folder\n",
        "\n",
        "      # Se añade al Df\n",
        "      df_alphabet_names.extend([alphabet_name])\n",
        "      df_character_names.extend([character_folder])\n",
        "      df_character_idx.extend([k])\n",
        "      df_paths.extend([os.path.join(img_dir, alphabet_name, character_folder, characters[k])])\n",
        "      df_y.extend([current_character_folder])\n",
        "\n",
        "    current_character_folder += 1\n",
        "\n",
        "\n",
        "df = pd.DataFrame({\n",
        "    'Alphabet': df_alphabet_names,\n",
        "    'Character': df_character_names,\n",
        "    'Sample': df_character_idx,\n",
        "    'Path': df_paths,\n",
        "    'y': df_y\n",
        "})"
      ],
      "metadata": {
        "id": "F5WwCV9K7T2U"
      },
      "execution_count": null,
      "outputs": []
    },
    {
      "cell_type": "markdown",
      "source": [
        "Al observar las muestras que tenemos, se obtiene lo siguiente"
      ],
      "metadata": {
        "id": "FkpwjLruG6Kb"
      }
    },
    {
      "cell_type": "code",
      "source": [
        "df"
      ],
      "metadata": {
        "colab": {
          "base_uri": "https://localhost:8080/",
          "height": 423
        },
        "id": "3nE6_A7cGxpJ",
        "outputId": "015a8447-d0cc-4722-824f-0872056be160"
      },
      "execution_count": null,
      "outputs": [
        {
          "output_type": "execute_result",
          "data": {
            "text/plain": [
              "                   Alphabet    Character  Sample  \\\n",
              "0      Alphabet_of_the_Magi  character01       0   \n",
              "1      Alphabet_of_the_Magi  character01       1   \n",
              "2      Alphabet_of_the_Magi  character01       2   \n",
              "3      Alphabet_of_the_Magi  character01       3   \n",
              "4      Alphabet_of_the_Magi  character01       4   \n",
              "...                     ...          ...     ...   \n",
              "19275              Tifinagh  character55      15   \n",
              "19276              Tifinagh  character55      16   \n",
              "19277              Tifinagh  character55      17   \n",
              "19278              Tifinagh  character55      18   \n",
              "19279              Tifinagh  character55      19   \n",
              "\n",
              "                                                    Path    y  \n",
              "0      images_background/Alphabet_of_the_Magi/charact...    0  \n",
              "1      images_background/Alphabet_of_the_Magi/charact...    0  \n",
              "2      images_background/Alphabet_of_the_Magi/charact...    0  \n",
              "3      images_background/Alphabet_of_the_Magi/charact...    0  \n",
              "4      images_background/Alphabet_of_the_Magi/charact...    0  \n",
              "...                                                  ...  ...  \n",
              "19275  images_background/Tifinagh/character55/0964_16...  963  \n",
              "19276  images_background/Tifinagh/character55/0964_17...  963  \n",
              "19277  images_background/Tifinagh/character55/0964_18...  963  \n",
              "19278  images_background/Tifinagh/character55/0964_19...  963  \n",
              "19279  images_background/Tifinagh/character55/0964_20...  963  \n",
              "\n",
              "[19280 rows x 5 columns]"
            ],
            "text/html": [
              "\n",
              "\n",
              "  <div id=\"df-9bef9e7e-443e-4348-bb0d-98c717c17c61\">\n",
              "    <div class=\"colab-df-container\">\n",
              "      <div>\n",
              "<style scoped>\n",
              "    .dataframe tbody tr th:only-of-type {\n",
              "        vertical-align: middle;\n",
              "    }\n",
              "\n",
              "    .dataframe tbody tr th {\n",
              "        vertical-align: top;\n",
              "    }\n",
              "\n",
              "    .dataframe thead th {\n",
              "        text-align: right;\n",
              "    }\n",
              "</style>\n",
              "<table border=\"1\" class=\"dataframe\">\n",
              "  <thead>\n",
              "    <tr style=\"text-align: right;\">\n",
              "      <th></th>\n",
              "      <th>Alphabet</th>\n",
              "      <th>Character</th>\n",
              "      <th>Sample</th>\n",
              "      <th>Path</th>\n",
              "      <th>y</th>\n",
              "    </tr>\n",
              "  </thead>\n",
              "  <tbody>\n",
              "    <tr>\n",
              "      <th>0</th>\n",
              "      <td>Alphabet_of_the_Magi</td>\n",
              "      <td>character01</td>\n",
              "      <td>0</td>\n",
              "      <td>images_background/Alphabet_of_the_Magi/charact...</td>\n",
              "      <td>0</td>\n",
              "    </tr>\n",
              "    <tr>\n",
              "      <th>1</th>\n",
              "      <td>Alphabet_of_the_Magi</td>\n",
              "      <td>character01</td>\n",
              "      <td>1</td>\n",
              "      <td>images_background/Alphabet_of_the_Magi/charact...</td>\n",
              "      <td>0</td>\n",
              "    </tr>\n",
              "    <tr>\n",
              "      <th>2</th>\n",
              "      <td>Alphabet_of_the_Magi</td>\n",
              "      <td>character01</td>\n",
              "      <td>2</td>\n",
              "      <td>images_background/Alphabet_of_the_Magi/charact...</td>\n",
              "      <td>0</td>\n",
              "    </tr>\n",
              "    <tr>\n",
              "      <th>3</th>\n",
              "      <td>Alphabet_of_the_Magi</td>\n",
              "      <td>character01</td>\n",
              "      <td>3</td>\n",
              "      <td>images_background/Alphabet_of_the_Magi/charact...</td>\n",
              "      <td>0</td>\n",
              "    </tr>\n",
              "    <tr>\n",
              "      <th>4</th>\n",
              "      <td>Alphabet_of_the_Magi</td>\n",
              "      <td>character01</td>\n",
              "      <td>4</td>\n",
              "      <td>images_background/Alphabet_of_the_Magi/charact...</td>\n",
              "      <td>0</td>\n",
              "    </tr>\n",
              "    <tr>\n",
              "      <th>...</th>\n",
              "      <td>...</td>\n",
              "      <td>...</td>\n",
              "      <td>...</td>\n",
              "      <td>...</td>\n",
              "      <td>...</td>\n",
              "    </tr>\n",
              "    <tr>\n",
              "      <th>19275</th>\n",
              "      <td>Tifinagh</td>\n",
              "      <td>character55</td>\n",
              "      <td>15</td>\n",
              "      <td>images_background/Tifinagh/character55/0964_16...</td>\n",
              "      <td>963</td>\n",
              "    </tr>\n",
              "    <tr>\n",
              "      <th>19276</th>\n",
              "      <td>Tifinagh</td>\n",
              "      <td>character55</td>\n",
              "      <td>16</td>\n",
              "      <td>images_background/Tifinagh/character55/0964_17...</td>\n",
              "      <td>963</td>\n",
              "    </tr>\n",
              "    <tr>\n",
              "      <th>19277</th>\n",
              "      <td>Tifinagh</td>\n",
              "      <td>character55</td>\n",
              "      <td>17</td>\n",
              "      <td>images_background/Tifinagh/character55/0964_18...</td>\n",
              "      <td>963</td>\n",
              "    </tr>\n",
              "    <tr>\n",
              "      <th>19278</th>\n",
              "      <td>Tifinagh</td>\n",
              "      <td>character55</td>\n",
              "      <td>18</td>\n",
              "      <td>images_background/Tifinagh/character55/0964_19...</td>\n",
              "      <td>963</td>\n",
              "    </tr>\n",
              "    <tr>\n",
              "      <th>19279</th>\n",
              "      <td>Tifinagh</td>\n",
              "      <td>character55</td>\n",
              "      <td>19</td>\n",
              "      <td>images_background/Tifinagh/character55/0964_20...</td>\n",
              "      <td>963</td>\n",
              "    </tr>\n",
              "  </tbody>\n",
              "</table>\n",
              "<p>19280 rows × 5 columns</p>\n",
              "</div>\n",
              "      <button class=\"colab-df-convert\" onclick=\"convertToInteractive('df-9bef9e7e-443e-4348-bb0d-98c717c17c61')\"\n",
              "              title=\"Convert this dataframe to an interactive table.\"\n",
              "              style=\"display:none;\">\n",
              "\n",
              "  <svg xmlns=\"http://www.w3.org/2000/svg\" height=\"24px\"viewBox=\"0 0 24 24\"\n",
              "       width=\"24px\">\n",
              "    <path d=\"M0 0h24v24H0V0z\" fill=\"none\"/>\n",
              "    <path d=\"M18.56 5.44l.94 2.06.94-2.06 2.06-.94-2.06-.94-.94-2.06-.94 2.06-2.06.94zm-11 1L8.5 8.5l.94-2.06 2.06-.94-2.06-.94L8.5 2.5l-.94 2.06-2.06.94zm10 10l.94 2.06.94-2.06 2.06-.94-2.06-.94-.94-2.06-.94 2.06-2.06.94z\"/><path d=\"M17.41 7.96l-1.37-1.37c-.4-.4-.92-.59-1.43-.59-.52 0-1.04.2-1.43.59L10.3 9.45l-7.72 7.72c-.78.78-.78 2.05 0 2.83L4 21.41c.39.39.9.59 1.41.59.51 0 1.02-.2 1.41-.59l7.78-7.78 2.81-2.81c.8-.78.8-2.07 0-2.86zM5.41 20L4 18.59l7.72-7.72 1.47 1.35L5.41 20z\"/>\n",
              "  </svg>\n",
              "      </button>\n",
              "\n",
              "\n",
              "\n",
              "    <div id=\"df-381dcb35-cdf0-4028-aeb7-ceb874b567e7\">\n",
              "      <button class=\"colab-df-quickchart\" onclick=\"quickchart('df-381dcb35-cdf0-4028-aeb7-ceb874b567e7')\"\n",
              "              title=\"Suggest charts.\"\n",
              "              style=\"display:none;\">\n",
              "\n",
              "<svg xmlns=\"http://www.w3.org/2000/svg\" height=\"24px\"viewBox=\"0 0 24 24\"\n",
              "     width=\"24px\">\n",
              "    <g>\n",
              "        <path d=\"M19 3H5c-1.1 0-2 .9-2 2v14c0 1.1.9 2 2 2h14c1.1 0 2-.9 2-2V5c0-1.1-.9-2-2-2zM9 17H7v-7h2v7zm4 0h-2V7h2v10zm4 0h-2v-4h2v4z\"/>\n",
              "    </g>\n",
              "</svg>\n",
              "      </button>\n",
              "    </div>\n",
              "\n",
              "<style>\n",
              "  .colab-df-quickchart {\n",
              "    background-color: #E8F0FE;\n",
              "    border: none;\n",
              "    border-radius: 50%;\n",
              "    cursor: pointer;\n",
              "    display: none;\n",
              "    fill: #1967D2;\n",
              "    height: 32px;\n",
              "    padding: 0 0 0 0;\n",
              "    width: 32px;\n",
              "  }\n",
              "\n",
              "  .colab-df-quickchart:hover {\n",
              "    background-color: #E2EBFA;\n",
              "    box-shadow: 0px 1px 2px rgba(60, 64, 67, 0.3), 0px 1px 3px 1px rgba(60, 64, 67, 0.15);\n",
              "    fill: #174EA6;\n",
              "  }\n",
              "\n",
              "  [theme=dark] .colab-df-quickchart {\n",
              "    background-color: #3B4455;\n",
              "    fill: #D2E3FC;\n",
              "  }\n",
              "\n",
              "  [theme=dark] .colab-df-quickchart:hover {\n",
              "    background-color: #434B5C;\n",
              "    box-shadow: 0px 1px 3px 1px rgba(0, 0, 0, 0.15);\n",
              "    filter: drop-shadow(0px 1px 2px rgba(0, 0, 0, 0.3));\n",
              "    fill: #FFFFFF;\n",
              "  }\n",
              "</style>\n",
              "\n",
              "    <script>\n",
              "      async function quickchart(key) {\n",
              "        const containerElement = document.querySelector('#' + key);\n",
              "        const charts = await google.colab.kernel.invokeFunction(\n",
              "            'suggestCharts', [key], {});\n",
              "      }\n",
              "    </script>\n",
              "\n",
              "      <script>\n",
              "\n",
              "function displayQuickchartButton(domScope) {\n",
              "  let quickchartButtonEl =\n",
              "    domScope.querySelector('#df-381dcb35-cdf0-4028-aeb7-ceb874b567e7 button.colab-df-quickchart');\n",
              "  quickchartButtonEl.style.display =\n",
              "    google.colab.kernel.accessAllowed ? 'block' : 'none';\n",
              "}\n",
              "\n",
              "        displayQuickchartButton(document);\n",
              "      </script>\n",
              "      <style>\n",
              "    .colab-df-container {\n",
              "      display:flex;\n",
              "      flex-wrap:wrap;\n",
              "      gap: 12px;\n",
              "    }\n",
              "\n",
              "    .colab-df-convert {\n",
              "      background-color: #E8F0FE;\n",
              "      border: none;\n",
              "      border-radius: 50%;\n",
              "      cursor: pointer;\n",
              "      display: none;\n",
              "      fill: #1967D2;\n",
              "      height: 32px;\n",
              "      padding: 0 0 0 0;\n",
              "      width: 32px;\n",
              "    }\n",
              "\n",
              "    .colab-df-convert:hover {\n",
              "      background-color: #E2EBFA;\n",
              "      box-shadow: 0px 1px 2px rgba(60, 64, 67, 0.3), 0px 1px 3px 1px rgba(60, 64, 67, 0.15);\n",
              "      fill: #174EA6;\n",
              "    }\n",
              "\n",
              "    [theme=dark] .colab-df-convert {\n",
              "      background-color: #3B4455;\n",
              "      fill: #D2E3FC;\n",
              "    }\n",
              "\n",
              "    [theme=dark] .colab-df-convert:hover {\n",
              "      background-color: #434B5C;\n",
              "      box-shadow: 0px 1px 3px 1px rgba(0, 0, 0, 0.15);\n",
              "      filter: drop-shadow(0px 1px 2px rgba(0, 0, 0, 0.3));\n",
              "      fill: #FFFFFF;\n",
              "    }\n",
              "  </style>\n",
              "\n",
              "      <script>\n",
              "        const buttonEl =\n",
              "          document.querySelector('#df-9bef9e7e-443e-4348-bb0d-98c717c17c61 button.colab-df-convert');\n",
              "        buttonEl.style.display =\n",
              "          google.colab.kernel.accessAllowed ? 'block' : 'none';\n",
              "\n",
              "        async function convertToInteractive(key) {\n",
              "          const element = document.querySelector('#df-9bef9e7e-443e-4348-bb0d-98c717c17c61');\n",
              "          const dataTable =\n",
              "            await google.colab.kernel.invokeFunction('convertToInteractive',\n",
              "                                                     [key], {});\n",
              "          if (!dataTable) return;\n",
              "\n",
              "          const docLinkHtml = 'Like what you see? Visit the ' +\n",
              "            '<a target=\"_blank\" href=https://colab.research.google.com/notebooks/data_table.ipynb>data table notebook</a>'\n",
              "            + ' to learn more about interactive tables.';\n",
              "          element.innerHTML = '';\n",
              "          dataTable['output_type'] = 'display_data';\n",
              "          await google.colab.output.renderOutput(dataTable, element);\n",
              "          const docLink = document.createElement('div');\n",
              "          docLink.innerHTML = docLinkHtml;\n",
              "          element.appendChild(docLink);\n",
              "        }\n",
              "      </script>\n",
              "    </div>\n",
              "  </div>\n"
            ]
          },
          "metadata": {},
          "execution_count": 6
        }
      ]
    },
    {
      "cell_type": "markdown",
      "source": [
        "## Ejemplo de una imagen"
      ],
      "metadata": {
        "id": "5EVtbenEOMcj"
      }
    },
    {
      "cell_type": "code",
      "source": [
        "path = df.iloc[0]['Path']\n",
        "img = Image.open(path)\n",
        "# print('Shape:', img.shape)\n",
        "plt.imshow(img, cmap='gray')\n",
        "plt.show()"
      ],
      "metadata": {
        "colab": {
          "base_uri": "https://localhost:8080/",
          "height": 434
        },
        "id": "EHSDlVH9OOBw",
        "outputId": "db3d9814-d4a1-413e-9907-d0206e13a80a"
      },
      "execution_count": null,
      "outputs": [
        {
          "output_type": "display_data",
          "data": {
            "text/plain": [
              "<Figure size 640x480 with 1 Axes>"
            ],
            "image/png": "[encoded data removed]"
          },
          "metadata": {}
        }
      ]
    },
    {
      "cell_type": "code",
      "source": [
        "print(img)"
      ],
      "metadata": {
        "colab": {
          "base_uri": "https://localhost:8080/"
        },
        "id": "JyTyPtfIBV9J",
        "outputId": "4bbe5bf0-0fe1-4b7d-c421-f45b26fe0d2f"
      },
      "execution_count": null,
      "outputs": [
        {
          "output_type": "stream",
          "name": "stdout",
          "text": [
            "<PIL.PngImagePlugin.PngImageFile image mode=1 size=105x105 at 0x7FAFB59CD1E0>\n"
          ]
        }
      ]
    },
    {
      "cell_type": "markdown",
      "source": [
        "## Separación Train - Val - Test:\n",
        "\n",
        "El objetivo de la red es justamente clasificar cada uno de los caracteres. En total, tenemos 964 caracteres distintos (labels enumerados del 0 al 963), provenientes de 30 alfabetos, y cada caracter posee 20 muestras. Por ende, tenemos 19280 imagenes distintas.\n",
        "\n",
        "Dado que cada caracter posee 20 muestras, se utilizará una proporción 70% train, 20% validation y 10% test. Vale decir: 14 imágenes de train, 4 de validation, y 2 de test por cada caracter.\n",
        "\n",
        "En total debería dar:\n",
        "* 13.496 imágenes de Train\n",
        "* 3.856 imágenes de Validation\n",
        "* 1.928 imágenes de Test"
      ],
      "metadata": {
        "id": "E-yYhKZmD9PF"
      }
    },
    {
      "cell_type": "code",
      "source": [
        "# Separacion de df basados en el numero de fila\n",
        "df_train = df.groupby('y').head(14)\n",
        "df_val = df.groupby('y').apply(lambda x: x.iloc[14:18])\n",
        "df_test = df.groupby('y').apply(lambda x: x.iloc[18:20])\n",
        "\n",
        "# Reseteamos los indices de los df\n",
        "df_train.reset_index(drop=True, inplace=True)\n",
        "df_val.reset_index(drop=True, inplace=True)\n",
        "df_test.reset_index(drop=True, inplace=True)\n"
      ],
      "metadata": {
        "id": "HIL7mN16PIVb"
      },
      "execution_count": null,
      "outputs": []
    },
    {
      "cell_type": "code",
      "source": [
        "print('Length df_train:', len(df_train))\n",
        "print('Length df_val:', len(df_val))\n",
        "print('Length df_test:', len(df_test))"
      ],
      "metadata": {
        "colab": {
          "base_uri": "https://localhost:8080/"
        },
        "id": "scalaQkmQuY_",
        "outputId": "d2c9dd25-a7dd-47b3-f66e-0df8182ceb19"
      },
      "execution_count": null,
      "outputs": [
        {
          "output_type": "stream",
          "name": "stdout",
          "text": [
            "Length df_train: 13496\n",
            "Length df_val: 3856\n",
            "Length df_test: 1928\n"
          ]
        }
      ]
    },
    {
      "cell_type": "markdown",
      "source": [
        "Por ejemplo, si vemos como quedó el df_train:"
      ],
      "metadata": {
        "id": "OCVt-njlQ23W"
      }
    },
    {
      "cell_type": "code",
      "source": [
        "df_train[0:20]"
      ],
      "metadata": {
        "colab": {
          "base_uri": "https://localhost:8080/",
          "height": 676
        },
        "id": "dwzHy4OLRCmM",
        "outputId": "adcc8fb4-e1f6-4a0f-c018-97c759119b0e"
      },
      "execution_count": null,
      "outputs": [
        {
          "output_type": "execute_result",
          "data": {
            "text/plain": [
              "                Alphabet    Character  Sample  \\\n",
              "0   Alphabet_of_the_Magi  character01       0   \n",
              "1   Alphabet_of_the_Magi  character01       1   \n",
              "2   Alphabet_of_the_Magi  character01       2   \n",
              "3   Alphabet_of_the_Magi  character01       3   \n",
              "4   Alphabet_of_the_Magi  character01       4   \n",
              "5   Alphabet_of_the_Magi  character01       5   \n",
              "6   Alphabet_of_the_Magi  character01       6   \n",
              "7   Alphabet_of_the_Magi  character01       7   \n",
              "8   Alphabet_of_the_Magi  character01       8   \n",
              "9   Alphabet_of_the_Magi  character01       9   \n",
              "10  Alphabet_of_the_Magi  character01      10   \n",
              "11  Alphabet_of_the_Magi  character01      11   \n",
              "12  Alphabet_of_the_Magi  character01      12   \n",
              "13  Alphabet_of_the_Magi  character01      13   \n",
              "14  Alphabet_of_the_Magi  character02       0   \n",
              "15  Alphabet_of_the_Magi  character02       1   \n",
              "16  Alphabet_of_the_Magi  character02       2   \n",
              "17  Alphabet_of_the_Magi  character02       3   \n",
              "18  Alphabet_of_the_Magi  character02       4   \n",
              "19  Alphabet_of_the_Magi  character02       5   \n",
              "\n",
              "                                                 Path  y  \n",
              "0   images_background/Alphabet_of_the_Magi/charact...  0  \n",
              "1   images_background/Alphabet_of_the_Magi/charact...  0  \n",
              "2   images_background/Alphabet_of_the_Magi/charact...  0  \n",
              "3   images_background/Alphabet_of_the_Magi/charact...  0  \n",
              "4   images_background/Alphabet_of_the_Magi/charact...  0  \n",
              "5   images_background/Alphabet_of_the_Magi/charact...  0  \n",
              "6   images_background/Alphabet_of_the_Magi/charact...  0  \n",
              "7   images_background/Alphabet_of_the_Magi/charact...  0  \n",
              "8   images_background/Alphabet_of_the_Magi/charact...  0  \n",
              "9   images_background/Alphabet_of_the_Magi/charact...  0  \n",
              "10  images_background/Alphabet_of_the_Magi/charact...  0  \n",
              "11  images_background/Alphabet_of_the_Magi/charact...  0  \n",
              "12  images_background/Alphabet_of_the_Magi/charact...  0  \n",
              "13  images_background/Alphabet_of_the_Magi/charact...  0  \n",
              "14  images_background/Alphabet_of_the_Magi/charact...  1  \n",
              "15  images_background/Alphabet_of_the_Magi/charact...  1  \n",
              "16  images_background/Alphabet_of_the_Magi/charact...  1  \n",
              "17  images_background/Alphabet_of_the_Magi/charact...  1  \n",
              "18  images_background/Alphabet_of_the_Magi/charact...  1  \n",
              "19  images_background/Alphabet_of_the_Magi/charact...  1  "
            ],
            "text/html": [
              "\n",
              "\n",
              "  <div id=\"df-9dc6cc79-84c9-4c31-930d-9ea93209adff\">\n",
              "    <div class=\"colab-df-container\">\n",
              "      <div>\n",
              "<style scoped>\n",
              "    .dataframe tbody tr th:only-of-type {\n",
              "        vertical-align: middle;\n",
              "    }\n",
              "\n",
              "    .dataframe tbody tr th {\n",
              "        vertical-align: top;\n",
              "    }\n",
              "\n",
              "    .dataframe thead th {\n",
              "        text-align: right;\n",
              "    }\n",
              "</style>\n",
              "<table border=\"1\" class=\"dataframe\">\n",
              "  <thead>\n",
              "    <tr style=\"text-align: right;\">\n",
              "      <th></th>\n",
              "      <th>Alphabet</th>\n",
              "      <th>Character</th>\n",
              "      <th>Sample</th>\n",
              "      <th>Path</th>\n",
              "      <th>y</th>\n",
              "    </tr>\n",
              "  </thead>\n",
              "  <tbody>\n",
              "    <tr>\n",
              "      <th>0</th>\n",
              "      <td>Alphabet_of_the_Magi</td>\n",
              "      <td>character01</td>\n",
              "      <td>0</td>\n",
              "      <td>images_background/Alphabet_of_the_Magi/charact...</td>\n",
              "      <td>0</td>\n",
              "    </tr>\n",
              "    <tr>\n",
              "      <th>1</th>\n",
              "      <td>Alphabet_of_the_Magi</td>\n",
              "      <td>character01</td>\n",
              "      <td>1</td>\n",
              "      <td>images_background/Alphabet_of_the_Magi/charact...</td>\n",
              "      <td>0</td>\n",
              "    </tr>\n",
              "    <tr>\n",
              "      <th>2</th>\n",
              "      <td>Alphabet_of_the_Magi</td>\n",
              "      <td>character01</td>\n",
              "      <td>2</td>\n",
              "      <td>images_background/Alphabet_of_the_Magi/charact...</td>\n",
              "      <td>0</td>\n",
              "    </tr>\n",
              "    <tr>\n",
              "      <th>3</th>\n",
              "      <td>Alphabet_of_the_Magi</td>\n",
              "      <td>character01</td>\n",
              "      <td>3</td>\n",
              "      <td>images_background/Alphabet_of_the_Magi/charact...</td>\n",
              "      <td>0</td>\n",
              "    </tr>\n",
              "    <tr>\n",
              "      <th>4</th>\n",
              "      <td>Alphabet_of_the_Magi</td>\n",
              "      <td>character01</td>\n",
              "      <td>4</td>\n",
              "      <td>images_background/Alphabet_of_the_Magi/charact...</td>\n",
              "      <td>0</td>\n",
              "    </tr>\n",
              "    <tr>\n",
              "      <th>5</th>\n",
              "      <td>Alphabet_of_the_Magi</td>\n",
              "      <td>character01</td>\n",
              "      <td>5</td>\n",
              "      <td>images_background/Alphabet_of_the_Magi/charact...</td>\n",
              "      <td>0</td>\n",
              "    </tr>\n",
              "    <tr>\n",
              "      <th>6</th>\n",
              "      <td>Alphabet_of_the_Magi</td>\n",
              "      <td>character01</td>\n",
              "      <td>6</td>\n",
              "      <td>images_background/Alphabet_of_the_Magi/charact...</td>\n",
              "      <td>0</td>\n",
              "    </tr>\n",
              "    <tr>\n",
              "      <th>7</th>\n",
              "      <td>Alphabet_of_the_Magi</td>\n",
              "      <td>character01</td>\n",
              "      <td>7</td>\n",
              "      <td>images_background/Alphabet_of_the_Magi/charact...</td>\n",
              "      <td>0</td>\n",
              "    </tr>\n",
              "    <tr>\n",
              "      <th>8</th>\n",
              "      <td>Alphabet_of_the_Magi</td>\n",
              "      <td>character01</td>\n",
              "      <td>8</td>\n",
              "      <td>images_background/Alphabet_of_the_Magi/charact...</td>\n",
              "      <td>0</td>\n",
              "    </tr>\n",
              "    <tr>\n",
              "      <th>9</th>\n",
              "      <td>Alphabet_of_the_Magi</td>\n",
              "      <td>character01</td>\n",
              "      <td>9</td>\n",
              "      <td>images_background/Alphabet_of_the_Magi/charact...</td>\n",
              "      <td>0</td>\n",
              "    </tr>\n",
              "    <tr>\n",
              "      <th>10</th>\n",
              "      <td>Alphabet_of_the_Magi</td>\n",
              "      <td>character01</td>\n",
              "      <td>10</td>\n",
              "      <td>images_background/Alphabet_of_the_Magi/charact...</td>\n",
              "      <td>0</td>\n",
              "    </tr>\n",
              "    <tr>\n",
              "      <th>11</th>\n",
              "      <td>Alphabet_of_the_Magi</td>\n",
              "      <td>character01</td>\n",
              "      <td>11</td>\n",
              "      <td>images_background/Alphabet_of_the_Magi/charact...</td>\n",
              "      <td>0</td>\n",
              "    </tr>\n",
              "    <tr>\n",
              "      <th>12</th>\n",
              "      <td>Alphabet_of_the_Magi</td>\n",
              "      <td>character01</td>\n",
              "      <td>12</td>\n",
              "      <td>images_background/Alphabet_of_the_Magi/charact...</td>\n",
              "      <td>0</td>\n",
              "    </tr>\n",
              "    <tr>\n",
              "      <th>13</th>\n",
              "      <td>Alphabet_of_the_Magi</td>\n",
              "      <td>character01</td>\n",
              "      <td>13</td>\n",
              "      <td>images_background/Alphabet_of_the_Magi/charact...</td>\n",
              "      <td>0</td>\n",
              "    </tr>\n",
              "    <tr>\n",
              "      <th>14</th>\n",
              "      <td>Alphabet_of_the_Magi</td>\n",
              "      <td>character02</td>\n",
              "      <td>0</td>\n",
              "      <td>images_background/Alphabet_of_the_Magi/charact...</td>\n",
              "      <td>1</td>\n",
              "    </tr>\n",
              "    <tr>\n",
              "      <th>15</th>\n",
              "      <td>Alphabet_of_the_Magi</td>\n",
              "      <td>character02</td>\n",
              "      <td>1</td>\n",
              "      <td>images_background/Alphabet_of_the_Magi/charact...</td>\n",
              "      <td>1</td>\n",
              "    </tr>\n",
              "    <tr>\n",
              "      <th>16</th>\n",
              "      <td>Alphabet_of_the_Magi</td>\n",
              "      <td>character02</td>\n",
              "      <td>2</td>\n",
              "      <td>images_background/Alphabet_of_the_Magi/charact...</td>\n",
              "      <td>1</td>\n",
              "    </tr>\n",
              "    <tr>\n",
              "      <th>17</th>\n",
              "      <td>Alphabet_of_the_Magi</td>\n",
              "      <td>character02</td>\n",
              "      <td>3</td>\n",
              "      <td>images_background/Alphabet_of_the_Magi/charact...</td>\n",
              "      <td>1</td>\n",
              "    </tr>\n",
              "    <tr>\n",
              "      <th>18</th>\n",
              "      <td>Alphabet_of_the_Magi</td>\n",
              "      <td>character02</td>\n",
              "      <td>4</td>\n",
              "      <td>images_background/Alphabet_of_the_Magi/charact...</td>\n",
              "      <td>1</td>\n",
              "    </tr>\n",
              "    <tr>\n",
              "      <th>19</th>\n",
              "      <td>Alphabet_of_the_Magi</td>\n",
              "      <td>character02</td>\n",
              "      <td>5</td>\n",
              "      <td>images_background/Alphabet_of_the_Magi/charact...</td>\n",
              "      <td>1</td>\n",
              "    </tr>\n",
              "  </tbody>\n",
              "</table>\n",
              "</div>\n",
              "      <button class=\"colab-df-convert\" onclick=\"convertToInteractive('df-9dc6cc79-84c9-4c31-930d-9ea93209adff')\"\n",
              "              title=\"Convert this dataframe to an interactive table.\"\n",
              "              style=\"display:none;\">\n",
              "\n",
              "  <svg xmlns=\"http://www.w3.org/2000/svg\" height=\"24px\"viewBox=\"0 0 24 24\"\n",
              "       width=\"24px\">\n",
              "    <path d=\"M0 0h24v24H0V0z\" fill=\"none\"/>\n",
              "    <path d=\"M18.56 5.44l.94 2.06.94-2.06 2.06-.94-2.06-.94-.94-2.06-.94 2.06-2.06.94zm-11 1L8.5 8.5l.94-2.06 2.06-.94-2.06-.94L8.5 2.5l-.94 2.06-2.06.94zm10 10l.94 2.06.94-2.06 2.06-.94-2.06-.94-.94-2.06-.94 2.06-2.06.94z\"/><path d=\"M17.41 7.96l-1.37-1.37c-.4-.4-.92-.59-1.43-.59-.52 0-1.04.2-1.43.59L10.3 9.45l-7.72 7.72c-.78.78-.78 2.05 0 2.83L4 21.41c.39.39.9.59 1.41.59.51 0 1.02-.2 1.41-.59l7.78-7.78 2.81-2.81c.8-.78.8-2.07 0-2.86zM5.41 20L4 18.59l7.72-7.72 1.47 1.35L5.41 20z\"/>\n",
              "  </svg>\n",
              "      </button>\n",
              "\n",
              "\n",
              "\n",
              "    <div id=\"df-e53a450c-f424-4429-8ac2-b4983c8bb587\">\n",
              "      <button class=\"colab-df-quickchart\" onclick=\"quickchart('df-e53a450c-f424-4429-8ac2-b4983c8bb587')\"\n",
              "              title=\"Suggest charts.\"\n",
              "              style=\"display:none;\">\n",
              "\n",
              "<svg xmlns=\"http://www.w3.org/2000/svg\" height=\"24px\"viewBox=\"0 0 24 24\"\n",
              "     width=\"24px\">\n",
              "    <g>\n",
              "        <path d=\"M19 3H5c-1.1 0-2 .9-2 2v14c0 1.1.9 2 2 2h14c1.1 0 2-.9 2-2V5c0-1.1-.9-2-2-2zM9 17H7v-7h2v7zm4 0h-2V7h2v10zm4 0h-2v-4h2v4z\"/>\n",
              "    </g>\n",
              "</svg>\n",
              "      </button>\n",
              "    </div>\n",
              "\n",
              "<style>\n",
              "  .colab-df-quickchart {\n",
              "    background-color: #E8F0FE;\n",
              "    border: none;\n",
              "    border-radius: 50%;\n",
              "    cursor: pointer;\n",
              "    display: none;\n",
              "    fill: #1967D2;\n",
              "    height: 32px;\n",
              "    padding: 0 0 0 0;\n",
              "    width: 32px;\n",
              "  }\n",
              "\n",
              "  .colab-df-quickchart:hover {\n",
              "    background-color: #E2EBFA;\n",
              "    box-shadow: 0px 1px 2px rgba(60, 64, 67, 0.3), 0px 1px 3px 1px rgba(60, 64, 67, 0.15);\n",
              "    fill: #174EA6;\n",
              "  }\n",
              "\n",
              "  [theme=dark] .colab-df-quickchart {\n",
              "    background-color: #3B4455;\n",
              "    fill: #D2E3FC;\n",
              "  }\n",
              "\n",
              "  [theme=dark] .colab-df-quickchart:hover {\n",
              "    background-color: #434B5C;\n",
              "    box-shadow: 0px 1px 3px 1px rgba(0, 0, 0, 0.15);\n",
              "    filter: drop-shadow(0px 1px 2px rgba(0, 0, 0, 0.3));\n",
              "    fill: #FFFFFF;\n",
              "  }\n",
              "</style>\n",
              "\n",
              "    <script>\n",
              "      async function quickchart(key) {\n",
              "        const containerElement = document.querySelector('#' + key);\n",
              "        const charts = await google.colab.kernel.invokeFunction(\n",
              "            'suggestCharts', [key], {});\n",
              "      }\n",
              "    </script>\n",
              "\n",
              "      <script>\n",
              "\n",
              "function displayQuickchartButton(domScope) {\n",
              "  let quickchartButtonEl =\n",
              "    domScope.querySelector('#df-e53a450c-f424-4429-8ac2-b4983c8bb587 button.colab-df-quickchart');\n",
              "  quickchartButtonEl.style.display =\n",
              "    google.colab.kernel.accessAllowed ? 'block' : 'none';\n",
              "}\n",
              "\n",
              "        displayQuickchartButton(document);\n",
              "      </script>\n",
              "      <style>\n",
              "    .colab-df-container {\n",
              "      display:flex;\n",
              "      flex-wrap:wrap;\n",
              "      gap: 12px;\n",
              "    }\n",
              "\n",
              "    .colab-df-convert {\n",
              "      background-color: #E8F0FE;\n",
              "      border: none;\n",
              "      border-radius: 50%;\n",
              "      cursor: pointer;\n",
              "      display: none;\n",
              "      fill: #1967D2;\n",
              "      height: 32px;\n",
              "      padding: 0 0 0 0;\n",
              "      width: 32px;\n",
              "    }\n",
              "\n",
              "    .colab-df-convert:hover {\n",
              "      background-color: #E2EBFA;\n",
              "      box-shadow: 0px 1px 2px rgba(60, 64, 67, 0.3), 0px 1px 3px 1px rgba(60, 64, 67, 0.15);\n",
              "      fill: #174EA6;\n",
              "    }\n",
              "\n",
              "    [theme=dark] .colab-df-convert {\n",
              "      background-color: #3B4455;\n",
              "      fill: #D2E3FC;\n",
              "    }\n",
              "\n",
              "    [theme=dark] .colab-df-convert:hover {\n",
              "      background-color: #434B5C;\n",
              "      box-shadow: 0px 1px 3px 1px rgba(0, 0, 0, 0.15);\n",
              "      filter: drop-shadow(0px 1px 2px rgba(0, 0, 0, 0.3));\n",
              "      fill: #FFFFFF;\n",
              "    }\n",
              "  </style>\n",
              "\n",
              "      <script>\n",
              "        const buttonEl =\n",
              "          document.querySelector('#df-9dc6cc79-84c9-4c31-930d-9ea93209adff button.colab-df-convert');\n",
              "        buttonEl.style.display =\n",
              "          google.colab.kernel.accessAllowed ? 'block' : 'none';\n",
              "\n",
              "        async function convertToInteractive(key) {\n",
              "          const element = document.querySelector('#df-9dc6cc79-84c9-4c31-930d-9ea93209adff');\n",
              "          const dataTable =\n",
              "            await google.colab.kernel.invokeFunction('convertToInteractive',\n",
              "                                                     [key], {});\n",
              "          if (!dataTable) return;\n",
              "\n",
              "          const docLinkHtml = 'Like what you see? Visit the ' +\n",
              "            '<a target=\"_blank\" href=https://colab.research.google.com/notebooks/data_table.ipynb>data table notebook</a>'\n",
              "            + ' to learn more about interactive tables.';\n",
              "          element.innerHTML = '';\n",
              "          dataTable['output_type'] = 'display_data';\n",
              "          await google.colab.output.renderOutput(dataTable, element);\n",
              "          const docLink = document.createElement('div');\n",
              "          docLink.innerHTML = docLinkHtml;\n",
              "          element.appendChild(docLink);\n",
              "        }\n",
              "      </script>\n",
              "    </div>\n",
              "  </div>\n"
            ]
          },
          "metadata": {},
          "execution_count": 11
        }
      ]
    },
    {
      "cell_type": "markdown",
      "source": [
        "## Modelo VGG16"
      ],
      "metadata": {
        "id": "SzIGGLV0Juuk"
      }
    },
    {
      "cell_type": "code",
      "source": [
        "num_classes = 964 # Cantidad de clases que hay"
      ],
      "metadata": {
        "id": "9EjltURwMuNS"
      },
      "execution_count": null,
      "outputs": []
    },
    {
      "cell_type": "code",
      "source": [
        "model = models.vgg16(pretrained=True)\n",
        "# Replace the fully connected layer\n",
        "model.classifier[-1] = nn.Linear(4096, num_classes)\n",
        "model.to(device)"
      ],
      "metadata": {
        "colab": {
          "base_uri": "https://localhost:8080/"
        },
        "id": "U4v-WIbXSNcS",
        "outputId": "63c7939b-aa46-486d-aa03-cb59fc325234"
      },
      "execution_count": null,
      "outputs": [
        {
          "output_type": "execute_result",
          "data": {
            "text/plain": [
              "VGG(\n",
              "  (features): Sequential(\n",
              "    (0): Conv2d(3, 64, kernel_size=(3, 3), stride=(1, 1), padding=(1, 1))\n",
              "    (1): ReLU(inplace=True)\n",
              "    (2): Conv2d(64, 64, kernel_size=(3, 3), stride=(1, 1), padding=(1, 1))\n",
              "    (3): ReLU(inplace=True)\n",
              "    (4): MaxPool2d(kernel_size=2, stride=2, padding=0, dilation=1, ceil_mode=False)\n",
              "    (5): Conv2d(64, 128, kernel_size=(3, 3), stride=(1, 1), padding=(1, 1))\n",
              "    (6): ReLU(inplace=True)\n",
              "    (7): Conv2d(128, 128, kernel_size=(3, 3), stride=(1, 1), padding=(1, 1))\n",
              "    (8): ReLU(inplace=True)\n",
              "    (9): MaxPool2d(kernel_size=2, stride=2, padding=0, dilation=1, ceil_mode=False)\n",
              "    (10): Conv2d(128, 256, kernel_size=(3, 3), stride=(1, 1), padding=(1, 1))\n",
              "    (11): ReLU(inplace=True)\n",
              "    (12): Conv2d(256, 256, kernel_size=(3, 3), stride=(1, 1), padding=(1, 1))\n",
              "    (13): ReLU(inplace=True)\n",
              "    (14): Conv2d(256, 256, kernel_size=(3, 3), stride=(1, 1), padding=(1, 1))\n",
              "    (15): ReLU(inplace=True)\n",
              "    (16): MaxPool2d(kernel_size=2, stride=2, padding=0, dilation=1, ceil_mode=False)\n",
              "    (17): Conv2d(256, 512, kernel_size=(3, 3), stride=(1, 1), padding=(1, 1))\n",
              "    (18): ReLU(inplace=True)\n",
              "    (19): Conv2d(512, 512, kernel_size=(3, 3), stride=(1, 1), padding=(1, 1))\n",
              "    (20): ReLU(inplace=True)\n",
              "    (21): Conv2d(512, 512, kernel_size=(3, 3), stride=(1, 1), padding=(1, 1))\n",
              "    (22): ReLU(inplace=True)\n",
              "    (23): MaxPool2d(kernel_size=2, stride=2, padding=0, dilation=1, ceil_mode=False)\n",
              "    (24): Conv2d(512, 512, kernel_size=(3, 3), stride=(1, 1), padding=(1, 1))\n",
              "    (25): ReLU(inplace=True)\n",
              "    (26): Conv2d(512, 512, kernel_size=(3, 3), stride=(1, 1), padding=(1, 1))\n",
              "    (27): ReLU(inplace=True)\n",
              "    (28): Conv2d(512, 512, kernel_size=(3, 3), stride=(1, 1), padding=(1, 1))\n",
              "    (29): ReLU(inplace=True)\n",
              "    (30): MaxPool2d(kernel_size=2, stride=2, padding=0, dilation=1, ceil_mode=False)\n",
              "  )\n",
              "  (avgpool): AdaptiveAvgPool2d(output_size=(7, 7))\n",
              "  (classifier): Sequential(\n",
              "    (0): Linear(in_features=25088, out_features=4096, bias=True)\n",
              "    (1): ReLU(inplace=True)\n",
              "    (2): Dropout(p=0.5, inplace=False)\n",
              "    (3): Linear(in_features=4096, out_features=4096, bias=True)\n",
              "    (4): ReLU(inplace=True)\n",
              "    (5): Dropout(p=0.5, inplace=False)\n",
              "    (6): Linear(in_features=4096, out_features=964, bias=True)\n",
              "  )\n",
              ")"
            ]
          },
          "metadata": {},
          "execution_count": 52
        }
      ]
    },
    {
      "cell_type": "code",
      "source": [
        "# Unfreeze the last layers\n",
        "\n",
        "# Freeze all the parameters\n",
        "for param in model.parameters():\n",
        "    param.requires_grad = False\n",
        "\n",
        "# Unfreeze the last layer\n",
        "for param in model.classifier[-1].parameters():\n",
        "    param.requires_grad = True\n",
        "\n",
        "# Unfreeze the last layer of last block\n",
        "for param in model.features[-6].parameters():\n",
        "    param.requires_grad = True\n",
        "\n",
        "summary(model, input_size=(3, 105, 105))"
      ],
      "metadata": {
        "colab": {
          "base_uri": "https://localhost:8080/"
        },
        "id": "KSMticnc-igl",
        "outputId": "6302a9f2-7727-48c7-f0df-cf01177fb9e5"
      },
      "execution_count": null,
      "outputs": [
        {
          "output_type": "stream",
          "name": "stdout",
          "text": [
            "----------------------------------------------------------------\n",
            "        Layer (type)               Output Shape         Param #\n",
            "================================================================\n",
            "            Conv2d-1         [-1, 64, 105, 105]           1,792\n",
            "              ReLU-2         [-1, 64, 105, 105]               0\n",
            "            Conv2d-3         [-1, 64, 105, 105]          36,928\n",
            "              ReLU-4         [-1, 64, 105, 105]               0\n",
            "         MaxPool2d-5           [-1, 64, 52, 52]               0\n",
            "            Conv2d-6          [-1, 128, 52, 52]          73,856\n",
            "              ReLU-7          [-1, 128, 52, 52]               0\n",
            "            Conv2d-8          [-1, 128, 52, 52]         147,584\n",
            "              ReLU-9          [-1, 128, 52, 52]               0\n",
            "        MaxPool2d-10          [-1, 128, 26, 26]               0\n",
            "           Conv2d-11          [-1, 256, 26, 26]         295,168\n",
            "             ReLU-12          [-1, 256, 26, 26]               0\n",
            "           Conv2d-13          [-1, 256, 26, 26]         590,080\n",
            "             ReLU-14          [-1, 256, 26, 26]               0\n",
            "           Conv2d-15          [-1, 256, 26, 26]         590,080\n",
            "             ReLU-16          [-1, 256, 26, 26]               0\n",
            "        MaxPool2d-17          [-1, 256, 13, 13]               0\n",
            "           Conv2d-18          [-1, 512, 13, 13]       1,180,160\n",
            "             ReLU-19          [-1, 512, 13, 13]               0\n",
            "           Conv2d-20          [-1, 512, 13, 13]       2,359,808\n",
            "             ReLU-21          [-1, 512, 13, 13]               0\n",
            "           Conv2d-22          [-1, 512, 13, 13]       2,359,808\n",
            "             ReLU-23          [-1, 512, 13, 13]               0\n",
            "        MaxPool2d-24            [-1, 512, 6, 6]               0\n",
            "           Conv2d-25            [-1, 512, 6, 6]       2,359,808\n",
            "             ReLU-26            [-1, 512, 6, 6]               0\n",
            "           Conv2d-27            [-1, 512, 6, 6]       2,359,808\n",
            "             ReLU-28            [-1, 512, 6, 6]               0\n",
            "           Conv2d-29            [-1, 512, 6, 6]       2,359,808\n",
            "             ReLU-30            [-1, 512, 6, 6]               0\n",
            "        MaxPool2d-31            [-1, 512, 3, 3]               0\n",
            "AdaptiveAvgPool2d-32            [-1, 512, 7, 7]               0\n",
            "           Linear-33                 [-1, 4096]     102,764,544\n",
            "             ReLU-34                 [-1, 4096]               0\n",
            "          Dropout-35                 [-1, 4096]               0\n",
            "           Linear-36                 [-1, 4096]      16,781,312\n",
            "             ReLU-37                 [-1, 4096]               0\n",
            "          Dropout-38                 [-1, 4096]               0\n",
            "           Linear-39                  [-1, 964]       3,949,508\n",
            "================================================================\n",
            "Total params: 138,210,052\n",
            "Trainable params: 3,949,508\n",
            "Non-trainable params: 134,260,544\n",
            "----------------------------------------------------------------\n",
            "Input size (MB): 0.13\n",
            "Forward/backward pass size (MB): 47.69\n",
            "Params size (MB): 527.23\n",
            "Estimated Total Size (MB): 575.05\n",
            "----------------------------------------------------------------\n"
          ]
        }
      ]
    },
    {
      "cell_type": "code",
      "source": [
        "criterion = nn.CrossEntropyLoss()\n",
        "optimizer = optim.Adam(model.parameters(), lr=1e-5, betas=(0.8, 0.9))\n",
        "# optimizer = optim.SGD(model.parameters(), lr=5e-3, momentum=0.9)"
      ],
      "metadata": {
        "id": "3jMXEvmeM79Z"
      },
      "execution_count": null,
      "outputs": []
    },
    {
      "cell_type": "markdown",
      "source": [
        "## Train"
      ],
      "metadata": {
        "id": "fnBVH6wfNSjW"
      }
    },
    {
      "cell_type": "code",
      "source": [
        "class Character(torch.utils.data.Dataset):\n",
        "    def __init__(self, images, labels, transform=None):\n",
        "        self.transform = transform\n",
        "        self.images = images     # Vincula el indice con un nombre de archivo\n",
        "        self.labels = labels     # Vincula el indice con una clase\n",
        "\n",
        "    def get_image(self, path):\n",
        "        # img = plt.imread(path)\n",
        "        img = Image.open(path)\n",
        "        return img\n",
        "\n",
        "    def __getitem__(self, idx):\n",
        "        path_name = self.images[idx]\n",
        "        label = self.labels[idx]\n",
        "        img = self.get_image(path_name)\n",
        "\n",
        "        if self.transform is not None:\n",
        "            img = self.transform(img)\n",
        "        return img, label\n",
        "\n",
        "    def __len__(self):\n",
        "        return len(self.images)"
      ],
      "metadata": {
        "id": "_u5gUIleQqAb"
      },
      "execution_count": null,
      "outputs": []
    },
    {
      "cell_type": "code",
      "source": [
        "# Set up data transformations\n",
        "transform = Compose([\n",
        "    lambda x: x.convert('RGB'),\n",
        "    ToTensor(),\n",
        "    Normalize((0.5, 0.5, 0.5), (0.5, 0.5, 0.5))\n",
        "])\n",
        "\n",
        "\n",
        "train_dataset = Character(images=df_train['Path'], labels=df_train['y'], transform=transform)\n",
        "val_dataset = Character(images=df_val['Path'], labels=df_val['y'], transform=transform)\n",
        "test_dataset = Character(images=df_test['Path'], labels=df_test['y'], transform=transform)"
      ],
      "metadata": {
        "id": "RLglVdEkRAhU"
      },
      "execution_count": null,
      "outputs": []
    },
    {
      "cell_type": "code",
      "source": [
        "print('Train Dataset Length:', len(train_dataset))\n",
        "print('Val Dataset Length:', len(val_dataset))\n",
        "print('Test Dataset Length:', len(test_dataset))"
      ],
      "metadata": {
        "colab": {
          "base_uri": "https://localhost:8080/"
        },
        "id": "9yRb4EGGS4rc",
        "outputId": "5c706b82-17ca-4d6d-a089-53ce53b81cfc"
      },
      "execution_count": null,
      "outputs": [
        {
          "output_type": "stream",
          "name": "stdout",
          "text": [
            "Train Dataset Length: 13496\n",
            "Val Dataset Length: 3856\n",
            "Test Dataset Length: 1928\n"
          ]
        }
      ]
    },
    {
      "cell_type": "code",
      "source": [
        "# Set up the train loader\n",
        "batch_size = 64\n",
        "shuffle = True\n",
        "train_loader = DataLoader(train_dataset, batch_size=batch_size, shuffle=shuffle)\n",
        "val_loader = DataLoader(val_dataset, batch_size=batch_size, shuffle=shuffle)\n",
        "test_loader = DataLoader(test_dataset, batch_size=batch_size, shuffle=shuffle)"
      ],
      "metadata": {
        "id": "8bpcoym0QH7v"
      },
      "execution_count": null,
      "outputs": []
    },
    {
      "cell_type": "code",
      "source": [
        "trainiter = iter(train_loader)\n",
        "features, labels = next(trainiter)\n",
        "print(features.shape, labels.shape)"
      ],
      "metadata": {
        "colab": {
          "base_uri": "https://localhost:8080/"
        },
        "id": "Z_O7F4P4F_iH",
        "outputId": "4732cdae-7c30-42aa-9f36-dda734113382"
      },
      "execution_count": null,
      "outputs": [
        {
          "output_type": "stream",
          "name": "stdout",
          "text": [
            "torch.Size([64, 3, 105, 105]) torch.Size([64])\n"
          ]
        }
      ]
    },
    {
      "cell_type": "code",
      "source": [
        "len(train_loader)"
      ],
      "metadata": {
        "colab": {
          "base_uri": "https://localhost:8080/"
        },
        "id": "3uvzXDbJTP6c",
        "outputId": "79a71966-2bdb-404c-a7c2-44195b0ceb92"
      },
      "execution_count": null,
      "outputs": [
        {
          "output_type": "execute_result",
          "data": {
            "text/plain": [
              "211"
            ]
          },
          "metadata": {},
          "execution_count": 21
        }
      ]
    },
    {
      "cell_type": "code",
      "source": [
        "os.makedirs('models', exist_ok=True)\n",
        "model_path = 'models/vgg16'\n"
      ],
      "metadata": {
        "id": "fONePAmkJny0"
      },
      "execution_count": null,
      "outputs": []
    },
    {
      "cell_type": "markdown",
      "source": [
        "## Test"
      ],
      "metadata": {
        "id": "-ocu1pr5Ln7G"
      }
    },
    {
      "cell_type": "code",
      "source": [
        "# Función para correr inferencia usando un modelo y un\n",
        "# DataLoader con nuestros datos del set de test.\n",
        "def test_model(model, test_dl):\n",
        "    total_correctas = 0.0\n",
        "    total_muestras = 0.0\n",
        "\n",
        "    for x, target in test_dl:          # Iteramos sobre nuestros datos\n",
        "        # Inicio de la iteración\n",
        "        model.eval()                        # Dejamos el modelo en modo evaluación\n",
        "        with torch.no_grad():               # No se calculará información de gradientes\n",
        "                                            # en el código de más abajo.\n",
        "            x = x.cuda()\n",
        "            target = target.cuda()          # Enviamos nuestros datos a GPU\n",
        "            output = model(x)               # Hacemos el forward de nuestros datos\n",
        "\n",
        "            preds = output.argmax(dim=1)             # El máximo valor es nuestra predicción\n",
        "            correctas = (preds == target).sum()      # Acumulamos las correctas durante la época\n",
        "            total_correctas += correctas\n",
        "            total_muestras += target.shape[0]        # Sumamos el tamaño del batch\n",
        "\n",
        "            accuracy = total_correctas/total_muestras # Acc = correctas/total\n",
        "\n",
        "    return accuracy"
      ],
      "metadata": {
        "id": "sfZ9jg9ALnqq"
      },
      "execution_count": null,
      "outputs": []
    },
    {
      "cell_type": "markdown",
      "source": [
        "| Modelo | Optimizador | Learning Rate | Params | Epoch | Acc Train | Acc Val | Acc Test |\n",
        "| -----  | ----- | ---- | ---- | ---- | ---- | ---- | ---- |\n",
        "| VGG16 | SGD | 5e-2 | momentum=0.7 | 31 | 0.988 | 0.491 | 0.515 |\n",
        "| VGG16 | SGD | 5e-3 | momentum=0.7 | 81 | 0.998 | 0.394 | 0.426 |\n",
        "| VGG16 | Adam | 1e-3 |betas=(0.8, 0.9) | 15 | 0.986 | 0.478 | 0.497 |\n",
        "| VGG16 | Adam | 1e-4 |betas=(0.8, 0.9) | 100 | 0.999 | 0.489 | 0.522 |\n",
        "| VGG16 | Adam | 1e-5 |betas=(0.8, 0.9) | 100 | 0.600 | 0.352 | 0.390 |"
      ],
      "metadata": {
        "id": "ZGJg7Vsp0DOY"
      }
    },
    {
      "cell_type": "code",
      "source": [
        "# Para guardar los valores que queremos visualizar\n",
        "ovrl_history = {\n",
        "    'epochs': [],\n",
        "    'train': {'loss': [], 'acc': []},\n",
        "    'val': {'loss': [], 'acc': []},\n",
        "    'test': {'loss': [], 'acc': []},\n",
        "}\n",
        "\n",
        "n_epochs = 20\n",
        "\n",
        "for epoch in range(n_epochs):\n",
        "    losses = []\n",
        "    cum_loss = 0.0\n",
        "    cum_acc = 0.0\n",
        "    with tqdm(train_loader, unit='batch', position=0, leave=True) as tepoch:\n",
        "      tepoch.set_description(f\"Epoch {epoch}/{n_epochs}\")\n",
        "      for batch, (data, targets) in enumerate(tepoch, start=1):\n",
        "        optimizer.zero_grad()\n",
        "        data = data.to(device)\n",
        "        targets = targets.to(device)\n",
        "\n",
        "        preds = model(data)\n",
        "        loss = criterion(preds, targets)\n",
        "\n",
        "        loss.backward()\n",
        "        optimizer.step()\n",
        "\n",
        "        _, preds = torch.max(preds, dim=1)\n",
        "        cum_acc += torch.sum(preds == targets)\n",
        "\n",
        "        # Cifras de desempeño\n",
        "        cum_loss += loss.item()\n",
        "        curr_loss = cum_loss / batch\n",
        "        curr_acc = cum_acc / (batch * batch_size)\n",
        "        tepoch.set_postfix(Loss=curr_loss, Acc=curr_acc.item())\n",
        "        losses.append(loss.item())\n",
        "\n",
        "        torch.cuda.empty_cache()\n",
        "\n",
        "    epoch_loss = float(cum_loss / batch)\n",
        "    epoch_acc = float(cum_acc / (batch * batch_size))\n",
        "\n",
        "    # Guardamos la epoca\n",
        "    ovrl_history['epochs'].append(epoch)\n",
        "\n",
        "    # Guardamos el loss y accuracy para la epoca\n",
        "    ovrl_history['train']['loss'].append(epoch_loss)\n",
        "    ovrl_history['train']['acc'].append(epoch_acc)\n",
        "\n",
        "    # Guardamos el loss y accuracy en el set de validacion\n",
        "    val_acc = test_model(model, val_loader)\n",
        "    ovrl_history['val']['loss'].append(epoch_loss)\n",
        "    ovrl_history['val']['acc'].append(float(val_acc))\n",
        "    print(f'Validation Accuracy: {val_acc * 100}%')\n",
        "\n",
        "    # Guardamos el loss y accuracy en el set de testing\n",
        "    test_acc = test_model(model, test_loader)\n",
        "    ovrl_history['test']['acc'].append(float(test_acc))\n",
        "    print(f'Testing Accuracy: {test_acc * 100}%')\n",
        "\n",
        "    # Guardamos el progreso actual en caso de que se corte la sesión.\n",
        "    # Debe existir el directorio\n",
        "    # Se guarda cada una de las epocas distintas para despues graficarla\n",
        "    torch.save(model, model_path + '_' + str(epoch).zfill(3) + '.pt')\n",
        "\n",
        "    print(f'Epoch {epoch + 1} finished\\n')"
      ],
      "metadata": {
        "colab": {
          "base_uri": "https://localhost:8080/"
        },
        "id": "9GsSVKv5KDQi",
        "outputId": "bf13ee0c-b361-443d-db1d-9172bc5af087"
      },
      "execution_count": null,
      "outputs": [
        {
          "output_type": "stream",
          "name": "stderr",
          "text": [
            "Epoch 0/20: 100%|██████████| 211/211 [00:30<00:00,  7.03batch/s, Acc=0.002, Loss=7.01]\n"
          ]
        },
        {
          "output_type": "stream",
          "name": "stdout",
          "text": [
            "Validation Accuracy: 0.7261411547660828%\n",
            "Testing Accuracy: 0.8298755884170532%\n",
            "Epoch 1 finished\n",
            "\n"
          ]
        },
        {
          "output_type": "stream",
          "name": "stderr",
          "text": [
            "Epoch 1/20: 100%|██████████| 211/211 [00:28<00:00,  7.45batch/s, Acc=0.0198, Loss=6.36]\n"
          ]
        },
        {
          "output_type": "stream",
          "name": "stdout",
          "text": [
            "Validation Accuracy: 3.6566390991210938%\n",
            "Testing Accuracy: 3.9937760829925537%\n",
            "Epoch 2 finished\n",
            "\n"
          ]
        },
        {
          "output_type": "stream",
          "name": "stderr",
          "text": [
            "Epoch 2/20: 100%|██████████| 211/211 [00:29<00:00,  7.13batch/s, Acc=0.0781, Loss=5.86]\n"
          ]
        },
        {
          "output_type": "stream",
          "name": "stdout",
          "text": [
            "Validation Accuracy: 8.895228385925293%\n",
            "Testing Accuracy: 9.854771614074707%\n",
            "Epoch 3 finished\n",
            "\n"
          ]
        },
        {
          "output_type": "stream",
          "name": "stderr",
          "text": [
            "Epoch 3/20: 100%|██████████| 211/211 [00:28<00:00,  7.45batch/s, Acc=0.158, Loss=5.43]\n"
          ]
        },
        {
          "output_type": "stream",
          "name": "stdout",
          "text": [
            "Validation Accuracy: 14.367220878601074%\n",
            "Testing Accuracy: 15.300830841064453%\n",
            "Epoch 4 finished\n",
            "\n"
          ]
        },
        {
          "output_type": "stream",
          "name": "stderr",
          "text": [
            "Epoch 4/20: 100%|██████████| 211/211 [00:28<00:00,  7.48batch/s, Acc=0.238, Loss=5.06]\n"
          ]
        },
        {
          "output_type": "stream",
          "name": "stdout",
          "text": [
            "Validation Accuracy: 18.049793243408203%\n",
            "Testing Accuracy: 19.294605255126953%\n",
            "Epoch 5 finished\n",
            "\n"
          ]
        },
        {
          "output_type": "stream",
          "name": "stderr",
          "text": [
            "Epoch 5/20: 100%|██████████| 211/211 [00:28<00:00,  7.39batch/s, Acc=0.303, Loss=4.74]\n"
          ]
        },
        {
          "output_type": "stream",
          "name": "stdout",
          "text": [
            "Validation Accuracy: 21.5248966217041%\n",
            "Testing Accuracy: 23.0290470123291%\n",
            "Epoch 6 finished\n",
            "\n"
          ]
        },
        {
          "output_type": "stream",
          "name": "stderr",
          "text": [
            "Epoch 6/20: 100%|██████████| 211/211 [00:28<00:00,  7.46batch/s, Acc=0.351, Loss=4.45]\n"
          ]
        },
        {
          "output_type": "stream",
          "name": "stdout",
          "text": [
            "Validation Accuracy: 23.75518798828125%\n",
            "Testing Accuracy: 25.259336471557617%\n",
            "Epoch 7 finished\n",
            "\n"
          ]
        },
        {
          "output_type": "stream",
          "name": "stderr",
          "text": [
            "Epoch 7/20: 100%|██████████| 211/211 [00:28<00:00,  7.50batch/s, Acc=0.393, Loss=4.2]\n"
          ]
        },
        {
          "output_type": "stream",
          "name": "stdout",
          "text": [
            "Validation Accuracy: 25.881744384765625%\n",
            "Testing Accuracy: 27.541494369506836%\n",
            "Epoch 8 finished\n",
            "\n"
          ]
        },
        {
          "output_type": "stream",
          "name": "stderr",
          "text": [
            "Epoch 8/20: 100%|██████████| 211/211 [00:28<00:00,  7.46batch/s, Acc=0.422, Loss=3.98]\n"
          ]
        },
        {
          "output_type": "stream",
          "name": "stdout",
          "text": [
            "Validation Accuracy: 27.567428588867188%\n",
            "Testing Accuracy: 29.66805076599121%\n",
            "Epoch 9 finished\n",
            "\n"
          ]
        },
        {
          "output_type": "stream",
          "name": "stderr",
          "text": [
            "Epoch 9/20: 100%|██████████| 211/211 [00:28<00:00,  7.53batch/s, Acc=0.452, Loss=3.78]\n"
          ]
        },
        {
          "output_type": "stream",
          "name": "stdout",
          "text": [
            "Validation Accuracy: 28.47510528564453%\n",
            "Testing Accuracy: 31.483402252197266%\n",
            "Epoch 10 finished\n",
            "\n"
          ]
        },
        {
          "output_type": "stream",
          "name": "stderr",
          "text": [
            "Epoch 10/20: 100%|██████████| 211/211 [00:28<00:00,  7.51batch/s, Acc=0.475, Loss=3.6]\n"
          ]
        },
        {
          "output_type": "stream",
          "name": "stdout",
          "text": [
            "Validation Accuracy: 29.304981231689453%\n",
            "Testing Accuracy: 32.93568420410156%\n",
            "Epoch 11 finished\n",
            "\n"
          ]
        },
        {
          "output_type": "stream",
          "name": "stderr",
          "text": [
            "Epoch 11/20: 100%|██████████| 211/211 [00:28<00:00,  7.51batch/s, Acc=0.495, Loss=3.43]\n"
          ]
        },
        {
          "output_type": "stream",
          "name": "stdout",
          "text": [
            "Validation Accuracy: 30.523860931396484%\n",
            "Testing Accuracy: 33.71369552612305%\n",
            "Epoch 12 finished\n",
            "\n"
          ]
        },
        {
          "output_type": "stream",
          "name": "stderr",
          "text": [
            "Epoch 12/20: 100%|██████████| 211/211 [00:27<00:00,  7.55batch/s, Acc=0.516, Loss=3.29]\n"
          ]
        },
        {
          "output_type": "stream",
          "name": "stdout",
          "text": [
            "Validation Accuracy: 31.45747184753418%\n",
            "Testing Accuracy: 33.86929702758789%\n",
            "Epoch 13 finished\n",
            "\n"
          ]
        },
        {
          "output_type": "stream",
          "name": "stderr",
          "text": [
            "Epoch 13/20: 100%|██████████| 211/211 [00:28<00:00,  7.47batch/s, Acc=0.53, Loss=3.15]\n"
          ]
        },
        {
          "output_type": "stream",
          "name": "stdout",
          "text": [
            "Validation Accuracy: 31.768672943115234%\n",
            "Testing Accuracy: 34.491703033447266%\n",
            "Epoch 14 finished\n",
            "\n"
          ]
        },
        {
          "output_type": "stream",
          "name": "stderr",
          "text": [
            "Epoch 14/20: 100%|██████████| 211/211 [00:28<00:00,  7.29batch/s, Acc=0.544, Loss=3.03]\n"
          ]
        },
        {
          "output_type": "stream",
          "name": "stdout",
          "text": [
            "Validation Accuracy: 32.598548889160156%\n",
            "Testing Accuracy: 35.68464660644531%\n",
            "Epoch 15 finished\n",
            "\n"
          ]
        },
        {
          "output_type": "stream",
          "name": "stderr",
          "text": [
            "Epoch 15/20: 100%|██████████| 211/211 [00:29<00:00,  7.23batch/s, Acc=0.56, Loss=2.91]\n"
          ]
        },
        {
          "output_type": "stream",
          "name": "stdout",
          "text": [
            "Validation Accuracy: 33.89522933959961%\n",
            "Testing Accuracy: 36.82572937011719%\n",
            "Epoch 16 finished\n",
            "\n"
          ]
        },
        {
          "output_type": "stream",
          "name": "stderr",
          "text": [
            "Epoch 16/20: 100%|██████████| 211/211 [00:28<00:00,  7.42batch/s, Acc=0.572, Loss=2.81]\n"
          ]
        },
        {
          "output_type": "stream",
          "name": "stdout",
          "text": [
            "Validation Accuracy: 34.024898529052734%\n",
            "Testing Accuracy: 36.87759780883789%\n",
            "Epoch 17 finished\n",
            "\n"
          ]
        },
        {
          "output_type": "stream",
          "name": "stderr",
          "text": [
            "Epoch 17/20: 100%|██████████| 211/211 [00:28<00:00,  7.39batch/s, Acc=0.581, Loss=2.71]\n"
          ]
        },
        {
          "output_type": "stream",
          "name": "stdout",
          "text": [
            "Validation Accuracy: 34.387969970703125%\n",
            "Testing Accuracy: 37.29253387451172%\n",
            "Epoch 18 finished\n",
            "\n"
          ]
        },
        {
          "output_type": "stream",
          "name": "stderr",
          "text": [
            "Epoch 18/20: 100%|██████████| 211/211 [00:28<00:00,  7.37batch/s, Acc=0.591, Loss=2.62]\n"
          ]
        },
        {
          "output_type": "stream",
          "name": "stdout",
          "text": [
            "Validation Accuracy: 35.19190979003906%\n",
            "Testing Accuracy: 38.53734588623047%\n",
            "Epoch 19 finished\n",
            "\n"
          ]
        },
        {
          "output_type": "stream",
          "name": "stderr",
          "text": [
            "Epoch 19/20: 100%|██████████| 211/211 [00:28<00:00,  7.31batch/s, Acc=0.6, Loss=2.54]\n"
          ]
        },
        {
          "output_type": "stream",
          "name": "stdout",
          "text": [
            "Validation Accuracy: 35.21784591674805%\n",
            "Testing Accuracy: 38.95228576660156%\n",
            "Epoch 20 finished\n",
            "\n"
          ]
        }
      ]
    },
    {
      "cell_type": "markdown",
      "source": [
        "## Gráficos"
      ],
      "metadata": {
        "id": "v3tGh35CO41p"
      }
    },
    {
      "cell_type": "code",
      "source": [
        "fig, ax = plt.subplots()\n",
        "ax.plot(ovrl_history['epochs'], ovrl_history['train']['loss'], label='Función pérdida', color='black')\n",
        "ax.plot(ovrl_history['epochs'], ovrl_history['train']['acc'], label='Accuracy', color='orange')\n",
        "ax.set_xlabel('Número de Época')\n",
        "ax.set_ylabel('Valor')\n",
        "ax.set_title('Evolución de función de pérdida y Accuracy en Training')\n",
        "ax.legend()\n",
        "ax.grid(True)\n",
        "\n",
        "plt.show()"
      ],
      "metadata": {
        "colab": {
          "base_uri": "https://localhost:8080/",
          "height": 660
        },
        "id": "bqi9pJrTMta4",
        "outputId": "56dcff67-5fc2-40bf-effd-14ab96da7657"
      },
      "execution_count": null,
      "outputs": [
        {
          "output_type": "error",
          "ename": "NameError",
          "evalue": "ignored",
          "traceback": [
            "\u001b[0;31m---------------------------------------------------------------------------\u001b[0m",
            "\u001b[0;31mNameError\u001b[0m                                 Traceback (most recent call last)",
            "\u001b[0;32m<ipython-input-17-a21a95edd5ad>\u001b[0m in \u001b[0;36m<cell line: 2>\u001b[0;34m()\u001b[0m\n\u001b[1;32m      1\u001b[0m \u001b[0mfig\u001b[0m\u001b[0;34m,\u001b[0m \u001b[0max\u001b[0m \u001b[0;34m=\u001b[0m \u001b[0mplt\u001b[0m\u001b[0;34m.\u001b[0m\u001b[0msubplots\u001b[0m\u001b[0;34m(\u001b[0m\u001b[0;34m)\u001b[0m\u001b[0;34m\u001b[0m\u001b[0;34m\u001b[0m\u001b[0m\n\u001b[0;32m----> 2\u001b[0;31m \u001b[0max\u001b[0m\u001b[0;34m.\u001b[0m\u001b[0mplot\u001b[0m\u001b[0;34m(\u001b[0m\u001b[0movrl_history\u001b[0m\u001b[0;34m[\u001b[0m\u001b[0;34m'epochs'\u001b[0m\u001b[0;34m]\u001b[0m\u001b[0;34m,\u001b[0m \u001b[0movrl_history\u001b[0m\u001b[0;34m[\u001b[0m\u001b[0;34m'train'\u001b[0m\u001b[0;34m]\u001b[0m\u001b[0;34m[\u001b[0m\u001b[0;34m'loss'\u001b[0m\u001b[0;34m]\u001b[0m\u001b[0;34m,\u001b[0m \u001b[0mlabel\u001b[0m\u001b[0;34m=\u001b[0m\u001b[0;34m'Función pérdida'\u001b[0m\u001b[0;34m,\u001b[0m \u001b[0mcolor\u001b[0m\u001b[0;34m=\u001b[0m\u001b[0;34m'black'\u001b[0m\u001b[0;34m)\u001b[0m\u001b[0;34m\u001b[0m\u001b[0;34m\u001b[0m\u001b[0m\n\u001b[0m\u001b[1;32m      3\u001b[0m \u001b[0max\u001b[0m\u001b[0;34m.\u001b[0m\u001b[0mplot\u001b[0m\u001b[0;34m(\u001b[0m\u001b[0movrl_history\u001b[0m\u001b[0;34m[\u001b[0m\u001b[0;34m'epochs'\u001b[0m\u001b[0;34m]\u001b[0m\u001b[0;34m,\u001b[0m \u001b[0movrl_history\u001b[0m\u001b[0;34m[\u001b[0m\u001b[0;34m'train'\u001b[0m\u001b[0;34m]\u001b[0m\u001b[0;34m[\u001b[0m\u001b[0;34m'acc'\u001b[0m\u001b[0;34m]\u001b[0m\u001b[0;34m,\u001b[0m \u001b[0mlabel\u001b[0m\u001b[0;34m=\u001b[0m\u001b[0;34m'Accuracy'\u001b[0m\u001b[0;34m,\u001b[0m \u001b[0mcolor\u001b[0m\u001b[0;34m=\u001b[0m\u001b[0;34m'orange'\u001b[0m\u001b[0;34m)\u001b[0m\u001b[0;34m\u001b[0m\u001b[0;34m\u001b[0m\u001b[0m\n\u001b[1;32m      4\u001b[0m \u001b[0max\u001b[0m\u001b[0;34m.\u001b[0m\u001b[0mset_xlabel\u001b[0m\u001b[0;34m(\u001b[0m\u001b[0;34m'Número de Época'\u001b[0m\u001b[0;34m)\u001b[0m\u001b[0;34m\u001b[0m\u001b[0;34m\u001b[0m\u001b[0m\n\u001b[1;32m      5\u001b[0m \u001b[0max\u001b[0m\u001b[0;34m.\u001b[0m\u001b[0mset_ylabel\u001b[0m\u001b[0;34m(\u001b[0m\u001b[0;34m'Valor'\u001b[0m\u001b[0;34m)\u001b[0m\u001b[0;34m\u001b[0m\u001b[0;34m\u001b[0m\u001b[0m\n",
            "\u001b[0;31mNameError\u001b[0m: name 'ovrl_history' is not defined"
          ]
        },
        {
          "output_type": "display_data",
          "data": {
            "text/plain": [
              "<Figure size 640x480 with 1 Axes>"
            ],
            "image/png": "[encoded data removed]"
          },
          "metadata": {}
        }
      ]
    },
    {
      "cell_type": "code",
      "source": [
        "fig, ax = plt.subplots()\n",
        "ax.plot(ovrl_history['epochs'], ovrl_history['val']['loss'], label='Función pérdida', color='black')\n",
        "ax.plot(ovrl_history['epochs'], ovrl_history['val']['acc'], label='Accuracy', color='orange')\n",
        "ax.set_xlabel('Número de Época')\n",
        "ax.set_ylabel('Valor')\n",
        "ax.set_title('Evolución de función de pérdida y Accuracy en Validation')\n",
        "ax.legend()\n",
        "ax.grid(True)\n",
        "\n",
        "plt.show()"
      ],
      "metadata": {
        "id": "qgOfS1tBOVXT"
      },
      "execution_count": null,
      "outputs": []
    }
  ]
}
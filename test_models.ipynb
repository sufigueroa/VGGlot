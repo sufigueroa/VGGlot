{
  "cells": [
    {
      "cell_type": "markdown",
      "metadata": {
        "id": "GOOJ_n4rw23X"
      },
      "source": [
        "# Colab de Testeo"
      ]
    },
    {
      "cell_type": "markdown",
      "metadata": {
        "id": "bT4pM51rw7qq"
      },
      "source": [
        "Ya con los modelos entrenados en sus respectivos colab (consultar otros colabs) y obteniendo archivos con sus pesos para cada uno vamos a proceder a testear los resultados.\n",
        "Primero testearemos con los set de validación y test originales y posteriormente crearemos variaciones de estos set de test para analizar dos cosas:\n",
        "1. La capacidad de generalización de cada modelo\n",
        "2. En qué se fija cada modelo para decidir a que caracter corresponde la imagen"
      ]
    },
    {
      "cell_type": "markdown",
      "metadata": {
        "id": "nJRpJLm-6OxT"
      },
      "source": [
        "## Librerías"
      ]
    },
    {
      "cell_type": "code",
      "execution_count": null,
      "metadata": {
        "id": "j6RaYAlH49o7"
      },
      "outputs": [],
      "source": [
        "import os\n",
        "import shutil\n",
        "import subprocess\n",
        "import numpy as np\n",
        "import pandas as pd\n",
        "import scipy.io\n",
        "import random\n",
        "from PIL import Image\n",
        "from copy import copy, deepcopy\n",
        "from IPython.display import display\n",
        "from tabulate import tabulate\n",
        "import cv2\n",
        "\n",
        "import matplotlib.pyplot as plt\n",
        "\n",
        "from os import listdir\n",
        "from os.path import join\n",
        "from tqdm.notebook import tqdm\n",
        "from tqdm import tqdm\n",
        "\n",
        "import torch\n",
        "import torch.nn as nn\n",
        "import torch.optim as optim\n",
        "from torch.utils.data import random_split\n",
        "\n",
        "import torchvision.models as models\n",
        "import torchvision.transforms as transforms\n",
        "\n",
        "from torchsummary import summary\n",
        "from torch.utils.data import DataLoader\n",
        "from torchvision.datasets import ImageFolder\n",
        "from torchvision.transforms import Compose, ToTensor, Normalize, Resize\n",
        "from torchvision.models import mobilenet_v3_small, MobileNet_V3_Small_Weights, ResNet50_Weights"
      ]
    },
    {
      "cell_type": "code",
      "execution_count": null,
      "metadata": {
        "colab": {
          "base_uri": "https://localhost:8080/"
        },
        "id": "9jaUw4MU6Tnj",
        "outputId": "881a2521-72c0-441e-d8ab-722a631255f7"
      },
      "outputs": [
        {
          "name": "stdout",
          "output_type": "stream",
          "text": [
            "Device: cuda:0\n"
          ]
        }
      ],
      "source": [
        "device = torch.device(\"cuda:0\") if torch.cuda.is_available() else torch.device(\"cpu\")\n",
        "print(\"Device:\", device)"
      ]
    },
    {
      "cell_type": "markdown",
      "metadata": {
        "id": "K5CiZOpD7Mhi"
      },
      "source": [
        "## Load Dataset"
      ]
    },
    {
      "cell_type": "code",
      "execution_count": null,
      "metadata": {
        "colab": {
          "base_uri": "https://localhost:8080/"
        },
        "id": "vkLlB9uc673h",
        "outputId": "a801dcb8-ec8c-4ac7-b859-ac9fe7f76b89"
      },
      "outputs": [
        {
          "data": {
            "text/plain": [
              "0"
            ]
          },
          "execution_count": 3,
          "metadata": {},
          "output_type": "execute_result"
        }
      ],
      "source": [
        "repo_url = 'https://github.com/brendenlake/omniglot.git'\n",
        "subprocess.call(['git', 'clone', repo_url])"
      ]
    },
    {
      "cell_type": "code",
      "execution_count": null,
      "metadata": {
        "id": "pWL6GcIE7Qpl"
      },
      "outputs": [],
      "source": [
        "!unzip -qq './omniglot/python/images_background.zip'\n",
        "!unzip -qq './omniglot/python/strokes_background.zip'"
      ]
    },
    {
      "cell_type": "markdown",
      "metadata": {
        "id": "a_MT-bf69Bh9"
      },
      "source": [
        "## Orden de las imágenes"
      ]
    },
    {
      "cell_type": "markdown",
      "metadata": {
        "id": "QxmwZVpv-VH_"
      },
      "source": [
        "Realizamos el mismo orden que en los colabs de entrenamiento.\n",
        "En la carpeta images_background, hay 30 alfabetos diferentes. Cada alfabeto contiene una cantidad variada de caracteres, entre 20-50 aprox. Cada uno de los caracteres cuenta es de la forma XXXX_YY.png, donde XXXX corresponde al identificador del caracter, el cual es único entre todos los caracteres de todos los alfabetos. YY corresponde al número de muestra de un caracter en específico, el cual va siempre desde 01 hasta 20 (20 muestras por caracter)."
      ]
    },
    {
      "cell_type": "markdown",
      "metadata": {
        "id": "PEwVNtlt_xs-"
      },
      "source": [
        "Ahora bien, el problema está en que los XXXX no vienen ordenados secuencialmente en cada uno de los alfabetos. Por lo tanto, para hacer el preprocesamiento, hará un diccionario que mapeará cada uno de los id a un valor ordenado, para que la posterior clasificación sea más rápida."
      ]
    },
    {
      "cell_type": "code",
      "execution_count": null,
      "metadata": {
        "id": "F5WwCV9K7T2U"
      },
      "outputs": [],
      "source": [
        "img_dir = 'images_background'\n",
        "stroke_dir = 'strokes_background'\n",
        "nreps = 20 # number of renditions for each character\n",
        "# nalpha = 5 # number of alphabets to show\n",
        "\n",
        "alphabet_names = sorted([a for a in os.listdir(img_dir) if a[0] != '.']) # get folder names\n",
        "length_alphabet_names = len(alphabet_names)\n",
        "character_lengths = [len(os.listdir(os.path.join(img_dir, alph_name))) for alph_name in alphabet_names]\n",
        "\n",
        "# alphabet_names = random.sample(alphabet_names,nalpha) # choose random alphabets\n",
        "# print(len(alphabet_names))\n",
        "\n",
        "N = sum([len(os.listdir(os.path.join(img_dir, alph_name, char)))\n",
        "            for alph_name in alphabet_names\n",
        "            for char in os.listdir(os.path.join(img_dir, alph_name))\n",
        "      ])\n",
        "\n",
        "\n",
        "y = np.zeros((N), 'int') # ground truth\n",
        "current_character_folder = 0 # carpeta de un caracter visitado\n",
        "\n",
        "df_alphabet_names = []\n",
        "df_character_names = []\n",
        "df_character_idx = []\n",
        "df_paths = []\n",
        "df_y = []\n",
        "\n",
        "for i in range(len(alphabet_names)):\n",
        "  alphabet_name = alphabet_names[i]\n",
        "  character_length = character_lengths[i]\n",
        "  character_folders = sorted(os.listdir(os.path.join(img_dir, alphabet_name)))\n",
        "\n",
        "  for j in range(character_length):\n",
        "    character_folder = character_folders[j]\n",
        "    characters = sorted(os.listdir(os.path.join(img_dir, alphabet_name, character_folder)))\n",
        "    # print(character_folder)\n",
        "\n",
        "    for k in range(nreps):\n",
        "      y[(current_character_folder * nreps) + k] = current_character_folder\n",
        "\n",
        "      # Se añade al Df\n",
        "      df_alphabet_names.extend([alphabet_name])\n",
        "      df_character_names.extend([character_folder])\n",
        "      df_character_idx.extend([k])\n",
        "      df_paths.extend([os.path.join(img_dir, alphabet_name, character_folder, characters[k])])\n",
        "      df_y.extend([current_character_folder])\n",
        "\n",
        "    current_character_folder += 1\n",
        "\n",
        "\n",
        "df = pd.DataFrame({\n",
        "    'Alphabet': df_alphabet_names,\n",
        "    'Character': df_character_names,\n",
        "    'Sample': df_character_idx,\n",
        "    'Path': df_paths,\n",
        "    'y': df_y\n",
        "})"
      ]
    },
    {
      "cell_type": "markdown",
      "metadata": {
        "id": "5EVtbenEOMcj"
      },
      "source": [
        "## Ejemplo de una imagen original"
      ]
    },
    {
      "cell_type": "code",
      "execution_count": null,
      "metadata": {
        "colab": {
          "base_uri": "https://localhost:8080/",
          "height": 434
        },
        "id": "EHSDlVH9OOBw",
        "outputId": "523d5c9a-1e74-42df-f93b-efeb48687c70"
      },
      "outputs": [
        {
          "data": {
            "image/png": "[encoded data removed]",
            "text/plain": [
              "<Figure size 640x480 with 1 Axes>"
            ]
          },
          "metadata": {},
          "output_type": "display_data"
        }
      ],
      "source": [
        "path = df.iloc[0]['Path']\n",
        "img = Image.open(path)\n",
        "# print('Shape:', img.shape)\n",
        "plt.imshow(img, cmap='gray')\n",
        "plt.show()"
      ]
    },
    {
      "cell_type": "code",
      "execution_count": null,
      "metadata": {
        "colab": {
          "base_uri": "https://localhost:8080/"
        },
        "id": "JyTyPtfIBV9J",
        "outputId": "a08064e0-5cc4-44e4-b7cb-c054c4ece504"
      },
      "outputs": [
        {
          "name": "stdout",
          "output_type": "stream",
          "text": [
            "<PIL.PngImagePlugin.PngImageFile image mode=1 size=105x105 at 0x7FAFC1C70880>\n"
          ]
        }
      ],
      "source": [
        "print(img)"
      ]
    },
    {
      "cell_type": "markdown",
      "metadata": {
        "id": "E-yYhKZmD9PF"
      },
      "source": [
        "## Obtención Validación y Test original\n",
        "\n",
        "El objetivo de la ResNet es justamente clasificar cada uno de los caracteres. En total, tenemos 964 caracteres distintos (labels enumerados del 0 al 963), provenientes de 30 alfabetos, y cada caracter posee 20 muestras. Por ende, tenemos 19280 imagenes distintas.\n",
        "\n",
        "Dado que cada caracter posee 20 muestras, se utilizará una proporción 70% train, 20% validation y 10% test. Vale decir: 14 imágenes de train, 4 de validation, y 2 de test por cada caracter.\n",
        "\n",
        "En total debería dar:\n",
        "* 13.496 imágenes de Train\n",
        "* 3.856 imágenes de Validation\n",
        "* 1.928 imágenes de Test"
      ]
    },
    {
      "cell_type": "code",
      "execution_count": null,
      "metadata": {
        "id": "HIL7mN16PIVb"
      },
      "outputs": [],
      "source": [
        "# Separacion de df basados en el numero de fila\n",
        "# df_train = df.groupby('y').head(14)\n",
        "df_val = df.groupby('y').apply(lambda x: x.iloc[14:18])\n",
        "df_test = df.groupby('y').apply(lambda x: x.iloc[18:20])\n",
        "\n",
        "# Reseteamos los indices de los df\n",
        "# df_train.reset_index(drop=True, inplace=True)\n",
        "df_val.reset_index(drop=True, inplace=True)\n",
        "df_test.reset_index(drop=True, inplace=True)\n"
      ]
    },
    {
      "cell_type": "code",
      "execution_count": null,
      "metadata": {
        "colab": {
          "base_uri": "https://localhost:8080/"
        },
        "id": "scalaQkmQuY_",
        "outputId": "2d4ee009-3bcf-4fc8-d70c-9516331bf1e0"
      },
      "outputs": [
        {
          "name": "stdout",
          "output_type": "stream",
          "text": [
            "Length df_val: 3856\n",
            "Length df_test: 1928\n"
          ]
        }
      ],
      "source": [
        "# print('Length df_train:', len(df_train))\n",
        "print('Length df_val:', len(df_val))\n",
        "print('Length df_test:', len(df_test))"
      ]
    },
    {
      "cell_type": "code",
      "execution_count": null,
      "metadata": {
        "id": "HqJWh0dn3ZNO"
      },
      "outputs": [],
      "source": [
        "class Character(torch.utils.data.Dataset):\n",
        "    def __init__(self, images, labels, transform=None):\n",
        "        self.transform = transform\n",
        "        self.images = images     # Vincula el indice con un nombre de archivo\n",
        "        self.labels = labels     # Vincula el indice con una clase\n",
        "\n",
        "    def get_image(self, path):\n",
        "        # img = plt.imread(path)\n",
        "        img = Image.open(path)\n",
        "        return img\n",
        "\n",
        "    def __getitem__(self, idx):\n",
        "        path_name = self.images[idx]\n",
        "        label = self.labels[idx]\n",
        "        img = self.get_image(path_name)\n",
        "\n",
        "        if self.transform is not None:\n",
        "            img = self.transform(img)\n",
        "        return img, label\n",
        "\n",
        "    def __len__(self):\n",
        "        return len(self.images)"
      ]
    },
    {
      "cell_type": "code",
      "execution_count": null,
      "metadata": {
        "id": "R3DLKi7j3d7y"
      },
      "outputs": [],
      "source": [
        "# Set up data transformations\n",
        "transform = Compose([\n",
        "    lambda x: x.convert('RGB'),\n",
        "    ToTensor(),\n",
        "    Normalize((0.5, 0.5, 0.5), (0.5, 0.5, 0.5))\n",
        "])\n",
        "# train_dataset = Character(images=df_train['Path'], labels=df_train['y'], transform=transform)\n",
        "val_dataset = Character(images=df_val['Path'], labels=df_val['y'], transform=transform)\n",
        "test_dataset = Character(images=df_test['Path'], labels=df_test['y'], transform=transform)"
      ]
    },
    {
      "cell_type": "code",
      "execution_count": null,
      "metadata": {
        "id": "I51lfHg23g3R"
      },
      "outputs": [],
      "source": [
        "batch_size = 64\n",
        "shuffle = True\n",
        "# train_loader = DataLoader(train_dataset, batch_size=batch_size, shuffle=shuffle)\n",
        "val_loader = DataLoader(val_dataset, batch_size=batch_size, shuffle=shuffle)\n",
        "test_loader = DataLoader(test_dataset, batch_size=batch_size, shuffle=shuffle)"
      ]
    },
    {
      "cell_type": "markdown",
      "metadata": {
        "id": "FWPDaYHCglRh"
      },
      "source": [
        "## Transfer learning functions"
      ]
    },
    {
      "cell_type": "markdown",
      "metadata": {
        "id": "S_UGEU-chwN3"
      },
      "source": [
        "### Padding images"
      ]
    },
    {
      "cell_type": "markdown",
      "metadata": {
        "id": "kDGBaCYPxi-F"
      },
      "source": [
        "La primera variacion de los sets es un padding. Realizaremos un padding a todas las imagenes, los caracteres serán desplazados a la esquina superior izquierda, esto nos servirá para testear cuánto influye la posición del caracter en la determinación de su clase. A continuación un ejemplo de como se verán las nuevas imágenes:"
      ]
    },
    {
      "cell_type": "code",
      "execution_count": null,
      "metadata": {
        "colab": {
          "base_uri": "https://localhost:8080/",
          "height": 434
        },
        "id": "_koyXAOpjo02",
        "outputId": "c98311a2-d336-4089-a8a3-d7f4b8194ea0"
      },
      "outputs": [
        {
          "data": {
            "image/png": "[encoded data removed]",
            "text/plain": [
              "<Figure size 640x480 with 1 Axes>"
            ]
          },
          "metadata": {},
          "output_type": "display_data"
        }
      ],
      "source": [
        "def get_image(path):\n",
        "    # img = plt.imread(path)\n",
        "    img = Image.open(path)\n",
        "    width, height = img.size\n",
        "\n",
        "    desired_width = width + 50  # Adjust the padding width as needed\n",
        "    desired_height = height + 50\n",
        "    padded_img = Image.new('1', (desired_width, desired_height), 1)\n",
        "    padded_img.paste(img, (0, 0))\n",
        "    res = padded_img.resize((105, 105))\n",
        "    return res\n",
        "path = df.iloc[0]['Path']\n",
        "img_testeando = get_image(path)\n",
        "# print('Shape:', img.shape)\n",
        "plt.imshow(img_testeando, cmap='gray')\n",
        "plt.show()"
      ]
    },
    {
      "cell_type": "markdown",
      "metadata": {
        "id": "kVjl_huPx79T"
      },
      "source": [
        "#### Definición de la clase y construcción de loaders"
      ]
    },
    {
      "cell_type": "code",
      "execution_count": null,
      "metadata": {
        "id": "WimPNjzGhvhE"
      },
      "outputs": [],
      "source": [
        "class PadCharacter(torch.utils.data.Dataset):\n",
        "    def __init__(self, images, labels, transform=None):\n",
        "        self.transform = transform\n",
        "        self.images = images     # Vincula el indice con un nombre de archivo\n",
        "        self.labels = labels     # Vincula el indice con una clase\n",
        "\n",
        "    def get_image(self, path):\n",
        "      # img = plt.imread(path)\n",
        "      img = Image.open(path)\n",
        "      width, height = img.size\n",
        "\n",
        "      desired_width = width + 50  # Adjust the padding width as needed\n",
        "      desired_height = height + 50\n",
        "      padded_img = Image.new('1', (desired_width, desired_height), 1)\n",
        "      padded_img.paste(img, (0, 0))\n",
        "      res = padded_img.resize((105, 105))\n",
        "      return res\n",
        "\n",
        "    def __getitem__(self, idx):\n",
        "        path_name = self.images[idx]\n",
        "        label = self.labels[idx]\n",
        "        img = self.get_image(path_name)\n",
        "\n",
        "        if self.transform is not None:\n",
        "            img = self.transform(img)\n",
        "        return img, label\n",
        "\n",
        "    def __len__(self):\n",
        "        return len(self.images)"
      ]
    },
    {
      "cell_type": "code",
      "execution_count": null,
      "metadata": {
        "id": "alc7l8yOiPNY"
      },
      "outputs": [],
      "source": [
        "# Set up data transformations\n",
        "transform = Compose([\n",
        "    lambda x: x.convert('RGB'),\n",
        "    ToTensor(),\n",
        "    Normalize((0.5, 0.5, 0.5), (0.5, 0.5, 0.5))\n",
        "])\n",
        "\n",
        "# train_pad_set = PadCharacter(images=df_train['Path'], labels=df_train['y'], transform=transform)\n",
        "val_pad_set = PadCharacter(images=df_val['Path'], labels=df_val['y'], transform=transform)\n",
        "test_pad_set = PadCharacter(images=df_test['Path'], labels=df_test['y'], transform=transform)"
      ]
    },
    {
      "cell_type": "code",
      "execution_count": null,
      "metadata": {
        "id": "cVh8OzltiQAU"
      },
      "outputs": [],
      "source": [
        "# Set up the train loader\n",
        "batch_size = 64\n",
        "shuffle = True\n",
        "# train_pad_loader = DataLoader(train_pad_set, batch_size=batch_size, shuffle=shuffle)\n",
        "val_pad_loader = DataLoader(val_pad_set, batch_size=batch_size, shuffle=shuffle)\n",
        "test_pad_loader = DataLoader(test_pad_set, batch_size=batch_size, shuffle=shuffle)"
      ]
    },
    {
      "cell_type": "markdown",
      "metadata": {
        "id": "UW0cjUSyhzCf"
      },
      "source": [
        "### Change background"
      ]
    },
    {
      "cell_type": "markdown",
      "metadata": {
        "id": "AR3Beqm1yZ4W"
      },
      "source": [
        "La segunda variación es un cambio en el color del background. Realizaremos una inversión en los colores. Actualmente las imágenes poseen fondo blanco y el caracter en negro. Probaremos fondo negro y caracter blanco. Esto nos servirá para testear cuánto influye el color del caracter y su fondo en la determinación de su clase. A continuación un ejemplo de como se verán las nuevas imágenes:"
      ]
    },
    {
      "cell_type": "code",
      "execution_count": null,
      "metadata": {
        "colab": {
          "base_uri": "https://localhost:8080/",
          "height": 434
        },
        "id": "BNW3toFrrJdu",
        "outputId": "ce185df3-d65f-42c2-d89a-5923fad4f543"
      },
      "outputs": [
        {
          "data": {
            "image/png": "[encoded data removed]",
            "text/plain": [
              "<Figure size 640x480 with 1 Axes>"
            ]
          },
          "metadata": {},
          "output_type": "display_data"
        }
      ],
      "source": [
        "def get_image(path):\n",
        "    # img = plt.imread(path)\n",
        "    img = Image.open(path)\n",
        "    inverted_image = img.point(lambda x: 1 - x)\n",
        "    return inverted_image\n",
        "path = df.iloc[0]['Path']\n",
        "img_testeando = get_image(path)\n",
        "# print('Shape:', img.shape)\n",
        "plt.imshow(img_testeando, cmap='gray')\n",
        "plt.show()"
      ]
    },
    {
      "cell_type": "markdown",
      "metadata": {
        "id": "SMPRp0sQyAkh"
      },
      "source": [
        "#### Definición de la clase y construcción de loaders"
      ]
    },
    {
      "cell_type": "code",
      "execution_count": null,
      "metadata": {
        "id": "thTPg4w1iADN"
      },
      "outputs": [],
      "source": [
        "class BackCharacter(torch.utils.data.Dataset):\n",
        "    def __init__(self, images, labels, transform=None):\n",
        "        self.transform = transform\n",
        "        self.images = images     # Vincula el indice con un nombre de archivo\n",
        "        self.labels = labels     # Vincula el indice con una clase\n",
        "\n",
        "    def get_image(self, path):\n",
        "      # img = plt.imread(path)\n",
        "      img = Image.open(path)\n",
        "      inverted_image = img.point(lambda x: 1 - x)\n",
        "      return inverted_image\n",
        "\n",
        "    def __getitem__(self, idx):\n",
        "        path_name = self.images[idx]\n",
        "        label = self.labels[idx]\n",
        "        img = self.get_image(path_name)\n",
        "\n",
        "        if self.transform is not None:\n",
        "            img = self.transform(img)\n",
        "        return img, label\n",
        "\n",
        "    def __len__(self):\n",
        "        return len(self.images)"
      ]
    },
    {
      "cell_type": "code",
      "execution_count": null,
      "metadata": {
        "id": "DQoLefDPrsjI"
      },
      "outputs": [],
      "source": [
        "# Set up data transformations\n",
        "transform = Compose([\n",
        "    lambda x: x.convert('RGB'),\n",
        "    ToTensor(),\n",
        "    Normalize((0.5, 0.5, 0.5), (0.5, 0.5, 0.5))\n",
        "])\n",
        "\n",
        "# train_back_set = BackCharacter(images=df_train['Path'], labels=df_train['y'], transform=transform)\n",
        "val_back_set = BackCharacter(images=df_val['Path'], labels=df_val['y'], transform=transform)\n",
        "test_back_set = BackCharacter(images=df_test['Path'], labels=df_test['y'], transform=transform)"
      ]
    },
    {
      "cell_type": "code",
      "execution_count": null,
      "metadata": {
        "id": "wbtv-MQAr2fa"
      },
      "outputs": [],
      "source": [
        "# Set up the train loader\n",
        "batch_size = 64\n",
        "shuffle = True\n",
        "# train_back_loader = DataLoader(train_back_set, batch_size=batch_size, shuffle=shuffle)\n",
        "val_back_loader = DataLoader(val_back_set, batch_size=batch_size, shuffle=shuffle)\n",
        "test_back_loader = DataLoader(test_back_set, batch_size=batch_size, shuffle=shuffle)"
      ]
    },
    {
      "cell_type": "markdown",
      "metadata": {
        "id": "5NQBU5f5iAnU"
      },
      "source": [
        "### Add strokes to images"
      ]
    },
    {
      "cell_type": "markdown",
      "metadata": {
        "id": "ey6gu4UAzIzv"
      },
      "source": [
        "La ultima variación de los sets es añadir los strokes. Realizaremos funciones para que todas las imagenes se visualicen con sus respectivos strokes de colores, esto nos servirá para testear cuánto influye el color del caracter, manteniendo el fondo, en la determinación de su clase. A continuación un ejemplo de como se verán las nuevas imágenes:"
      ]
    },
    {
      "cell_type": "code",
      "execution_count": null,
      "metadata": {
        "colab": {
          "base_uri": "https://localhost:8080/",
          "height": 434
        },
        "id": "4tDRcyaQiC_b",
        "outputId": "8a08954a-3732-4549-e1a7-2f94442a856b"
      },
      "outputs": [
        {
          "data": {
            "image/png": "[encoded data removed]",
            "text/plain": [
              "<Figure size 640x480 with 1 Axes>"
            ]
          },
          "metadata": {},
          "output_type": "display_data"
        }
      ],
      "source": [
        "# Load stroke data for a character from text file\n",
        "def load_motor(fn):\n",
        "\tmotor = []\n",
        "\twith open(fn,'r') as fid:\n",
        "\t\tlines = fid.readlines()\n",
        "\tlines = [l.strip() for l in lines]\n",
        "\tfor myline in lines:\n",
        "\t\tif myline =='START': # beginning of character\n",
        "\t\t\tstk = []\n",
        "\t\telif myline =='BREAK': # break between strokes\n",
        "\t\t\tstk = np.array(stk)\n",
        "\t\t\tmotor.append(stk) # add to list of strokes\n",
        "\t\t\tstk = []\n",
        "\t\telse:\n",
        "\t\t\tarr = np.fromstring(myline,dtype=float,sep=',')\n",
        "\t\t\tstk.append(arr)\n",
        "\treturn motor\n",
        "\n",
        "# Color map for the stroke of index k\n",
        "def get_color(k):\n",
        "    scol = [(255,0,0),(0,255,0),(0,0,255),(255,0,255),(0,255,255), (255,255,0)]\n",
        "    ncol = len(scol)\n",
        "    if k < ncol:\n",
        "       out = scol[k]\n",
        "    else:\n",
        "       out = scol[-1]\n",
        "    return out\n",
        "\n",
        "# Map from motor space to image space (or vice versa)\n",
        "def space_motor_to_img(pt):\n",
        "\tpt[:,1] = -pt[:,1]\n",
        "\treturn pt\n",
        "def space_img_to_motor(pt):\n",
        "\tpt[:,1] = -pt[:,1]\n",
        "\treturn\n",
        "\n",
        "def draw_image(img, motor):\n",
        "  drawing = [d[:,0:2] for d in motor] # strip off the timing data (third column)\n",
        "  drawing = [space_motor_to_img(d) for d in drawing] # convert to image space\n",
        "\n",
        "  for sid in range(len(drawing)): # for each stroke\n",
        "    stk = drawing[sid]\n",
        "    color = get_color(sid)\n",
        "    if stk.shape[0] > 1:\n",
        "      for i in stk:\n",
        "        if i[0] >104 or i[1]>104:\n",
        "          continue\n",
        "        img[int(i[1]), int(i[0]), :] = color\n",
        "  return img\n",
        "\n",
        "def get_image(path):\n",
        "    img = cv2.imread(path, cv2.IMREAD_COLOR)\n",
        "    sep_path = path.split('/')\n",
        "    assem_path = \"strokes_background/\" + '/'.join(sep_path[1:])\n",
        "    path_to_stroke = assem_path[:-3] + 'txt'\n",
        "    motor = load_motor(path_to_stroke)\n",
        "    pixels = draw_image(img, motor)\n",
        "    return pixels\n",
        "\n",
        "path = df.iloc[0]['Path']\n",
        "img_testeando = get_image(path)\n",
        "\n",
        "plt.imshow(img_testeando)\n",
        "plt.show()"
      ]
    },
    {
      "cell_type": "markdown",
      "metadata": {
        "id": "7peQ5aUjyDYL"
      },
      "source": [
        "#### Definición de la clase y construcción de loaders"
      ]
    },
    {
      "cell_type": "code",
      "execution_count": null,
      "metadata": {
        "id": "Mw6Vd2tr7M3E"
      },
      "outputs": [],
      "source": [
        "class StrokeCharacter(torch.utils.data.Dataset):\n",
        "    def __init__(self, images, labels, transform=None):\n",
        "        self.transform = transform\n",
        "        self.images = images     # Vincula el indice con un nombre de archivo\n",
        "        self.labels = labels     # Vincula el indice con una clase\n",
        "\n",
        "    def get_image(self, path):\n",
        "      img = cv2.imread(path, cv2.IMREAD_COLOR)\n",
        "      sep_path = path.split('/')\n",
        "      assem_path = \"strokes_background/\" + '/'.join(sep_path[1:])\n",
        "      path_to_stroke = assem_path[:-3] + 'txt'\n",
        "      motor = load_motor(path_to_stroke)\n",
        "      pixels = draw_image(img, motor)\n",
        "      image = Image.fromarray(pixels)\n",
        "      return image\n",
        "\n",
        "    def __getitem__(self, idx):\n",
        "        path_name = self.images[idx]\n",
        "        label = self.labels[idx]\n",
        "        img = self.get_image(path_name)\n",
        "\n",
        "        if self.transform is not None:\n",
        "            img = self.transform(img)\n",
        "        return img, label\n",
        "\n",
        "    def __len__(self):\n",
        "        return len(self.images)"
      ]
    },
    {
      "cell_type": "code",
      "execution_count": null,
      "metadata": {
        "id": "BnasdO1h7aTA"
      },
      "outputs": [],
      "source": [
        "# Set up data transformations\n",
        "transform = Compose([\n",
        "    lambda x: x.convert('RGB'),\n",
        "    ToTensor(),\n",
        "    Normalize((0.5, 0.5, 0.5), (0.5, 0.5, 0.5))\n",
        "])\n",
        "\n",
        "# train_stroke_set = StrokeCharacter(images=df_train['Path'], labels=df_train['y'], transform=transform)\n",
        "val_stroke_set = StrokeCharacter(images=df_val['Path'], labels=df_val['y'], transform=transform)\n",
        "test_stroke_set = StrokeCharacter(images=df_test['Path'], labels=df_test['y'], transform=transform)"
      ]
    },
    {
      "cell_type": "code",
      "execution_count": null,
      "metadata": {
        "id": "M7FYEO1W7gi1"
      },
      "outputs": [],
      "source": [
        "# Set up the train loader\n",
        "batch_size = 64\n",
        "shuffle = True\n",
        "# train_stroke_loader = DataLoader(train_stroke_set, batch_size=batch_size, shuffle=shuffle)\n",
        "val_stroke_loader = DataLoader(val_stroke_set, batch_size=batch_size, shuffle=shuffle)\n",
        "test_stroke_loader = DataLoader(test_stroke_set, batch_size=batch_size, shuffle=shuffle)"
      ]
    },
    {
      "cell_type": "markdown",
      "metadata": {
        "id": "EDiKIcoSh-S5"
      },
      "source": [
        "## Test model function"
      ]
    },
    {
      "cell_type": "code",
      "execution_count": null,
      "metadata": {
        "id": "UL3bHrf_LGlh"
      },
      "outputs": [],
      "source": [
        "# Función para correr inferencia usando un modelo y un\n",
        "# DataLoader con nuestros datos del set de test.\n",
        "def test_model(model, test_dl):\n",
        "    total_correctas = 0.0\n",
        "    total_muestras = 0.0\n",
        "\n",
        "    for x, target in test_dl:          # Iteramos sobre nuestros datos\n",
        "        # Inicio de la iteración\n",
        "        model.eval()                        # Dejamos el modelo en modo evaluación\n",
        "        with torch.no_grad():               # No se calculará información de gradientes\n",
        "                                            # en el código de más abajo.\n",
        "            x = x.to(device)\n",
        "            target = target.to(device)         # Enviamos nuestros datos a GPU\n",
        "            output = model(x)               # Hacemos el forward de nuestros datos\n",
        "\n",
        "            preds = output.argmax(dim=1)             # El máximo valor es nuestra predicción\n",
        "            correctas = (preds == target).sum()      # Acumulamos las correctas durante la época\n",
        "            total_correctas += correctas\n",
        "            total_muestras += target.shape[0]        # Sumamos el tamaño del batch\n",
        "\n",
        "            accuracy = total_correctas/total_muestras # Acc = correctas/total\n",
        "\n",
        "    return accuracy"
      ]
    },
    {
      "cell_type": "markdown",
      "metadata": {
        "id": "VELDMsdTWM0A"
      },
      "source": [
        "## Cargamos modelo guardado"
      ]
    },
    {
      "cell_type": "code",
      "execution_count": null,
      "metadata": {
        "colab": {
          "base_uri": "https://localhost:8080/"
        },
        "id": "kmbx-OBrpTzp",
        "outputId": "fb38ee89-b676-409c-dc2a-7f4eac613a89"
      },
      "outputs": [
        {
          "name": "stdout",
          "output_type": "stream",
          "text": [
            "Mounted at /content/drive\n"
          ]
        }
      ],
      "source": [
        "# from google.colab import drive\n",
        "# drive.mount('/content/drive')"
      ]
    },
    {
      "cell_type": "markdown",
      "metadata": {
        "id": "BpORzf4U1YoJ"
      },
      "source": [
        "Navegamos hasta la carpeta compartida"
      ]
    },
    {
      "cell_type": "code",
      "execution_count": null,
      "metadata": {
        "colab": {
          "base_uri": "https://localhost:8080/"
        },
        "id": "CsjtIQ1X1YAe",
        "outputId": "8ea5e579-a3df-427a-831c-a9bd4e06c25b"
      },
      "outputs": [
        {
          "name": "stdout",
          "output_type": "stream",
          "text": [
            "/content/drive/Shareddrives/IIC3697-Proyecto\n"
          ]
        }
      ],
      "source": [
        "# %cd './drive/Shareddrives/IIC3697-Proyecto/'"
      ]
    },
    {
      "cell_type": "code",
      "execution_count": null,
      "metadata": {
        "colab": {
          "base_uri": "https://localhost:8080/"
        },
        "id": "awZ13cT_1sXr",
        "outputId": "c990be3d-1688-45be-de4c-19024eb789a5"
      },
      "outputs": [
        {
          "name": "stdout",
          "output_type": "stream",
          "text": [
            "{'./ResNeXt/weights': ['ResNeXt_009_1e-3_Adam.pt', 'ResNeXt_009_1e-2_Adam.pt', 'ResNeXt_009_5e-3_Adam.pt', 'ResNeXt_009_6e-3_Adam.pt'], './RegNet/weights': ['RegNet_009_1e-1_SGD.pt', 'RegNet_007_1e-2_SGD.pt'], './ResNet/weights': ['resnet50_049.pt', 'Resnet_049_1e-0_SGD.pt', 'Resnet_049_1e-1_SGD.pt', 'Resnet_049_1e-2_SGD.pt']}\n"
          ]
        }
      ],
      "source": [
        "# Obtener la lista de archivos y carpetas dentro de la carpeta\n",
        "model_paths = {}\n",
        "contenido = os.listdir('./')\n",
        "for c in contenido:\n",
        "  if os.path.isdir(c) and not (c in ['VitGAN', 'omniglot', 'images_background', 'strokes_background', '__MACOSX']):\n",
        "    new_path = './' + c + '/weights'\n",
        "    sub_contenido = os.listdir(new_path)\n",
        "    if len(sub_contenido) > 0:\n",
        "      model_paths[new_path] = sub_contenido\n",
        "\n",
        "print(model_paths)"
      ]
    },
    {
      "cell_type": "code",
      "execution_count": null,
      "metadata": {
        "colab": {
          "base_uri": "https://localhost:8080/"
        },
        "id": "TZHNdJwnNVxa",
        "outputId": "2cdd2fc8-e067-4f2a-e29e-e74a7f891879"
      },
      "outputs": [
        {
          "name": "stdout",
          "output_type": "stream",
          "text": [
            "Instanciando Modelo:\t ./ResNeXt/weights\n",
            "Probando pesos:\t ResNeXt_009_1e-3_Adam.pt\n",
            "Probando loader:\t <torch.utils.data.dataloader.DataLoader object at 0x7fafbaec35b0>\n",
            "0.22873444855213165\n",
            "Probando loader:\t <torch.utils.data.dataloader.DataLoader object at 0x7fafbaec28f0>\n",
            "0.24636930227279663\n",
            "Probando loader:\t <torch.utils.data.dataloader.DataLoader object at 0x7fafb8d1d660>\n",
            "0.04590249061584473\n",
            "Probando loader:\t <torch.utils.data.dataloader.DataLoader object at 0x7fafb8d1d720>\n",
            "0.044605810195207596\n",
            "Probando loader:\t <torch.utils.data.dataloader.DataLoader object at 0x7fafbaf46560>\n",
            "0.0010373444529250264\n",
            "Probando loader:\t <torch.utils.data.dataloader.DataLoader object at 0x7fafbaf449d0>\n",
            "0.0010373444529250264\n",
            "Probando loader:\t <torch.utils.data.dataloader.DataLoader object at 0x7fb0a6e4d660>\n",
            "0.0036307056434452534\n",
            "Probando loader:\t <torch.utils.data.dataloader.DataLoader object at 0x7fafc390a140>\n",
            "0.007780083455145359\n",
            "Probando pesos:\t ResNeXt_009_1e-2_Adam.pt\n",
            "Probando loader:\t <torch.utils.data.dataloader.DataLoader object at 0x7fafbaec35b0>\n",
            "0.22276972234249115\n",
            "Probando loader:\t <torch.utils.data.dataloader.DataLoader object at 0x7fafbaec28f0>\n",
            "0.24481329321861267\n",
            "Probando loader:\t <torch.utils.data.dataloader.DataLoader object at 0x7fafb8d1d660>\n",
            "0.0516078881919384\n",
            "Probando loader:\t <torch.utils.data.dataloader.DataLoader object at 0x7fafb8d1d720>\n",
            "0.05446058511734009\n",
            "Probando loader:\t <torch.utils.data.dataloader.DataLoader object at 0x7fafbaf46560>\n",
            "0.0010373444529250264\n",
            "Probando loader:\t <torch.utils.data.dataloader.DataLoader object at 0x7fafbaf449d0>\n",
            "0.0010373444529250264\n",
            "Probando loader:\t <torch.utils.data.dataloader.DataLoader object at 0x7fb0a6e4d660>\n",
            "0.004927386064082384\n",
            "Probando loader:\t <torch.utils.data.dataloader.DataLoader object at 0x7fafc390a140>\n",
            "0.012966806069016457\n",
            "Probando pesos:\t ResNeXt_009_5e-3_Adam.pt\n",
            "Probando loader:\t <torch.utils.data.dataloader.DataLoader object at 0x7fafbaec35b0>\n",
            "0.24273860454559326\n",
            "Probando loader:\t <torch.utils.data.dataloader.DataLoader object at 0x7fafbaec28f0>\n",
            "0.2640041708946228\n",
            "Probando loader:\t <torch.utils.data.dataloader.DataLoader object at 0x7fafb8d1d660>\n",
            "0.04901452362537384\n",
            "Probando loader:\t <torch.utils.data.dataloader.DataLoader object at 0x7fafb8d1d720>\n",
            "0.05446058511734009\n",
            "Probando loader:\t <torch.utils.data.dataloader.DataLoader object at 0x7fafbaf46560>\n",
            "0.0002593361132312566\n",
            "Probando loader:\t <torch.utils.data.dataloader.DataLoader object at 0x7fafbaf449d0>\n",
            "0.0005186722264625132\n",
            "Probando loader:\t <torch.utils.data.dataloader.DataLoader object at 0x7fb0a6e4d660>\n",
            "0.0036307056434452534\n",
            "Probando loader:\t <torch.utils.data.dataloader.DataLoader object at 0x7fafc390a140>\n",
            "0.010892116464674473\n",
            "Probando pesos:\t ResNeXt_009_6e-3_Adam.pt\n",
            "Probando loader:\t <torch.utils.data.dataloader.DataLoader object at 0x7fafbaec35b0>\n",
            "0.24533195793628693\n",
            "Probando loader:\t <torch.utils.data.dataloader.DataLoader object at 0x7fafbaec28f0>\n",
            "0.2608921229839325\n",
            "Probando loader:\t <torch.utils.data.dataloader.DataLoader object at 0x7fafb8d1d660>\n",
            "0.04849585145711899\n",
            "Probando loader:\t <torch.utils.data.dataloader.DataLoader object at 0x7fafb8d1d720>\n",
            "0.05446058511734009\n",
            "Probando loader:\t <torch.utils.data.dataloader.DataLoader object at 0x7fafbaf46560>\n",
            "0.0010373444529250264\n",
            "Probando loader:\t <torch.utils.data.dataloader.DataLoader object at 0x7fafbaf449d0>\n",
            "0.0010373444529250264\n",
            "Probando loader:\t <torch.utils.data.dataloader.DataLoader object at 0x7fb0a6e4d660>\n",
            "0.004408713895827532\n",
            "Probando loader:\t <torch.utils.data.dataloader.DataLoader object at 0x7fafc390a140>\n",
            "0.010892116464674473\n",
            "Instanciando Modelo:\t ./RegNet/weights\n",
            "Probando pesos:\t RegNet_009_1e-1_SGD.pt\n",
            "Probando loader:\t <torch.utils.data.dataloader.DataLoader object at 0x7fafbaec35b0>\n",
            "0.14548756182193756\n",
            "Probando loader:\t <torch.utils.data.dataloader.DataLoader object at 0x7fafbaec28f0>\n",
            "0.1498962789773941\n",
            "Probando loader:\t <torch.utils.data.dataloader.DataLoader object at 0x7fafb8d1d660>\n",
            "0.060684651136398315\n",
            "Probando loader:\t <torch.utils.data.dataloader.DataLoader object at 0x7fafb8d1d720>\n",
            "0.06535270065069199\n",
            "Probando loader:\t <torch.utils.data.dataloader.DataLoader object at 0x7fafbaf46560>\n",
            "0.006483403034508228\n",
            "Probando loader:\t <torch.utils.data.dataloader.DataLoader object at 0x7fafbaf449d0>\n",
            "0.01037344429641962\n",
            "Probando loader:\t <torch.utils.data.dataloader.DataLoader object at 0x7fb0a6e4d660>\n",
            "0.0337136946618557\n",
            "Probando loader:\t <torch.utils.data.dataloader.DataLoader object at 0x7fafc390a140>\n",
            "0.03423236683011055\n",
            "Probando pesos:\t RegNet_007_1e-2_SGD.pt\n",
            "Probando loader:\t <torch.utils.data.dataloader.DataLoader object at 0x7fafbaec35b0>\n",
            "0.21006225049495697\n",
            "Probando loader:\t <torch.utils.data.dataloader.DataLoader object at 0x7fafbaec28f0>\n",
            "0.21161827445030212\n",
            "Probando loader:\t <torch.utils.data.dataloader.DataLoader object at 0x7fafb8d1d660>\n",
            "0.08454357087612152\n",
            "Probando loader:\t <torch.utils.data.dataloader.DataLoader object at 0x7fafb8d1d720>\n",
            "0.0923236533999443\n",
            "Probando loader:\t <torch.utils.data.dataloader.DataLoader object at 0x7fafbaf46560>\n",
            "0.010892116464674473\n",
            "Probando loader:\t <torch.utils.data.dataloader.DataLoader object at 0x7fafbaf449d0>\n",
            "0.013485478237271309\n",
            "Probando loader:\t <torch.utils.data.dataloader.DataLoader object at 0x7fb0a6e4d660>\n",
            "0.051867224276065826\n",
            "Probando loader:\t <torch.utils.data.dataloader.DataLoader object at 0x7fafc390a140>\n",
            "0.05342324078083038\n",
            "Instanciando Modelo:\t ./ResNet/weights\n",
            "Probando pesos:\t resnet50_049.pt\n",
            "Probando loader:\t <torch.utils.data.dataloader.DataLoader object at 0x7fafbaec35b0>\n",
            "0.17816391587257385\n",
            "Probando loader:\t <torch.utils.data.dataloader.DataLoader object at 0x7fafbaec28f0>\n",
            "0.192427396774292\n",
            "Probando loader:\t <torch.utils.data.dataloader.DataLoader object at 0x7fafb8d1d660>\n",
            "0.05005187168717384\n",
            "Probando loader:\t <torch.utils.data.dataloader.DataLoader object at 0x7fafb8d1d720>\n",
            "0.048755187541246414\n",
            "Probando loader:\t <torch.utils.data.dataloader.DataLoader object at 0x7fafbaf46560>\n",
            "0.0010373444529250264\n",
            "Probando loader:\t <torch.utils.data.dataloader.DataLoader object at 0x7fafbaf449d0>\n",
            "0.0010373444529250264\n",
            "Probando loader:\t <torch.utils.data.dataloader.DataLoader object at 0x7fb0a6e4d660>\n",
            "0.004149377811700106\n",
            "Probando loader:\t <torch.utils.data.dataloader.DataLoader object at 0x7fafc390a140>\n",
            "0.0067427391186356544\n",
            "Probando pesos:\t Resnet_049_1e-0_SGD.pt\n",
            "Probando loader:\t <torch.utils.data.dataloader.DataLoader object at 0x7fafbaec35b0>\n",
            "0.17142117023468018\n",
            "Probando loader:\t <torch.utils.data.dataloader.DataLoader object at 0x7fafbaec28f0>\n",
            "0.18516598641872406\n",
            "Probando loader:\t <torch.utils.data.dataloader.DataLoader object at 0x7fafb8d1d660>\n",
            "0.04227178543806076\n",
            "Probando loader:\t <torch.utils.data.dataloader.DataLoader object at 0x7fafb8d1d720>\n",
            "0.0456431545317173\n",
            "Probando loader:\t <torch.utils.data.dataloader.DataLoader object at 0x7fafbaf46560>\n",
            "0.0010373444529250264\n",
            "Probando loader:\t <torch.utils.data.dataloader.DataLoader object at 0x7fafbaf449d0>\n",
            "0.0015560167375952005\n",
            "Probando loader:\t <torch.utils.data.dataloader.DataLoader object at 0x7fb0a6e4d660>\n",
            "0.0033713695593178272\n",
            "Probando loader:\t <torch.utils.data.dataloader.DataLoader object at 0x7fafc390a140>\n",
            "0.01037344429641962\n",
            "Probando pesos:\t Resnet_049_1e-1_SGD.pt\n",
            "Probando loader:\t <torch.utils.data.dataloader.DataLoader object at 0x7fafbaec35b0>\n",
            "0.18205395340919495\n",
            "Probando loader:\t <torch.utils.data.dataloader.DataLoader object at 0x7fafbaec28f0>\n",
            "0.20591287314891815\n",
            "Probando loader:\t <torch.utils.data.dataloader.DataLoader object at 0x7fafb8d1d660>\n",
            "0.05108921602368355\n",
            "Probando loader:\t <torch.utils.data.dataloader.DataLoader object at 0x7fafb8d1d720>\n",
            "0.05290456861257553\n",
            "Probando loader:\t <torch.utils.data.dataloader.DataLoader object at 0x7fafbaf46560>\n",
            "0.0010373444529250264\n",
            "Probando loader:\t <torch.utils.data.dataloader.DataLoader object at 0x7fafbaf449d0>\n",
            "0.0010373444529250264\n",
            "Probando loader:\t <torch.utils.data.dataloader.DataLoader object at 0x7fb0a6e4d660>\n",
            "0.002593361074104905\n",
            "Probando loader:\t <torch.utils.data.dataloader.DataLoader object at 0x7fafc390a140>\n",
            "0.009854772128164768\n",
            "Probando pesos:\t Resnet_049_1e-2_SGD.pt\n",
            "Probando loader:\t <torch.utils.data.dataloader.DataLoader object at 0x7fafbaec35b0>\n",
            "0.18231329321861267\n",
            "Probando loader:\t <torch.utils.data.dataloader.DataLoader object at 0x7fafbaec28f0>\n",
            "0.19917014241218567\n",
            "Probando loader:\t <torch.utils.data.dataloader.DataLoader object at 0x7fafb8d1d660>\n",
            "0.052645232528448105\n",
            "Probando loader:\t <torch.utils.data.dataloader.DataLoader object at 0x7fafb8d1d720>\n",
            "0.05082987993955612\n",
            "Probando loader:\t <torch.utils.data.dataloader.DataLoader object at 0x7fafbaf46560>\n",
            "0.0018153528217226267\n",
            "Probando loader:\t <torch.utils.data.dataloader.DataLoader object at 0x7fafbaf449d0>\n",
            "0.0010373444529250264\n",
            "Probando loader:\t <torch.utils.data.dataloader.DataLoader object at 0x7fb0a6e4d660>\n",
            "0.002334024989977479\n",
            "Probando loader:\t <torch.utils.data.dataloader.DataLoader object at 0x7fafc390a140>\n",
            "0.007261411286890507\n"
          ]
        }
      ],
      "source": [
        "total_accs = [['model',\n",
        "               'val',\n",
        "               'test',\n",
        "               'val pad',\n",
        "               'test pad',\n",
        "               'val back',\n",
        "               'test back',\n",
        "               'val stroke',\n",
        "               'test stroke']]\n",
        "\n",
        "loaders = [val_loader,\n",
        "           test_loader,\n",
        "           val_pad_loader,\n",
        "           test_pad_loader,\n",
        "           val_back_loader,\n",
        "           test_back_loader,\n",
        "           val_stroke_loader,\n",
        "           test_stroke_loader]\n",
        "\n",
        "for dir in model_paths.keys():\n",
        "  print(\"Instanciando Modelo:\\t\", dir)\n",
        "  for m in model_paths[dir]:\n",
        "    print(\"Probando pesos:\\t\", m)\n",
        "    accs = [m]\n",
        "    full_path = dir + \"/\" + m\n",
        "    model = torch.load(full_path)\n",
        "    for loader in loaders:\n",
        "      print(\"Probando loader:\\t\", loader)\n",
        "      acc = test_model(model, loader).item()\n",
        "      print(acc)\n",
        "      accs.append(acc)\n",
        "    total_accs.append(accs)"
      ]
    },
    {
      "cell_type": "markdown",
      "metadata": {
        "id": "ijT7lBOQD83N"
      },
      "source": [
        "#### Tabla con todos los resultados"
      ]
    },
    {
      "cell_type": "code",
      "execution_count": null,
      "metadata": {
        "colab": {
          "base_uri": "https://localhost:8080/"
        },
        "id": "88D4cstzb2Ha",
        "outputId": "f97a20c6-9851-4833-b322-9091eee21980"
      },
      "outputs": [
        {
          "name": "stdout",
          "output_type": "stream",
          "text": [
            "╒═══════════════════════════════╤══════════╤══════════╤═══════════╤════════════╤═════════════╤═════════════╤══════════════╤═══════════════╕\n",
            "│ model                         │      val │     test │   val pad │   test pad │    val back │   test back │   val stroke │   test stroke │\n",
            "╞═══════════════════════════════╪══════════╪══════════╪═══════════╪════════════╪═════════════╪═════════════╪══════════════╪═══════════════╡\n",
            "│ vgg16_099_1e-4_Adam.pt        │ 0.489367 │ 0.522303 │ 0.103216  │  0.104253  │ 0.0931017   │ 0.0975104   │   0.141857   │    0.168568   │\n",
            "├───────────────────────────────┼──────────┼──────────┼───────────┼────────────┼─────────────┼─────────────┼──────────────┼───────────────┤\n",
            "│ vgg16_080_5e-3_SGD.pt         │ 0.393932 │ 0.426349 │ 0.094139  │  0.0850622 │ 0.0736515   │ 0.0819502   │   0.116442   │    0.155083   │\n",
            "├───────────────────────────────┼──────────┼──────────┼───────────┼────────────┼─────────────┼─────────────┼──────────────┼───────────────┤\n",
            "│ vgg16_030_5e-2_SGD.pt         │ 0.491183 │ 0.515042 │ 0.100882  │  0.10166   │ 0.0915456   │ 0.0928423   │   0.139782   │    0.174793   │\n",
            "├───────────────────────────────┼──────────┼──────────┼───────────┼────────────┼─────────────┼─────────────┼──────────────┼───────────────┤\n",
            "│ vgg16_015_1e-3_Adam.pt        │ 0.477956 │ 0.497407 │ 0.103994  │  0.104253  │ 0.0969917   │ 0.0975104   │   0.136929   │    0.161826   │\n",
            "├───────────────────────────────┼──────────┼──────────┼───────────┼────────────┼─────────────┼─────────────┼──────────────┼───────────────┤\n",
            "│ EfficientNet_009_2e-3_Adam.pt │ 0.389264 │ 0.406639 │ 0.0746888 │  0.0845436 │ 0.00389004  │ 0.00363071  │   0.00440871 │    0.0134855  │\n",
            "├───────────────────────────────┼──────────┼──────────┼───────────┼────────────┼─────────────┼─────────────┼──────────────┼───────────────┤\n",
            "│ EfficientNet_099_1e-2_ASGD.pt │ 0.381224 │ 0.422199 │ 0.0705394 │  0.0855809 │ 0.00337137  │ 0.00259336  │   0.00596473 │    0.0150415  │\n",
            "├───────────────────────────────┼──────────┼──────────┼───────────┼────────────┼─────────────┼─────────────┼──────────────┼───────────────┤\n",
            "│ EfficientNet_050_1e-4_Adam.pt │ 0.39471  │ 0.43361  │ 0.0713174 │  0.0741701 │ 0.00337137  │ 0.00414938  │   0.0064834  │    0.0145228  │\n",
            "├───────────────────────────────┼──────────┼──────────┼───────────┼────────────┼─────────────┼─────────────┼──────────────┼───────────────┤\n",
            "│ ResNeXt_009_1e-3_Adam.pt      │ 0.228734 │ 0.246369 │ 0.0459025 │  0.0446058 │ 0.00103734  │ 0.00103734  │   0.00363071 │    0.00778008 │\n",
            "├───────────────────────────────┼──────────┼──────────┼───────────┼────────────┼─────────────┼─────────────┼──────────────┼───────────────┤\n",
            "│ ResNeXt_009_1e-2_Adam.pt      │ 0.22277  │ 0.244813 │ 0.0516079 │  0.0544606 │ 0.00103734  │ 0.00103734  │   0.00492739 │    0.0129668  │\n",
            "├───────────────────────────────┼──────────┼──────────┼───────────┼────────────┼─────────────┼─────────────┼──────────────┼───────────────┤\n",
            "│ ResNeXt_009_5e-3_Adam.pt      │ 0.242739 │ 0.264004 │ 0.0490145 │  0.0544606 │ 0.000259336 │ 0.000518672 │   0.00363071 │    0.0108921  │\n",
            "├───────────────────────────────┼──────────┼──────────┼───────────┼────────────┼─────────────┼─────────────┼──────────────┼───────────────┤\n",
            "│ ResNeXt_009_6e-3_Adam.pt      │ 0.245332 │ 0.260892 │ 0.0484959 │  0.0544606 │ 0.00103734  │ 0.00103734  │   0.00440871 │    0.0108921  │\n",
            "├───────────────────────────────┼──────────┼──────────┼───────────┼────────────┼─────────────┼─────────────┼──────────────┼───────────────┤\n",
            "│ RegNet_009_1e-1_SGD.pt        │ 0.145488 │ 0.149896 │ 0.0606847 │  0.0653527 │ 0.0064834   │ 0.0103734   │   0.0337137  │    0.0342324  │\n",
            "├───────────────────────────────┼──────────┼──────────┼───────────┼────────────┼─────────────┼─────────────┼──────────────┼───────────────┤\n",
            "│ RegNet_007_1e-2_SGD.pt        │ 0.210062 │ 0.211618 │ 0.0845436 │  0.0923237 │ 0.0108921   │ 0.0134855   │   0.0518672  │    0.0534232  │\n",
            "├───────────────────────────────┼──────────┼──────────┼───────────┼────────────┼─────────────┼─────────────┼──────────────┼───────────────┤\n",
            "│ resnet50_049.pt               │ 0.178164 │ 0.192427 │ 0.0500519 │  0.0487552 │ 0.00103734  │ 0.00103734  │   0.00414938 │    0.00674274 │\n",
            "├───────────────────────────────┼──────────┼──────────┼───────────┼────────────┼─────────────┼─────────────┼──────────────┼───────────────┤\n",
            "│ Resnet_049_1e-0_SGD.pt        │ 0.171421 │ 0.185166 │ 0.0422718 │  0.0456432 │ 0.00103734  │ 0.00155602  │   0.00337137 │    0.0103734  │\n",
            "├───────────────────────────────┼──────────┼──────────┼───────────┼────────────┼─────────────┼─────────────┼──────────────┼───────────────┤\n",
            "│ Resnet_049_1e-1_SGD.pt        │ 0.182054 │ 0.205913 │ 0.0510892 │  0.0529046 │ 0.00103734  │ 0.00103734  │   0.00259336 │    0.00985477 │\n",
            "├───────────────────────────────┼──────────┼──────────┼───────────┼────────────┼─────────────┼─────────────┼──────────────┼───────────────┤\n",
            "│ Resnet_049_1e-2_SGD.pt        │ 0.182313 │ 0.19917  │ 0.0526452 │  0.0508299 │ 0.00181535  │ 0.00103734  │   0.00233402 │    0.00726141 │\n",
            "╘═══════════════════════════════╧══════════╧══════════╧═══════════╧════════════╧═════════════╧═════════════╧══════════════╧═══════════════╛\n"
          ]
        }
      ],
      "source": [
        "table = tabulate(total_accs, headers='firstrow', tablefmt='fancy_grid')\n",
        "print(table)"
      ]
    },
    {
      "cell_type": "markdown",
      "metadata": {
        "id": "-C4y1HNLD_ly"
      },
      "source": [
        "#### Grafico de los mejores modelos"
      ]
    },
    {
      "cell_type": "code",
      "execution_count": null,
      "metadata": {
        "id": "MohVncJmBJim"
      },
      "outputs": [],
      "source": [
        "def filter_rows(data, indices):\n",
        "    filtered_data = [data[i] for i in indices if 0 <= i < len(data)]\n",
        "    return filtered_data"
      ]
    },
    {
      "cell_type": "code",
      "execution_count": null,
      "metadata": {
        "id": "zY09jnUnAzUa"
      },
      "outputs": [],
      "source": [
        "# escogemos mejores resultados de cada modelo\n",
        "total_accs = filter_rows(total_accs, [0, 1, 7, 10, 13, 16])"
      ]
    },
    {
      "cell_type": "code",
      "execution_count": null,
      "metadata": {
        "id": "AwHXSpzKS7kE"
      },
      "outputs": [],
      "source": [
        "total_accs =[['model','val','test','val pad','test pad','val back','test back','val stroke','test stroke'],\n",
        "            [\"vgg16_099_1e-4_Adam.pt\", 0.489367, 0.522303, 0.103216, 0.104253, 0.0931017, 0.0975104, 0.141857, 0.168568],\n",
        "            [\"EfficientNet_050_1e-4_Adam.pt\", 0.39471, 0.43361, 0.0713174, 0.0741701, 0.00337137, 0.00414938, 0.0064834, 0.0145228],\n",
        "            [\"ResNeXt_009_5e-3_Adam.pt\", 0.242739, 0.264004, 0.0490145, 0.0544606, 0.000259336, 0.000518672, 0.00363071, 0.0108921],\n",
        "            [\"RegNet_007_1e-2_SGD.pt\", 0.210062, 0.211618, 0.0845436, 0.0923237, 0.0108921, 0.0134855, 0.0518672, 0.0534232],\n",
        "            [\"Resnet_049_1e-1_SGD.pt\", 0.182054, 0.205913, 0.0510892, 0.0529046, 0.00103734, 0.00103734,  0.00259336, 0.00985477],]"
      ]
    },
    {
      "cell_type": "code",
      "execution_count": null,
      "metadata": {
        "id": "9oYqg1Ds9uzA"
      },
      "outputs": [],
      "source": [
        "def create_bar_graph(data):\n",
        "    experiment_types = data[0][1:] # Get experiment types from the first row\n",
        "    num_experiments = len(experiment_types)\n",
        "    num_models = len(data) - 1\n",
        "\n",
        "    # Generate x-axis labels\n",
        "    model_names = [row[0] for row in data[1:]]\n",
        "\n",
        "    # Prepare data for plotting\n",
        "    model_indices = np.arange(num_models)\n",
        "    bar_width = 0.6 / num_experiments\n",
        "\n",
        "\n",
        "    # Create the bar graph\n",
        "    fig, ax = plt.subplots()\n",
        "    for i in range(num_experiments):\n",
        "        experiment_results = [row[i+1] for row in data[1:]]\n",
        "        bars = ax.bar(model_indices + i * (bar_width), experiment_results, bar_width, label=experiment_types[i])\n",
        "        for bar in bars:\n",
        "          height = round(bar.get_height(), 2)\n",
        "          ax.annotate(f'{height}', xy=(bar.get_x() + bar.get_width() / 2, height), xytext=(0, 3),\n",
        "                      textcoords='offset points', ha='center', va='bottom', fontsize=7)\n",
        "\n",
        "    # Add labels, title, and legend\n",
        "    ax.set_xlabel('Models')\n",
        "    ax.set_ylabel('Accuracy')\n",
        "    ax.set_title('Bar Graph')\n",
        "    ax.set_xticks(model_indices + (num_experiments - 1) * (bar_width))\n",
        "    ax.set_xticklabels(model_names, rotation=45)\n",
        "    ax.legend()\n",
        "\n",
        "    plt.show()"
      ]
    },
    {
      "cell_type": "code",
      "execution_count": null,
      "metadata": {
        "colab": {
          "base_uri": "https://localhost:8080/",
          "height": 622
        },
        "id": "AQgK1nwp-xFh",
        "outputId": "911abd52-3573-448b-e915-1fbc9a92942e"
      },
      "outputs": [
        {
          "data": {
            "image/png": "[encoded data removed]",
            "text/plain": [
              "<Figure size 640x480 with 1 Axes>"
            ]
          },
          "metadata": {},
          "output_type": "display_data"
        }
      ],
      "source": [
        "create_bar_graph(total_accs)"
      ]
    },
    {
      "cell_type": "code",
      "execution_count": null,
      "metadata": {
        "id": "F8Vk84BFEuQt"
      },
      "outputs": [],
      "source": [
        "def filter_cols(data, indices):\n",
        "    filtered_data = [[row[i] for i in indices] for row in data]\n",
        "    return filtered_data"
      ]
    },
    {
      "cell_type": "markdown",
      "metadata": {
        "id": "WHEA6QpOECFk"
      },
      "source": [
        "#### Grafico mejores modelos solo para validacion"
      ]
    },
    {
      "cell_type": "markdown",
      "metadata": {
        "id": "GrOynm2EENRv"
      },
      "source": [
        "Asumiendo que ya se filtraron las filas"
      ]
    },
    {
      "cell_type": "code",
      "execution_count": null,
      "metadata": {
        "id": "CIsRyo1YEKjS"
      },
      "outputs": [],
      "source": [
        "# escogemos mejores resultados de cada modelo\n",
        "total_accs_val = [[row[i] for i in [0,1,3,5,7]] for row in total_accs]"
      ]
    },
    {
      "cell_type": "code",
      "execution_count": null,
      "metadata": {
        "colab": {
          "base_uri": "https://localhost:8080/",
          "height": 622
        },
        "id": "RCIo4nONEeBc",
        "outputId": "9aa35c9e-8c2e-4e1e-c179-28d8fa82aad8"
      },
      "outputs": [
        {
          "data": {
            "image/png": "[encoded data removed]",
            "text/plain": [
              "<Figure size 640x480 with 1 Axes>"
            ]
          },
          "metadata": {},
          "output_type": "display_data"
        }
      ],
      "source": [
        "create_bar_graph(total_accs_val)"
      ]
    },
    {
      "cell_type": "markdown",
      "metadata": {
        "id": "F85XT4ZmEEgB"
      },
      "source": [
        "#### Grafico mejores modelos solo para test"
      ]
    },
    {
      "cell_type": "code",
      "execution_count": null,
      "metadata": {
        "id": "SznynLRVEY0U"
      },
      "outputs": [],
      "source": [
        "# escogemos mejores resultados de cada modelo\n",
        "total_accs_test = [[row[i] for i in [0,2,4,6,8]] for row in total_accs]"
      ]
    },
    {
      "cell_type": "code",
      "execution_count": null,
      "metadata": {
        "colab": {
          "base_uri": "https://localhost:8080/"
        },
        "id": "yTQlNWosVdvw",
        "outputId": "992dc143-a388-4e9f-8a28-15126896f4c4"
      },
      "outputs": [
        {
          "data": {
            "text/plain": [
              "[['model', 'test', 'test pad', 'test back', 'test stroke'],\n",
              " ['vgg16_099_1e-4_Adam.pt', 0.522303, 0.104253, 0.0975104, 0.168568],\n",
              " ['EfficientNet_050_1e-4_Adam.pt', 0.43361, 0.0741701, 0.00414938, 0.0145228],\n",
              " ['ResNeXt_009_5e-3_Adam.pt', 0.264004, 0.0544606, 0.000518672, 0.0108921],\n",
              " ['RegNet_007_1e-2_SGD.pt', 0.211618, 0.0923237, 0.0134855, 0.0534232],\n",
              " ['Resnet_049_1e-1_SGD.pt', 0.205913, 0.0529046, 0.00103734, 0.00985477]]"
            ]
          },
          "execution_count": 59,
          "metadata": {},
          "output_type": "execute_result"
        }
      ],
      "source": [
        "total_accs_test"
      ]
    },
    {
      "cell_type": "code",
      "execution_count": null,
      "metadata": {
        "colab": {
          "base_uri": "https://localhost:8080/",
          "height": 622
        },
        "id": "fCwR04ehEfjG",
        "outputId": "cb4c1c48-0823-44b3-a916-280aff9799aa"
      },
      "outputs": [
        {
          "data": {
            "image/png": "[encoded data removed]",
            "text/plain": [
              "<Figure size 640x480 with 1 Axes>"
            ]
          },
          "metadata": {},
          "output_type": "display_data"
        }
      ],
      "source": [
        "create_bar_graph(total_accs_test)"
      ]
    }
  ],
  "metadata": {
    "accelerator": "GPU",
    "colab": {
      "gpuType": "T4",
      "machine_shape": "hm",
      "provenance": []
    },
    "kernelspec": {
      "display_name": "Python 3",
      "name": "python3"
    },
    "language_info": {
      "name": "python"
    }
  },
  "nbformat": 4,
  "nbformat_minor": 0
}
